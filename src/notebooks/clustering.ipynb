{
 "cells": [
  {
   "cell_type": "code",
   "execution_count": 2,
   "metadata": {},
   "outputs": [],
   "source": [
    "import numpy as np\n",
    "import pandas as pd\n",
    "import matplotlib.pyplot as plt\n",
    "import seaborn as sns\n",
    "from sklearn.preprocessing import StandardScaler\n",
    "from sklearn.cluster import KMeans\n",
    "from sklearn.metrics import silhouette_score\n",
    "import plotly.express as px"
   ]
  },
  {
   "cell_type": "code",
   "execution_count": 3,
   "metadata": {},
   "outputs": [],
   "source": [
    "filename = '../../../data/NBAShot Locations1997-2020.csv'\n",
    "df = pd.read_csv(filename)"
   ]
  },
  {
   "cell_type": "code",
   "execution_count": 4,
   "metadata": {},
   "outputs": [
    {
     "data": {
      "text/html": [
       "<div>\n",
       "<style scoped>\n",
       "    .dataframe tbody tr th:only-of-type {\n",
       "        vertical-align: middle;\n",
       "    }\n",
       "\n",
       "    .dataframe tbody tr th {\n",
       "        vertical-align: top;\n",
       "    }\n",
       "\n",
       "    .dataframe thead th {\n",
       "        text-align: right;\n",
       "    }\n",
       "</style>\n",
       "<table border=\"1\" class=\"dataframe\">\n",
       "  <thead>\n",
       "    <tr style=\"text-align: right;\">\n",
       "      <th></th>\n",
       "      <th>Game ID</th>\n",
       "      <th>Game Event ID</th>\n",
       "      <th>Player ID</th>\n",
       "      <th>Player Name</th>\n",
       "      <th>Team ID</th>\n",
       "      <th>Team Name</th>\n",
       "      <th>Period</th>\n",
       "      <th>Minutes Remaining</th>\n",
       "      <th>Seconds Remaining</th>\n",
       "      <th>Action Type</th>\n",
       "      <th>...</th>\n",
       "      <th>Shot Zone Area</th>\n",
       "      <th>Shot Zone Range</th>\n",
       "      <th>Shot Distance</th>\n",
       "      <th>X Location</th>\n",
       "      <th>Y Location</th>\n",
       "      <th>Shot Made Flag</th>\n",
       "      <th>Game Date</th>\n",
       "      <th>Home Team</th>\n",
       "      <th>Away Team</th>\n",
       "      <th>Season Type</th>\n",
       "    </tr>\n",
       "  </thead>\n",
       "  <tbody>\n",
       "    <tr>\n",
       "      <th>0</th>\n",
       "      <td>29700427</td>\n",
       "      <td>389</td>\n",
       "      <td>100</td>\n",
       "      <td>Tim Legler</td>\n",
       "      <td>1610612764</td>\n",
       "      <td>Washington Wizards</td>\n",
       "      <td>4</td>\n",
       "      <td>11</td>\n",
       "      <td>22</td>\n",
       "      <td>Jump Shot</td>\n",
       "      <td>...</td>\n",
       "      <td>Right Side(R)</td>\n",
       "      <td>8-16 ft.</td>\n",
       "      <td>15</td>\n",
       "      <td>117</td>\n",
       "      <td>109</td>\n",
       "      <td>1</td>\n",
       "      <td>19980102</td>\n",
       "      <td>WAS</td>\n",
       "      <td>IND</td>\n",
       "      <td>Regular Season</td>\n",
       "    </tr>\n",
       "    <tr>\n",
       "      <th>1</th>\n",
       "      <td>29700427</td>\n",
       "      <td>406</td>\n",
       "      <td>100</td>\n",
       "      <td>Tim Legler</td>\n",
       "      <td>1610612764</td>\n",
       "      <td>Washington Wizards</td>\n",
       "      <td>4</td>\n",
       "      <td>9</td>\n",
       "      <td>36</td>\n",
       "      <td>Jump Shot</td>\n",
       "      <td>...</td>\n",
       "      <td>Right Side(R)</td>\n",
       "      <td>8-16 ft.</td>\n",
       "      <td>14</td>\n",
       "      <td>143</td>\n",
       "      <td>25</td>\n",
       "      <td>0</td>\n",
       "      <td>19980102</td>\n",
       "      <td>WAS</td>\n",
       "      <td>IND</td>\n",
       "      <td>Regular Season</td>\n",
       "    </tr>\n",
       "    <tr>\n",
       "      <th>2</th>\n",
       "      <td>29700427</td>\n",
       "      <td>475</td>\n",
       "      <td>100</td>\n",
       "      <td>Tim Legler</td>\n",
       "      <td>1610612764</td>\n",
       "      <td>Washington Wizards</td>\n",
       "      <td>4</td>\n",
       "      <td>3</td>\n",
       "      <td>7</td>\n",
       "      <td>Jump Shot</td>\n",
       "      <td>...</td>\n",
       "      <td>Left Side(L)</td>\n",
       "      <td>8-16 ft.</td>\n",
       "      <td>10</td>\n",
       "      <td>-87</td>\n",
       "      <td>55</td>\n",
       "      <td>0</td>\n",
       "      <td>19980102</td>\n",
       "      <td>WAS</td>\n",
       "      <td>IND</td>\n",
       "      <td>Regular Season</td>\n",
       "    </tr>\n",
       "    <tr>\n",
       "      <th>3</th>\n",
       "      <td>29700427</td>\n",
       "      <td>487</td>\n",
       "      <td>100</td>\n",
       "      <td>Tim Legler</td>\n",
       "      <td>1610612764</td>\n",
       "      <td>Washington Wizards</td>\n",
       "      <td>4</td>\n",
       "      <td>1</td>\n",
       "      <td>45</td>\n",
       "      <td>Jump Shot</td>\n",
       "      <td>...</td>\n",
       "      <td>Center(C)</td>\n",
       "      <td>Less Than 8 ft.</td>\n",
       "      <td>5</td>\n",
       "      <td>-1</td>\n",
       "      <td>53</td>\n",
       "      <td>0</td>\n",
       "      <td>19980102</td>\n",
       "      <td>WAS</td>\n",
       "      <td>IND</td>\n",
       "      <td>Regular Season</td>\n",
       "    </tr>\n",
       "    <tr>\n",
       "      <th>4</th>\n",
       "      <td>29700427</td>\n",
       "      <td>497</td>\n",
       "      <td>100</td>\n",
       "      <td>Tim Legler</td>\n",
       "      <td>1610612764</td>\n",
       "      <td>Washington Wizards</td>\n",
       "      <td>4</td>\n",
       "      <td>0</td>\n",
       "      <td>45</td>\n",
       "      <td>Jump Shot</td>\n",
       "      <td>...</td>\n",
       "      <td>Right Side(R)</td>\n",
       "      <td>8-16 ft.</td>\n",
       "      <td>14</td>\n",
       "      <td>89</td>\n",
       "      <td>113</td>\n",
       "      <td>0</td>\n",
       "      <td>19980102</td>\n",
       "      <td>WAS</td>\n",
       "      <td>IND</td>\n",
       "      <td>Regular Season</td>\n",
       "    </tr>\n",
       "  </tbody>\n",
       "</table>\n",
       "<p>5 rows × 22 columns</p>\n",
       "</div>"
      ],
      "text/plain": [
       "    Game ID  Game Event ID  Player ID Player Name     Team ID  \\\n",
       "0  29700427            389        100  Tim Legler  1610612764   \n",
       "1  29700427            406        100  Tim Legler  1610612764   \n",
       "2  29700427            475        100  Tim Legler  1610612764   \n",
       "3  29700427            487        100  Tim Legler  1610612764   \n",
       "4  29700427            497        100  Tim Legler  1610612764   \n",
       "\n",
       "            Team Name  Period  Minutes Remaining  Seconds Remaining  \\\n",
       "0  Washington Wizards       4                 11                 22   \n",
       "1  Washington Wizards       4                  9                 36   \n",
       "2  Washington Wizards       4                  3                  7   \n",
       "3  Washington Wizards       4                  1                 45   \n",
       "4  Washington Wizards       4                  0                 45   \n",
       "\n",
       "  Action Type  ... Shot Zone Area  Shot Zone Range Shot Distance X Location  \\\n",
       "0   Jump Shot  ...  Right Side(R)         8-16 ft.            15        117   \n",
       "1   Jump Shot  ...  Right Side(R)         8-16 ft.            14        143   \n",
       "2   Jump Shot  ...   Left Side(L)         8-16 ft.            10        -87   \n",
       "3   Jump Shot  ...      Center(C)  Less Than 8 ft.             5         -1   \n",
       "4   Jump Shot  ...  Right Side(R)         8-16 ft.            14         89   \n",
       "\n",
       "   Y Location  Shot Made Flag  Game Date  Home Team  Away Team     Season Type  \n",
       "0         109               1   19980102        WAS        IND  Regular Season  \n",
       "1          25               0   19980102        WAS        IND  Regular Season  \n",
       "2          55               0   19980102        WAS        IND  Regular Season  \n",
       "3          53               0   19980102        WAS        IND  Regular Season  \n",
       "4         113               0   19980102        WAS        IND  Regular Season  \n",
       "\n",
       "[5 rows x 22 columns]"
      ]
     },
     "execution_count": 4,
     "metadata": {},
     "output_type": "execute_result"
    }
   ],
   "source": [
    "df.head()"
   ]
  },
  {
   "cell_type": "code",
   "execution_count": 5,
   "metadata": {},
   "outputs": [
    {
     "name": "stdout",
     "output_type": "stream",
     "text": [
      "<class 'pandas.core.frame.DataFrame'>\n",
      "RangeIndex: 4729512 entries, 0 to 4729511\n",
      "Data columns (total 22 columns):\n",
      " #   Column             Dtype \n",
      "---  ------             ----- \n",
      " 0   Game ID            int64 \n",
      " 1   Game Event ID      int64 \n",
      " 2   Player ID          int64 \n",
      " 3   Player Name        object\n",
      " 4   Team ID            int64 \n",
      " 5   Team Name          object\n",
      " 6   Period             int64 \n",
      " 7   Minutes Remaining  int64 \n",
      " 8   Seconds Remaining  int64 \n",
      " 9   Action Type        object\n",
      " 10  Shot Type          object\n",
      " 11  Shot Zone Basic    object\n",
      " 12  Shot Zone Area     object\n",
      " 13  Shot Zone Range    object\n",
      " 14  Shot Distance      int64 \n",
      " 15  X Location         int64 \n",
      " 16  Y Location         int64 \n",
      " 17  Shot Made Flag     int64 \n",
      " 18  Game Date          int64 \n",
      " 19  Home Team          object\n",
      " 20  Away Team          object\n",
      " 21  Season Type        object\n",
      "dtypes: int64(12), object(10)\n",
      "memory usage: 793.8+ MB\n"
     ]
    }
   ],
   "source": [
    "df.info()"
   ]
  },
  {
   "cell_type": "code",
   "execution_count": 6,
   "metadata": {},
   "outputs": [],
   "source": [
    "three_point_shots = df[df['Shot Type'] == '3PT Field Goal']"
   ]
  },
  {
   "cell_type": "code",
   "execution_count": 7,
   "metadata": {},
   "outputs": [],
   "source": [
    "player_stats = three_point_shots.groupby('Player Name').agg(\n",
    "    shooting_percentage=('Shot Made Flag', 'mean'),\n",
    "    total_attempts=('Game ID', 'count'),\n",
    "    avg_shot_distance=('Shot Distance', 'mean')\n",
    ").reset_index()"
   ]
  },
  {
   "cell_type": "code",
   "execution_count": 8,
   "metadata": {},
   "outputs": [
    {
     "data": {
      "text/html": [
       "<div>\n",
       "<style scoped>\n",
       "    .dataframe tbody tr th:only-of-type {\n",
       "        vertical-align: middle;\n",
       "    }\n",
       "\n",
       "    .dataframe tbody tr th {\n",
       "        vertical-align: top;\n",
       "    }\n",
       "\n",
       "    .dataframe thead th {\n",
       "        text-align: right;\n",
       "    }\n",
       "</style>\n",
       "<table border=\"1\" class=\"dataframe\">\n",
       "  <thead>\n",
       "    <tr style=\"text-align: right;\">\n",
       "      <th></th>\n",
       "      <th>Player Name</th>\n",
       "      <th>shooting_percentage</th>\n",
       "      <th>total_attempts</th>\n",
       "      <th>avg_shot_distance</th>\n",
       "    </tr>\n",
       "  </thead>\n",
       "  <tbody>\n",
       "    <tr>\n",
       "      <th>0</th>\n",
       "      <td>A.C. Green</td>\n",
       "      <td>0.045455</td>\n",
       "      <td>22</td>\n",
       "      <td>33.545455</td>\n",
       "    </tr>\n",
       "    <tr>\n",
       "      <th>1</th>\n",
       "      <td>A.J. Guyton</td>\n",
       "      <td>0.375000</td>\n",
       "      <td>192</td>\n",
       "      <td>25.171875</td>\n",
       "    </tr>\n",
       "    <tr>\n",
       "      <th>2</th>\n",
       "      <td>AJ Hammons</td>\n",
       "      <td>0.500000</td>\n",
       "      <td>10</td>\n",
       "      <td>23.800000</td>\n",
       "    </tr>\n",
       "    <tr>\n",
       "      <th>3</th>\n",
       "      <td>AJ Price</td>\n",
       "      <td>0.318697</td>\n",
       "      <td>706</td>\n",
       "      <td>25.430595</td>\n",
       "    </tr>\n",
       "    <tr>\n",
       "      <th>4</th>\n",
       "      <td>Aaron Brooks</td>\n",
       "      <td>0.367698</td>\n",
       "      <td>2328</td>\n",
       "      <td>25.721649</td>\n",
       "    </tr>\n",
       "  </tbody>\n",
       "</table>\n",
       "</div>"
      ],
      "text/plain": [
       "    Player Name  shooting_percentage  total_attempts  avg_shot_distance\n",
       "0    A.C. Green             0.045455              22          33.545455\n",
       "1   A.J. Guyton             0.375000             192          25.171875\n",
       "2    AJ Hammons             0.500000              10          23.800000\n",
       "3      AJ Price             0.318697             706          25.430595\n",
       "4  Aaron Brooks             0.367698            2328          25.721649"
      ]
     },
     "execution_count": 8,
     "metadata": {},
     "output_type": "execute_result"
    }
   ],
   "source": [
    "player_stats.head()"
   ]
  },
  {
   "cell_type": "code",
   "execution_count": 9,
   "metadata": {},
   "outputs": [
    {
     "data": {
      "text/html": [
       "<div>\n",
       "<style scoped>\n",
       "    .dataframe tbody tr th:only-of-type {\n",
       "        vertical-align: middle;\n",
       "    }\n",
       "\n",
       "    .dataframe tbody tr th {\n",
       "        vertical-align: top;\n",
       "    }\n",
       "\n",
       "    .dataframe thead th {\n",
       "        text-align: right;\n",
       "    }\n",
       "</style>\n",
       "<table border=\"1\" class=\"dataframe\">\n",
       "  <thead>\n",
       "    <tr style=\"text-align: right;\">\n",
       "      <th></th>\n",
       "      <th>shooting_percentage</th>\n",
       "      <th>total_attempts</th>\n",
       "      <th>avg_shot_distance</th>\n",
       "    </tr>\n",
       "  </thead>\n",
       "  <tbody>\n",
       "    <tr>\n",
       "      <th>count</th>\n",
       "      <td>1917.000000</td>\n",
       "      <td>1917.000000</td>\n",
       "      <td>1917.000000</td>\n",
       "    </tr>\n",
       "    <tr>\n",
       "      <th>mean</th>\n",
       "      <td>0.267691</td>\n",
       "      <td>586.075639</td>\n",
       "      <td>26.311453</td>\n",
       "    </tr>\n",
       "    <tr>\n",
       "      <th>std</th>\n",
       "      <td>0.146272</td>\n",
       "      <td>1045.323658</td>\n",
       "      <td>4.924854</td>\n",
       "    </tr>\n",
       "    <tr>\n",
       "      <th>min</th>\n",
       "      <td>0.000000</td>\n",
       "      <td>1.000000</td>\n",
       "      <td>22.000000</td>\n",
       "    </tr>\n",
       "    <tr>\n",
       "      <th>25%</th>\n",
       "      <td>0.200000</td>\n",
       "      <td>13.000000</td>\n",
       "      <td>24.462857</td>\n",
       "    </tr>\n",
       "    <tr>\n",
       "      <th>50%</th>\n",
       "      <td>0.314476</td>\n",
       "      <td>96.000000</td>\n",
       "      <td>24.936508</td>\n",
       "    </tr>\n",
       "    <tr>\n",
       "      <th>75%</th>\n",
       "      <td>0.357143</td>\n",
       "      <td>664.000000</td>\n",
       "      <td>25.641509</td>\n",
       "    </tr>\n",
       "    <tr>\n",
       "      <th>max</th>\n",
       "      <td>1.000000</td>\n",
       "      <td>8089.000000</td>\n",
       "      <td>84.000000</td>\n",
       "    </tr>\n",
       "  </tbody>\n",
       "</table>\n",
       "</div>"
      ],
      "text/plain": [
       "       shooting_percentage  total_attempts  avg_shot_distance\n",
       "count          1917.000000     1917.000000        1917.000000\n",
       "mean              0.267691      586.075639          26.311453\n",
       "std               0.146272     1045.323658           4.924854\n",
       "min               0.000000        1.000000          22.000000\n",
       "25%               0.200000       13.000000          24.462857\n",
       "50%               0.314476       96.000000          24.936508\n",
       "75%               0.357143      664.000000          25.641509\n",
       "max               1.000000     8089.000000          84.000000"
      ]
     },
     "execution_count": 9,
     "metadata": {},
     "output_type": "execute_result"
    }
   ],
   "source": [
    "player_stats.describe()"
   ]
  },
  {
   "cell_type": "code",
   "execution_count": 10,
   "metadata": {},
   "outputs": [],
   "source": [
    "player_games = three_point_shots.groupby(['Player Name', 'Game ID']).size().reset_index(name='Attempts')\n",
    "player_attempts_per_game = player_games.groupby('Player Name')['Attempts'].mean().reset_index()\n"
   ]
  },
  {
   "cell_type": "code",
   "execution_count": 11,
   "metadata": {},
   "outputs": [
    {
     "data": {
      "text/html": [
       "<div>\n",
       "<style scoped>\n",
       "    .dataframe tbody tr th:only-of-type {\n",
       "        vertical-align: middle;\n",
       "    }\n",
       "\n",
       "    .dataframe tbody tr th {\n",
       "        vertical-align: top;\n",
       "    }\n",
       "\n",
       "    .dataframe thead th {\n",
       "        text-align: right;\n",
       "    }\n",
       "</style>\n",
       "<table border=\"1\" class=\"dataframe\">\n",
       "  <thead>\n",
       "    <tr style=\"text-align: right;\">\n",
       "      <th></th>\n",
       "      <th>Attempts</th>\n",
       "    </tr>\n",
       "  </thead>\n",
       "  <tbody>\n",
       "    <tr>\n",
       "      <th>count</th>\n",
       "      <td>1917.000000</td>\n",
       "    </tr>\n",
       "    <tr>\n",
       "      <th>mean</th>\n",
       "      <td>2.240827</td>\n",
       "    </tr>\n",
       "    <tr>\n",
       "      <th>std</th>\n",
       "      <td>1.223158</td>\n",
       "    </tr>\n",
       "    <tr>\n",
       "      <th>min</th>\n",
       "      <td>1.000000</td>\n",
       "    </tr>\n",
       "    <tr>\n",
       "      <th>25%</th>\n",
       "      <td>1.200000</td>\n",
       "    </tr>\n",
       "    <tr>\n",
       "      <th>50%</th>\n",
       "      <td>1.941176</td>\n",
       "    </tr>\n",
       "    <tr>\n",
       "      <th>75%</th>\n",
       "      <td>2.939210</td>\n",
       "    </tr>\n",
       "    <tr>\n",
       "      <th>max</th>\n",
       "      <td>8.557621</td>\n",
       "    </tr>\n",
       "  </tbody>\n",
       "</table>\n",
       "</div>"
      ],
      "text/plain": [
       "          Attempts\n",
       "count  1917.000000\n",
       "mean      2.240827\n",
       "std       1.223158\n",
       "min       1.000000\n",
       "25%       1.200000\n",
       "50%       1.941176\n",
       "75%       2.939210\n",
       "max       8.557621"
      ]
     },
     "execution_count": 11,
     "metadata": {},
     "output_type": "execute_result"
    }
   ],
   "source": [
    "player_attempts_per_game.describe()"
   ]
  },
  {
   "cell_type": "code",
   "execution_count": 12,
   "metadata": {},
   "outputs": [],
   "source": [
    "player_stats = pd.merge(player_stats, player_attempts_per_game, on='Player Name')\n"
   ]
  },
  {
   "cell_type": "code",
   "execution_count": 13,
   "metadata": {},
   "outputs": [
    {
     "name": "stderr",
     "output_type": "stream",
     "text": [
      "/opt/homebrew/Caskroom/miniforge/base/envs/dmt_project/lib/python3.10/site-packages/sklearn/cluster/_kmeans.py:870: FutureWarning: The default value of `n_init` will change from 10 to 'auto' in 1.4. Set the value of `n_init` explicitly to suppress the warning\n",
      "  warnings.warn(\n"
     ]
    }
   ],
   "source": [
    "scaler = StandardScaler()\n",
    "scaled_features = scaler.fit_transform(player_stats[['shooting_percentage', 'Attempts', 'avg_shot_distance']])\n",
    "\n",
    "\n",
    "kmeans = KMeans(n_clusters=6, random_state=42)\n",
    "clusters = kmeans.fit_predict(scaled_features)\n",
    "\n",
    "player_stats['cluster'] = clusters\n"
   ]
  },
  {
   "cell_type": "code",
   "execution_count": 14,
   "metadata": {},
   "outputs": [
    {
     "data": {
      "application/vnd.plotly.v1+json": {
       "config": {
        "plotlyServerURL": "https://plot.ly"
       },
       "data": [
        {
         "customdata": [
          [
           "A.C. Green"
          ],
          [
           "A.J. Guyton"
          ],
          [
           "AJ Hammons"
          ],
          [
           "AJ Price"
          ],
          [
           "Aaron Brooks"
          ],
          [
           "Aaron Gordon"
          ],
          [
           "Aaron Gray"
          ],
          [
           "Aaron Harrison"
          ],
          [
           "Aaron Holiday"
          ],
          [
           "Aaron Jackson"
          ],
          [
           "Aaron McKie"
          ],
          [
           "Aaron Williams"
          ],
          [
           "Abdel Nader"
          ],
          [
           "Acie Law"
          ],
          [
           "Adam Harrington"
          ],
          [
           "Adam Keefe"
          ],
          [
           "Adam Mokoka"
          ],
          [
           "Adam Morrison"
          ],
          [
           "Admiral Schofield"
          ],
          [
           "Adonal Foyle"
          ],
          [
           "Adonis Jordan"
          ],
          [
           "Adonis Thomas"
          ],
          [
           "Adreian Payne"
          ],
          [
           "Adrian Griffin"
          ],
          [
           "Al Harrington"
          ],
          [
           "Al Horford"
          ],
          [
           "Al Jefferson"
          ],
          [
           "Al Thornton"
          ],
          [
           "Al-Farouq Aminu"
          ],
          [
           "Alan Anderson"
          ],
          [
           "Alan Henderson"
          ],
          [
           "Alan Williams"
          ],
          [
           "Alando Tucker"
          ],
          [
           "Alec Burks"
          ],
          [
           "Alec Peters"
          ],
          [
           "Alen Smailagic"
          ],
          [
           "Alex Abrines"
          ],
          [
           "Alex Acker"
          ],
          [
           "Alex Caruso"
          ],
          [
           "Alex Garcia"
          ],
          [
           "Alex Len"
          ],
          [
           "Alex Poythress"
          ],
          [
           "Alexey Shved"
          ],
          [
           "Alexis Ajinca"
          ],
          [
           "Alfonzo McKinnie"
          ],
          [
           "Alize Johnson"
          ],
          [
           "Allan Houston"
          ],
          [
           "Allan Ray"
          ],
          [
           "Allen Crabbe"
          ],
          [
           "Allen Iverson"
          ],
          [
           "Allonzo Trier"
          ],
          [
           "Alonzo Gee"
          ],
          [
           "Alonzo Mourning"
          ],
          [
           "Alvin Sims"
          ],
          [
           "Alvin Williams"
          ],
          [
           "Amal McCaskill"
          ],
          [
           "Amar'e Stoudemire"
          ],
          [
           "Amir Coffey"
          ],
          [
           "Amir Johnson"
          ],
          [
           "Anderson Varejao"
          ],
          [
           "Andrae Patterson"
          ],
          [
           "Andray Blatche"
          ],
          [
           "Andre Barrett"
          ],
          [
           "Andre Brown"
          ],
          [
           "Andre Dawkins"
          ],
          [
           "Andre Drummond"
          ],
          [
           "Andre Emmett"
          ],
          [
           "Andre Iguodala"
          ],
          [
           "Andre Ingram"
          ],
          [
           "Andre Miller"
          ],
          [
           "Andre Owens"
          ],
          [
           "Andre Roberson"
          ],
          [
           "Andrea Bargnani"
          ],
          [
           "Andrei Kirilenko"
          ],
          [
           "Andres Nocioni"
          ],
          [
           "Andrew Bogut"
          ],
          [
           "Andrew Bynum"
          ],
          [
           "Andrew DeClercq"
          ],
          [
           "Andrew Gaze"
          ],
          [
           "Andrew Goudelock"
          ],
          [
           "Andrew Harrison"
          ],
          [
           "Andrew Lang"
          ],
          [
           "Andrew Nicholson"
          ],
          [
           "Andrew White III"
          ],
          [
           "Andrew Wiggins"
          ],
          [
           "Andris Biedrins"
          ],
          [
           "Andy Rautins"
          ],
          [
           "Anfernee Hardaway"
          ],
          [
           "Anfernee Simons"
          ],
          [
           "Ansu Sesay"
          ],
          [
           "Antawn Jamison"
          ],
          [
           "Anthony Bennett"
          ],
          [
           "Anthony Bowie"
          ],
          [
           "Anthony Brown"
          ],
          [
           "Anthony Carter"
          ],
          [
           "Anthony Davis"
          ],
          [
           "Anthony Goldwire"
          ],
          [
           "Anthony Grundy"
          ],
          [
           "Anthony Johnson"
          ],
          [
           "Anthony Mason"
          ],
          [
           "Anthony Miller"
          ],
          [
           "Anthony Morrow"
          ],
          [
           "Anthony Parker"
          ],
          [
           "Anthony Peeler"
          ],
          [
           "Anthony Randolph"
          ],
          [
           "Anthony Roberson"
          ],
          [
           "Anthony Tolliver"
          ],
          [
           "Antoine Carr"
          ],
          [
           "Antoine Rigaudeau"
          ],
          [
           "Antoine Walker"
          ],
          [
           "Antoine Wright"
          ],
          [
           "Antonio Blakeney"
          ],
          [
           "Antonio Burks"
          ],
          [
           "Antonio Daniels"
          ],
          [
           "Antonio Davis"
          ],
          [
           "Antonio McDyess"
          ],
          [
           "Antonis Fotsis"
          ],
          [
           "Antonius Cleveland"
          ],
          [
           "Anzejs Pasecniks"
          ],
          [
           "Archie Goodwin"
          ],
          [
           "Armen Gilliam"
          ],
          [
           "Armon Johnson"
          ],
          [
           "Aron Baynes"
          ],
          [
           "Arron Afflalo"
          ],
          [
           "Art Long"
          ],
          [
           "Arvydas Macijauskas"
          ],
          [
           "Arvydas Sabonis"
          ],
          [
           "Austin Croshere"
          ],
          [
           "Austin Daye"
          ],
          [
           "Austin Rivers"
          ],
          [
           "Avery Bradley"
          ],
          [
           "Avery Johnson"
          ],
          [
           "Awvee Storey"
          ],
          [
           "Axel Toupane"
          ],
          [
           "B.J. Armstrong"
          ],
          [
           "BJ Johnson"
          ],
          [
           "Bam Adebayo"
          ],
          [
           "Baron Davis"
          ],
          [
           "Ben Bentil"
          ],
          [
           "Ben Gordon"
          ],
          [
           "Ben Handlogten"
          ],
          [
           "Ben Hansbrough"
          ],
          [
           "Ben McLemore"
          ],
          [
           "Ben Simmons"
          ],
          [
           "Ben Uzoh"
          ],
          [
           "Ben Wallace"
          ],
          [
           "Beno Udrih"
          ],
          [
           "Bernard James"
          ],
          [
           "Bernard Robinson"
          ],
          [
           "Bill Curley"
          ],
          [
           "Bill Wennington"
          ],
          [
           "Billy Garrett"
          ],
          [
           "Billy Owens"
          ],
          [
           "Billy Thomas"
          ],
          [
           "Bimbo Coles"
          ],
          [
           "Bismack Biyombo"
          ],
          [
           "Bison Dele"
          ],
          [
           "Blake Ahearn"
          ],
          [
           "Blake Griffin"
          ],
          [
           "Blue Edwards"
          ],
          [
           "Bo Outlaw"
          ],
          [
           "Bob Sura"
          ],
          [
           "Boban Marjanovic"
          ],
          [
           "Bobby Brown"
          ],
          [
           "Bobby Hurley"
          ],
          [
           "Bobby Jackson"
          ],
          [
           "Bobby Jones"
          ],
          [
           "Bobby Phills"
          ],
          [
           "Bobby Portis"
          ],
          [
           "Bobby Simmons"
          ],
          [
           "Bogdan Bogdanovic"
          ],
          [
           "Bojan Bogdanovic"
          ],
          [
           "Boniface Ndong"
          ],
          [
           "Bonzi Wells"
          ],
          [
           "Bonzie Colson"
          ],
          [
           "Boris Diaw"
          ],
          [
           "Bostjan Nachbar"
          ],
          [
           "Bracey Wright"
          ],
          [
           "Brad Lohaus"
          ],
          [
           "Brad Miller"
          ],
          [
           "Brad Wanamaker"
          ],
          [
           "Bradley Beal"
          ],
          [
           "Brandan Wright"
          ],
          [
           "Brandon Armstrong"
          ],
          [
           "Brandon Bass"
          ],
          [
           "Brandon Clarke"
          ],
          [
           "Brandon Davies"
          ],
          [
           "Brandon Goodwin"
          ],
          [
           "Brandon Hunter"
          ],
          [
           "Brandon Ingram"
          ],
          [
           "Brandon Jennings"
          ],
          [
           "Brandon Knight"
          ],
          [
           "Brandon Paul"
          ],
          [
           "Brandon Roy"
          ],
          [
           "Brandon Rush"
          ],
          [
           "Brandon Sampson"
          ],
          [
           "Brandon Williams"
          ],
          [
           "Brendan Haywood"
          ],
          [
           "Brent Barry"
          ],
          [
           "Brent Price"
          ],
          [
           "Brevin Knight"
          ],
          [
           "Brian Bowen II"
          ],
          [
           "Brian Cardinal"
          ],
          [
           "Brian Cook"
          ],
          [
           "Brian Evans"
          ],
          [
           "Brian Grant"
          ],
          [
           "Brian Roberts"
          ],
          [
           "Brian Scalabrine"
          ],
          [
           "Brian Shaw"
          ],
          [
           "Brian Skinner"
          ],
          [
           "Briante Weber"
          ],
          [
           "Brice Johnson"
          ],
          [
           "Britton Johnsen"
          ],
          [
           "Brook Lopez"
          ],
          [
           "Brooks Thompson"
          ],
          [
           "Bruce Bowen"
          ],
          [
           "Bruce Brown"
          ],
          [
           "Bruno Caboclo"
          ],
          [
           "Bruno Fernando"
          ],
          [
           "Bruno Sundov"
          ],
          [
           "Bryant Reeves"
          ],
          [
           "Bryant Stith"
          ],
          [
           "Bryce Cotton"
          ],
          [
           "Bryce Dejean-Jones"
          ],
          [
           "Bryce Drew"
          ],
          [
           "Bryn Forbes"
          ],
          [
           "Bryon Russell"
          ],
          [
           "Bubba Wells"
          ],
          [
           "Buddy Hield"
          ],
          [
           "Byron Mullens"
          ],
          [
           "C.J. Watson"
          ],
          [
           "C.J. Wilcox"
          ],
          [
           "C.J. Williams"
          ],
          [
           "CJ McCollum"
          ],
          [
           "CJ Miles"
          ],
          [
           "Cal Bowdler"
          ],
          [
           "Calbert Cheaney"
          ],
          [
           "Caleb Martin"
          ],
          [
           "Caleb Swanigan"
          ],
          [
           "Calvin Booth"
          ],
          [
           "Cam Reddish"
          ],
          [
           "Cameron Bairstow"
          ],
          [
           "Cameron Johnson"
          ],
          [
           "Cameron Payne"
          ],
          [
           "Cameron Reynolds"
          ],
          [
           "Caris LeVert"
          ],
          [
           "Carl Herrera"
          ],
          [
           "Carl Landry"
          ],
          [
           "Carl Thomas"
          ],
          [
           "Carldell Johnson"
          ],
          [
           "Carlos Arroyo"
          ],
          [
           "Carlos Boozer"
          ],
          [
           "Carlos Delfino"
          ],
          [
           "Carlos Rogers"
          ],
          [
           "Carmelo Anthony"
          ],
          [
           "Caron Butler"
          ],
          [
           "Carrick Felix"
          ],
          [
           "Carsen Edwards"
          ],
          [
           "Cartier Martin"
          ],
          [
           "Casey Jacobsen"
          ],
          [
           "Casper Ware"
          ],
          [
           "Cedi Osman"
          ],
          [
           "Cedric Bozeman"
          ],
          [
           "Cedric Ceballos"
          ],
          [
           "Cedric Henderson"
          ],
          [
           "Cedric Jackson"
          ],
          [
           "Chandler Hutchison"
          ],
          [
           "Chandler Parsons"
          ],
          [
           "Channing Frye"
          ],
          [
           "Charles Barkley"
          ],
          [
           "Charles Brown Jr."
          ],
          [
           "Charles Cooke"
          ],
          [
           "Charles Jenkins"
          ],
          [
           "Charles O'Bannon"
          ],
          [
           "Charles Oakley"
          ],
          [
           "Charles R. Jones"
          ],
          [
           "Charles Smith"
          ],
          [
           "Charlie Bell"
          ],
          [
           "Charlie Villanueva"
          ],
          [
           "Charlie Ward"
          ],
          [
           "Chase Budinger"
          ],
          [
           "Chasson Randle"
          ],
          [
           "Chauncey Billups"
          ],
          [
           "Cheick Diallo"
          ],
          [
           "Cheikh Samb"
          ],
          [
           "Cherokee Parks"
          ],
          [
           "Chimezie Metu"
          ],
          [
           "Chris Andersen"
          ],
          [
           "Chris Anstey"
          ],
          [
           "Chris Babb"
          ],
          [
           "Chris Bosh"
          ],
          [
           "Chris Boucher"
          ],
          [
           "Chris Carr"
          ],
          [
           "Chris Childs"
          ],
          [
           "Chris Chiozza"
          ],
          [
           "Chris Clemons"
          ],
          [
           "Chris Copeland"
          ],
          [
           "Chris Crawford"
          ],
          [
           "Chris Douglas-Roberts"
          ],
          [
           "Chris Dudley"
          ],
          [
           "Chris Duhon"
          ],
          [
           "Chris Garner"
          ],
          [
           "Chris Gatling"
          ],
          [
           "Chris Herren"
          ],
          [
           "Chris Hunter"
          ],
          [
           "Chris Jefferies"
          ],
          [
           "Chris Johnson"
          ],
          [
           "Chris Kaman"
          ],
          [
           "Chris McCullough"
          ],
          [
           "Chris Mihm"
          ],
          [
           "Chris Mills"
          ],
          [
           "Chris Morris"
          ],
          [
           "Chris Mullin"
          ],
          [
           "Chris Paul"
          ],
          [
           "Chris Porter"
          ],
          [
           "Chris Quinn"
          ],
          [
           "Chris Robinson"
          ],
          [
           "Chris Silva"
          ],
          [
           "Chris Singleton"
          ],
          [
           "Chris Webber"
          ],
          [
           "Chris Whitney"
          ],
          [
           "Chris Wilcox"
          ],
          [
           "Chris Wright"
          ],
          [
           "Christian Eyenga"
          ],
          [
           "Christian Laettner"
          ],
          [
           "Christian Wood"
          ],
          [
           "Chuck Hayes"
          ],
          [
           "Chuck Person"
          ],
          [
           "Chucky Atkins"
          ],
          [
           "Chucky Brown"
          ],
          [
           "Clar. Weatherspoon"
          ],
          [
           "Cleanthony Early"
          ],
          [
           "Clifford Robinson"
          ],
          [
           "Clint Capela"
          ],
          [
           "Clyde Drexler"
          ],
          [
           "Coby Karl"
          ],
          [
           "Coby White"
          ],
          [
           "Cody Martin"
          ],
          [
           "Cody Zeller"
          ],
          [
           "Collin Sexton"
          ],
          [
           "Corey Beck"
          ],
          [
           "Corey Benjamin"
          ],
          [
           "Corey Brewer"
          ],
          [
           "Corey Maggette"
          ],
          [
           "Corie Blount"
          ],
          [
           "Corliss Williamson"
          ],
          [
           "Cory Alexander"
          ],
          [
           "Cory Carr"
          ],
          [
           "Cory Higgins"
          ],
          [
           "Cory Jefferson"
          ],
          [
           "Cory Joseph"
          ],
          [
           "Coty Clarke"
          ],
          [
           "Courtney Alexander"
          ],
          [
           "Courtney Fortson"
          ],
          [
           "Courtney Lee"
          ],
          [
           "Craig Brackins"
          ],
          [
           "Craig Smith"
          ],
          [
           "Cristiano Felicio"
          ],
          [
           "Curtis Borchardt"
          ],
          [
           "Cuttino Mobley"
          ],
          [
           "D'Angelo Russell"
          ],
          [
           "D.J. Augustin"
          ],
          [
           "D.J. Kennedy"
          ],
          [
           "D.J. Wilson"
          ],
          [
           "DJ Mbenga"
          ],
          [
           "DJ Strawberry"
          ],
          [
           "DJ White"
          ],
          [
           "DaJuan Summers"
          ],
          [
           "DaQuan Jeffries"
          ],
          [
           "Daequan Cook"
          ],
          [
           "Dahntay Jones"
          ],
          [
           "Dairis Bertans"
          ],
          [
           "Dajuan Wagner"
          ],
          [
           "Dale Davis"
          ],
          [
           "Dale Ellis"
          ],
          [
           "Dalibor Bagaric"
          ],
          [
           "Damian Jones"
          ],
          [
           "Damian Lillard"
          ],
          [
           "Damien Inglis"
          ],
          [
           "Damien Wilkins"
          ],
          [
           "Damion James"
          ],
          [
           "Damion Lee"
          ],
          [
           "Damir Markota"
          ],
          [
           "Damjan Rudez"
          ],
          [
           "Damon Jones"
          ],
          [
           "Damon Stoudamire"
          ],
          [
           "Damone Brown"
          ],
          [
           "Damyean Dotson"
          ],
          [
           "Dan Dickau"
          ],
          [
           "Dan Gadzuric"
          ],
          [
           "Dan Langhi"
          ],
          [
           "Dan Majerle"
          ],
          [
           "Dana Barros"
          ],
          [
           "Daniel Ewing"
          ],
          [
           "Daniel Gibson"
          ],
          [
           "Daniel Hamilton"
          ],
          [
           "Daniel Orton"
          ],
          [
           "Daniel Theis"
          ],
          [
           "Danilo Gallinari"
          ],
          [
           "Danny Ferry"
          ],
          [
           "Danny Fortson"
          ],
          [
           "Danny Granger"
          ],
          [
           "Danny Green"
          ],
          [
           "Danny Manning"
          ],
          [
           "Dante Cunningham"
          ],
          [
           "Dante Exum"
          ],
          [
           "Danuel House Jr."
          ],
          [
           "Darington Hobson"
          ],
          [
           "Dario Saric"
          ],
          [
           "Darius Bazley"
          ],
          [
           "Darius Garland"
          ],
          [
           "Darius Johnson-Odom"
          ],
          [
           "Darius Miles"
          ],
          [
           "Darius Miller"
          ],
          [
           "Darius Morris"
          ],
          [
           "Darius Songaila"
          ],
          [
           "Darius Washington"
          ],
          [
           "Darko Milicic"
          ],
          [
           "Darnell Jackson"
          ],
          [
           "Darrell Armstrong"
          ],
          [
           "Darrell Arthur"
          ],
          [
           "Darren Collison"
          ],
          [
           "Darrick Martin"
          ],
          [
           "Darrun Hilliard"
          ],
          [
           "Darvin Ham"
          ],
          [
           "Daryl Macon"
          ],
          [
           "David Andersen"
          ],
          [
           "David Benoit"
          ],
          [
           "David Lee"
          ],
          [
           "David Noel"
          ],
          [
           "David Nwaba"
          ],
          [
           "David Robinson"
          ],
          [
           "David Stockton"
          ],
          [
           "David Vanterpool"
          ],
          [
           "David Vaughn"
          ],
          [
           "David Wear"
          ],
          [
           "David Wesley"
          ],
          [
           "David West"
          ],
          [
           "David Wingate"
          ],
          [
           "Davis Bertans"
          ],
          [
           "Davon Reed"
          ],
          [
           "De'Aaron Fox"
          ],
          [
           "De'Andre Hunter"
          ],
          [
           "De'Anthony Melton"
          ],
          [
           "DeAndre Jordan"
          ],
          [
           "DeAndre Liggins"
          ],
          [
           "DeAndre' Bembry"
          ],
          [
           "DeJuan Blair"
          ],
          [
           "DeJuan Wheat"
          ],
          [
           "DeMar DeRozan"
          ],
          [
           "DeMarcus Cousins"
          ],
          [
           "DeMarcus Nelson"
          ],
          [
           "DeMarre Carroll"
          ],
          [
           "DeQuan Jones"
          ],
          [
           "DeSagana Diop"
          ],
          [
           "DeShawn Stevenson"
          ],
          [
           "DeVaughn Akoon-Purcell"
          ],
          [
           "Dean Oliver"
          ],
          [
           "Dean Wade"
          ],
          [
           "Deandre Ayton"
          ],
          [
           "Dedric Willoughby"
          ],
          [
           "Dee Brown"
          ],
          [
           "Dejounte Murray"
          ],
          [
           "Dell Curry"
          ],
          [
           "Delon Wright"
          ],
          [
           "Delonte West"
          ],
          [
           "Demetris Nichols"
          ],
          [
           "Demetrius Jackson"
          ],
          [
           "Deng Adel"
          ],
          [
           "Dennis Horner"
          ],
          [
           "Dennis Rodman"
          ],
          [
           "Dennis Schroder"
          ],
          [
           "Dennis Scott"
          ],
          [
           "Dennis Smith Jr."
          ],
          [
           "Denzel Valentine"
          ],
          [
           "Deonte Burton"
          ],
          [
           "DerMarr Johnson"
          ],
          [
           "Derek Anderson"
          ],
          [
           "Derek Fisher"
          ],
          [
           "Derek Grimm"
          ],
          [
           "Derek Harper"
          ],
          [
           "Derek Strong"
          ],
          [
           "Deron Williams"
          ],
          [
           "Derrick Brown"
          ],
          [
           "Derrick Byars"
          ],
          [
           "Derrick Coleman"
          ],
          [
           "Derrick Dial"
          ],
          [
           "Derrick Favors"
          ],
          [
           "Derrick Jones Jr."
          ],
          [
           "Derrick McKey"
          ],
          [
           "Derrick Rose"
          ],
          [
           "Derrick Walton Jr."
          ],
          [
           "Derrick White"
          ],
          [
           "Derrick Williams"
          ],
          [
           "Desmon Farmer"
          ],
          [
           "Desmond Ferguson"
          ],
          [
           "Desmond Mason"
          ],
          [
           "Detlef Schrempf"
          ],
          [
           "Devean George"
          ],
          [
           "Devin Booker"
          ],
          [
           "Devin Brown"
          ],
          [
           "Devin Ebanks"
          ],
          [
           "Devin Green"
          ],
          [
           "Devin Harris"
          ],
          [
           "Devin Robinson"
          ],
          [
           "Devon Hall"
          ],
          [
           "Devonte' Graham"
          ],
          [
           "Devyn Marble"
          ],
          [
           "Dewan Hernandez"
          ],
          [
           "Dewayne Dedmon"
          ],
          [
           "Deyonta Davis"
          ],
          [
           "Diante Garrett"
          ],
          [
           "Dickey Simpkins"
          ],
          [
           "Dijon Thompson"
          ],
          [
           "Dikembe Mutombo"
          ],
          [
           "Dillon Brooks"
          ],
          [
           "Dion Glover"
          ],
          [
           "Dion Waiters"
          ],
          [
           "Dionte Christmas"
          ],
          [
           "Dirk Nowitzki"
          ],
          [
           "Domantas Sabonis"
          ],
          [
           "Dominic McGuire"
          ],
          [
           "Dominique Jones"
          ],
          [
           "Dominique Wilkins"
          ],
          [
           "Don MacLean"
          ],
          [
           "Don Reid"
          ],
          [
           "Donald Sloan"
          ],
          [
           "Donald Whiteside"
          ],
          [
           "Donatas Motiejunas"
          ],
          [
           "Donell Taylor"
          ],
          [
           "Donnell Harvey"
          ],
          [
           "Donny Marshall"
          ],
          [
           "Donovan Mitchell"
          ],
          [
           "Donta Smith"
          ],
          [
           "Dontae' Jones"
          ],
          [
           "Donte DiVincenzo"
          ],
          [
           "Donte Grantham"
          ],
          [
           "Donte Greene"
          ],
          [
           "Dontell Jefferson"
          ],
          [
           "Donyell Marshall"
          ],
          [
           "Dorell Wright"
          ],
          [
           "Dorian Finney-Smith"
          ],
          [
           "Doron Lamb"
          ],
          [
           "Doug Christie"
          ],
          [
           "Doug McDermott"
          ],
          [
           "Doug Overton"
          ],
          [
           "Doug West"
          ],
          [
           "Dragan Bender"
          ],
          [
           "Draymond Green"
          ],
          [
           "Drew Barry"
          ],
          [
           "Drew Eubanks"
          ],
          [
           "Drew Gooden"
          ],
          [
           "Drew Gordon"
          ],
          [
           "Duane Ferrell"
          ],
          [
           "Duje Dukan"
          ],
          [
           "Duncan Robinson"
          ],
          [
           "Dusty Hannahs"
          ],
          [
           "Dwayne Bacon"
          ],
          [
           "Dwayne Jones"
          ],
          [
           "Dwight Buycks"
          ],
          [
           "Dwight Howard"
          ],
          [
           "Dwight Powell"
          ],
          [
           "Dwyane Wade"
          ],
          [
           "Dzanan Musa"
          ],
          [
           "E'Twaun Moore"
          ],
          [
           "Earl Barron"
          ],
          [
           "Earl Boykins"
          ],
          [
           "Earl Clark"
          ],
          [
           "Earl Watson"
          ],
          [
           "Ed Davis"
          ],
          [
           "Ed Gray"
          ],
          [
           "Eddie Basden"
          ],
          [
           "Eddie Gill"
          ],
          [
           "Eddie Griffin"
          ],
          [
           "Eddie House"
          ],
          [
           "Eddie Johnson"
          ],
          [
           "Eddie Jones"
          ],
          [
           "Eddie Robinson"
          ],
          [
           "Eddy Curry"
          ],
          [
           "Edmond Sumner"
          ],
          [
           "Eduardo Najera"
          ],
          [
           "Edwin Ubiles"
          ],
          [
           "Efthimios Rentzias"
          ],
          [
           "Ekpe Udoh"
          ],
          [
           "Elden Campbell"
          ],
          [
           "Eldridge Recasner"
          ],
          [
           "Elfrid Payton"
          ],
          [
           "Elie Okobo"
          ],
          [
           "Elijah Millsap"
          ],
          [
           "Elliot Perry"
          ],
          [
           "Elliot Williams"
          ],
          [
           "Elton Brand"
          ],
          [
           "Emanual Davis"
          ],
          [
           "Emeka Okafor"
          ],
          [
           "Emmanuel Mudiay"
          ],
          [
           "Enes Kanter"
          ],
          [
           "Eric Bledsoe"
          ],
          [
           "Eric Gordon"
          ],
          [
           "Eric Maynor"
          ],
          [
           "Eric Montross"
          ],
          [
           "Eric Moreland"
          ],
          [
           "Eric Murdock"
          ],
          [
           "Eric Paschall"
          ],
          [
           "Eric Piatkowski"
          ],
          [
           "Eric Riley"
          ],
          [
           "Eric Snow"
          ],
          [
           "Eric Washington"
          ],
          [
           "Eric Williams"
          ],
          [
           "Erick Barkley"
          ],
          [
           "Erick Dampier"
          ],
          [
           "Erick Green"
          ],
          [
           "Erick Strickland"
          ],
          [
           "Erik Daniels"
          ],
          [
           "Erik McCree"
          ],
          [
           "Erik Murphy"
          ],
          [
           "Ersan Ilyasova"
          ],
          [
           "Ervin Johnson"
          ],
          [
           "Esteban Batista"
          ],
          [
           "Evan Fournier"
          ],
          [
           "Evan Turner"
          ],
          [
           "Fabricio Oberto"
          ],
          [
           "Felipe Lopez"
          ],
          [
           "Flip Murray"
          ],
          [
           "Francisco Elson"
          ],
          [
           "Francisco Garcia"
          ],
          [
           "Frank Jackson"
          ],
          [
           "Frank Kaminsky"
          ],
          [
           "Frank Mason"
          ],
          [
           "Frank Ntilikina"
          ],
          [
           "Frank Williams"
          ],
          [
           "Fred Hoiberg"
          ],
          [
           "Fred Jones"
          ],
          [
           "Fred VanVleet"
          ],
          [
           "Fred Vinson"
          ],
          [
           "Furkan Aldemir"
          ],
          [
           "Furkan Korkmaz"
          ],
          [
           "Gabe Pruitt"
          ],
          [
           "Gabe Vincent"
          ],
          [
           "Gal Mekel"
          ],
          [
           "Garrett Temple"
          ],
          [
           "Garrison Mathews"
          ],
          [
           "Gary Clark"
          ],
          [
           "Gary Forbes"
          ],
          [
           "Gary Grant"
          ],
          [
           "Gary Harris"
          ],
          [
           "Gary Neal"
          ],
          [
           "Gary Payton"
          ],
          [
           "Gary Payton II"
          ],
          [
           "Gary Trent"
          ],
          [
           "Gary Trent Jr."
          ],
          [
           "George Hill"
          ],
          [
           "George Lynch"
          ],
          [
           "George McCloud"
          ],
          [
           "Georges Niang"
          ],
          [
           "Georgios Papagiannis"
          ],
          [
           "Gerald Brown"
          ],
          [
           "Gerald Fitch"
          ],
          [
           "Gerald Green"
          ],
          [
           "Gerald Henderson"
          ],
          [
           "Gerald Madkins"
          ],
          [
           "Gerald Wallace"
          ],
          [
           "Gerald Wilkins"
          ],
          [
           "Gian Clavell"
          ],
          [
           "Giannis Antetokounmpo"
          ],
          [
           "Gigi Datome"
          ],
          [
           "Gilbert Arenas"
          ],
          [
           "Glen Davis"
          ],
          [
           "Glen Rice"
          ],
          [
           "Glenn Robinson"
          ],
          [
           "Glenn Robinson III"
          ],
          [
           "God Shammgod"
          ],
          [
           "Goga Bitadze"
          ],
          [
           "Goran Dragic"
          ],
          [
           "Gordan Giricek"
          ],
          [
           "Gordon Hayward"
          ],
          [
           "Gorgui Dieng"
          ],
          [
           "Grant Hill"
          ],
          [
           "Grant Jerrett"
          ],
          [
           "Grant Long"
          ],
          [
           "Grant Williams"
          ],
          [
           "Grayson Allen"
          ],
          [
           "Greg Anderson"
          ],
          [
           "Greg Anthony"
          ],
          [
           "Greg Buckner"
          ],
          [
           "Greg Foster"
          ],
          [
           "Greg Graham"
          ],
          [
           "Greg Minor"
          ],
          [
           "Greg Monroe"
          ],
          [
           "Greg Ostertag"
          ],
          [
           "Greg Smith"
          ],
          [
           "Greg Stiemsma"
          ],
          [
           "Greivis Vasquez"
          ],
          [
           "Guerschon Yabusele"
          ],
          [
           "Guillermo Diaz"
          ],
          [
           "Gustavo Ayon"
          ],
          [
           "Hakeem Olajuwon"
          ],
          [
           "Hakim Warrick"
          ],
          [
           "Hamed Haddadi"
          ],
          [
           "Hamidou Diallo"
          ],
          [
           "Hanno Mottola"
          ],
          [
           "Harold Ellis"
          ],
          [
           "Harrison Barnes"
          ],
          [
           "Harry Giles III"
          ],
          [
           "Harvey Grant"
          ],
          [
           "Hassan Adams"
          ],
          [
           "Hassan Whiteside"
          ],
          [
           "Haywood Highsmith"
          ],
          [
           "Haywoode Workman"
          ],
          [
           "Hedo Turkoglu"
          ],
          [
           "Henry Ellenson"
          ],
          [
           "Henry James"
          ],
          [
           "Henry Sims"
          ],
          [
           "Henry Walker"
          ],
          [
           "Hersey Hawkins"
          ],
          [
           "Hilton Armstrong"
          ],
          [
           "Hollis Thompson"
          ],
          [
           "Horace Grant"
          ],
          [
           "Horace Jenkins"
          ],
          [
           "Horacio Llamas"
          ],
          [
           "Howard Eisley"
          ],
          [
           "Hubert Davis"
          ],
          [
           "Ian Clark"
          ],
          [
           "Ian Mahinmi"
          ],
          [
           "Ignas Brazdeikis"
          ],
          [
           "Igor Rakocevic"
          ],
          [
           "Ike Austin"
          ],
          [
           "Ike Diogu"
          ],
          [
           "Ike Fontaine"
          ],
          [
           "Iman Shumpert"
          ],
          [
           "Ime Udoka"
          ],
          [
           "Ira Bowman"
          ],
          [
           "Ira Newble"
          ],
          [
           "Isaac Bonga"
          ],
          [
           "Isaac Humphries"
          ],
          [
           "Isaiah Briscoe"
          ],
          [
           "Isaiah Canaan"
          ],
          [
           "Isaiah Hartenstein"
          ],
          [
           "Isaiah Hicks"
          ],
          [
           "Isaiah Rider"
          ],
          [
           "Isaiah Taylor"
          ],
          [
           "Isaiah Thomas"
          ],
          [
           "Isaiah Whitehead"
          ],
          [
           "Ish Smith"
          ],
          [
           "Ivan Johnson"
          ],
          [
           "Ivan McFarlin"
          ],
          [
           "Ivan Rabb"
          ],
          [
           "Ivano Newbill"
          ],
          [
           "Ivica Zubac"
          ],
          [
           "J.J. Barea"
          ],
          [
           "J.P. Macura"
          ],
          [
           "J.R. Bremer"
          ],
          [
           "J.R. Giddens"
          ],
          [
           "J.R. Henderson"
          ],
          [
           "J.R. Reid"
          ],
          [
           "JJ Hickson"
          ],
          [
           "JJ Redick"
          ],
          [
           "JR Smith"
          ],
          [
           "Ja Morant"
          ],
          [
           "JaKarr Sampson"
          ],
          [
           "JaMychal Green"
          ],
          [
           "JaVale McGee"
          ],
          [
           "Jabari Bird"
          ],
          [
           "Jabari Brown"
          ],
          [
           "Jabari Parker"
          ],
          [
           "Jabari Smith"
          ],
          [
           "Jack Haley"
          ],
          [
           "Jackson Vroman"
          ],
          [
           "Jacob Evans"
          ],
          [
           "Jacob Pullen"
          ],
          [
           "Jacob Wiley"
          ],
          [
           "Jacque Vaughn"
          ],
          [
           "Jae Crowder"
          ],
          [
           "Jahidi White"
          ],
          [
           "Jahlil Okafor"
          ],
          [
           "Jake Layman"
          ],
          [
           "Jake Tsakalidis"
          ],
          [
           "Jake Voskuhl"
          ],
          [
           "Jakob Poeltl"
          ],
          [
           "Jalen Brunson"
          ],
          [
           "Jalen Jones"
          ],
          [
           "Jalen Lecque"
          ],
          [
           "Jalen McDaniels"
          ],
          [
           "Jalen Rose"
          ],
          [
           "Jamaal Franklin"
          ],
          [
           "Jamaal Magloire"
          ],
          [
           "Jamaal Tinsley"
          ],
          [
           "Jamal Crawford"
          ],
          [
           "Jamal Mashburn"
          ],
          [
           "Jamal Murray"
          ],
          [
           "Jamal Robinson"
          ],
          [
           "Jamal Sampson"
          ],
          [
           "Jamario Moon"
          ],
          [
           "Jameer Nelson"
          ],
          [
           "Jamel Artis"
          ],
          [
           "Jamel Thomas"
          ],
          [
           "James Anderson"
          ],
          [
           "James Collins"
          ],
          [
           "James Cotton"
          ],
          [
           "James Ennis III"
          ],
          [
           "James Harden"
          ],
          [
           "James Johnson"
          ],
          [
           "James Jones"
          ],
          [
           "James Michael McAdoo"
          ],
          [
           "James Nunnally"
          ],
          [
           "James Posey"
          ],
          [
           "James Robinson"
          ],
          [
           "James Singleton"
          ],
          [
           "James Southerland"
          ],
          [
           "James Webb III"
          ],
          [
           "James White"
          ],
          [
           "James Young"
          ],
          [
           "Jamie Feick"
          ],
          [
           "Jamil Wilson"
          ],
          [
           "Jamison Brewer"
          ],
          [
           "Jan Vesely"
          ],
          [
           "Jannero Pargo"
          ],
          [
           "Jared Cunningham"
          ],
          [
           "Jared Dudley"
          ],
          [
           "Jared Harper"
          ],
          [
           "Jared Jeffries"
          ],
          [
           "Jared Sullinger"
          ],
          [
           "Jared Terrell"
          ],
          [
           "Jarell Eddie"
          ],
          [
           "Jarell Martin"
          ],
          [
           "Jaren Jackson"
          ],
          [
           "Jaren Jackson Jr."
          ],
          [
           "Jaron Blossomgame"
          ],
          [
           "Jarred Vanderbilt"
          ],
          [
           "Jarrett Allen"
          ],
          [
           "Jarrett Culver"
          ],
          [
           "Jarrett Jack"
          ],
          [
           "Jarrod Uthoff"
          ],
          [
           "Jarron Collins"
          ],
          [
           "Jarvis Hayes"
          ],
          [
           "Jason Caffey"
          ],
          [
           "Jason Collier"
          ],
          [
           "Jason Collins"
          ],
          [
           "Jason Hart"
          ],
          [
           "Jason Kapono"
          ],
          [
           "Jason Kidd"
          ],
          [
           "Jason Maxiell"
          ],
          [
           "Jason Miskiri"
          ],
          [
           "Jason Richardson"
          ],
          [
           "Jason Smith"
          ],
          [
           "Jason Terry"
          ],
          [
           "Jason Thompson"
          ],
          [
           "Jason Williams"
          ],
          [
           "Javaris Crittenton"
          ],
          [
           "Javonte Green"
          ],
          [
           "Jawad Williams"
          ],
          [
           "Jawun Evans"
          ],
          [
           "Jaxson Hayes"
          ],
          [
           "Jay Williams"
          ],
          [
           "Jaylen Adams"
          ],
          [
           "Jaylen Brown"
          ],
          [
           "Jaylen Hoard"
          ],
          [
           "Jaylen Morris"
          ],
          [
           "Jaylen Nowell"
          ],
          [
           "Jayson Tatum"
          ],
          [
           "Jayson Williams"
          ],
          [
           "Jeff Adrien"
          ],
          [
           "Jeff Ayres"
          ],
          [
           "Jeff Foster"
          ],
          [
           "Jeff Grayer"
          ],
          [
           "Jeff Green"
          ],
          [
           "Jeff Hornacek"
          ],
          [
           "Jeff McInnis"
          ],
          [
           "Jeff Sheppard"
          ],
          [
           "Jeff Teague"
          ],
          [
           "Jeff Trepagnier"
          ],
          [
           "Jeff Withey"
          ],
          [
           "Jeffery Taylor"
          ],
          [
           "Jemerrio Jones"
          ],
          [
           "Jerald Honeycutt"
          ],
          [
           "Jerami Grant"
          ],
          [
           "Jerel McNeal"
          ],
          [
           "Jeremiah Martin"
          ],
          [
           "Jeremy Evans"
          ],
          [
           "Jeremy Lamb"
          ],
          [
           "Jeremy Lin"
          ],
          [
           "Jeremy Pargo"
          ],
          [
           "Jeremy Richardson"
          ],
          [
           "Jeremy Tyler"
          ],
          [
           "Jerian Grant"
          ],
          [
           "Jermaine Jackson"
          ],
          [
           "Jermaine O'Neal"
          ],
          [
           "Jermaine Taylor"
          ],
          [
           "Jerome Dyson"
          ],
          [
           "Jerome James"
          ],
          [
           "Jerome Kersey"
          ],
          [
           "Jerome Moiso"
          ],
          [
           "Jerome Robinson"
          ],
          [
           "Jerome Williams"
          ],
          [
           "Jerry Smith"
          ],
          [
           "Jerry Stackhouse"
          ],
          [
           "Jerryd Bayless"
          ],
          [
           "Jeryl Sasser"
          ],
          [
           "Jevon Carter"
          ],
          [
           "Jim Jackson"
          ],
          [
           "Jim McIlvaine"
          ],
          [
           "Jimmer Fredette"
          ],
          [
           "Jimmy Butler"
          ],
          [
           "Jimmy Oliver"
          ],
          [
           "Jiri Welsch"
          ],
          [
           "Joakim Noah"
          ],
          [
           "Jodie Meeks"
          ],
          [
           "Joe Alexander"
          ],
          [
           "Joe Chealey"
          ],
          [
           "Joe Crawford"
          ],
          [
           "Joe Crispin"
          ],
          [
           "Joe Dumars"
          ],
          [
           "Joe Harris"
          ],
          [
           "Joe Ingles"
          ],
          [
           "Joe Johnson"
          ],
          [
           "Joe Kleine"
          ],
          [
           "Joe Smith"
          ],
          [
           "Joe Stephens"
          ],
          [
           "Joe Wolf"
          ],
          [
           "Joe Young"
          ],
          [
           "Joel Bolomboy"
          ],
          [
           "Joel Embiid"
          ],
          [
           "Joel Freeland"
          ],
          [
           "Joel Przybilla"
          ],
          [
           "Joey Dorsey"
          ],
          [
           "Joey Graham"
          ],
          [
           "Joffrey Lauvergne"
          ],
          [
           "Johan Petro"
          ],
          [
           "John Amaechi"
          ],
          [
           "John Celestand"
          ],
          [
           "John Collins"
          ],
          [
           "John Crotty"
          ],
          [
           "John Henson"
          ],
          [
           "John Holland"
          ],
          [
           "John Jenkins"
          ],
          [
           "John Konchar"
          ],
          [
           "John Lucas III"
          ],
          [
           "John Salmons"
          ],
          [
           "John Starks"
          ],
          [
           "John Stockton"
          ],
          [
           "John Thomas"
          ],
          [
           "John Wall"
          ],
          [
           "John Wallace"
          ],
          [
           "Johnathan Motley"
          ],
          [
           "Johnathan Williams"
          ],
          [
           "Johnny Newman"
          ],
          [
           "Johnny O'Bryant III"
          ],
          [
           "Johnny Taylor"
          ],
          [
           "Jon Barry"
          ],
          [
           "Jon Brockman"
          ],
          [
           "Jon Leuer"
          ],
          [
           "Jonah Bolden"
          ],
          [
           "Jonas Jerebko"
          ],
          [
           "Jonas Valanciunas"
          ],
          [
           "Jonathan Bender"
          ],
          [
           "Jonathan Gibson"
          ],
          [
           "Jonathan Isaac"
          ],
          [
           "Jonathon Simmons"
          ],
          [
           "Jonny Flynn"
          ],
          [
           "Jordan Adams"
          ],
          [
           "Jordan Bell"
          ],
          [
           "Jordan Bone"
          ],
          [
           "Jordan Clarkson"
          ],
          [
           "Jordan Crawford"
          ],
          [
           "Jordan Farmar"
          ],
          [
           "Jordan Hamilton"
          ],
          [
           "Jordan Hill"
          ],
          [
           "Jordan Loyd"
          ],
          [
           "Jordan McLaughlin"
          ],
          [
           "Jordan McRae"
          ],
          [
           "Jordan Mickey"
          ],
          [
           "Jordan Poole"
          ],
          [
           "Jordan Sibert"
          ],
          [
           "Jorge Garbajosa"
          ],
          [
           "Jorge Gutierrez"
          ],
          [
           "Jose Calderon"
          ],
          [
           "Joseph Forte"
          ],
          [
           "Josh Akognon"
          ],
          [
           "Josh Childress"
          ],
          [
           "Josh Davis"
          ],
          [
           "Josh Gray"
          ],
          [
           "Josh Harrellson"
          ],
          [
           "Josh Hart"
          ],
          [
           "Josh Howard"
          ],
          [
           "Josh Huestis"
          ],
          [
           "Josh Jackson"
          ],
          [
           "Josh Magette"
          ],
          [
           "Josh McRoberts"
          ],
          [
           "Josh Okogie"
          ],
          [
           "Josh Powell"
          ],
          [
           "Josh Richardson"
          ],
          [
           "Josh Selby"
          ],
          [
           "Josh Smith"
          ],
          [
           "Jrue Holiday"
          ],
          [
           "Juan Carlos Navarro"
          ],
          [
           "Juan Dixon"
          ],
          [
           "Juan Toscano-Anderson"
          ],
          [
           "Juancho Hernangomez"
          ],
          [
           "Juaquin Hawkins"
          ],
          [
           "Jud Buechler"
          ],
          [
           "Julian Washburn"
          ],
          [
           "Julian Wright"
          ],
          [
           "Julius Randle"
          ],
          [
           "Julyan Stone"
          ],
          [
           "Jumaine Jones"
          ],
          [
           "Junior Harrington"
          ],
          [
           "Justin Anderson"
          ],
          [
           "Justin Dentmon"
          ],
          [
           "Justin Hamilton"
          ],
          [
           "Justin Harper"
          ],
          [
           "Justin Holiday"
          ],
          [
           "Justin Jackson"
          ],
          [
           "Justin James"
          ],
          [
           "Justin Patton"
          ],
          [
           "Justin Reed"
          ],
          [
           "Justin Robinson"
          ],
          [
           "Justin Williams"
          ],
          [
           "Justise Winslow"
          ],
          [
           "Jusuf Nurkic"
          ],
          [
           "Juwan Howard"
          ],
          [
           "Juwan Morgan"
          ],
          [
           "KJ McDaniels"
          ],
          [
           "KZ Okpala"
          ],
          [
           "Kadeem Allen"
          ],
          [
           "Kalin Lucas"
          ],
          [
           "Kaniel Dickens"
          ],
          [
           "Kareem Rush"
          ],
          [
           "Karl Malone"
          ],
          [
           "Karl-Anthony Towns"
          ],
          [
           "Kasib Powell"
          ],
          [
           "Kawhi Leonard"
          ],
          [
           "Kay Felder"
          ],
          [
           "Kedrick Brown"
          ],
          [
           "Keita Bates-Diop"
          ],
          [
           "Keith Appling"
          ],
          [
           "Keith Askins"
          ],
          [
           "Keith Bogans"
          ],
          [
           "Keith Booth"
          ],
          [
           "Keith Closs"
          ],
          [
           "Keith McLeod"
          ],
          [
           "Keith Van Horn"
          ],
          [
           "Kelan Martin"
          ],
          [
           "Keldon Johnson"
          ],
          [
           "Kelenna Azubuike"
          ],
          [
           "Kelly Olynyk"
          ],
          [
           "Kelly Oubre Jr."
          ],
          [
           "Kelvin Cato"
          ],
          [
           "Kemba Walker"
          ],
          [
           "Kendall Gill"
          ],
          [
           "Kendall Marshall"
          ],
          [
           "Kendrick Nunn"
          ],
          [
           "Kendrick Perkins"
          ],
          [
           "Kenneth Faried"
          ],
          [
           "Kenny Anderson"
          ],
          [
           "Kenny Satterfield"
          ],
          [
           "Kenny Thomas"
          ],
          [
           "Kenrich Williams"
          ],
          [
           "Kent Bazemore"
          ],
          [
           "Kentavious Caldwell-Pope"
          ],
          [
           "Kenyon Martin"
          ],
          [
           "Keon Clark"
          ],
          [
           "Kerry Kittles"
          ],
          [
           "Kevin Burleson"
          ],
          [
           "Kevin Durant"
          ],
          [
           "Kevin Edwards"
          ],
          [
           "Kevin Garnett"
          ],
          [
           "Kevin Hervey"
          ],
          [
           "Kevin Huerter"
          ],
          [
           "Kevin Johnson"
          ],
          [
           "Kevin Knox II"
          ],
          [
           "Kevin Love"
          ],
          [
           "Kevin Martin"
          ],
          [
           "Kevin Murphy"
          ],
          [
           "Kevin Ollie"
          ],
          [
           "Kevin Porter Jr."
          ],
          [
           "Kevin Seraphin"
          ],
          [
           "Kevin Willis"
          ],
          [
           "Kevinn Pinkney"
          ],
          [
           "Kevon Looney"
          ],
          [
           "Keyon Dooling"
          ],
          [
           "Khalid El-Amin"
          ],
          [
           "Khalid Reeves"
          ],
          [
           "Khem Birch"
          ],
          [
           "Khris Middleton"
          ],
          [
           "Khyri Thomas"
          ],
          [
           "Kim English"
          ],
          [
           "Kirk Haston"
          ],
          [
           "Kirk Hinrich"
          ],
          [
           "Kirk Penney"
          ],
          [
           "Kirk Snyder"
          ],
          [
           "Kiwane Garris"
          ],
          [
           "Klay Thompson"
          ],
          [
           "Kobe Bryant"
          ],
          [
           "Kobi Simmons"
          ],
          [
           "Korleone Young"
          ],
          [
           "Kornel David"
          ],
          [
           "Kosta Koufos"
          ],
          [
           "Kostas Papanikolaou"
          ],
          [
           "Kris Dunn"
          ],
          [
           "Kris Humphries"
          ],
          [
           "Kris Joseph"
          ],
          [
           "Kristaps Porzingis"
          ],
          [
           "Kurt Thomas"
          ],
          [
           "Kwame Brown"
          ],
          [
           "Ky Bowman"
          ],
          [
           "Kyle Anderson"
          ],
          [
           "Kyle Collinsworth"
          ],
          [
           "Kyle Guy"
          ],
          [
           "Kyle Korver"
          ],
          [
           "Kyle Kuzma"
          ],
          [
           "Kyle Lowry"
          ],
          [
           "Kyle O'Quinn"
          ],
          [
           "Kyle Singler"
          ],
          [
           "Kyle Weaver"
          ],
          [
           "Kyle Wiltjer"
          ],
          [
           "Kyrie Irving"
          ],
          [
           "Kyrylo Fesenko"
          ],
          [
           "LaMarcus Aldridge"
          ],
          [
           "LaPhonso Ellis"
          ],
          [
           "Lamar Odom"
          ],
          [
           "Lamar Patterson"
          ],
          [
           "Lamond Murray"
          ],
          [
           "Lance Stephenson"
          ],
          [
           "Lance Thomas"
          ],
          [
           "Landry Fields"
          ],
          [
           "Landry Shamet"
          ],
          [
           "Langston Galloway"
          ],
          [
           "Laron Profit"
          ],
          [
           "Larry Drew II"
          ],
          [
           "Larry Hughes"
          ],
          [
           "Larry Johnson"
          ],
          [
           "Larry Nance Jr."
          ],
          [
           "Larry Owens"
          ],
          [
           "Larry Robinson"
          ],
          [
           "Larry Sanders"
          ],
          [
           "Latrell Sprewell"
          ],
          [
           "Lauri Markkanen"
          ],
          [
           "Lavor Postell"
          ],
          [
           "Lavoy Allen"
          ],
          [
           "Lawrence Funderburke"
          ],
          [
           "Lawrence Moten"
          ],
          [
           "Lawrence Roberts"
          ],
          [
           "Lazar Hayward"
          ],
          [
           "Lazaro Borrell"
          ],
          [
           "LeBron James"
          ],
          [
           "Leandro Barbosa"
          ],
          [
           "Ledell Eackles"
          ],
          [
           "Lee Mayberry"
          ],
          [
           "Lee Nailon"
          ],
          [
           "Leon Powe"
          ],
          [
           "Lester Hudson"
          ],
          [
           "Linas Kleiza"
          ],
          [
           "Lindsey Hunter"
          ],
          [
           "Linton Johnson"
          ],
          [
           "Lionel Chalmers"
          ],
          [
           "Litterial Green"
          ],
          [
           "Lloyd Daniels"
          ],
          [
           "London Perrantes"
          ],
          [
           "Lonnie Walker IV"
          ],
          [
           "Lonny Baxter"
          ],
          [
           "Lonzo Ball"
          ],
          [
           "Loren Meyer"
          ],
          [
           "Loren Woods"
          ],
          [
           "Lorenzen Wright"
          ],
          [
           "Lorenzo Brown"
          ],
          [
           "Lou Amundson"
          ],
          [
           "Lou Williams"
          ],
          [
           "Louis King"
          ],
          [
           "Loy Vaught"
          ],
          [
           "Luc Mbah a Moute"
          ],
          [
           "Lucas Nogueira"
          ],
          [
           "Lucious Harris"
          ],
          [
           "Luguentz Dort"
          ],
          [
           "Luis Flores"
          ],
          [
           "Luis Montero"
          ],
          [
           "Luis Scola"
          ],
          [
           "Luka Doncic"
          ],
          [
           "Luka Samanic"
          ],
          [
           "Luke Babbitt"
          ],
          [
           "Luke Harangody"
          ],
          [
           "Luke Jackson"
          ],
          [
           "Luke Kennard"
          ],
          [
           "Luke Kornet"
          ],
          [
           "Luke Ridnour"
          ],
          [
           "Luke Walton"
          ],
          [
           "Luke Zeller"
          ],
          [
           "Luol Deng"
          ],
          [
           "Luther Head"
          ],
          [
           "Lynn Greer"
          ],
          [
           "Maalik Wayns"
          ],
          [
           "Maceo Baston"
          ],
          [
           "Maciej Lampe"
          ],
          [
           "Mahmoud Abdul-Rauf"
          ],
          [
           "Malachi Richardson"
          ],
          [
           "Malcolm Brogdon"
          ],
          [
           "Malcolm Delaney"
          ],
          [
           "Malcolm Lee"
          ],
          [
           "Malcolm Miller"
          ],
          [
           "Malcolm Thomas"
          ],
          [
           "Malik Allen"
          ],
          [
           "Malik Beasley"
          ],
          [
           "Malik Hairston"
          ],
          [
           "Malik Monk"
          ],
          [
           "Malik Newman"
          ],
          [
           "Malik Rose"
          ],
          [
           "Malik Sealy"
          ],
          [
           "Mamadou N'diaye"
          ],
          [
           "Manny Harris"
          ],
          [
           "Manu Ginobili"
          ],
          [
           "MarShon Brooks"
          ],
          [
           "Marc Gasol"
          ],
          [
           "Marc Jackson"
          ],
          [
           "Marcelo Huertas"
          ],
          [
           "Marcin Gortat"
          ],
          [
           "Marco Belinelli"
          ],
          [
           "Marcus Banks"
          ],
          [
           "Marcus Brown"
          ],
          [
           "Marcus Camby"
          ],
          [
           "Marcus Derrickson"
          ],
          [
           "Marcus Fizer"
          ],
          [
           "Marcus Georges-Hunt"
          ],
          [
           "Marcus Haislip"
          ],
          [
           "Marcus Landry"
          ],
          [
           "Marcus Morris Sr."
          ],
          [
           "Marcus Paige"
          ],
          [
           "Marcus Smart"
          ],
          [
           "Marcus Thornton"
          ],
          [
           "Marcus Vinicius"
          ],
          [
           "Marcus Williams"
          ],
          [
           "Mardy Collins"
          ],
          [
           "Marial Shayok"
          ],
          [
           "Mario Bennett"
          ],
          [
           "Mario Chalmers"
          ],
          [
           "Mario Elie"
          ],
          [
           "Mario Hezonja"
          ],
          [
           "Mario Kasun"
          ],
          [
           "Mario West"
          ],
          [
           "Mark Blount"
          ],
          [
           "Mark Bryant"
          ],
          [
           "Mark Davis"
          ],
          [
           "Mark Hendrickson"
          ],
          [
           "Mark Jackson"
          ],
          [
           "Mark Jones"
          ],
          [
           "Mark Macon"
          ],
          [
           "Mark Madsen"
          ],
          [
           "Mark Pope"
          ],
          [
           "Mark Price"
          ],
          [
           "Mark Strickland"
          ],
          [
           "Markel Brown"
          ],
          [
           "Markelle Fultz"
          ],
          [
           "Markieff Morris"
          ],
          [
           "Marko Guduric"
          ],
          [
           "Marko Jaric"
          ],
          [
           "Marko Milic"
          ],
          [
           "Marlon Garnett"
          ],
          [
           "Marquese Chriss"
          ],
          [
           "Marquis Daniels"
          ],
          [
           "Marquis Teague"
          ],
          [
           "Marreese Speights"
          ],
          [
           "Martell Webster"
          ],
          [
           "Martin Muursepp"
          ],
          [
           "Marvin Bagley III"
          ],
          [
           "Marvin Williams"
          ],
          [
           "Mason Plumlee"
          ],
          [
           "Mateen Cleaves"
          ],
          [
           "Matisse Thybulle"
          ],
          [
           "Matt Barnes"
          ],
          [
           "Matt Bonner"
          ],
          [
           "Matt Bullard"
          ],
          [
           "Matt Carroll"
          ],
          [
           "Matt Freije"
          ],
          [
           "Matt Geiger"
          ],
          [
           "Matt Harpring"
          ],
          [
           "Matt Maloney"
          ],
          [
           "Matt Mooney"
          ],
          [
           "Matt Thomas"
          ],
          [
           "Matt Williams Jr."
          ],
          [
           "Matthew Dellavedova"
          ],
          [
           "Maurice Ager"
          ],
          [
           "Maurice Carter"
          ],
          [
           "Maurice Evans"
          ],
          [
           "Maurice Harkless"
          ],
          [
           "Maurice Ndour"
          ],
          [
           "Maurice Taylor"
          ],
          [
           "Max Strus"
          ],
          [
           "Maxi Kleber"
          ],
          [
           "Mehmet Okur"
          ],
          [
           "Melvin Ely"
          ],
          [
           "Melvin Frazier Jr."
          ],
          [
           "Melvin Sanders"
          ],
          [
           "Mengke Bateer"
          ],
          [
           "Metta World Peace"
          ],
          [
           "Meyers Leonard"
          ],
          [
           "Mfiondu Kabengele"
          ],
          [
           "Michael Beasley"
          ],
          [
           "Michael Bradley"
          ],
          [
           "Michael Cage"
          ],
          [
           "Michael Carter-Williams"
          ],
          [
           "Michael Curry"
          ],
          [
           "Michael Dickerson"
          ],
          [
           "Michael Doleac"
          ],
          [
           "Michael Finley"
          ],
          [
           "Michael Frazier"
          ],
          [
           "Michael Gbinije"
          ],
          [
           "Michael Hawkins"
          ],
          [
           "Michael Jordan"
          ],
          [
           "Michael Kidd-Gilchrist"
          ],
          [
           "Michael Olowokandi"
          ],
          [
           "Michael Porter Jr."
          ],
          [
           "Michael Redd"
          ],
          [
           "Michael Ruffin"
          ],
          [
           "Michael Smith"
          ],
          [
           "Michael Sweetney"
          ],
          [
           "Micheal Williams"
          ],
          [
           "Mickael Gelabale"
          ],
          [
           "Mickael Pietrus"
          ],
          [
           "Mikal Bridges"
          ],
          [
           "Mike Batiste"
          ],
          [
           "Mike Bibby"
          ],
          [
           "Mike Conley"
          ],
          [
           "Mike Dunleavy"
          ],
          [
           "Mike Harris"
          ],
          [
           "Mike James"
          ],
          [
           "Mike Miller"
          ],
          [
           "Mike Muscala"
          ],
          [
           "Mike Penberthy"
          ],
          [
           "Mike Scott"
          ],
          [
           "Mike Smith"
          ],
          [
           "Mike Taylor"
          ],
          [
           "Mike Wilks"
          ],
          [
           "Mikki Moore"
          ],
          [
           "Miles Bridges"
          ],
          [
           "Miles Simon"
          ],
          [
           "Milos Teodosic"
          ],
          [
           "Milt Palacio"
          ],
          [
           "Milton Doyle"
          ],
          [
           "Mindaugas Kuzminskas"
          ],
          [
           "Mirsad Turkcan"
          ],
          [
           "Mirza Teletovic"
          ],
          [
           "Mitch McGary"
          ],
          [
           "Mitch Richmond"
          ],
          [
           "Mitchell Butler"
          ],
          [
           "Mitchell Creek"
          ],
          [
           "Miye Oni"
          ],
          [
           "Mo Bamba"
          ],
          [
           "Mo Williams"
          ],
          [
           "Monta Ellis"
          ],
          [
           "Monte Morris"
          ],
          [
           "Montrezl Harrell"
          ],
          [
           "Monty Williams"
          ],
          [
           "Moochie Norris"
          ],
          [
           "Mookie Blaylock"
          ],
          [
           "Moritz Wagner"
          ],
          [
           "Morris Almond"
          ],
          [
           "Morris Peterson"
          ],
          [
           "Muggsy Bogues"
          ],
          [
           "Mustafa Shakur"
          ],
          [
           "Mychal Mulder"
          ],
          [
           "Mychel Thompson"
          ],
          [
           "Myke Henry"
          ],
          [
           "Myles Turner"
          ],
          [
           "Nando De Colo"
          ],
          [
           "Nassir Little"
          ],
          [
           "Nate McMillan"
          ],
          [
           "Nate Robinson"
          ],
          [
           "Nate Wolters"
          ],
          [
           "Nathan Jawai"
          ],
          [
           "Naz Mitrou-Long"
          ],
          [
           "Naz Reid"
          ],
          [
           "Nazr Mohammed"
          ],
          [
           "Ndudi Ebi"
          ],
          [
           "Negele Knight"
          ],
          [
           "Nemanja Bjelica"
          ],
          [
           "Nemanja Nedovic"
          ],
          [
           "Nenad Krstic"
          ],
          [
           "Nene"
          ],
          [
           "Nerlens Noel"
          ],
          [
           "Nick Anderson"
          ],
          [
           "Nick Calathes"
          ],
          [
           "Nick Collison"
          ],
          [
           "Nick Fazekas"
          ],
          [
           "Nick Johnson"
          ],
          [
           "Nick Van Exel"
          ],
          [
           "Nick Young"
          ],
          [
           "Nickeil Alexander-Walker"
          ],
          [
           "Nicolas Batum"
          ],
          [
           "Nicolas Brussino"
          ],
          [
           "Nicolas Claxton"
          ],
          [
           "Nicolas Laprovittola"
          ],
          [
           "Nicolo Melli"
          ],
          [
           "Nigel Hayes"
          ],
          [
           "Nigel Williams-Goss"
          ],
          [
           "Nik Stauskas"
          ],
          [
           "Nikola Jokic"
          ],
          [
           "Nikola Mirotic"
          ],
          [
           "Nikola Vucevic"
          ],
          [
           "Nikoloz Tskitishvili"
          ],
          [
           "Noah Vonleh"
          ],
          [
           "Noel Felix"
          ],
          [
           "Nolan Smith"
          ],
          [
           "Norman Powell"
          ],
          [
           "Norman Richardson"
          ],
          [
           "Norris Cole"
          ],
          [
           "O.J. Mayo"
          ],
          [
           "OG Anunoby"
          ],
          [
           "Obinna Ekezie"
          ],
          [
           "Okaro White"
          ],
          [
           "Olden Polynice"
          ],
          [
           "Oleksiy Pecherov"
          ],
          [
           "Oliver Lafayette"
          ],
          [
           "Oliver Miller"
          ],
          [
           "Omar Cook"
          ],
          [
           "Omari Johnson"
          ],
          [
           "Omari Spellman"
          ],
          [
           "Omer Asik"
          ],
          [
           "Omri Casspi"
          ],
          [
           "Orien Greene"
          ],
          [
           "Orlando Johnson"
          ],
          [
           "Oscar Torres"
          ],
          [
           "Oshae Brissett"
          ],
          [
           "Othella Harrington"
          ],
          [
           "Othyus Jeffers"
          ],
          [
           "Otis Thorpe"
          ],
          [
           "Otto Porter Jr."
          ],
          [
           "P.J. Brown"
          ],
          [
           "P.J. Tucker"
          ],
          [
           "P.J. Washington"
          ],
          [
           "PJ Dozier"
          ],
          [
           "PJ Hairston"
          ],
          [
           "Pablo Prigioni"
          ],
          [
           "Pape Sy"
          ],
          [
           "Pascal Siakam"
          ],
          [
           "Pat Burke"
          ],
          [
           "Pat Connaughton"
          ],
          [
           "Pat Garrity"
          ],
          [
           "Patricio Garino"
          ],
          [
           "Patrick Beverley"
          ],
          [
           "Patrick Christopher"
          ],
          [
           "Patrick Ewing"
          ],
          [
           "Patrick McCaw"
          ],
          [
           "Patrick O'Bryant"
          ],
          [
           "Patrick Patterson"
          ],
          [
           "Patty Mills"
          ],
          [
           "Pau Gasol"
          ],
          [
           "Paul Davis"
          ],
          [
           "Paul George"
          ],
          [
           "Paul McPherson"
          ],
          [
           "Paul Millsap"
          ],
          [
           "Paul Pierce"
          ],
          [
           "Paul Shirley"
          ],
          [
           "Paul Watson"
          ],
          [
           "Paul Zipser"
          ],
          [
           "Peja Stojakovic"
          ],
          [
           "Pepe Sanchez"
          ],
          [
           "Pero Antic"
          ],
          [
           "Perry Jones III"
          ],
          [
           "Pete Chilcutt"
          ],
          [
           "Peyton Siva"
          ],
          [
           "Phil Pressey"
          ],
          [
           "Pierre Jackson"
          ],
          [
           "Pooh Jeter"
          ],
          [
           "Pooh Richardson"
          ],
          [
           "Popeye Jones"
          ],
          [
           "Pops Mensah-Bonsu"
          ],
          [
           "Predrag Drobnjak"
          ],
          [
           "Predrag Savovic"
          ],
          [
           "Primoz Brezec"
          ],
          [
           "Quentin Richardson"
          ],
          [
           "Quincy Acy"
          ],
          [
           "Quincy Douby"
          ],
          [
           "Quincy Lewis"
          ],
          [
           "Quincy Miller"
          ],
          [
           "Quincy Pondexter"
          ],
          [
           "Quinn Cook"
          ],
          [
           "Quinndary Weatherspoon"
          ],
          [
           "Quinton Ross"
          ],
          [
           "Qyntel Woods"
          ],
          [
           "RJ Barrett"
          ],
          [
           "RJ Hunter"
          ],
          [
           "Raef LaFrentz"
          ],
          [
           "Rafael Araujo"
          ],
          [
           "Rafer Alston"
          ],
          [
           "Raja Bell"
          ],
          [
           "Rajon Rondo"
          ],
          [
           "Ramon Sessions"
          ],
          [
           "Randell Jackson"
          ],
          [
           "Randy Brown"
          ],
          [
           "Randy Foye"
          ],
          [
           "Randy Livingston"
          ],
          [
           "Rashad McCants"
          ],
          [
           "Rashad Vaughn"
          ],
          [
           "Rashard Lewis"
          ],
          [
           "Rasheed Wallace"
          ],
          [
           "Rasho Nesterovic"
          ],
          [
           "Rasual Butler"
          ],
          [
           "Raul Lopez"
          ],
          [
           "Raul Neto"
          ],
          [
           "Rawle Alkins"
          ],
          [
           "Rawle Marshall"
          ],
          [
           "Ray Allen"
          ],
          [
           "Ray McCallum"
          ],
          [
           "Ray Spalding"
          ],
          [
           "Rayjon Tucker"
          ],
          [
           "Raymond Felton"
          ],
          [
           "Reece Gaines"
          ],
          [
           "Reggie Bullock"
          ],
          [
           "Reggie Evans"
          ],
          [
           "Reggie Geary"
          ],
          [
           "Reggie Hearn"
          ],
          [
           "Reggie Jackson"
          ],
          [
           "Reggie Jordan"
          ],
          [
           "Reggie Miller"
          ],
          [
           "Reggie Williams"
          ],
          [
           "Renaldo Balkman"
          ],
          [
           "Rex Chapman"
          ],
          [
           "Rex Walters"
          ],
          [
           "Richard Hamilton"
          ],
          [
           "Richard Jefferson"
          ],
          [
           "Richaun Holmes"
          ],
          [
           "Richie Frahm"
          ],
          [
           "Rick Brunson"
          ],
          [
           "Rick Fox"
          ],
          [
           "Rick Hughes"
          ],
          [
           "Ricky Davis"
          ],
          [
           "Ricky Ledo"
          ],
          [
           "Ricky Pierce"
          ],
          [
           "Ricky Rubio"
          ],
          [
           "Rik Smits"
          ],
          [
           "Rob Kurz"
          ],
          [
           "Robbie Hummel"
          ],
          [
           "Robert Covington"
          ],
          [
           "Robert Hite"
          ],
          [
           "Robert Horry"
          ],
          [
           "Robert Pack"
          ],
          [
           "Robert Sacre"
          ],
          [
           "Robert Traylor"
          ],
          [
           "Robin Lopez"
          ],
          [
           "Rod Strickland"
          ],
          [
           "Rodions Kurucs"
          ],
          [
           "Rodney Buford"
          ],
          [
           "Rodney Carney"
          ],
          [
           "Rodney Hood"
          ],
          [
           "Rodney McGruder"
          ],
          [
           "Rodney Purvis"
          ],
          [
           "Rodney Rogers"
          ],
          [
           "Rodney Stuckey"
          ],
          [
           "Rodney White"
          ],
          [
           "Rodrick Rhodes"
          ],
          [
           "Rodrigue Beaubois"
          ],
          [
           "Roger Mason Jr."
          ],
          [
           "Roger Powell"
          ],
          [
           "Roko Ukic"
          ],
          [
           "Romeo Langford"
          ],
          [
           "Ron Baker"
          ],
          [
           "Ron Harper"
          ],
          [
           "Ron Mercer"
          ],
          [
           "Ronald Dupree"
          ],
          [
           "Rondae Hollis-Jefferson"
          ],
          [
           "Ronnie Brewer"
          ],
          [
           "Ronnie Price"
          ],
          [
           "Ronny Turiaf"
          ],
          [
           "Rony Seikaly"
          ],
          [
           "Roshown McLeod"
          ],
          [
           "Roy Hibbert"
          ],
          [
           "Roy Rogers"
          ],
          [
           "Royal Ivey"
          ],
          [
           "Royce O'Neale"
          ],
          [
           "Ruben Patterson"
          ],
          [
           "Ruben Wolkowyski"
          ],
          [
           "Rudy Fernandez"
          ],
          [
           "Rudy Gay"
          ],
          [
           "Rudy Gobert"
          ],
          [
           "Rui Hachimura"
          ],
          [
           "Russ Smith"
          ],
          [
           "Russell Westbrook"
          ],
          [
           "Rusty LaRue"
          ],
          [
           "Ryan Anderson"
          ],
          [
           "Ryan Arcidiacono"
          ],
          [
           "Ryan Bowen"
          ],
          [
           "Ryan Broekhoff"
          ],
          [
           "Ryan Gomes"
          ],
          [
           "Ryan Hollins"
          ],
          [
           "Ryan Humphrey"
          ],
          [
           "Ryan Kelly"
          ],
          [
           "Ryan Robertson"
          ],
          [
           "Ryan Stack"
          ],
          [
           "Salah Mejri"
          ],
          [
           "Salim Stoudamire"
          ],
          [
           "Sam Cassell"
          ],
          [
           "Sam Dekker"
          ],
          [
           "Sam Jacobson"
          ],
          [
           "Sam Mack"
          ],
          [
           "Sam Mitchell"
          ],
          [
           "Sam Perkins"
          ],
          [
           "Sam Young"
          ],
          [
           "Samaki Walker"
          ],
          [
           "Samardo Samuels"
          ],
          [
           "Samuel Dalembert"
          ],
          [
           "Sarunas Jasikevicius"
          ],
          [
           "Sasha Pavlovic"
          ],
          [
           "Sasha Vujacic"
          ],
          [
           "Scot Pollard"
          ],
          [
           "Scott Brooks"
          ],
          [
           "Scott Burrell"
          ],
          [
           "Scott Machado"
          ],
          [
           "Scott Padgett"
          ],
          [
           "Scott Williams"
          ],
          [
           "Scottie Pippen"
          ],
          [
           "Scotty Hopson"
          ],
          [
           "Sean Colson"
          ],
          [
           "Sean Elliott"
          ],
          [
           "Sean Higgins"
          ],
          [
           "Sean Kilpatrick"
          ],
          [
           "Sean Lampley"
          ],
          [
           "Sean Marks"
          ],
          [
           "Sean May"
          ],
          [
           "Sean Rooks"
          ],
          [
           "Sean Singletary"
          ],
          [
           "Sean Williams"
          ],
          [
           "Sebastian Telfair"
          ],
          [
           "Sekou Doumbouya"
          ],
          [
           "Semaj Christon"
          ],
          [
           "Semi Ojeleye"
          ],
          [
           "Serge Ibaka"
          ],
          [
           "Sergei Monia"
          ],
          [
           "Sergey Karasev"
          ],
          [
           "Sergio Rodriguez"
          ],
          [
           "Seth Curry"
          ],
          [
           "Shabazz Muhammad"
          ],
          [
           "Shabazz Napier"
          ],
          [
           "Shai Gilgeous-Alexander"
          ],
          [
           "Shake Milton"
          ],
          [
           "Shammond Williams"
          ],
          [
           "Shamorie Ponds"
          ],
          [
           "Shandon Anderson"
          ],
          [
           "Shane Battier"
          ],
          [
           "Shane Heal"
          ],
          [
           "Shane Larkin"
          ],
          [
           "Shannon Brown"
          ],
          [
           "Shaquille Harrison"
          ],
          [
           "Shaquille O'Neal"
          ],
          [
           "Shareef Abdur-Rahim"
          ],
          [
           "Shaun Livingston"
          ],
          [
           "Shavlik Randolph"
          ],
          [
           "Shawn Bradley"
          ],
          [
           "Shawn Kemp"
          ],
          [
           "Shawn Long"
          ],
          [
           "Shawn Marion"
          ],
          [
           "Shawn Respert"
          ],
          [
           "Shawne Williams"
          ],
          [
           "Shawnelle Scott"
          ],
          [
           "Shayne Whittington"
          ],
          [
           "Shea Seals"
          ],
          [
           "Shelden Williams"
          ],
          [
           "Sheldon Mac"
          ],
          [
           "Shelvin Mack"
          ],
          [
           "Sherman Douglas"
          ],
          [
           "Sherron Collins"
          ],
          [
           "Sindarius Thornwell"
          ],
          [
           "Skal Labissiere"
          ],
          [
           "Slava Medvedenko"
          ],
          [
           "Smush Parker"
          ],
          [
           "Solomon Hill"
          ],
          [
           "Solomon Jones"
          ],
          [
           "Sonny Weems"
          ],
          [
           "Speedy Claxton"
          ],
          [
           "Spencer Dinwiddie"
          ],
          [
           "Spencer Hawes"
          ],
          [
           "Spud Webb"
          ],
          [
           "Stacey Augmon"
          ],
          [
           "Stanley Johnson"
          ],
          [
           "Stanley Roberts"
          ],
          [
           "Stanton Kidd"
          ],
          [
           "Stephen Curry"
          ],
          [
           "Stephen Graham"
          ],
          [
           "Stephen Jackson"
          ],
          [
           "Stephon Marbury"
          ],
          [
           "Sterling Brown"
          ],
          [
           "Steve Blake"
          ],
          [
           "Steve Francis"
          ],
          [
           "Steve Goodrich"
          ],
          [
           "Steve Henson"
          ],
          [
           "Steve Kerr"
          ],
          [
           "Steve Nash"
          ],
          [
           "Steve Novak"
          ],
          [
           "Steven Adams"
          ],
          [
           "Steven Hunter"
          ],
          [
           "Steven Smith"
          ],
          [
           "Stromile Swift"
          ],
          [
           "Sun Sun"
          ],
          [
           "Sundiata Gaines"
          ],
          [
           "Svi Mykhailiuk"
          ],
          [
           "T.J. Ford"
          ],
          [
           "T.J. McConnell"
          ],
          [
           "T.J. Warren"
          ],
          [
           "TJ Leaf"
          ],
          [
           "Tahjere McCall"
          ],
          [
           "Taj Gibson"
          ],
          [
           "Talen Horton-Tucker"
          ],
          [
           "Tamar Slay"
          ],
          [
           "Tang Hamilton"
          ],
          [
           "Tarence Kinsey"
          ],
          [
           "Tarik Black"
          ],
          [
           "Tariq Abdul-Wahad"
          ],
          [
           "Tariq Owens"
          ],
          [
           "Taurean Green"
          ],
          [
           "Taurean Prince"
          ],
          [
           "Taylor Griffin"
          ],
          [
           "Tayshaun Prince"
          ],
          [
           "Terance Mann"
          ],
          [
           "Terence Davis"
          ],
          [
           "Terence Morris"
          ],
          [
           "Terrance Ferguson"
          ],
          [
           "Terrance Roberson"
          ],
          [
           "Terrel Harris"
          ],
          [
           "Terrell Brandon"
          ],
          [
           "Terrence Jones"
          ],
          [
           "Terrence Ross"
          ],
          [
           "Terrence Williams"
          ],
          [
           "Terry Cummings"
          ],
          [
           "Terry Davis"
          ],
          [
           "Terry Dehere"
          ],
          [
           "Terry Mills"
          ],
          [
           "Terry Porter"
          ],
          [
           "Terry Rozier"
          ],
          [
           "Thabo Sefolosha"
          ],
          [
           "Thaddeus Young"
          ],
          [
           "Thanasis Antetokounmpo"
          ],
          [
           "Theo Pinson"
          ],
          [
           "Theo Ratliff"
          ],
          [
           "Theron Smith"
          ],
          [
           "Thomas Bryant"
          ],
          [
           "Thomas Gardner"
          ],
          [
           "Thomas Robinson"
          ],
          [
           "Thomas Welsh"
          ],
          [
           "Thon Maker"
          ],
          [
           "Thurl Bailey"
          ],
          [
           "Tiago Splitter"
          ],
          [
           "Tibor Pleiss"
          ],
          [
           "Tierre Brown"
          ],
          [
           "Tim Breaux"
          ],
          [
           "Tim Duncan"
          ],
          [
           "Tim Frazier"
          ],
          [
           "Tim Hardaway"
          ],
          [
           "Tim Hardaway Jr."
          ],
          [
           "Tim James"
          ],
          [
           "Tim Legler"
          ],
          [
           "Tim Quarterman"
          ],
          [
           "Tim Thomas"
          ],
          [
           "Timofey Mozgov"
          ],
          [
           "Timothe Luwawu-Cabarrot"
          ],
          [
           "Tito Maddox"
          ],
          [
           "Tobias Harris"
          ],
          [
           "Toby Bailey"
          ],
          [
           "Todd Day"
          ],
          [
           "Todd Fuller"
          ],
          [
           "Tom Gugliotta"
          ],
          [
           "Tom Hammonds"
          ],
          [
           "Tomas Satoransky"
          ],
          [
           "Toney Douglas"
          ],
          [
           "Toni Kukoc"
          ],
          [
           "Tony Allen"
          ],
          [
           "Tony Battie"
          ],
          [
           "Tony Bobbitt"
          ],
          [
           "Tony Bradley"
          ],
          [
           "Tony Delk"
          ],
          [
           "Tony Dumas"
          ],
          [
           "Tony Farmer"
          ],
          [
           "Tony Massenburg"
          ],
          [
           "Tony Mitchell"
          ],
          [
           "Tony Parker"
          ],
          [
           "Tony Smith"
          ],
          [
           "Tony Snell"
          ],
          [
           "Tony Wroten"
          ],
          [
           "Tornike Shengelia"
          ],
          [
           "Torrey Craig"
          ],
          [
           "Toure' Murry"
          ],
          [
           "Tracy McGrady"
          ],
          [
           "Tracy Murray"
          ],
          [
           "Trae Young"
          ],
          [
           "Trajan Langdon"
          ],
          [
           "Travis Best"
          ],
          [
           "Travis Diener"
          ],
          [
           "Travis Hansen"
          ],
          [
           "Travis Knight"
          ],
          [
           "Travis Outlaw"
          ],
          [
           "Travis Wear"
          ],
          [
           "Travis Williams"
          ],
          [
           "Tremaine Fowlkes"
          ],
          [
           "Tremont Waters"
          ],
          [
           "Trenton Hassell"
          ],
          [
           "Treveon Graham"
          ],
          [
           "Trevon Duval"
          ],
          [
           "Trevor Ariza"
          ],
          [
           "Trevor Booker"
          ],
          [
           "Trey Burke"
          ],
          [
           "Trey Johnson"
          ],
          [
           "Trey Lyles"
          ],
          [
           "Trey Thompkins"
          ],
          [
           "Tristan Thompson"
          ],
          [
           "Troy Bell"
          ],
          [
           "Troy Brown Jr."
          ],
          [
           "Troy Caupain"
          ],
          [
           "Troy Daniels"
          ],
          [
           "Troy Hudson"
          ],
          [
           "Troy Murphy"
          ],
          [
           "Troy Williams"
          ],
          [
           "Ty Jerome"
          ],
          [
           "Ty Lawson"
          ],
          [
           "Tyler Cavanaugh"
          ],
          [
           "Tyler Dorsey"
          ],
          [
           "Tyler Ennis"
          ],
          [
           "Tyler Hansbrough"
          ],
          [
           "Tyler Herro"
          ],
          [
           "Tyler Honeycutt"
          ],
          [
           "Tyler Johnson"
          ],
          [
           "Tyler Lydon"
          ],
          [
           "Tyler Ulis"
          ],
          [
           "Tyler Zeller"
          ],
          [
           "Tyreke Evans"
          ],
          [
           "Tyrone Corbin"
          ],
          [
           "Tyrone Hill"
          ],
          [
           "Tyrone Nesby"
          ],
          [
           "Tyrone Wallace"
          ],
          [
           "Tyronn Lue"
          ],
          [
           "Tyrus Thomas"
          ],
          [
           "Tyshawn Taylor"
          ],
          [
           "Tyson Chandler"
          ],
          [
           "Tyson Wheeler"
          ],
          [
           "Tyus Edney"
          ],
          [
           "Tyus Jones"
          ],
          [
           "Udonis Haslem"
          ],
          [
           "Uros Slokar"
          ],
          [
           "Vander Blue"
          ],
          [
           "Vassilis Spanoulis"
          ],
          [
           "Vernon Maxwell"
          ],
          [
           "Vic Law"
          ],
          [
           "Victor Alexander"
          ],
          [
           "Victor Claver"
          ],
          [
           "Victor Oladipo"
          ],
          [
           "Viktor Khryapa"
          ],
          [
           "Vin Baker"
          ],
          [
           "Vince Carter"
          ],
          [
           "Vincent Askew"
          ],
          [
           "Vincent Edwards"
          ],
          [
           "Vincent Poirier"
          ],
          [
           "Vincent Yarbrough"
          ],
          [
           "Vinny Del Negro"
          ],
          [
           "Vitaly Potapenko"
          ],
          [
           "Vitor Faverani"
          ],
          [
           "Vlade Divac"
          ],
          [
           "Vladimir Radmanovic"
          ],
          [
           "Vladimir Stepania"
          ],
          [
           "Vlatko Cancar"
          ],
          [
           "Von Wafer"
          ],
          [
           "Vonteego Cummings"
          ],
          [
           "Voshon Lenard"
          ],
          [
           "Wade Baldwin IV"
          ],
          [
           "Walker Russell"
          ],
          [
           "Wally Szczerbiak"
          ],
          [
           "Walt Lemon Jr."
          ],
          [
           "Walt Williams"
          ],
          [
           "Walter Herrmann"
          ],
          [
           "Walter McCarty"
          ],
          [
           "Walter Sharpe"
          ],
          [
           "Wang Zhi-zhi"
          ],
          [
           "Wayne Ellington"
          ],
          [
           "Wayne Selden"
          ],
          [
           "Wendell Carter Jr."
          ],
          [
           "Wenyen Gabriel"
          ],
          [
           "Wes Iwundu"
          ],
          [
           "Wesley Johnson"
          ],
          [
           "Wesley Matthews"
          ],
          [
           "Wesley Person"
          ],
          [
           "Will Barton"
          ],
          [
           "Will Blalock"
          ],
          [
           "Will Bynum"
          ],
          [
           "Will Cherry"
          ],
          [
           "Will Conroy"
          ],
          [
           "Will Perdue"
          ],
          [
           "Will Solomon"
          ],
          [
           "William Avery"
          ],
          [
           "William Howard"
          ],
          [
           "Willie Burton"
          ],
          [
           "Willie Cauley-Stein"
          ],
          [
           "Willie Green"
          ],
          [
           "Willie Reed"
          ],
          [
           "Willie Warren"
          ],
          [
           "Willy Hernangomez"
          ],
          [
           "Wilson Chandler"
          ],
          [
           "Xavier Henry"
          ],
          [
           "Xavier Munford"
          ],
          [
           "Xavier Rathan-Mayes"
          ],
          [
           "Xavier Silas"
          ],
          [
           "Yakhouba Diawara"
          ],
          [
           "Yante Maten"
          ],
          [
           "Yao Ming"
          ],
          [
           "Yaroslav Korolev"
          ],
          [
           "Yi Jianlian"
          ],
          [
           "Yogi Ferrell"
          ],
          [
           "Yuta Tabuse"
          ],
          [
           "Yuta Watanabe"
          ],
          [
           "Zabian Dowdell"
          ],
          [
           "Zach Collins"
          ],
          [
           "Zach LaVine"
          ],
          [
           "Zach Lofton"
          ],
          [
           "Zach Norvell Jr."
          ],
          [
           "Zach Randolph"
          ],
          [
           "Zan Tabak"
          ],
          [
           "Zarko Cabarkapa"
          ],
          [
           "Zaza Pachulia"
          ],
          [
           "Zhaire Smith"
          ],
          [
           "Zhou Qi"
          ],
          [
           "Zion Williamson"
          ],
          [
           "Zoran Dragic"
          ],
          [
           "Zoran Planinic"
          ],
          [
           "Zydrunas Ilgauskas"
          ],
          [
           "Zylan Cheatham"
          ]
         ],
         "hovertemplate": "shooting_percentage=%{x}<br>Attempts=%{y}<br>Player Name=%{customdata[0]}<br>cluster=%{marker.color}<extra></extra>",
         "legendgroup": "",
         "marker": {
          "color": [
           4,
           1,
           5,
           1,
           1,
           1,
           0,
           3,
           1,
           0,
           3,
           4,
           3,
           3,
           3,
           0,
           3,
           3,
           3,
           0,
           0,
           0,
           3,
           3,
           1,
           1,
           4,
           3,
           1,
           1,
           0,
           2,
           3,
           3,
           1,
           3,
           1,
           3,
           3,
           3,
           3,
           3,
           1,
           3,
           3,
           5,
           1,
           1,
           1,
           1,
           3,
           3,
           0,
           5,
           3,
           4,
           3,
           0,
           3,
           4,
           0,
           3,
           3,
           4,
           0,
           4,
           0,
           3,
           1,
           3,
           3,
           3,
           1,
           3,
           1,
           0,
           0,
           0,
           3,
           3,
           3,
           0,
           3,
           1,
           1,
           0,
           3,
           3,
           1,
           3,
           1,
           3,
           5,
           3,
           3,
           3,
           3,
           3,
           3,
           0,
           4,
           1,
           1,
           1,
           3,
           1,
           1,
           0,
           0,
           1,
           3,
           3,
           3,
           3,
           0,
           0,
           3,
           5,
           0,
           3,
           0,
           3,
           3,
           1,
           5,
           3,
           3,
           3,
           3,
           1,
           1,
           0,
           3,
           3,
           3,
           3,
           4,
           1,
           0,
           1,
           2,
           3,
           1,
           4,
           3,
           4,
           3,
           2,
           0,
           0,
           5,
           0,
           3,
           3,
           0,
           2,
           3,
           3,
           1,
           3,
           4,
           3,
           3,
           3,
           3,
           1,
           3,
           1,
           3,
           1,
           1,
           1,
           0,
           3,
           1,
           3,
           1,
           3,
           3,
           3,
           3,
           1,
           4,
           3,
           0,
           3,
           3,
           3,
           4,
           1,
           1,
           1,
           3,
           1,
           1,
           3,
           3,
           0,
           1,
           3,
           0,
           0,
           3,
           3,
           3,
           4,
           3,
           3,
           3,
           4,
           0,
           0,
           0,
           1,
           3,
           1,
           3,
           3,
           0,
           3,
           4,
           3,
           3,
           3,
           3,
           1,
           3,
           0,
           1,
           1,
           3,
           3,
           3,
           1,
           1,
           0,
           3,
           1,
           0,
           0,
           1,
           0,
           1,
           3,
           1,
           1,
           0,
           3,
           3,
           3,
           3,
           0,
           1,
           0,
           1,
           3,
           3,
           3,
           1,
           3,
           3,
           1,
           0,
           3,
           0,
           0,
           3,
           1,
           1,
           3,
           3,
           0,
           0,
           0,
           3,
           3,
           3,
           1,
           1,
           1,
           1,
           3,
           1,
           3,
           0,
           0,
           0,
           0,
           0,
           3,
           3,
           3,
           3,
           3,
           1,
           1,
           1,
           3,
           3,
           2,
           1,
           0,
           3,
           3,
           4,
           3,
           3,
           4,
           3,
           0,
           3,
           3,
           1,
           1,
           0,
           3,
           3,
           0,
           3,
           3,
           1,
           4,
           0,
           3,
           3,
           3,
           4,
           1,
           1,
           3,
           0,
           3,
           1,
           2,
           1,
           3,
           1,
           3,
           3,
           1,
           5,
           3,
           3,
           3,
           0,
           4,
           3,
           0,
           0,
           0,
           3,
           5,
           3,
           3,
           1,
           3,
           4,
           0,
           0,
           1,
           1,
           1,
           5,
           3,
           0,
           3,
           3,
           3,
           3,
           1,
           3,
           1,
           3,
           4,
           1,
           0,
           3,
           1,
           3,
           3,
           0,
           1,
           3,
           3,
           1,
           1,
           3,
           1,
           3,
           4,
           3,
           1,
           3,
           3,
           1,
           3,
           0,
           3,
           1,
           3,
           0,
           1,
           1,
           3,
           3,
           3,
           1,
           0,
           1,
           3,
           1,
           0,
           0,
           1,
           3,
           0,
           3,
           0,
           3,
           1,
           3,
           3,
           3,
           3,
           4,
           3,
           3,
           3,
           0,
           3,
           3,
           0,
           5,
           4,
           0,
           0,
           1,
           3,
           3,
           1,
           3,
           3,
           1,
           3,
           0,
           3,
           3,
           4,
           3,
           3,
           1,
           0,
           1,
           3,
           4,
           1,
           0,
           0,
           5,
           0,
           1,
           1,
           3,
           1,
           3,
           3,
           0,
           3,
           3,
           0,
           0,
           1,
           1,
           1,
           1,
           3,
           3,
           1,
           1,
           3,
           3,
           0,
           1,
           3,
           1,
           3,
           0,
           3,
           3,
           3,
           1,
           3,
           3,
           3,
           3,
           3,
           3,
           3,
           3,
           1,
           3,
           0,
           0,
           1,
           0,
           0,
           1,
           3,
           0,
           3,
           0,
           3,
           0,
           3,
           0,
           1,
           3,
           1,
           3,
           1,
           3,
           0,
           0,
           3,
           3,
           0,
           3,
           0,
           3,
           0,
           4,
           0,
           1,
           3,
           3,
           1,
           0,
           3,
           5,
           1,
           1,
           1,
           3,
           1,
           1,
           3,
           0,
           1,
           1,
           3,
           5,
           3,
           0,
           0,
           1,
           1,
           3,
           3,
           4,
           3,
           4,
           3,
           3,
           3,
           3,
           0,
           3,
           3,
           3,
           4,
           3,
           0,
           3,
           1,
           1,
           3,
           1,
           3,
           5,
           3,
           3,
           3,
           5,
           4,
           0,
           3,
           3,
           3,
           3,
           3,
           3,
           0,
           3,
           0,
           1,
           3,
           1,
           1,
           3,
           2,
           5,
           3,
           3,
           1,
           0,
           0,
           3,
           3,
           3,
           4,
           3,
           3,
           5,
           0,
           0,
           1,
           4,
           0,
           1,
           3,
           2,
           3,
           3,
           4,
           1,
           3,
           1,
           3,
           3,
           3,
           3,
           3,
           1,
           3,
           0,
           1,
           3,
           1,
           3,
           1,
           1,
           3,
           3,
           3,
           1,
           1,
           1,
           3,
           4,
           1,
           1,
           3,
           1,
           3,
           0,
           3,
           3,
           1,
           3,
           3,
           3,
           3,
           1,
           3,
           3,
           1,
           0,
           1,
           3,
           3,
           4,
           0,
           1,
           3,
           1,
           3,
           3,
           0,
           0,
           3,
           1,
           0,
           3,
           3,
           3,
           0,
           3,
           4,
           4,
           2,
           0,
           1,
           3,
           0,
           4,
           0,
           0,
           2,
           0,
           0,
           0,
           1,
           0,
           0,
           0,
           3,
           0,
           3,
           1,
           3,
           3,
           0,
           1,
           1,
           4,
           1,
           0,
           0,
           3,
           3,
           1,
           3,
           0,
           0,
           3,
           0,
           5,
           3,
           1,
           3,
           4,
           3,
           3,
           3,
           3,
           1,
           0,
           3,
           1,
           3,
           1,
           3,
           3,
           4,
           0,
           0,
           5,
           4,
           1,
           0,
           1,
           0,
           3,
           3,
           4,
           1,
           1,
           3,
           3,
           3,
           0,
           3,
           1,
           3,
           0,
           4,
           0,
           3,
           0,
           5,
           3,
           1,
           0,
           3,
           3,
           0,
           3,
           4,
           3,
           3,
           0,
           3,
           3,
           5,
           4,
           3,
           1,
           1,
           1,
           0,
           2,
           3,
           1,
           3,
           0,
           1,
           3,
           0,
           3,
           1,
           3,
           1,
           3,
           3,
           1,
           1,
           3,
           5,
           3,
           3,
           3,
           3,
           1,
           3,
           4,
           1,
           3,
           1,
           0,
           3,
           3,
           3,
           3,
           3,
           1,
           1,
           3,
           0,
           0,
           1,
           3,
           3,
           4,
           3,
           4,
           3,
           4,
           3,
           1,
           1,
           4,
           0,
           1,
           3,
           1,
           4,
           1,
           3,
           3,
           3,
           3,
           2,
           3,
           3,
           1,
           0,
           3,
           0,
           1,
           2,
           4,
           3,
           0,
           3,
           1,
           3,
           3,
           3,
           3,
           3,
           0,
           3,
           3,
           3,
           3,
           5,
           0,
           3,
           1,
           1,
           3,
           3,
           0,
           3,
           4,
           0,
           3,
           0,
           0,
           0,
           0,
           3,
           0,
           0,
           1,
           1,
           3,
           1,
           1,
           0,
           3,
           1,
           5,
           3,
           4,
           1,
           3,
           0,
           3,
           3,
           1,
           1,
           1,
           1,
           0,
           0,
           0,
           4,
           3,
           0,
           1,
           4,
           4,
           4,
           3,
           3,
           0,
           0,
           3,
           3,
           3,
           3,
           3,
           3,
           3,
           3,
           3,
           1,
           3,
           4,
           1,
           3,
           0,
           4,
           3,
           3,
           3,
           3,
           4,
           3,
           3,
           3,
           3,
           3,
           1,
           1,
           3,
           3,
           3,
           0,
           0,
           1,
           1,
           1,
           1,
           0,
           5,
           3,
           3,
           0,
           1,
           5,
           3,
           0,
           1,
           0,
           5,
           3,
           3,
           3,
           3,
           1,
           3,
           3,
           1,
           3,
           3,
           3,
           3,
           1,
           0,
           3,
           1,
           1,
           3,
           3,
           1,
           3,
           3,
           3,
           3,
           3,
           3,
           1,
           3,
           3,
           0,
           3,
           3,
           1,
           1,
           3,
           0,
           0,
           5,
           2,
           3,
           0,
           4,
           0,
           3,
           0,
           3,
           0,
           3,
           1,
           3,
           1,
           1,
           1,
           3,
           3,
           3,
           0,
           3,
           1,
           0,
           0,
           3,
           1,
           1,
           3,
           3,
           1,
           1,
           4,
           1,
           3,
           3,
           1,
           2,
           4,
           3,
           3,
           3,
           1,
           1,
           1,
           3,
           2,
           1,
           0,
           1,
           3,
           3,
           0,
           1,
           0,
           1,
           1,
           1,
           0,
           3,
           1,
           4,
           4,
           5,
           0,
           3,
           3,
           3,
           0,
           1,
           3,
           3,
           0,
           1,
           3,
           3,
           3,
           1,
           1,
           3,
           3,
           0,
           4,
           3,
           3,
           3,
           0,
           1,
           3,
           0,
           3,
           3,
           3,
           0,
           1,
           1,
           1,
           3,
           3,
           3,
           3,
           1,
           0,
           3,
           3,
           3,
           3,
           3,
           3,
           3,
           3,
           1,
           1,
           3,
           3,
           3,
           3,
           3,
           3,
           1,
           0,
           1,
           1,
           3,
           0,
           4,
           0,
           4,
           3,
           0,
           1,
           1,
           3,
           3,
           0,
           4,
           3,
           1,
           1,
           3,
           3,
           0,
           3,
           0,
           3,
           0,
           1,
           0,
           0,
           0,
           0,
           2,
           1,
           3,
           0,
           3,
           3,
           3,
           3,
           5,
           3,
           3,
           1,
           0,
           1,
           3,
           3,
           1,
           1,
           3,
           3,
           0,
           1,
           1,
           3,
           3,
           3,
           3,
           3,
           3,
           1,
           3,
           3,
           3,
           0,
           0,
           1,
           0,
           1,
           0,
           0,
           3,
           2,
           3,
           1,
           3,
           1,
           0,
           3,
           0,
           1,
           3,
           0,
           0,
           1,
           0,
           3,
           3,
           3,
           1,
           3,
           1,
           1,
           3,
           3,
           3,
           3,
           5,
           1,
           3,
           1,
           0,
           4,
           3,
           4,
           0,
           0,
           3,
           0,
           3,
           4,
           0,
           3,
           3,
           3,
           3,
           3,
           3,
           3,
           3,
           3,
           3,
           3,
           0,
           3,
           1,
           3,
           3,
           1,
           4,
           3,
           3,
           1,
           1,
           1,
           3,
           3,
           4,
           3,
           1,
           0,
           1,
           3,
           3,
           3,
           3,
           3,
           3,
           0,
           0,
           0,
           1,
           1,
           4,
           3,
           5,
           3,
           1,
           3,
           3,
           3,
           4,
           0,
           3,
           3,
           1,
           0,
           1,
           3,
           0,
           3,
           3,
           3,
           0,
           3,
           1,
           4,
           4,
           2,
           0,
           3,
           1,
           1,
           3,
           1,
           1,
           1,
           0,
           1,
           1,
           3,
           3,
           3,
           0,
           3,
           3,
           0,
           1,
           0,
           1,
           3,
           3,
           3,
           0,
           1,
           0,
           1,
           3,
           0,
           0,
           3,
           1,
           1,
           3,
           4,
           4,
           3,
           1,
           3,
           3,
           1,
           3,
           0,
           1,
           1,
           3,
           3,
           3,
           3,
           3,
           1,
           3,
           2,
           3,
           1,
           4,
           0,
           0,
           1,
           0,
           0,
           0,
           3,
           1,
           3,
           3,
           0,
           3,
           1,
           1,
           1,
           1,
           3,
           0,
           3,
           1,
           3,
           0,
           1,
           1,
           1,
           1,
           3,
           3,
           3,
           3,
           1,
           5,
           3,
           1,
           1,
           0,
           3,
           3,
           3,
           5,
           4,
           0,
           3,
           3,
           0,
           3,
           0,
           3,
           3,
           3,
           0,
           0,
           2,
           1,
           4,
           1,
           1,
           3,
           1,
           3,
           0,
           1,
           3,
           3,
           1,
           0,
           1,
           0,
           0,
           3,
           4,
           1,
           1,
           3,
           0,
           1,
           0,
           3,
           1,
           0,
           0,
           3,
           1,
           0,
           1,
           3,
           3,
           3,
           3,
           3,
           0,
           0,
           3,
           4,
           3,
           0,
           0,
           1,
           3,
           3,
           3,
           3,
           3,
           3,
           0,
           3,
           3,
           1,
           3,
           3,
           3,
           1,
           1,
           3,
           3,
           0,
           0,
           1,
           3,
           1,
           3,
           1,
           1,
           4,
           1,
           3,
           3,
           3,
           3,
           1,
           3,
           0,
           0,
           1,
           3,
           1,
           4,
           3,
           5,
           1,
           3,
           1,
           1,
           0,
           1,
           3,
           3,
           3,
           3,
           3,
           3,
           1,
           0,
           1,
           3,
           3,
           3,
           0,
           3,
           3,
           1,
           3,
           3,
           3,
           0,
           0,
           3,
           3,
           3,
           3,
           3,
           1,
           3,
           1,
           3,
           3,
           3,
           0,
           3,
           1,
           0,
           0,
           3,
           3,
           3,
           3,
           3,
           3,
           3,
           3,
           4,
           2,
           0,
           3,
           0,
           3,
           3,
           0,
           0,
           1,
           1,
           0,
           3,
           0,
           1,
           3,
           1,
           3,
           0,
           1,
           3,
           0,
           0,
           3,
           0,
           0,
           3,
           1,
           3,
           3,
           3,
           1,
           3,
           3,
           3,
           2,
           0,
           4,
           3,
           3,
           1,
           4,
           3,
           3,
           5,
           3,
           4,
           1,
           0,
           0,
           3,
           0,
           1,
           0,
           0,
           3,
           0,
           3,
           0,
           3,
           3,
           0,
           3,
           3,
           3,
           3,
           3,
           1,
           3,
           1,
           3,
           1,
           3,
           5,
           3,
           1,
           3,
           3,
           3,
           3,
           4,
           3,
           4,
           0,
           4,
           3,
           3,
           3,
           3,
           1,
           0,
           0,
           0,
           0,
           3,
           3,
           3,
           0,
           3,
           3,
           0,
           1,
           3,
           4,
           3,
           0,
           1,
           3,
           0,
           4,
           3,
           4,
           0,
           1,
           3,
           1,
           1,
           3,
           1,
           1,
           3,
           3,
           3,
           1,
           1,
           2,
           2,
           1,
           4,
           0,
           3,
           1,
           3,
           3,
           3,
           3,
           0,
           0,
           0,
           3,
           4,
           3,
           4,
           3,
           0,
           0,
           1,
           0,
           3,
           3,
           1,
           3,
           1,
           0,
           0,
           3,
           3,
           1,
           3,
           5,
           0,
           3,
           3,
           1,
           1,
           3,
           3,
           0,
           3,
           4,
           3,
           3,
           3,
           2,
           3,
           3,
           0,
           4,
           0,
           3,
           3,
           0,
           3,
           1,
           1,
           3,
           3,
           3,
           1,
           0,
           1,
           0,
           1,
           0,
           3,
           0,
           3,
           0,
           3,
           1,
           1,
           3,
           0,
           5,
           5,
           1,
           5,
           0,
           4,
           5,
           3,
           0,
           1,
           1,
           0,
           3,
           3,
           1,
           1,
           1,
           3,
           3,
           1,
           3,
           3,
           3,
           3,
           0,
           0,
           3,
           3,
           3,
           5,
           1,
           3,
           1,
           3,
           1,
           3,
           3,
           0,
           3,
           5,
           1,
           1,
           1,
           3,
           3,
           3,
           3,
           1,
           3,
           0,
           1,
           0,
           1,
           3,
           3,
           3,
           3,
           3,
           4,
           1,
           3,
           3,
           3,
           3,
           4,
           5,
           3,
           3,
           0,
           5,
           3,
           0,
           1,
           0,
           0,
           3,
           1,
           3,
           0,
           1,
           0,
           3,
           5,
           3,
           3,
           0,
           3,
           3,
           1,
           0,
           0,
           3,
           3,
           1,
           3,
           3,
           3,
           5,
           1,
           3,
           3,
           0,
           3,
           1,
           3,
           0,
           3,
           3,
           1,
           1,
           1,
           1,
           3,
           3,
           3,
           0,
           4,
           3,
           3,
           0,
           3,
           0,
           3,
           3,
           3,
           3,
           1,
           3,
           3,
           0,
           0,
           3,
           0,
           0,
           3,
           3,
           1,
           5,
           3,
           3,
           3,
           1,
           0,
           3,
           3,
           0,
           3,
           2,
           3,
           0,
           3,
           3,
           3,
           3,
           0
          ],
          "coloraxis": "coloraxis",
          "symbol": "circle"
         },
         "mode": "markers",
         "name": "",
         "showlegend": false,
         "type": "scattergl",
         "x": [
          0.045454545454545456,
          0.375,
          0.5,
          0.31869688385269124,
          0.36769759450171824,
          0.3191948238677211,
          0,
          0.21818181818181817,
          0.37349397590361444,
          0.16666666666666666,
          0.3528816986855409,
          0.06666666666666667,
          0.34306569343065696,
          0.23076923076923078,
          0.35714285714285715,
          0.125,
          0.4,
          0.32891246684350134,
          0.2978723404255319,
          0,
          0,
          0.2,
          0.2542372881355932,
          0.2756756756756757,
          0.3504689128169503,
          0.36768802228412256,
          0.11940298507462686,
          0.2932330827067669,
          0.34142212189616256,
          0.3465346534653465,
          0.20833333333333334,
          0,
          0.29411764705882354,
          0.3592057761732852,
          0.3103448275862069,
          0.23076923076923078,
          0.36698717948717946,
          0.32,
          0.375,
          0.2777777777777778,
          0.3298245614035088,
          0.3584905660377358,
          0.3068181818181818,
          0.2857142857142857,
          0.3080357142857143,
          0.5,
          0.40117994100294985,
          0.41379310344827586,
          0.3870967741935484,
          0.3108353510895884,
          0.3837837837837838,
          0.32517482517482516,
          0.08333333333333333,
          1,
          0.3130311614730878,
          0,
          0.23776223776223776,
          0.14285714285714285,
          0.32628398791540786,
          0.02127659574468085,
          0,
          0.23423423423423423,
          0.2463768115942029,
          0,
          0.16666666666666666,
          0.14285714285714285,
          0,
          0.3364215402431963,
          0.4166666666666667,
          0.2275132275132275,
          0.375,
          0.2679324894514768,
          0.35365853658536583,
          0.3057583130575831,
          0.37265577737447064,
          0.10714285714285714,
          0.1111111111111111,
          0,
          0.3125,
          0.3368421052631579,
          0.2976190476190476,
          0,
          0.3210332103321033,
          0.3673469387755102,
          0.33232077764277035,
          0,
          0.25,
          0.3210059171597633,
          0.336,
          0.27586206896551724,
          0.34557784684939247,
          0.2608695652173913,
          0.6,
          0.2857142857142857,
          0.24489795918367346,
          0.31738035264483627,
          0.367003367003367,
          0.3333333333333333,
          0.3521531100478469,
          0.1,
          0,
          0.41619682214249104,
          0.4045016077170418,
          0.38388324873096447,
          0.24096385542168675,
          0.36486486486486486,
          0.37401918047079336,
          0,
          0.2,
          0.3270440251572327,
          0.3091247672253259,
          0.35664335664335667,
          0.23529411764705882,
          0.3150039277297722,
          0,
          0.041666666666666664,
          0.30434782608695654,
          0.6,
          0,
          0.23684210526315788,
          0,
          0.4,
          0.33797909407665505,
          0.3836283185840708,
          0.6666666666666666,
          0.25,
          0.2679425837320574,
          0.34156976744186046,
          0.34953271028037386,
          0.3509933774834437,
          0.3607967406066093,
          0.10714285714285714,
          0.25,
          0.3181818181818182,
          0.36904761904761907,
          0.3076923076923077,
          0.1111111111111111,
          0.32215218370103554,
          0,
          0.40012970168612194,
          0,
          0.23076923076923078,
          0.3627450980392157,
          0.08333333333333333,
          0.3333333333333333,
          0.11475409836065574,
          0.3437722419928826,
          0,
          0.16129032258064516,
          0.2222222222222222,
          1,
          0,
          0.3333333333333333,
          0.2962962962962963,
          0.2094240837696335,
          0,
          0.25,
          0.3125,
          0.3341288782816229,
          0.3384615384615385,
          0.15,
          0.3252788104089219,
          0.2857142857142857,
          0.321656050955414,
          0.22727272727272727,
          0.3477434679334917,
          0.3064516129032258,
          0.3730964467005076,
          0.36220472440944884,
          0.39546858908341914,
          0.3700277520814061,
          0.39100932994062765,
          0,
          0.3225371120107962,
          0.23809523809523808,
          0.33633440514469454,
          0.3747276688453159,
          0.32432432432432434,
          0.2857142857142857,
          0.32653061224489793,
          0.38461538461538464,
          0.3785086475758435,
          0,
          0.32894736842105265,
          0.2033898305084746,
          0.40384615384615385,
          0.22727272727272727,
          0.3010752688172043,
          0,
          0.3578231292517007,
          0.3416331014280483,
          0.3535554450522128,
          0.2777777777777778,
          0.34643226473629785,
          0.40167046317388005,
          0.3793103448275862,
          0.3,
          0,
          0.40941690053009044,
          0.38498789346246975,
          0.13445378151260504,
          0,
          0.37349397590361444,
          0.3800841514726508,
          0.33,
          0.125,
          0.3534201954397394,
          0.3528368794326241,
          0.3166397415185784,
          0.2857142857142857,
          0.19230769230769232,
          0,
          0.0625,
          0.33622291021671824,
          0.3,
          0.3973376361436063,
          0.29896907216494845,
          0.31413612565445026,
          0.13513513513513514,
          0.20833333333333334,
          0.07692307692307693,
          0.3326923076923077,
          0.30434782608695654,
          0.375,
          0.3712871287128713,
          0.3994661921708185,
          0.3646706586826347,
          0.16666666666666666,
          0.41119221411192214,
          0.31896551724137934,
          0.36916234247590807,
          0.3392857142857143,
          0.2872340425531915,
          0.39710144927536234,
          0.35623620309050774,
          0.18181818181818182,
          0.26288659793814434,
          0.5405405405405406,
          0.1111111111111111,
          0.2222222222222222,
          0.332,
          0.2,
          0.39737991266375544,
          0.3289817232375979,
          0.4117647058823529,
          0.3458646616541353,
          0,
          0.28125,
          0.3389830508474576,
          0.26666666666666666,
          0.33414634146341465,
          0.0625,
          0.3639159405433111,
          0.08695652173913043,
          0.34582857142857143,
          0.34269662921348315,
          0.4,
          0.3088235294117647,
          0.37094017094017095,
          0.35225375626043404,
          0.3333333333333333,
          0.36248415716096327,
          0.15384615384615385,
          0.32131147540983607,
          0.13636363636363635,
          0.16666666666666666,
          0.29545454545454547,
          0.37148803329864727,
          0.3910323253388947,
          0.20833333333333334,
          0.3333333333333333,
          0.125,
          0.18181818181818182,
          0,
          0.26229508196721313,
          0.3240223463687151,
          0.288,
          0.3616326530612245,
          0.34057628719886635,
          0.3734718826405868,
          0.3527397260273973,
          0.3780487804878049,
          0.38462949376375644,
          0.3333333333333333,
          0,
          0.09090909090909091,
          0,
          0.21428571428571427,
          0.13793103448275862,
          0.2222222222222222,
          0.3419047619047619,
          0.29285714285714287,
          0.34310850439882695,
          0.3302034428794992,
          0.43478260869565216,
          0.35106382978723405,
          0.37093275488069416,
          0.3425925925925926,
          0.33460076045627374,
          0,
          0.3622174381054898,
          0.19047619047619047,
          0.2692307692307692,
          0.32786885245901637,
          0,
          0.3645833333333333,
          0.30678466076696165,
          0.041666666666666664,
          0.30612244897959184,
          0.23076923076923078,
          0.31130063965884863,
          0.3028169014084507,
          0.4254062038404727,
          0.3687365140254136,
          0,
          0.3770491803278688,
          0.36363636363636365,
          0,
          0.31868131868131866,
          0.27335640138408307,
          0.36377829820452773,
          0,
          0,
          0.2765957446808511,
          0.232,
          0.36813186813186816,
          0,
          0.3304042179261863,
          0.3637383177570093,
          0.31746031746031744,
          0,
          0.26262626262626265,
          0.35791289348857264,
          0,
          0.30833333333333335,
          0.25,
          0.3537234042553192,
          0.23376623376623376,
          0.24778761061946902,
          0.39201451905626133,
          0.5714285714285714,
          0.2893401015228426,
          0.28359788359788357,
          0.3237113402061856,
          0.10526315789473684,
          0.14285714285714285,
          0.3333333333333333,
          0.16666666666666666,
          0.2,
          0.125,
          0.33084311632870866,
          1,
          0.3442622950819672,
          0.23076923076923078,
          0.38595006347862887,
          0.21428571428571427,
          0.037037037037037035,
          0,
          0,
          0.37707697524584605,
          0.3557015485687471,
          0.379,
          0.5,
          0.328125,
          0,
          0.23076923076923078,
          0.3333333333333333,
          0.3670886075949367,
          0.25,
          0.35522388059701493,
          0.32590529247910865,
          0.29411764705882354,
          0.3205574912891986,
          0,
          0.4345718901453958,
          0,
          0.2222222222222222,
          0.3700137551581843,
          0.25,
          0.325,
          0,
          0.3460490463215259,
          0.375,
          0.3732394366197183,
          0.3892307692307692,
          0.35400797968806674,
          0.2857142857142857,
          0.3612565445026178,
          0.34095238095238095,
          0,
          0.2894736842105263,
          0.3480916030534351,
          0.40027510316368636,
          0.29508196721311475,
          0.40731237973059653,
          0.35714285714285715,
          0,
          0.33653846153846156,
          0.3785625774473358,
          0.4041916167664671,
          0.16666666666666666,
          0.37945945945945947,
          0.4007989347536618,
          0.22727272727272727,
          0.34554140127388533,
          0.3081081081081081,
          0.3633217993079585,
          0,
          0.3561746987951807,
          0.3,
          0.3547297297297297,
          0,
          0.16793893129770993,
          0.38181818181818183,
          0.3269230769230769,
          0.14285714285714285,
          0.3333333333333333,
          0,
          0.23529411764705882,
          0.33296047725577926,
          0.351409978308026,
          0.3923444976076555,
          0.33379888268156427,
          0.30392156862745096,
          0.2222222222222222,
          0.46153846153846156,
          0.3465346534653465,
          0.328042328042328,
          0.03333333333333333,
          0.32075471698113206,
          0.34591194968553457,
          0.1,
          0.5,
          0,
          0,
          0,
          0.36555290373906124,
          0.2719665271966527,
          0.42857142857142855,
          0.40717628705148207,
          0.30952380952380953,
          0.3345724907063197,
          0.35526315789473684,
          0.3113207547169811,
          0.08333333333333333,
          0.3464566929133858,
          0.2692307692307692,
          0,
          0.38961038961038963,
          0.2789272030651341,
          0.3307766059443912,
          0,
          0.3581508515815085,
          0.2571428571428571,
          0.16666666666666666,
          0.34114285714285714,
          0,
          0.15789473684210525,
          0.5,
          0,
          0.29591836734693877,
          0.3705308775731311,
          0.358974358974359,
          0.4070695553021665,
          0.3477406679764244,
          0.3703056768558952,
          0.2,
          0.2857142857142857,
          0.2608695652173913,
          0,
          0.16666666666666666,
          0.3364849833147942,
          0.3710691823899371,
          0.3144758735440932,
          0.3657858136300417,
          0.24,
          0.33253873659118,
          0.34022750775594623,
          0.3795271629778672,
          0.3333333333333333,
          0.3539518900343643,
          0.09090909090909091,
          0.3607681755829904,
          0.325,
          0,
          0.3172043010752688,
          0.19047619047619047,
          0.2087912087912088,
          0.2764227642276423,
          0.2978723404255319,
          0.30507497116493654,
          0.4146341463414634,
          0.3562874251497006,
          0.3004750593824228,
          0.25,
          0.375,
          0.25475285171102663,
          0.3924050632911392,
          0.3405746320953048,
          0.3550488599348534,
          0.3390928725701944,
          0.20512820512820512,
          0,
          0.32221805919820157,
          0,
          0,
          0.35694050991501414,
          0.2222222222222222,
          0,
          0.33261802575107297,
          0,
          0.35454545454545455,
          0,
          0.3076923076923077,
          0,
          0.3640483383685801,
          0.3169164882226981,
          0.34955489614243324,
          0.2903225806451613,
          0.37931648273406904,
          0.3150684931506849,
          0.1875,
          0.09523809523809523,
          0.2631578947368421,
          0.32558139534883723,
          0,
          0.3072100313479624,
          0,
          0.30193236714975846,
          0.2,
          0.1,
          0.16666666666666666,
          0.35,
          0.3076923076923077,
          0.2608695652173913,
          0.3223684210526316,
          0,
          0.3044280442804428,
          0.5,
          0.3606411398040962,
          0.364114552893045,
          0.3268983268983269,
          0.3937007874015748,
          0.3428252372975991,
          0.41248972884141333,
          0.2661290322580645,
          0,
          0.32332155477031804,
          0.31820353559483994,
          0.375,
          1,
          0.2619047619047619,
          0,
          0,
          0.4,
          0.43771626297577854,
          0.25,
          0.34517766497461927,
          0,
          0.3698630136986301,
          0.125,
          0.29261363636363635,
          0.29949471750114837,
          0.21052631578947367,
          0.3895553987297107,
          0.16666666666666666,
          0.34353146853146854,
          0.32684824902723736,
          0.32161125319693096,
          0,
          0.3434343434343434,
          0.14285714285714285,
          0.31527093596059114,
          0.3151595744680851,
          0.3887375113533152,
          0.33014354066985646,
          0.37100875953659224,
          0.2571428571428571,
          1,
          0.26153846153846155,
          0.30997304582210244,
          0.2,
          0.5,
          0,
          0.045454545454545456,
          0.4053030303030303,
          0.28990825688073396,
          0.31527093596059114,
          0.27884615384615385,
          0.3277310924369748,
          0.3103448275862069,
          0.08695652173913043,
          0.34615384615384615,
          0,
          0.3234597156398104,
          0.27380952380952384,
          0.33254828073480924,
          0.37006651884700664,
          0.34770114942528735,
          0,
          1,
          0.32926829268292684,
          0.2868217054263566,
          0.4044495151169424,
          0,
          0.2007042253521127,
          0.34615384615384615,
          0.3230769230769231,
          0.26666666666666666,
          0.058823529411764705,
          0.28846153846153844,
          0.349862258953168,
          0.5,
          0,
          0,
          0.3619854721549637,
          0.25,
          0,
          0.3735470941883767,
          0.29876796714579057,
          0,
          0.3246753246753247,
          0.2996575342465753,
          0.17647058823529413,
          0.35808383233532937,
          0.31833910034602075,
          0.34790528233151186,
          0.29375,
          0.3105134474327628,
          0.3010752688172043,
          0.39912758996728465,
          0.3576923076923077,
          0.3886255924170616,
          0.2857142857142857,
          0,
          0.3737166324435318,
          0.2786885245901639,
          0.25,
          0.21739130434782608,
          0.345625,
          0.41304347826086957,
          0.3080357142857143,
          0.34285714285714286,
          0.34782608695652173,
          0.3603082851637765,
          0.3788217747949292,
          0.3194795807734008,
          0.25609756097560976,
          0.125,
          0.3738738738738739,
          0.38269896193771624,
          0.3150984682713348,
          0.3509532062391681,
          0.39184952978056425,
          0,
          0.3,
          0.2692307692307692,
          0.3610335195530726,
          0.3240152477763659,
          0.4,
          0.31346578366445915,
          0.26605504587155965,
          0.4,
          0.287215411558669,
          0.30864197530864196,
          0.34851301115241634,
          0.16393442622950818,
          0.3841726618705036,
          0.34528773978315264,
          0.3710691823899371,
          0,
          0.16666666666666666,
          0.36370106761565835,
          0.37184115523465705,
          0.36587400917813934,
          0.344311377245509,
          0.3238095238095238,
          0.06666666666666667,
          0.16923076923076924,
          0.24705882352941178,
          0.33678756476683935,
          0,
          0.3676789587852495,
          0.3281653746770026,
          0.25,
          0,
          0.23728813559322035,
          0.09523809523809523,
          0.16666666666666666,
          0,
          0,
          0.34983766233766234,
          0.2916666666666667,
          0,
          0,
          0.18181818181818182,
          0.1875,
          0,
          0.1864406779661017,
          0.0625,
          0,
          0.3727971079981925,
          0,
          0.16666666666666666,
          0,
          0.32,
          0.2,
          0.3333333333333333,
          0.3802936194240542,
          0.34306569343065696,
          0.44,
          0.17391304347826086,
          0.3669201520912547,
          0.3776223776223776,
          0.25,
          0.3861702127659574,
          0,
          0,
          0.3333333333333333,
          0.36097212294496067,
          0.4514285714285714,
          0.34096692111959287,
          0.16,
          0.1111111111111111,
          0.4166666666666667,
          0.1875,
          0.5,
          0.2,
          0.3427540589296452,
          0.3550834597875569,
          0,
          0.3412698412698413,
          0.3492063492063492,
          0.2727272727272727,
          0.3235294117647059,
          0.35132575757575757,
          0.18181818181818182,
          0.2222222222222222,
          0.3333333333333333,
          0.24096385542168675,
          0.3599729089061971,
          0.30538922155688625,
          0.3161856963613551,
          0.15,
          0,
          0.2,
          1,
          0,
          0.3499793644242674,
          0,
          0.32653061224489793,
          0,
          0.4,
          0.23529411764705882,
          0,
          0.4103906564639549,
          0.3728129205921938,
          0.3669064748201439,
          0.25333333333333335,
          0.3728129205921938,
          0.14705882352941177,
          0.42857142857142855,
          0.3709677419354839,
          0.323943661971831,
          0.125,
          0,
          0,
          0.32142857142857145,
          0,
          0.5,
          0.3535714285714286,
          0.3351409978308026,
          0,
          0.23529411764705882,
          0.30606060606060603,
          0,
          0.3333333333333333,
          0.25,
          0.3521594684385382,
          0.37037037037037035,
          0,
          0.375,
          0.3650465356773526,
          0.46153846153846156,
          0,
          0.29901269393511987,
          0.34614811503501713,
          0.3695150115473441,
          0.3578214059531349,
          0,
          0,
          0.3368606701940035,
          0.3680889423076923,
          0.27586206896551724,
          0.16666666666666666,
          0.3209076175040519,
          0.45,
          0,
          0.34942820838627703,
          0.35944700460829493,
          0.3140726933830382,
          0.39909297052154197,
          0.3181818181818182,
          0.32,
          0.3513767209011264,
          0.31921824104234525,
          0.29133858267716534,
          0.5,
          0.21052631578947367,
          0.3333333333333333,
          0.2781456953642384,
          0.4375,
          0.42857142857142855,
          0.25,
          0,
          0.35685320356853206,
          0.3064516129032258,
          0.39542906425183266,
          0,
          0.2549019607843137,
          0.2749529190207156,
          0.23529411764705882,
          0.2923076923076923,
          0.3439153439153439,
          0.35974304068522484,
          0.38589211618257263,
          0.2564102564102564,
          0,
          0.16923076923076924,
          0.2986425339366516,
          0.3410685375067458,
          0.23076923076923078,
          0,
          0.3562610229276896,
          0,
          0.35,
          0.19444444444444445,
          0.3137254901960784,
          0.43622920517560076,
          0.34894529853414374,
          0,
          0,
          0.3720777802053747,
          0.3282442748091603,
          0.3803009575923393,
          0.14285714285714285,
          0.3260009886307464,
          0.23076923076923078,
          0.2608695652173913,
          0.3082191780821918,
          0.2631578947368421,
          0.25,
          0.3217821782178218,
          0.33783783783783783,
          0.36860068259385664,
          0,
          0.23076923076923078,
          0.11538461538461539,
          0.3916279069767442,
          0,
          0,
          0.4,
          0.15254237288135594,
          0.3333333333333333,
          0.3342493988320165,
          0.44711538461538464,
          0.32339955849889623,
          0.2857142857142857,
          0.35460652591170827,
          0.46153846153846156,
          0.14285714285714285,
          0.3203125,
          0.2,
          0.35051546391752575,
          0.3488372093023256,
          0.5,
          0,
          0.23076923076923078,
          0.3376358695652174,
          0.33724340175953077,
          0.31932773109243695,
          0.38461538461538464,
          0,
          0.3162705667276051,
          0.15789473684210525,
          0.12844036697247707,
          0.2835820895522388,
          0.125,
          0,
          0.12195121951219512,
          0,
          0.31137724550898205,
          0.038461538461538464,
          0.16666666666666666,
          0.31098430813124106,
          0.3584647018505826,
          0.2916666666666667,
          0.365296803652968,
          0.38136574074074076,
          0,
          0.371868978805395,
          0.3354577056778679,
          0.6666666666666666,
          0.34195402298850575,
          0,
          0.37152286657237155,
          0.3404255319148936,
          0,
          0.25,
          0.38461538461538464,
          0.3858858858858859,
          0.4197786998616874,
          0.40572792362768495,
          0.36846644816284285,
          0,
          0.18333333333333332,
          0.16666666666666666,
          0.2,
          0.2971014492753623,
          0.2,
          0.31965174129353235,
          0,
          0,
          0,
          0.2972972972972973,
          0.28160919540229884,
          0.15384615384615385,
          0.07692307692307693,
          0.2222222222222222,
          0.3693181818181818,
          0.40350877192982454,
          0.24691358024691357,
          0.2972972972972973,
          0.3684210526315789,
          0.4444444444444444,
          0.34291581108829566,
          0.3608547838756678,
          0.32795242141036535,
          0.3766025641025641,
          0,
          0.3197544642857143,
          0.2826086956521739,
          0.2,
          0,
          0.35798319327731093,
          0.36,
          0.39436619718309857,
          0.4031907179115301,
          0,
          0.3289817232375979,
          0.3275862068965517,
          0.3581833761782348,
          0.36018957345971564,
          0.34234234234234234,
          0.3684210526315789,
          0.3215130023640662,
          0.31952662721893493,
          0.33810888252148996,
          0.4074074074074074,
          0.21052631578947367,
          0.2,
          0.33776867963152507,
          0.316776007497657,
          0.37207943925233644,
          0.3567708333333333,
          0.13636363636363635,
          0.5,
          0.3815789473684211,
          0.3574468085106383,
          0.11764705882352941,
          0.2792452830188679,
          1,
          0.3444976076555024,
          0.17647058823529413,
          0.4057971014492754,
          0,
          0.5,
          0.32673267326732675,
          0.323943661971831,
          0.23076923076923078,
          0.34375,
          0.3530150753768844,
          0.3299319727891156,
          0.31496062992125984,
          0.29766536964980544,
          0.34615384615384615,
          0.3388704318936877,
          0.27371273712737126,
          0.36363636363636365,
          0.3613267466478476,
          0.14285714285714285,
          0.28456683878370626,
          0.3563006632277082,
          0.3611111111111111,
          0.33925049309664695,
          0.34782608695652173,
          0.36,
          0.4166666666666667,
          0.36363636363636365,
          0.20833333333333334,
          0.2571428571428571,
          0.29473684210526313,
          0.3225806451612903,
          0.3452950558213716,
          0.273972602739726,
          0.3,
          0.14285714285714285,
          0.3090909090909091,
          0.27586206896551724,
          0.3622508792497069,
          0.3253012048192771,
          0.34615384615384615,
          0.16666666666666666,
          0,
          0.6,
          0,
          0.3377926421404682,
          0.06976744186046512,
          0.07142857142857142,
          0.2,
          0.29098360655737704,
          0,
          0.3492063492063492,
          0,
          0.3333333333333333,
          0.36027713625866054,
          0.29577464788732394,
          0.3953488372093023,
          0.24242424242424243,
          0.38682784493538974,
          0.2682926829268293,
          0.2781065088757396,
          0.3013698630136986,
          0,
          0.2702702702702703,
          0.3542937587986861,
          0.09090909090909091,
          0,
          0.2822966507177033,
          0.3634361233480176,
          0.2604166666666667,
          0.4,
          0.40891472868217055,
          0.3735483870967742,
          0.32806621519939805,
          0.07142857142857142,
          0.3600390815828041,
          0.25,
          0.3699421965317919,
          0.36187845303867405,
          0,
          0.2391304347826087,
          0.3562753036437247,
          0.21818181818181817,
          0.24380165289256198,
          0.3055555555555556,
          0.3438379290939786,
          0.35059288537549405,
          0.22364217252396165,
          0.05263157894736842,
          0.37275541795665634,
          0.18518518518518517,
          0.37592778335005017,
          0.3235294117647059,
          0.2731554160125589,
          0,
          0.38282387190684136,
          0.17647058823529413,
          0.33747779751332146,
          0.3734246575342466,
          0.38357519788918204,
          0.2,
          0.3225806451612903,
          0.33544303797468356,
          0,
          0.14814814814814814,
          0.5,
          0.14285714285714285,
          0.35168869309838474,
          0.3333333333333333,
          0.36075949367088606,
          0,
          0.396249490419894,
          0.3018867924528302,
          0.28,
          0,
          0.3778043673347293,
          0.25,
          0.3250883392226148,
          0.3333333333333333,
          0.4183044315992293,
          0.3287059198978778,
          0.28205128205128205,
          0.25,
          0,
          0.2,
          0.2907801418439716,
          0.3060240963855422,
          0.30303030303030304,
          0,
          0.3568935427574171,
          0.2903225806451613,
          0.1111111111111111,
          0.308411214953271,
          0.3035019455252918,
          0.23529411764705882,
          0,
          0.425007944073721,
          0.3269230769230769,
          0.36446199407699903,
          0.22627737226277372,
          0.36265060240963853,
          0.35,
          0.35714285714285715,
          0.39080459770114945,
          0,
          0.3128930817610063,
          0.2765072765072765,
          0.31185121107266434,
          0.2413793103448276,
          0.3780260707635009,
          0.31693989071038253,
          0.38424821002386633,
          0.327027027027027,
          0.40575539568345326,
          0.3666465984346779,
          0.23595505617977527,
          0.2,
          0.30748074807480746,
          0.31766612641815234,
          0.3238095238095238,
          0.4444444444444444,
          0.3870967741935484,
          0,
          0.3375342465753425,
          0.35619047619047617,
          0.25,
          0.13333333333333333,
          0.11764705882352941,
          0,
          0,
          0.2692307692307692,
          0,
          0.3418672390004599,
          0.3812566560170394,
          0.34782608695652173,
          0.34210526315789475,
          0.1,
          0,
          0.2777777777777778,
          0.3358024691358025,
          0.34617169373549883,
          0.3047619047619048,
          0.24489795918367346,
          0,
          0.2222222222222222,
          0,
          0.4,
          0.2,
          0.3431151241534989,
          0.2,
          0.14285714285714285,
          0.04,
          0.18018018018018017,
          0,
          0.3455627169062965,
          0.36363636363636365,
          0,
          0.3322884012539185,
          0.2647058823529412,
          0.3381818181818182,
          0.3013698630136986,
          0.5,
          0.2727272727272727,
          0.3288135593220339,
          0.32238805970149254,
          0,
          0.40286298568507156,
          0.2413793103448276,
          0.3595505617977528,
          0.40634441087613293,
          0.3394736842105263,
          0.347571679344646,
          0.33075734157650694,
          0.2,
          0.3300970873786408,
          0.3831932773109244,
          0.34615384615384615,
          0.22580645161290322,
          0.375,
          0.25,
          0.2,
          0.3010752688172043,
          0.3829296424452134,
          0.31063829787234043,
          0.29411764705882354,
          0.373134328358209,
          0.09090909090909091,
          0.1875,
          0.38902147971360385,
          0.16666666666666666,
          0.32175032175032175,
          0,
          0.1744186046511628,
          0.2549019607843137,
          0,
          0.35333333333333333,
          0.36675408513213636,
          0.3438485804416404,
          0.35831180017226527,
          0.21875,
          0.25,
          0.15789473684210525,
          0.37609841827768015,
          0.3299492385786802,
          0,
          0.2345679012345679,
          0.5,
          0.19090909090909092,
          0.29411764705882354,
          0.35,
          0.32142857142857145,
          0.3698630136986301,
          0.25,
          0.3162094763092269,
          0.35731530661516175,
          0.42105263157894735,
          0.3135802469135803,
          0.2992125984251969,
          0.3333333333333333,
          0.5,
          0.3512096774193548,
          0.3416536661466459,
          0.32112332112332115,
          0,
          0.16666666666666666,
          0.3592233009708738,
          0,
          0,
          0,
          0.34831460674157305,
          0,
          0.3333333333333333,
          0.05555555555555555,
          0.1724137931034483,
          0.33548387096774196,
          0.25,
          0.2916666666666667,
          0.2556390977443609,
          0.34329307056579783,
          0.30864197530864196,
          0.34404761904761905,
          0.42857142857142855,
          0.2608695652173913,
          0.2895238095238095,
          0.23376623376623376,
          0.2,
          0.36044880785413747,
          0.37980085348506404,
          0.42105263157894735,
          0.288135593220339,
          0.36186903137789905,
          0.0625,
          0.26666666666666666,
          0.352112676056338,
          0.3312558429417264,
          0.4108790675084993,
          0.40612516644474034,
          0.38392857142857145,
          0.2236842105263158,
          0.08695652173913043,
          0.3259109311740891,
          0.351123595505618,
          0,
          0.4666666666666667,
          0.2,
          0.36069651741293535,
          0.2765957446808511,
          0.36363636363636365,
          0.3669291338582677,
          0.32136279926335176,
          0.14285714285714285,
          0.15151515151515152,
          0,
          0.35443037974683544,
          0.37370838117106775,
          0,
          0.3076923076923077,
          0.6666666666666666,
          0.3333333333333333,
          0.33517060367454066,
          0.39724454649827784,
          0.45,
          0.35,
          0.14285714285714285,
          0,
          0.2534142640364188,
          0.28205128205128205,
          0.4013793103448276,
          0.1111111111111111,
          0.37983706720977595,
          0.25,
          0,
          0.27586206896551724,
          0.2490974729241877,
          0.2692307692307692,
          0,
          0.4215686274509804,
          0.3793350017876296,
          0,
          0,
          0,
          0.16666666666666666,
          0.3161764705882353,
          0.35537959944108055,
          0.3411016949152542,
          0.2222222222222222,
          0.37867395762132605,
          0.3715058611361587,
          0.3791654998599832,
          0,
          0.37184115523465705,
          0.4059191530317613,
          0.36103542234332425,
          0.39568345323741005,
          0.3609422492401216,
          0.16666666666666666,
          0.325,
          0.32710280373831774,
          0.15384615384615385,
          0.328,
          0,
          0.3783783783783784,
          0.23529411764705882,
          0.17391304347826086,
          0.32142857142857145,
          0,
          0.3679369250985545,
          0,
          0.35923309788092833,
          0.35294117647058826,
          0,
          0,
          0.3333333333333333,
          0.3753627861980006,
          0.31194151096669376,
          0.38441558441558443,
          0.09803921568627451,
          0.14285714285714285,
          0.2878787878787879,
          0.3103168155970755,
          0.3125,
          0.2916666666666667,
          0.3737846597047173,
          0.2891566265060241,
          0.09090909090909091,
          0.3076923076923077,
          0.36363636363636365,
          0.3275862068965517,
          0.34986595174262736,
          0.35507246376811596,
          0.23728813559322035,
          0.3695652173913043,
          0.3586265366680797,
          0.2608695652173913,
          0,
          0.21739130434782608,
          0.32989690721649484,
          0.18181818181818182,
          0,
          0,
          0.3946360153256705,
          0.16666666666666666,
          0.14285714285714285,
          0.12962962962962962,
          0.2857142857142857,
          0.33365477338476374,
          0.3076923076923077,
          0.22429906542056074,
          0,
          0.21428571428571427,
          0.3542422044960116,
          0.3757939308398024,
          0.3418803418803419,
          0.3557010365521004,
          0.29896907216494845,
          0.14285714285714285,
          0.37037037037037035,
          0.3611111111111111,
          0.25,
          0,
          0.35362578334825423,
          0.3412322274881517,
          0.3548895899053628,
          0.32957393483709274,
          0.23369565217391305,
          0.30743243243243246,
          0.3333333333333333,
          0.2602739726027397,
          0.36085626911314983,
          0.5,
          0.33152909336941816,
          0.37378845343447115,
          0.3654743390357698,
          0,
          0.3404255319148936,
          0.3333333333333333,
          0.2903225806451613,
          0.5,
          0,
          0,
          0.3333333333333333,
          0.36554621848739494,
          0,
          0.368185212845407,
          0.21153846153846154,
          0.3116883116883117,
          0.31654676258992803,
          0.2,
          0,
          0.16666666666666666,
          0,
          0.4004149377593361,
          0,
          0.3683431952662722,
          0.3739130434782609,
          0.25,
          0.29455445544554454,
          0.3752066115702479,
          0,
          0.3282051282051282,
          0.2631578947368421,
          0.33987915407854985,
          0.39756838905775077,
          0,
          0.37826755509994875,
          0,
          0.07692307692307693,
          0.3069908814589666,
          0,
          0.3663133097762073,
          0.38822355289421157,
          0.3632887189292543,
          0,
          0.3776711731356302,
          0.16666666666666666,
          0.33524904214559387,
          0.3669195751138088,
          0,
          0,
          0.3377777777777778,
          0.39858979676482786,
          0,
          0.30423940149625933,
          0.29545454545454547,
          0.38392857142857145,
          0.28,
          0.25263157894736843,
          0.2727272727272727,
          0.2,
          0.1746031746031746,
          0.375,
          0,
          0.3402061855670103,
          0.15384615384615385,
          0.16666666666666666,
          0.35647334504979494,
          0.3505747126436782,
          0.3119266055045872,
          0.32786885245901637,
          0.2920353982300885,
          0.3614457831325301,
          0.3926247288503254,
          0,
          0.3181818181818182,
          0.35353535353535354,
          0.3197969543147208,
          0.2903225806451613,
          0.3599712023038157,
          0.25,
          0.3504581151832461,
          0.40971947846700907,
          0.3140929535232384,
          0.314002828854314,
          0.14285714285714285,
          0.125,
          0.3660917670029287,
          0.32941176470588235,
          0.3682219419924338,
          0.31954887218045114,
          0.383878691141261,
          0.3393640350877193,
          0.13333333333333333,
          0.36254826254826256,
          0.34615384615384615,
          0.37922077922077924,
          0.25,
          0.23809523809523808,
          0.4006675732476202,
          0.33490566037735847,
          0,
          0,
          0.3287624271511827,
          0.2692307692307692,
          0.3856589147286822,
          0.07692307692307693,
          0.29545454545454547,
          0.5,
          0.33706225680933855,
          0.3333333333333333,
          0.38354978354978353,
          0.36580882352941174,
          0.16923076923076924,
          0.3624161073825503,
          0.2804878048780488,
          0.3457997698504028,
          0.37293283833952073,
          0.2565789473684211,
          0.35580524344569286,
          0.36231884057971014,
          0.3469135802469136,
          0,
          0.36129822412737295,
          0.37142857142857144,
          0.3076923076923077,
          0.3232588699080158,
          0,
          0.39473684210526316,
          0.34285714285714286,
          0.3576107899807322,
          0.21739130434782608,
          0.33593314763231197,
          0.3225806451612903,
          0,
          0.16,
          0.29931972789115646,
          0.2413793103448276,
          0.33073929961089493,
          0.3062015503875969,
          0.3410981697171381,
          0.36589698046181174,
          0.3357142857142857,
          0.25,
          0.34428300694883135,
          0.2976694915254237,
          0.310580204778157,
          0.2,
          0.32425742574257427,
          0.3814241486068111,
          0,
          0.1891891891891892,
          0.21739130434782608,
          0.2595419847328244,
          0.26894865525672373,
          0.25,
          0.38461538461538464,
          0.21782178217821782,
          0.25405405405405407,
          0.2987951807228916,
          0,
          0,
          0.1111111111111111,
          0.2692307692307692,
          0,
          0.36129032258064514,
          0.3776978417266187,
          0.1724137931034483,
          0,
          0.3628023352793995,
          0.3442565186751233,
          0,
          0.273972602739726,
          0.1875,
          0.3039912520503007,
          0.32,
          0.3772652388797364,
          0.37305699481865284,
          0.2028985507246377,
          0.4027777777777778,
          0.3480083857442348,
          0,
          0,
          0.3157894736842105,
          0,
          0,
          0.2926829268292683,
          0.3658008658008658,
          0.331997327989312,
          0.2920634920634921,
          0.36,
          0.38778877887788776,
          0.28365384615384615,
          0.38786279683377306,
          0.2765957446808511,
          0.2222222222222222,
          0,
          0.08333333333333333,
          0.352,
          0.345005149330587,
          0.3684863523573201,
          0,
          0.45454545454545453,
          0.35578947368421054,
          0.5,
          0.3696612665684831,
          0.17647058823529413,
          0.31360112755461594,
          0,
          0.2,
          0.37849462365591396,
          0,
          0.33506044905008636,
          0,
          0.19230769230769232,
          0.23076923076923078,
          0.16666666666666666,
          0.4,
          0,
          0.31862312444836716,
          0.2857142857142857,
          0.19696969696969696,
          0.3333333333333333,
          0.36149668074834035,
          0.2647058823529412,
          0.2818181818181818,
          0.335559265442404,
          0.441233140655106,
          0.3248081841432225,
          0.3473053892215569,
          0.3641160949868074,
          0.41333333333333333,
          0.3687845303867403,
          0.5,
          0.30697190426638915,
          0.38117453347969266,
          0.2222222222222222,
          0.3342541436464088,
          0.33223684210526316,
          0.2929936305732484,
          0,
          0.296969696969697,
          0.1875,
          0.16666666666666666,
          0.13636363636363635,
          0.28125,
          0.3684210526315789,
          0.3296324655436447,
          0.330188679245283,
          0.34101941747572817,
          0,
          0.125,
          0,
          0.2222222222222222,
          0.2647058823529412,
          0.3323170731707317,
          0.2457627118644068,
          0.2,
          0.34177215189873417,
          0.3448275862068966,
          0.15384615384615385,
          0.33793103448275863,
          0.3442437923250564,
          0.1111111111111111,
          0.2857142857142857,
          0.1917808219178082,
          0.31931575196008555,
          0.35091083413231067,
          0,
          0.058823529411764705,
          0.2946859903381642,
          0,
          0,
          0.42904720532869967,
          0.3063583815028902,
          0.33455344070278187,
          0.32053539978865797,
          0.34308510638297873,
          0.3827464788732394,
          0.3421516754850088,
          0.3333333333333333,
          0.375,
          0.40609137055837563,
          0.42589161648911533,
          0.43078055964653905,
          0.08333333333333333,
          0,
          0.3823170731707317,
          0.07407407407407407,
          0,
          0.30612244897959184,
          0.3850267379679144,
          0.2937365010799136,
          0.3371212121212121,
          0.3499222395023328,
          0.3522727272727273,
          0,
          0.21487603305785125,
          0,
          0.27450980392156865,
          0,
          0.323943661971831,
          0.14285714285714285,
          0.22784810126582278,
          0,
          0.18181818181818182,
          0.36542835481425323,
          0,
          0.36324324324324325,
          0.25,
          0.3963963963963964,
          0.19642857142857142,
          0.3424657534246575,
          0,
          0.16666666666666666,
          0.35036496350364965,
          0.2844311377245509,
          0.36877523553162855,
          0.3118279569892473,
          0.5,
          0,
          0.38596491228070173,
          0.3697478991596639,
          0.40618955512572535,
          0.36528822055137844,
          0.34200968523002423,
          0.3313333333333333,
          0,
          0.22556390977443608,
          0,
          0.375,
          0.34355828220858897,
          0.24390243902439024,
          0,
          0.42857142857142855,
          0.31264367816091954,
          0,
          0.125,
          0,
          0.35294117647058826,
          0.3333333333333333,
          0.1724137931034483,
          0.3316062176165803,
          0.3545994065281899,
          0.351310861423221,
          0.3333333333333333,
          0.3387096774193548,
          0.35294117647058826,
          0.3736654804270463,
          0.1896551724137931,
          0.3284132841328413,
          0,
          0.36339754816112085,
          0.2,
          0.3702290076335878,
          0,
          0.23809523809523808,
          0,
          0.3665338645418327,
          0.3547376664056382,
          0.33698296836982966,
          0.26476578411405294,
          0.15584415584415584,
          0.5,
          0.5,
          0.3379360465116279,
          0.5,
          0.18867924528301888,
          0.25,
          0.5,
          0.32124874118831825,
          0,
          0.384297520661157,
          0.23013698630136986,
          0.14285714285714285,
          0.3350383631713555,
          0.4166666666666667,
          0.3352993217340018,
          0.3819784524975514,
          0.3438095238095238,
          0.39631336405529954,
          0.3368580060422961,
          0.35268817204301073,
          0.3,
          0.25862068965517243,
          0.3355834136933462,
          0.36363636363636365,
          0,
          0.2,
          0.17647058823529413,
          0.31893687707641194,
          0.32697547683923706,
          1,
          0.3532597375546761,
          0.30120481927710846,
          0.34243542435424357,
          0.25,
          0.34093376764386535,
          0.3076923076923077,
          0.2727272727272727,
          0,
          0.3364485981308411,
          0.6666666666666666,
          0.39617292700212614,
          0.3398550724637681,
          0.3888537048765041,
          0.28859060402684567,
          0.2765957446808511,
          0.35714285714285715,
          0.35106382978723405,
          0.3504531722054381,
          0.3145539906103286,
          0.13636363636363635,
          0.391304347826087,
          0.2,
          0.36095238095238097,
          0.4,
          0.28,
          0.2857142857142857,
          0.3253012048192771,
          0.3058823529411765,
          0,
          0.3162251655629139,
          0.20270270270270271,
          0.39126784214945426,
          0.22857142857142856,
          0.36,
          0,
          1,
          0.23529411764705882,
          0.3431952662721893,
          0.06896551724137931,
          0.5,
          0.15384615384615385,
          0.1724137931034483,
          0.3193863319386332,
          0,
          0,
          0.29310344827586204,
          0.3499214248297538,
          0.2916666666666667,
          0.1346153846153846,
          0.36943847806075486,
          0,
          0.25,
          0.5,
          0.2692307692307692,
          0.3474576271186441,
          0,
          0.3,
          0.24096385542168675,
          0.3793103448275862,
          0.13333333333333333,
          0.16666666666666666,
          0.3293768545994065,
          0.3205882352941177,
          0.38100102145045966,
          0.2702702702702703,
          0.3076923076923077,
          0.39608338597599496,
          0.5,
          0.395738203957382,
          0.3848684210526316,
          0.3467048710601719,
          0,
          0.3894736842105263,
          0.37764020393299347,
          0.3373134328358209,
          0.19672131147540983,
          0.3,
          0.30845771144278605,
          0.33645374449339205,
          0.3786407766990291,
          0.4228187919463087,
          0.3457725947521866,
          0.2,
          0.273015873015873,
          0.2222222222222222,
          0,
          0,
          0.29838709677419356,
          0.2578616352201258,
          0,
          0.3,
          0.21052631578947367,
          0.3439739413680782,
          0.3333333333333333,
          0.3333333333333333,
          0.32954545454545453,
          0.33960092095165006,
          0.3253968253968254,
          0.30303030303030304,
          0.07142857142857142,
          0.125,
          0.29901960784313725,
          0,
          0.2,
          0.25,
          0.3333333333333333,
          0.3652058432934927,
          1,
          0.20833333333333334,
          0.3,
          0.3188405797101449,
          0.3753631609529343,
          0,
          0.375,
          0.26887417218543047,
          0,
          0.2727272727272727,
          0,
          0.3157894736842105,
          0.10526315789473684,
          0.46153846153846156,
          0.21428571428571427,
          0.2868217054263566,
          0.2894736842105263,
          0
         ],
         "xaxis": "x",
         "y": [
          1.0476190476190477,
          3.0476190476190474,
          1.4285714285714286,
          3.1101321585903086,
          3.766990291262136,
          3.790190735694823,
          1,
          2.8947368421052633,
          3.2233009708737863,
          2,
          2.2735632183908048,
          1,
          2.2459016393442623,
          1.5194805194805194,
          1.75,
          1,
          2.142857142857143,
          2.877862595419847,
          2.9375,
          1,
          1,
          1.25,
          1.372093023255814,
          1.48,
          3.8489304812834226,
          3.128540305010893,
          1.0307692307692307,
          1.821917808219178,
          3.251376146788991,
          3.2686084142394822,
          1,
          1,
          1.4166666666666667,
          2.6893203883495147,
          3.2222222222222223,
          1.4444444444444444,
          3.7365269461077846,
          1.5625,
          2.150537634408602,
          3,
          2.355371900826446,
          1.8928571428571428,
          3.3,
          1.6153846153846154,
          1.9478260869565218,
          1,
          3.794776119402985,
          3.411764705882353,
          4.428571428571429,
          3.919335705812574,
          2.4025974025974026,
          2.158490566037736,
          1.0909090909090908,
          1,
          1.9887323943661972,
          1,
          1.2222222222222223,
          1.4,
          1.4517543859649122,
          1.0217391304347827,
          1,
          1.3136094674556213,
          1.8157894736842106,
          1,
          2,
          1.2352941176470589,
          1,
          3.0034782608695654,
          4,
          1.4928909952606635,
          2.3333333333333335,
          2.1160714285714284,
          3.6152304609218437,
          1.9951456310679612,
          3.422360248447205,
          1,
          1,
          1,
          1.7777777777777777,
          2.2093023255813953,
          2.5454545454545454,
          1,
          2.068702290076336,
          3.5,
          3.863849765258216,
          1,
          1.3333333333333333,
          2.3071672354948807,
          3.2051282051282053,
          1.2083333333333333,
          3.6864583333333334,
          1.7692307692307692,
          1,
          2.6486486486486487,
          1.5654952076677315,
          2.553054662379421,
          2.475,
          1.5,
          2.0019157088122603,
          1,
          1,
          3.7232824427480917,
          3.351293103448276,
          3.1457085828343314,
          1.8444444444444446,
          3.217391304347826,
          3.595611285266458,
          1,
          1,
          5.213114754098361,
          2.3973214285714284,
          2.6,
          1.3076923076923077,
          1.9464831804281346,
          1,
          1.0909090909090908,
          1.4375,
          1,
          1,
          2.043010752688172,
          1,
          1.6666666666666667,
          2.3524590163934427,
          3.294460641399417,
          1.5,
          1.5,
          1.6456692913385826,
          2.4483985765124556,
          2.4768518518518516,
          3.5459882583170255,
          4.183712121212121,
          1.0769230769230769,
          1.1428571428571428,
          2.2,
          1.6153846153846154,
          1.8571428571428572,
          1.0909090909090908,
          5.171129220023283,
          1,
          4.230452674897119,
          1,
          1.5294117647058822,
          4.131645569620253,
          1.0434782608695652,
          1,
          1.0517241379310345,
          2.112781954887218,
          1,
          1,
          1,
          1,
          2,
          1.3775510204081634,
          2.769230769230769,
          1.446969696969697,
          1,
          1,
          3,
          3.6647230320699706,
          1.8840579710144927,
          1,
          2.6967418546365916,
          1.3333333333333333,
          2.47244094488189,
          1.4666666666666666,
          3.1654135338345863,
          1.878787878787879,
          3.054263565891473,
          2.843283582089552,
          2.933534743202417,
          5.378109452736318,
          4.851851851851852,
          1,
          1.981283422459893,
          4.2,
          2.121418826739427,
          3.3503649635036497,
          2.3125,
          2.3333333333333335,
          1.7309782608695652,
          1.8571428571428572,
          6.060137457044673,
          1,
          1.6521739130434783,
          1.1132075471698113,
          1.4054054054054055,
          1.5714285714285714,
          2.657142857142857,
          1,
          3.371559633027523,
          4.8680926916221035,
          4.60183066361556,
          1.9285714285714286,
          3.0894568690095845,
          3.1134751773049647,
          2.230769230769231,
          1.4285714285714286,
          1,
          3.9205378973105134,
          2.58125,
          1.091743119266055,
          1,
          2.220735785953177,
          2.3377049180327867,
          1.9607843137254901,
          1,
          2.3524904214559386,
          1.972027972027972,
          2.187279151943463,
          1,
          1.4444444444444444,
          1,
          1.3333333333333333,
          4.792284866468843,
          1.7647058823529411,
          2.930260047281324,
          1.7962962962962963,
          2.984375,
          1.3214285714285714,
          1.6,
          1,
          2.6666666666666665,
          1.9166666666666667,
          2.4615384615384617,
          2.376470588235294,
          4.425196850393701,
          2.9715302491103204,
          1.2,
          6.715686274509804,
          3.1636363636363636,
          2.488929889298893,
          1.9310344827586208,
          2.41025641025641,
          5.52,
          4.4907063197026025,
          1.1,
          1.4696969696969697,
          3.0833333333333335,
          1.0588235294117647,
          1,
          4.385964912280702,
          1,
          4.673469387755102,
          2.837037037037037,
          3,
          3.8181818181818183,
          1,
          1.1851851851851851,
          2.36,
          1.5,
          1.6599190283400809,
          1.1428571428571428,
          4.073068893528184,
          1.15,
          3.9592760180995477,
          3.005194805194805,
          1.6666666666666667,
          2.4285714285714284,
          3.128342245989305,
          2.396,
          2.625,
          4.383333333333334,
          1.4444444444444444,
          2.3106060606060606,
          1.1,
          2,
          1.6603773584905661,
          4.3386004514672685,
          4.163531114327062,
          1.6941176470588235,
          1.8,
          1.1428571428571428,
          1.5714285714285714,
          1,
          1.3707865168539326,
          2.5942028985507246,
          2.808988764044944,
          3.58187134502924,
          3.4876441515650742,
          3.3941908713692945,
          3.1482479784366575,
          2.4477611940298507,
          4.704055220017256,
          1,
          1,
          1.2222222222222223,
          1,
          1.09375,
          1.16,
          2.25,
          2.3333333333333335,
          1.794871794871795,
          2.4357142857142855,
          2.0031347962382444,
          2.875,
          3.6153846153846154,
          3.052980132450331,
          2.25,
          2.104,
          1,
          3.3357271095152603,
          1.2352941176470589,
          1.5964912280701755,
          2.5416666666666665,
          1,
          2.0869565217391304,
          2.8016528925619837,
          1.0434782608695652,
          1.6896551724137931,
          1.0833333333333333,
          2.2227488151658767,
          1.775,
          3.2392344497607657,
          3.862037037037037,
          1,
          2.5416666666666665,
          2.5384615384615383,
          1,
          1.9361702127659575,
          1.7730061349693251,
          3.5386740331491713,
          1,
          1,
          2.0434782608695654,
          1.179245283018868,
          2.4594594594594597,
          1,
          3.7933333333333334,
          3.9925373134328357,
          1.5,
          1,
          2.475,
          3.2119113573407203,
          1,
          4.931506849315069,
          2,
          5.875,
          2.081081081081081,
          1.4675324675324675,
          3.826388888888889,
          1,
          2.141304347826087,
          2.7351664254703327,
          2.4412751677852347,
          1.0555555555555556,
          1.05,
          2.9745762711864407,
          1.4285714285714286,
          1.4705882352941178,
          1.3333333333333333,
          2.0548245614035086,
          1,
          1.6266666666666667,
          1.8571428571428572,
          3.045103092783505,
          1.75,
          1.0384615384615385,
          1.0909090909090908,
          1,
          3.990527740189445,
          6.722397476340694,
          3.605769230769231,
          2,
          2.430379746835443,
          1,
          1.8571428571428572,
          1,
          1.7173913043478262,
          2,
          4.2405063291139244,
          1.5341880341880343,
          3.4,
          3.0210526315789474,
          1.2,
          3.6845238095238093,
          1,
          1,
          7.73404255319149,
          1.3333333333333333,
          2.0317460317460316,
          1.2,
          4.170454545454546,
          1.3333333333333333,
          2.5132743362831858,
          3.9634146341463414,
          3.83983286908078,
          1.4,
          3.9246575342465753,
          2.464788732394366,
          1,
          1.4074074074074074,
          4.1455696202531644,
          2.83984375,
          1.876923076923077,
          3.7657004830917873,
          1.75,
          1,
          1.7333333333333334,
          5.257328990228013,
          2.1973684210526314,
          1.0909090909090908,
          4.727427597955707,
          4.826478149100257,
          1.1785714285714286,
          2.3173431734317345,
          2.6303317535545023,
          4.624,
          3,
          4.441471571906354,
          2.7027027027027026,
          5.016949152542373,
          1.3333333333333333,
          1.2242990654205608,
          3.8260869565217392,
          1.9024390243902438,
          1.05,
          1.3333333333333333,
          1,
          1.0625,
          3.8982558139534884,
          2.413612565445026,
          2.633070866141732,
          2.6227106227106227,
          1.9615384615384615,
          1.0588235294117647,
          2.6,
          1.7118644067796611,
          2.4545454545454546,
          1.0344827586206897,
          1.5588235294117647,
          1.7865168539325842,
          1.1111111111111112,
          1.2,
          1.2,
          1,
          1,
          3.6808199121522693,
          1.1890547263681592,
          1.1666666666666667,
          4.801498127340824,
          2.210526315789474,
          2.877005347593583,
          4.825396825396825,
          2.4941176470588236,
          1,
          1.7887323943661972,
          2.072463768115942,
          1,
          2.026315789473684,
          2.2814685314685317,
          3.8065693430656933,
          1.5,
          4.0452755905511815,
          1.4,
          1,
          3.2956685499058382,
          1.3333333333333333,
          1.1875,
          1,
          1,
          4.260869565217392,
          4.458937198067633,
          1.6421052631578947,
          3.1209964412811386,
          2.232456140350877,
          2.779126213592233,
          1.3636363636363635,
          1.5555555555555556,
          2.090909090909091,
          1,
          1.5,
          3.707216494845361,
          3.7411764705882353,
          4.144827586206897,
          4.438271604938271,
          1.7857142857142858,
          2.903114186851211,
          3.3693379790940767,
          3.0584615384615383,
          1.7142857142857142,
          2.91,
          1,
          4.032079646017699,
          1.3793103448275863,
          6,
          1.8295081967213114,
          1.4,
          1.4444444444444444,
          2.4356435643564356,
          1.146341463414634,
          3.4201183431952664,
          1.64,
          2.693548387096774,
          2.338888888888889,
          2.2222222222222223,
          1.6,
          1.4371584699453552,
          1.9268292682926829,
          2.4688581314878895,
          5.738317757009346,
          2.653295128939828,
          1.3,
          1,
          3.0819861431870668,
          1,
          2,
          6.854368932038835,
          2.347826086956522,
          1,
          2.968152866242038,
          1,
          1.7741935483870968,
          1,
          1.625,
          1,
          4.243589743589744,
          2.2451923076923075,
          4.14004914004914,
          1.7222222222222223,
          3.6815203145478375,
          1.8481012658227849,
          1.2307692307692308,
          1.105263157894737,
          1.3571428571428572,
          2.0476190476190474,
          1,
          2.2152777777777777,
          1,
          2.080402010050251,
          1.4,
          1,
          1.0909090909090908,
          6.8936170212765955,
          1.5294117647058822,
          2.3,
          3.707317073170732,
          1,
          2.6310679611650487,
          1,
          3.240981240981241,
          4.007025761124122,
          3.334763948497854,
          2.2280701754385963,
          3.2096774193548385,
          3.2281167108753315,
          1.7714285714285714,
          1,
          3.369047619047619,
          3.255054432348367,
          1.7777777777777777,
          1,
          1.588235294117647,
          1,
          1,
          5,
          7.8108108108108105,
          2.6666666666666665,
          2.3734939759036147,
          1,
          2.0277777777777777,
          1,
          2.0229885057471266,
          2.5702479338842976,
          2.375,
          2.834,
          1.5,
          2.353909465020576,
          2.4245283018867925,
          2.4098613251155623,
          1,
          1.98,
          1.1666666666666667,
          1.75,
          3.0693877551020408,
          3.331316187594554,
          2.9857142857142858,
          4.566451612903226,
          1.09375,
          1,
          2.2413793103448274,
          1.7751196172248804,
          1.6666666666666667,
          1.1428571428571428,
          1,
          1,
          2.2758620689655173,
          2.0488721804511276,
          2.2808988764044944,
          2.260869565217391,
          1.3837209302325582,
          2.0714285714285716,
          1,
          2.3240223463687153,
          1,
          3.1029411764705883,
          1.2537313432835822,
          3.7115384615384617,
          6.461318051575931,
          1.74,
          1,
          1,
          1.8426966292134832,
          2.388888888888889,
          3.384169884169884,
          1,
          1.3209302325581396,
          2.8536585365853657,
          2.0140845070422535,
          1.3636363636363635,
          1,
          1.793103448275862,
          2.763959390862944,
          1,
          1,
          1.5,
          3.1327433628318584,
          1,
          1,
          4.97011952191235,
          1.9558232931726907,
          1,
          1.4666666666666666,
          2.821256038647343,
          1.0625,
          3.3266932270916336,
          3.0104166666666665,
          3.6357615894039736,
          2.2222222222222223,
          2.588607594936709,
          1.8235294117647058,
          2.5614525139664805,
          2.715404699738903,
          4.48936170212766,
          1.4,
          1.25,
          4.058333333333334,
          1.6486486486486487,
          5.333333333333333,
          1.3529411764705883,
          3.5242290748898677,
          3.066666666666667,
          3.027027027027027,
          2.1875,
          1.5333333333333334,
          4.289256198347108,
          3.576,
          3.5203562340966923,
          1.8222222222222222,
          1.032258064516129,
          3.8275862068965516,
          3.520097442143727,
          1.705223880597015,
          3.686900958466454,
          2.7982456140350878,
          1,
          1.25,
          2.1666666666666665,
          4.4960753532182105,
          2.0025445292620865,
          1.6666666666666667,
          2.5213358070500926,
          2.0185185185185186,
          3,
          2.6374133949191685,
          2.025,
          5.683098591549296,
          1.0892857142857142,
          3.4405940594059405,
          2.8211764705882354,
          2.5105263157894737,
          1,
          1.44,
          3.5345911949685536,
          2.4658753709198815,
          3.9751243781094527,
          1.7578947368421052,
          1.675531914893617,
          2.5,
          1.2264150943396226,
          1.8085106382978724,
          3.1639344262295084,
          1,
          2.8109756097560976,
          2.2241379310344827,
          1.4054054054054055,
          1,
          1.5526315789473684,
          1.105263157894737,
          1,
          1,
          1,
          3.216710182767624,
          1.6,
          1,
          1,
          1.0476190476190477,
          1.3176470588235294,
          1,
          1.3111111111111111,
          1.1428571428571428,
          1,
          3.4310077519379845,
          1,
          1.0909090909090908,
          1,
          1.1904761904761905,
          1.25,
          1.9375,
          3.6402877697841727,
          2.4909090909090907,
          1.6666666666666667,
          1.6428571428571428,
          3.8676470588235294,
          3.1359649122807016,
          1,
          3.745019920318725,
          1,
          1.5,
          1,
          2.6698473282442747,
          2.936241610738255,
          2.673469387755102,
          1.3513513513513513,
          1.8,
          1.2,
          1.1428571428571428,
          1,
          1.6666666666666667,
          3.293069306930693,
          2.554263565891473,
          1,
          1.5272727272727273,
          1.4651162790697674,
          2.75,
          1.5454545454545454,
          4.8,
          1.375,
          1.2857142857142858,
          3.607594936708861,
          1.8863636363636365,
          5.509328358208955,
          2.2567567567567566,
          2.2968299711815563,
          1.0526315789473684,
          1,
          1.3636363636363635,
          1,
          1.2,
          3.09846547314578,
          4,
          4.21505376344086,
          1.25,
          1.25,
          1.2142857142857142,
          1,
          5.2,
          5.5969868173258,
          2.574074074074074,
          1.7578125,
          2.5888501742160277,
          1.096774193548387,
          1.1666666666666667,
          3.263157894736842,
          2.985981308411215,
          1.3333333333333333,
          1,
          1.5,
          1.8666666666666667,
          1,
          1,
          1.3145539906103287,
          4.541871921182266,
          1,
          1.0625,
          2.578125,
          1,
          1,
          1,
          2.839622641509434,
          2.7,
          1.3333333333333333,
          2,
          2.939209726443769,
          1.3,
          1,
          2.9117043121149897,
          4.920087976539589,
          3.409448818897638,
          5.194078947368421,
          1,
          1,
          2.268,
          3.8742724097788126,
          2.9,
          1.5,
          3.230366492146597,
          1.6666666666666667,
          1.4,
          2.6233333333333335,
          7.634328358208955,
          2.332608695652174,
          3.163558106169297,
          1.4666666666666666,
          2.5,
          3.631818181818182,
          3.265957446808511,
          1.5301204819277108,
          1.5,
          1.9,
          1.4210526315789473,
          2.0972222222222223,
          1.6,
          4.846153846153846,
          1.6842105263157894,
          1,
          3.0369458128078817,
          1.7222222222222223,
          3.0156046814044215,
          1,
          1.3909090909090909,
          2.655,
          1.5454545454545454,
          2.8260869565217392,
          1.766355140186916,
          4.008583690987124,
          4.422018348623853,
          2.2941176470588234,
          1,
          1.2037037037037037,
          3.564516129032258,
          2.454304635761589,
          1.8571428571428572,
          1,
          2.9076923076923076,
          1,
          1.1764705882352942,
          1.2857142857142858,
          1.6859504132231404,
          3.022346368715084,
          4.313030069390902,
          1,
          1,
          5.1893424036281175,
          1.7466666666666666,
          4.487721691678035,
          1.2352941176470589,
          4.857142857142857,
          1.7333333333333334,
          1.4375,
          2.433333333333333,
          1.7272727272727273,
          1,
          2.8857142857142857,
          2.642857142857143,
          4.126760563380282,
          1,
          1.8571428571428572,
          2.3636363636363638,
          4.516806722689076,
          1,
          1,
          1,
          1.0535714285714286,
          3,
          3.326857142857143,
          2.08,
          2.442048517520216,
          1.1666666666666667,
          2.931082981715893,
          1.4444444444444444,
          1.1666666666666667,
          2.392523364485981,
          2,
          2.6216216216216215,
          2.7146464646464645,
          1,
          1,
          1.1818181818181819,
          3.2139737991266375,
          3.0929705215419503,
          2.2452830188679247,
          2.0526315789473686,
          1,
          2.463963963963964,
          1.1176470588235294,
          1.1237113402061856,
          1.9142857142857144,
          1.3333333333333333,
          1,
          1.1388888888888888,
          1,
          2.3857142857142857,
          1.04,
          1.5,
          3.3946731234866827,
          3.020703933747412,
          1.5,
          3.1739130434782608,
          3.2542372881355934,
          1,
          2.703125,
          3.220149253731343,
          1.5,
          2.21656050955414,
          1,
          4.04,
          1.6206896551724137,
          1.3333333333333333,
          2,
          2.4375,
          5.893805309734513,
          4.619808306709265,
          4.438559322033898,
          4.271923360353721,
          1,
          1.0344827586206897,
          1.8,
          1.1111111111111112,
          1.725,
          1,
          3.81042654028436,
          1,
          1,
          1,
          1.5163934426229508,
          1.6111111111111112,
          1,
          1,
          1.5,
          2.8852459016393444,
          1.8387096774193548,
          1.588235294117647,
          2.3125,
          2.503875968992248,
          1.2857142857142858,
          2.6042780748663104,
          2.8166894664842683,
          4.058620689655172,
          1.798270893371758,
          1,
          3.349532710280374,
          1.15,
          1.6666666666666667,
          1,
          2.3333333333333335,
          1.6129032258064515,
          2.4482758620689653,
          2.730693069306931,
          1,
          1.9441624365482233,
          2.4166666666666665,
          2.165120593692022,
          1.6746031746031746,
          1.9821428571428572,
          3.3529411764705883,
          3.2790697674418605,
          2.425837320574163,
          2.475177304964539,
          1.5,
          1.0555555555555556,
          1.4285714285714286,
          4.400900900900901,
          3.8107142857142855,
          3.1821561338289963,
          3.226890756302521,
          1.1,
          1.6,
          2.7142857142857144,
          2.9746835443037973,
          1.1333333333333333,
          4.818181818181818,
          1,
          2.9857142857142858,
          1.7,
          3.0076923076923077,
          1,
          2,
          1.5699481865284974,
          1.868421052631579,
          2.6,
          2.0425531914893615,
          4.4222222222222225,
          2.529032258064516,
          1.8676470588235294,
          3.0963855421686746,
          2,
          2.518828451882845,
          2.975806451612903,
          1.1,
          4.60064935064935,
          1.4,
          2.578402366863905,
          3.7799442896935935,
          5.538461538461538,
          2.6968085106382977,
          2.090909090909091,
          3.0254777070063694,
          1.3333333333333333,
          2.255,
          2,
          1.4285714285714286,
          2.4463519313304722,
          1.631578947368421,
          3.4545454545454546,
          1.553191489361702,
          2.6815642458100557,
          2.3333333333333335,
          2.588235294117647,
          2.230769230769231,
          4.40826873385013,
          3.074074074074074,
          1.8571428571428572,
          1.5,
          1,
          1.6666666666666667,
          1,
          2.6,
          1.1025641025641026,
          1,
          1.25,
          2.392156862745098,
          1,
          1.96875,
          1,
          1.2857142857142858,
          2.986206896551724,
          1.2241379310344827,
          4.03125,
          3.3,
          3.9983333333333335,
          1.7826086956521738,
          1.9651162790697674,
          2.7037037037037037,
          1,
          1.85,
          3.2885802469135803,
          1.1,
          1,
          1.7563025210084033,
          3.169284467713787,
          3.4285714285714284,
          1.6666666666666667,
          2.789189189189189,
          3.1762295081967213,
          4.015105740181269,
          1,
          6.18429003021148,
          1.5757575757575757,
          2.682170542635659,
          5.838709677419355,
          1,
          1.3142857142857143,
          2.3412322274881516,
          1.8333333333333333,
          1.875968992248062,
          3.7058823529411766,
          3.611788617886179,
          4.9317738791423,
          1.2672064777327936,
          1,
          3.588888888888889,
          1.8,
          5.144478844169247,
          1.4166666666666667,
          1.4314606741573033,
          2.6666666666666665,
          5.325581395348837,
          1.4166666666666667,
          4.17037037037037,
          5.266955266955267,
          4.491851851851852,
          1,
          1.0333333333333334,
          3.511111111111111,
          1,
          1,
          2,
          1.135135135135135,
          2.3282051282051284,
          2.27027027027027,
          2.257142857142857,
          1,
          4.602251407129456,
          1.8928571428571428,
          1.8518518518518519,
          1.5,
          3.7351955307262568,
          2,
          1.8993288590604027,
          1.1538461538461537,
          7.090163934426229,
          4.44468085106383,
          2.0526315789473686,
          1.3333333333333333,
          1,
          1,
          2.35,
          2.292817679558011,
          1.7678571428571428,
          1,
          4.982608695652174,
          1,
          1,
          2.6097560975609757,
          1.4770114942528736,
          1.7,
          1,
          4.804580152671756,
          5.4874371859296485,
          5.376857749469214,
          1.280373831775701,
          2.7666666666666666,
          2.3076923076923075,
          1.5555555555555556,
          5.5025641025641026,
          1,
          1.618320610687023,
          2.2268518518518516,
          2.524017467248908,
          1.9333333333333333,
          2.4976744186046513,
          2.772727272727273,
          2.1269035532994924,
          2.418300653594771,
          5.265151515151516,
          4.237244897959184,
          1.459016393442623,
          1.9444444444444444,
          2.8142414860681115,
          2.549586776859504,
          2.1283783783783785,
          1.6363636363636365,
          3.4444444444444446,
          1,
          3.443396226415094,
          6.176470588235294,
          1.76,
          1,
          1.0625,
          1,
          1,
          1.8571428571428572,
          1,
          4.489332415691672,
          3.3376777251184833,
          2,
          2.4675324675324677,
          1,
          1,
          2.7,
          3.4517045454545454,
          3.2454819277108435,
          1.5441176470588236,
          2.130434782608696,
          1,
          3,
          1,
          1.9767441860465116,
          1,
          5.753246753246753,
          1,
          1.1666666666666667,
          1.0416666666666667,
          1.88135593220339,
          1,
          4.210855949895616,
          1.5714285714285714,
          1,
          2.0647249190938513,
          1.1333333333333333,
          1.9975786924939467,
          2.7037037037037037,
          1.6666666666666667,
          1.2222222222222223,
          1.7664670658682635,
          7.976190476190476,
          2,
          3.1650485436893203,
          2.0232558139534884,
          2.119047619047619,
          4.163522012578617,
          4,
          2.39020979020979,
          1.7026315789473685,
          1,
          3.046478873239437,
          3.71875,
          1.8571428571428572,
          1.9375,
          1.1428571428571428,
          1.1428571428571428,
          1.6071428571428572,
          1.7884615384615385,
          3.524390243902439,
          2.0982142857142856,
          2,
          1.8611111111111112,
          1.2222222222222223,
          1.0666666666666667,
          4.319587628865979,
          1.3333333333333333,
          4.292817679558011,
          1,
          1.1944444444444444,
          1.275,
          1,
          2.2388059701492535,
          4.0333604556550045,
          2.3834586466165413,
          3.2889518413597734,
          1.2307692307692308,
          1.5686274509803921,
          1.0555555555555556,
          3.9559675550405564,
          1.8073394495412844,
          1.4,
          1.051948051948052,
          2.857142857142857,
          1.2941176470588236,
          1.5454545454545454,
          1.1111111111111112,
          1.8666666666666667,
          4.202302631578948,
          2,
          4.673659673659674,
          4.434689507494647,
          1.1875,
          2.3684210526315788,
          1.7638888888888888,
          3,
          1,
          3.5077793493635077,
          2.446564885496183,
          3.186770428015564,
          1,
          1.2,
          1.6349206349206349,
          1,
          1,
          1,
          2.380658436213992,
          1.3333333333333333,
          1,
          1.5,
          1.380952380952381,
          2.9245283018867925,
          1.1428571428571428,
          2.3132530120481927,
          2.180327868852459,
          2.7356521739130435,
          2.3142857142857145,
          2.463343108504399,
          1.1666666666666667,
          1.5333333333333334,
          2.536231884057971,
          1.6097560975609757,
          1.4705882352941178,
          2.650557620817844,
          3.841530054644809,
          2,
          1.9344262295081966,
          3.3018018018018016,
          1,
          1.25,
          2.784313725490196,
          3.6842709529276694,
          2.9754335260115607,
          3.3828828828828827,
          2.765432098765432,
          2.4516129032258065,
          1.0454545454545454,
          1.6917808219178083,
          3.670103092783505,
          1,
          3,
          1.6666666666666667,
          2.8646080760095014,
          1.4242424242424243,
          2.75,
          2.5098814229249014,
          2.345572354211663,
          1.1666666666666667,
          1.064516129032258,
          1,
          3.241025641025641,
          3.072310405643739,
          1,
          1.1818181818181819,
          1,
          1.5,
          3.7536945812807883,
          2.884105960264901,
          2,
          2.0046620046620047,
          1,
          1,
          2.3368794326241136,
          1.3565217391304347,
          3.5194174757281553,
          1,
          3.900695134061569,
          1.6,
          1.3333333333333333,
          1.8125,
          1.8344370860927153,
          1.368421052631579,
          1,
          2.4878048780487805,
          4.5112903225806456,
          1,
          1,
          1,
          1.5,
          1.6585365853658536,
          3.66382252559727,
          3.4452554744525545,
          1.7234042553191489,
          4.208053691275167,
          3.965435041716329,
          3.696687370600414,
          1,
          3.4017543859649124,
          4.074509803921568,
          2.8560311284046693,
          2.8958333333333335,
          2.963963963963964,
          2,
          1.8181818181818181,
          1.445945945945946,
          1,
          3.5714285714285716,
          1,
          4.389830508474576,
          1.4285714285714286,
          2.5555555555555554,
          2.896551724137931,
          1,
          4.786163522012578,
          1,
          3.7116104868913857,
          1.6585365853658536,
          1,
          1,
          1.9550561797752808,
          4.006459948320414,
          3.2914438502673797,
          2.636986301369863,
          1.0851063829787233,
          1.037037037037037,
          1.8248847926267282,
          4.215753424657534,
          2.2857142857142856,
          1.5,
          3.955840455840456,
          1.537037037037037,
          1.1,
          7.428571428571429,
          3.6666666666666665,
          2.9,
          2.7226277372262775,
          1.9166666666666667,
          1.84375,
          2.1904761904761907,
          3.9780775716694774,
          1.725,
          1,
          2.090909090909091,
          3.88,
          1,
          1,
          1,
          3.367741935483871,
          1.2857142857142858,
          1.1666666666666667,
          1,
          1,
          4.961722488038277,
          1.56,
          1.3375,
          1,
          1.4736842105263157,
          4.62751677852349,
          4.0894660894660895,
          3.5454545454545454,
          4.5427509293680295,
          2.6216216216216215,
          1.75,
          2.7,
          3.75,
          2.2857142857142856,
          1,
          3.6864686468646863,
          3.196969696969697,
          5.434285714285714,
          3.1294117647058823,
          2.0444444444444443,
          2.1142857142857143,
          1,
          1.825,
          3.259136212624585,
          1.6,
          2.1608187134502925,
          4.283393501805054,
          3.1831683168316833,
          1,
          1.6785714285714286,
          1,
          2.039473684210526,
          2,
          1.1428571428571428,
          1.25,
          3,
          2.8674698795180724,
          1,
          2.8308668076109935,
          1.3,
          2.1095890410958904,
          2.3559322033898304,
          1.875,
          1,
          1.2,
          1,
          3.688775510204082,
          1.0769230769230769,
          3.402684563758389,
          4.107142857142857,
          2.1176470588235294,
          3.706422018348624,
          2.439516129032258,
          1,
          3.4513274336283186,
          1.2258064516129032,
          2.865800865800866,
          3.514957264957265,
          1.6666666666666667,
          4.335555555555556,
          1.3333333333333333,
          1.0833333333333333,
          2.1363636363636362,
          1,
          3.0594594594594593,
          4.3004291845493565,
          1.533724340175953,
          1,
          6.431977559607293,
          1.3333333333333333,
          2.7282229965156795,
          4.449696151249156,
          1,
          1.3333333333333333,
          2.6470588235294117,
          5.4609286523216305,
          1,
          3.1328125,
          1.9701492537313432,
          1.9478260869565218,
          2.0833333333333335,
          1.9387755102040816,
          2.2,
          1.1538461538461537,
          1.3695652173913044,
          1.0434782608695652,
          1,
          1.6440677966101696,
          1.7333333333333334,
          1.2,
          4.456919060052219,
          2.704663212435233,
          2.18,
          1.525,
          2.306122448979592,
          2.4501845018450186,
          2.89937106918239,
          1,
          1.5098039215686274,
          1.4776119402985075,
          3.581818181818182,
          2.4473684210526314,
          2.8521560574948666,
          1,
          4.595488721804511,
          3.9485179407176285,
          2.1107594936708862,
          1.7630922693266833,
          1,
          1.2,
          4.203830369357045,
          1.5454545454545454,
          3.6376146788990824,
          2.66,
          4.741721854304636,
          3.7186544342507646,
          1,
          3.5047361299052775,
          1.8309859154929577,
          1.934673366834171,
          1.7142857142857142,
          1.3125,
          5.857349746560463,
          2.0784313725490198,
          1,
          1,
          3.113127001067236,
          1.8571428571428572,
          4.03125,
          1,
          1.6296296296296295,
          1,
          3.7381818181818183,
          1,
          5.179372197309417,
          3.005524861878453,
          1.25,
          4.054421768707483,
          1.5769230769230769,
          2.1944444444444446,
          2.86003861003861,
          1.6521739130434783,
          2.8404255319148937,
          1.8775510204081634,
          3.1153846153846154,
          1,
          2.996330275229358,
          1.75,
          1.1818181818181819,
          2.9439071566731143,
          1,
          1.7272727272727273,
          2.0588235294117645,
          6.586294416243655,
          2.5555555555555554,
          2.3901464713715046,
          1.4090909090909092,
          1,
          1,
          1.6333333333333333,
          1.3096774193548386,
          2.8555555555555556,
          1.9253731343283582,
          2.504166666666667,
          4.540322580645161,
          2.9473684210526314,
          3.25,
          2.883424408014572,
          2.0301075268817206,
          2.0206896551724136,
          1.5,
          2.6578947368421053,
          3.450854700854701,
          1,
          1.4230769230769231,
          1.9166666666666667,
          2.1129032258064515,
          1.9476190476190476,
          1.6326530612244898,
          1.1818181818181819,
          1.4852941176470589,
          1.5481171548117154,
          2.1784776902887137,
          1,
          1,
          1.4516129032258065,
          1.04,
          1,
          1.7884615384615385,
          2.7939698492462313,
          1.180232558139535,
          1,
          4.55893536121673,
          3.185185185185185,
          1,
          2.0277777777777777,
          1.4545454545454546,
          4.16628701594533,
          2.2435897435897436,
          5.476691729323308,
          2.699300699300699,
          1.2105263157894737,
          2.938775510204082,
          2.9444444444444446,
          1,
          1,
          2.669421487603306,
          2,
          1,
          1.8636363636363635,
          3.422222222222222,
          2.581034482758621,
          2.3161764705882355,
          1.4705882352941178,
          4.625954198473282,
          1.3419354838709678,
          2.7071428571428573,
          1.504,
          1,
          1,
          1,
          2.9296875,
          2.2581395348837208,
          3.047258979206049,
          1,
          1.2222222222222223,
          2.7777777777777777,
          1,
          2.1832797427652735,
          1.0625,
          3.5386533665835413,
          2,
          1.25,
          2.735294117647059,
          2,
          4.020833333333333,
          1,
          1.04,
          1.1818181818181819,
          1,
          1.3888888888888888,
          1,
          2.6045977011494252,
          2.9696969696969697,
          1.5348837209302326,
          2.306122448979592,
          2.891797556719023,
          1.7894736842105263,
          1.9298245614035088,
          2.235074626865672,
          4.202429149797571,
          2.1366120218579234,
          3.4081632653061225,
          2.786764705882353,
          3.3333333333333335,
          2.8171206225680936,
          1,
          2.17420814479638,
          3.633100697906281,
          3,
          1.9052631578947368,
          2.6131805157593124,
          1.8255813953488371,
          1,
          1.4601769911504425,
          1.0666666666666667,
          1,
          1,
          1.0666666666666667,
          1.7272727272727273,
          2.8734873487348733,
          2.25531914893617,
          3.0861423220973783,
          1,
          1.1428571428571428,
          1.5,
          1.125,
          1.7894736842105263,
          2.5894736842105264,
          1.388235294117647,
          1.25,
          1.490566037735849,
          1.5818181818181818,
          1,
          3.425196850393701,
          2.858064516129032,
          1,
          1.5657894736842106,
          1.4407894736842106,
          4.739864864864865,
          2.257575757575758,
          1,
          1.0303030303030303,
          3.032967032967033,
          1,
          1,
          8.557620817843866,
          1.6476190476190475,
          4.5993265993265995,
          3.7752659574468086,
          2.6666666666666665,
          3.3255269320843093,
          3.271153846153846,
          1,
          1.3333333333333333,
          2.230188679245283,
          3.6103678929765888,
          3.6310160427807485,
          1,
          1,
          3.11787072243346,
          1.0384615384615385,
          1,
          2.0136986301369864,
          4.202247191011236,
          1.6360424028268552,
          1.5621301775147929,
          2.5823293172690764,
          1.353846153846154,
          1,
          1.198019801980198,
          1,
          1.6451612903225807,
          1,
          1.775,
          1.0769230769230769,
          1.4363636363636363,
          1,
          1.375,
          5.42798353909465,
          2,
          2.1436848203939745,
          1.7142857142857142,
          3.8947368421052633,
          1.75,
          3.5828220858895707,
          1,
          2,
          2.118556701030928,
          1.835164835164835,
          5.18673647469459,
          1.9787234042553192,
          1,
          1,
          2.1645569620253164,
          2.8333333333333335,
          2.9798270893371757,
          4.521246458923513,
          2.2204301075268815,
          2.4671052631578947,
          1.1428571428571428,
          2.891304347826087,
          1,
          1.411764705882353,
          1.9878048780487805,
          2.411764705882353,
          1,
          2.3333333333333335,
          2.338709677419355,
          1,
          1.1428571428571428,
          1,
          1.7,
          1,
          1.0797872340425532,
          2,
          5.679775280898877,
          5.6929637526652455,
          1,
          2.1379310344827585,
          1.5454545454545454,
          3.5037406483790523,
          1.288888888888889,
          3.1882352941176473,
          1.5,
          3.9447322970639034,
          1.0714285714285714,
          2.911111111111111,
          1,
          1.2923076923076924,
          1,
          2.3679245283018866,
          3.5971830985915494,
          3.0844277673545966,
          1.3452054794520547,
          1.0547945205479452,
          2,
          1,
          3.1559633027522938,
          1.3333333333333333,
          1.394736842105263,
          1,
          1,
          2.0224032586558045,
          1.2,
          3.6351931330472103,
          3.230088495575221,
          1.1666666666666667,
          2.5723684210526314,
          1.7142857142857142,
          4.260050251256281,
          3.484641638225256,
          7.5,
          2.5833333333333335,
          1.73753280839895,
          3.0392156862745097,
          1.5,
          1.8709677419354838,
          2.4631828978622328,
          2.6551724137931036,
          1,
          1.0526315789473684,
          2.125,
          1.75,
          2.6214285714285714,
          1,
          5.112886048988285,
          1.5,
          3.9048991354466858,
          1.3333333333333333,
          3.101010101010101,
          1.3,
          1.32,
          2,
          2.3777777777777778,
          1,
          4.507987220447284,
          3.032967032967033,
          3.1706827309236947,
          2.442622950819672,
          2.1363636363636362,
          2.7184466019417477,
          2.5405405405405403,
          3.5591397849462365,
          1.9541284403669725,
          1.1,
          5.5,
          1,
          3.6082474226804124,
          1.6666666666666667,
          2.393617021276596,
          1.1290322580645162,
          2.9095940959409594,
          2.65625,
          1,
          3.11340206185567,
          1.510204081632653,
          2.49685534591195,
          1.09375,
          1.7857142857142858,
          1,
          1,
          1.3076923076923077,
          2.1392405063291138,
          1.2083333333333333,
          1,
          3.25,
          1.8125,
          4.097142857142857,
          1,
          2,
          1.9661016949152543,
          4.556085918854415,
          1.3714285714285714,
          1.0833333333333333,
          4.188946015424165,
          1,
          2,
          2,
          1.813953488372093,
          1.3258426966292134,
          1,
          1.4814814814814814,
          1.2205882352941178,
          3.780859916782247,
          1.1538461538461537,
          1.2,
          2.277027027027027,
          2.361111111111111,
          4.256521739130434,
          1.2758620689655173,
          1.4444444444444444,
          2.7918871252204585,
          1.5,
          3.5609756097560976,
          2.4918032786885247,
          2.9327731092436973,
          1,
          2.087912087912088,
          4.379585326953748,
          2.8151260504201683,
          1.297872340425532,
          1.4285714285714286,
          1.7033898305084745,
          3.208480565371025,
          5.672090112640801,
          4.036117381489842,
          3.853932584269663,
          1.6666666666666667,
          1.6237113402061856,
          1.8,
          1,
          1,
          2.8505747126436782,
          2.0126582278481013,
          4,
          1.25,
          1.0555555555555556,
          2.456,
          1,
          1.5,
          1.2571428571428571,
          4.021604938271605,
          1.8,
          1.9411764705882353,
          2.8,
          2.6666666666666665,
          2.6842105263157894,
          1,
          1.1111111111111112,
          1.2,
          1.991150442477876,
          3.4700460829493087,
          1,
          1.6,
          1.1111111111111112,
          2.075187969924812,
          5.183734939759036,
          1,
          2.6666666666666665,
          1.6852678571428572,
          1,
          1.6,
          1.03125,
          2.7142857142857144,
          1.9,
          1.625,
          1.75,
          1.5357142857142858,
          1.2258064516129032,
          1
         ],
         "yaxis": "y"
        }
       ],
       "layout": {
        "coloraxis": {
         "colorbar": {
          "title": {
           "text": "cluster"
          }
         },
         "colorscale": [
          [
           0,
           "#440154"
          ],
          [
           0.1111111111111111,
           "#482878"
          ],
          [
           0.2222222222222222,
           "#3e4989"
          ],
          [
           0.3333333333333333,
           "#31688e"
          ],
          [
           0.4444444444444444,
           "#26828e"
          ],
          [
           0.5555555555555556,
           "#1f9e89"
          ],
          [
           0.6666666666666666,
           "#35b779"
          ],
          [
           0.7777777777777778,
           "#6ece58"
          ],
          [
           0.8888888888888888,
           "#b5de2b"
          ],
          [
           1,
           "#fde725"
          ]
         ]
        },
        "legend": {
         "tracegroupgap": 0
        },
        "template": {
         "data": {
          "bar": [
           {
            "error_x": {
             "color": "#2a3f5f"
            },
            "error_y": {
             "color": "#2a3f5f"
            },
            "marker": {
             "line": {
              "color": "#E5ECF6",
              "width": 0.5
             },
             "pattern": {
              "fillmode": "overlay",
              "size": 10,
              "solidity": 0.2
             }
            },
            "type": "bar"
           }
          ],
          "barpolar": [
           {
            "marker": {
             "line": {
              "color": "#E5ECF6",
              "width": 0.5
             },
             "pattern": {
              "fillmode": "overlay",
              "size": 10,
              "solidity": 0.2
             }
            },
            "type": "barpolar"
           }
          ],
          "carpet": [
           {
            "aaxis": {
             "endlinecolor": "#2a3f5f",
             "gridcolor": "white",
             "linecolor": "white",
             "minorgridcolor": "white",
             "startlinecolor": "#2a3f5f"
            },
            "baxis": {
             "endlinecolor": "#2a3f5f",
             "gridcolor": "white",
             "linecolor": "white",
             "minorgridcolor": "white",
             "startlinecolor": "#2a3f5f"
            },
            "type": "carpet"
           }
          ],
          "choropleth": [
           {
            "colorbar": {
             "outlinewidth": 0,
             "ticks": ""
            },
            "type": "choropleth"
           }
          ],
          "contour": [
           {
            "colorbar": {
             "outlinewidth": 0,
             "ticks": ""
            },
            "colorscale": [
             [
              0,
              "#0d0887"
             ],
             [
              0.1111111111111111,
              "#46039f"
             ],
             [
              0.2222222222222222,
              "#7201a8"
             ],
             [
              0.3333333333333333,
              "#9c179e"
             ],
             [
              0.4444444444444444,
              "#bd3786"
             ],
             [
              0.5555555555555556,
              "#d8576b"
             ],
             [
              0.6666666666666666,
              "#ed7953"
             ],
             [
              0.7777777777777778,
              "#fb9f3a"
             ],
             [
              0.8888888888888888,
              "#fdca26"
             ],
             [
              1,
              "#f0f921"
             ]
            ],
            "type": "contour"
           }
          ],
          "contourcarpet": [
           {
            "colorbar": {
             "outlinewidth": 0,
             "ticks": ""
            },
            "type": "contourcarpet"
           }
          ],
          "heatmap": [
           {
            "colorbar": {
             "outlinewidth": 0,
             "ticks": ""
            },
            "colorscale": [
             [
              0,
              "#0d0887"
             ],
             [
              0.1111111111111111,
              "#46039f"
             ],
             [
              0.2222222222222222,
              "#7201a8"
             ],
             [
              0.3333333333333333,
              "#9c179e"
             ],
             [
              0.4444444444444444,
              "#bd3786"
             ],
             [
              0.5555555555555556,
              "#d8576b"
             ],
             [
              0.6666666666666666,
              "#ed7953"
             ],
             [
              0.7777777777777778,
              "#fb9f3a"
             ],
             [
              0.8888888888888888,
              "#fdca26"
             ],
             [
              1,
              "#f0f921"
             ]
            ],
            "type": "heatmap"
           }
          ],
          "heatmapgl": [
           {
            "colorbar": {
             "outlinewidth": 0,
             "ticks": ""
            },
            "colorscale": [
             [
              0,
              "#0d0887"
             ],
             [
              0.1111111111111111,
              "#46039f"
             ],
             [
              0.2222222222222222,
              "#7201a8"
             ],
             [
              0.3333333333333333,
              "#9c179e"
             ],
             [
              0.4444444444444444,
              "#bd3786"
             ],
             [
              0.5555555555555556,
              "#d8576b"
             ],
             [
              0.6666666666666666,
              "#ed7953"
             ],
             [
              0.7777777777777778,
              "#fb9f3a"
             ],
             [
              0.8888888888888888,
              "#fdca26"
             ],
             [
              1,
              "#f0f921"
             ]
            ],
            "type": "heatmapgl"
           }
          ],
          "histogram": [
           {
            "marker": {
             "pattern": {
              "fillmode": "overlay",
              "size": 10,
              "solidity": 0.2
             }
            },
            "type": "histogram"
           }
          ],
          "histogram2d": [
           {
            "colorbar": {
             "outlinewidth": 0,
             "ticks": ""
            },
            "colorscale": [
             [
              0,
              "#0d0887"
             ],
             [
              0.1111111111111111,
              "#46039f"
             ],
             [
              0.2222222222222222,
              "#7201a8"
             ],
             [
              0.3333333333333333,
              "#9c179e"
             ],
             [
              0.4444444444444444,
              "#bd3786"
             ],
             [
              0.5555555555555556,
              "#d8576b"
             ],
             [
              0.6666666666666666,
              "#ed7953"
             ],
             [
              0.7777777777777778,
              "#fb9f3a"
             ],
             [
              0.8888888888888888,
              "#fdca26"
             ],
             [
              1,
              "#f0f921"
             ]
            ],
            "type": "histogram2d"
           }
          ],
          "histogram2dcontour": [
           {
            "colorbar": {
             "outlinewidth": 0,
             "ticks": ""
            },
            "colorscale": [
             [
              0,
              "#0d0887"
             ],
             [
              0.1111111111111111,
              "#46039f"
             ],
             [
              0.2222222222222222,
              "#7201a8"
             ],
             [
              0.3333333333333333,
              "#9c179e"
             ],
             [
              0.4444444444444444,
              "#bd3786"
             ],
             [
              0.5555555555555556,
              "#d8576b"
             ],
             [
              0.6666666666666666,
              "#ed7953"
             ],
             [
              0.7777777777777778,
              "#fb9f3a"
             ],
             [
              0.8888888888888888,
              "#fdca26"
             ],
             [
              1,
              "#f0f921"
             ]
            ],
            "type": "histogram2dcontour"
           }
          ],
          "mesh3d": [
           {
            "colorbar": {
             "outlinewidth": 0,
             "ticks": ""
            },
            "type": "mesh3d"
           }
          ],
          "parcoords": [
           {
            "line": {
             "colorbar": {
              "outlinewidth": 0,
              "ticks": ""
             }
            },
            "type": "parcoords"
           }
          ],
          "pie": [
           {
            "automargin": true,
            "type": "pie"
           }
          ],
          "scatter": [
           {
            "fillpattern": {
             "fillmode": "overlay",
             "size": 10,
             "solidity": 0.2
            },
            "type": "scatter"
           }
          ],
          "scatter3d": [
           {
            "line": {
             "colorbar": {
              "outlinewidth": 0,
              "ticks": ""
             }
            },
            "marker": {
             "colorbar": {
              "outlinewidth": 0,
              "ticks": ""
             }
            },
            "type": "scatter3d"
           }
          ],
          "scattercarpet": [
           {
            "marker": {
             "colorbar": {
              "outlinewidth": 0,
              "ticks": ""
             }
            },
            "type": "scattercarpet"
           }
          ],
          "scattergeo": [
           {
            "marker": {
             "colorbar": {
              "outlinewidth": 0,
              "ticks": ""
             }
            },
            "type": "scattergeo"
           }
          ],
          "scattergl": [
           {
            "marker": {
             "colorbar": {
              "outlinewidth": 0,
              "ticks": ""
             }
            },
            "type": "scattergl"
           }
          ],
          "scattermapbox": [
           {
            "marker": {
             "colorbar": {
              "outlinewidth": 0,
              "ticks": ""
             }
            },
            "type": "scattermapbox"
           }
          ],
          "scatterpolar": [
           {
            "marker": {
             "colorbar": {
              "outlinewidth": 0,
              "ticks": ""
             }
            },
            "type": "scatterpolar"
           }
          ],
          "scatterpolargl": [
           {
            "marker": {
             "colorbar": {
              "outlinewidth": 0,
              "ticks": ""
             }
            },
            "type": "scatterpolargl"
           }
          ],
          "scatterternary": [
           {
            "marker": {
             "colorbar": {
              "outlinewidth": 0,
              "ticks": ""
             }
            },
            "type": "scatterternary"
           }
          ],
          "surface": [
           {
            "colorbar": {
             "outlinewidth": 0,
             "ticks": ""
            },
            "colorscale": [
             [
              0,
              "#0d0887"
             ],
             [
              0.1111111111111111,
              "#46039f"
             ],
             [
              0.2222222222222222,
              "#7201a8"
             ],
             [
              0.3333333333333333,
              "#9c179e"
             ],
             [
              0.4444444444444444,
              "#bd3786"
             ],
             [
              0.5555555555555556,
              "#d8576b"
             ],
             [
              0.6666666666666666,
              "#ed7953"
             ],
             [
              0.7777777777777778,
              "#fb9f3a"
             ],
             [
              0.8888888888888888,
              "#fdca26"
             ],
             [
              1,
              "#f0f921"
             ]
            ],
            "type": "surface"
           }
          ],
          "table": [
           {
            "cells": {
             "fill": {
              "color": "#EBF0F8"
             },
             "line": {
              "color": "white"
             }
            },
            "header": {
             "fill": {
              "color": "#C8D4E3"
             },
             "line": {
              "color": "white"
             }
            },
            "type": "table"
           }
          ]
         },
         "layout": {
          "annotationdefaults": {
           "arrowcolor": "#2a3f5f",
           "arrowhead": 0,
           "arrowwidth": 1
          },
          "autotypenumbers": "strict",
          "coloraxis": {
           "colorbar": {
            "outlinewidth": 0,
            "ticks": ""
           }
          },
          "colorscale": {
           "diverging": [
            [
             0,
             "#8e0152"
            ],
            [
             0.1,
             "#c51b7d"
            ],
            [
             0.2,
             "#de77ae"
            ],
            [
             0.3,
             "#f1b6da"
            ],
            [
             0.4,
             "#fde0ef"
            ],
            [
             0.5,
             "#f7f7f7"
            ],
            [
             0.6,
             "#e6f5d0"
            ],
            [
             0.7,
             "#b8e186"
            ],
            [
             0.8,
             "#7fbc41"
            ],
            [
             0.9,
             "#4d9221"
            ],
            [
             1,
             "#276419"
            ]
           ],
           "sequential": [
            [
             0,
             "#0d0887"
            ],
            [
             0.1111111111111111,
             "#46039f"
            ],
            [
             0.2222222222222222,
             "#7201a8"
            ],
            [
             0.3333333333333333,
             "#9c179e"
            ],
            [
             0.4444444444444444,
             "#bd3786"
            ],
            [
             0.5555555555555556,
             "#d8576b"
            ],
            [
             0.6666666666666666,
             "#ed7953"
            ],
            [
             0.7777777777777778,
             "#fb9f3a"
            ],
            [
             0.8888888888888888,
             "#fdca26"
            ],
            [
             1,
             "#f0f921"
            ]
           ],
           "sequentialminus": [
            [
             0,
             "#0d0887"
            ],
            [
             0.1111111111111111,
             "#46039f"
            ],
            [
             0.2222222222222222,
             "#7201a8"
            ],
            [
             0.3333333333333333,
             "#9c179e"
            ],
            [
             0.4444444444444444,
             "#bd3786"
            ],
            [
             0.5555555555555556,
             "#d8576b"
            ],
            [
             0.6666666666666666,
             "#ed7953"
            ],
            [
             0.7777777777777778,
             "#fb9f3a"
            ],
            [
             0.8888888888888888,
             "#fdca26"
            ],
            [
             1,
             "#f0f921"
            ]
           ]
          },
          "colorway": [
           "#636efa",
           "#EF553B",
           "#00cc96",
           "#ab63fa",
           "#FFA15A",
           "#19d3f3",
           "#FF6692",
           "#B6E880",
           "#FF97FF",
           "#FECB52"
          ],
          "font": {
           "color": "#2a3f5f"
          },
          "geo": {
           "bgcolor": "white",
           "lakecolor": "white",
           "landcolor": "#E5ECF6",
           "showlakes": true,
           "showland": true,
           "subunitcolor": "white"
          },
          "hoverlabel": {
           "align": "left"
          },
          "hovermode": "closest",
          "mapbox": {
           "style": "light"
          },
          "paper_bgcolor": "white",
          "plot_bgcolor": "#E5ECF6",
          "polar": {
           "angularaxis": {
            "gridcolor": "white",
            "linecolor": "white",
            "ticks": ""
           },
           "bgcolor": "#E5ECF6",
           "radialaxis": {
            "gridcolor": "white",
            "linecolor": "white",
            "ticks": ""
           }
          },
          "scene": {
           "xaxis": {
            "backgroundcolor": "#E5ECF6",
            "gridcolor": "white",
            "gridwidth": 2,
            "linecolor": "white",
            "showbackground": true,
            "ticks": "",
            "zerolinecolor": "white"
           },
           "yaxis": {
            "backgroundcolor": "#E5ECF6",
            "gridcolor": "white",
            "gridwidth": 2,
            "linecolor": "white",
            "showbackground": true,
            "ticks": "",
            "zerolinecolor": "white"
           },
           "zaxis": {
            "backgroundcolor": "#E5ECF6",
            "gridcolor": "white",
            "gridwidth": 2,
            "linecolor": "white",
            "showbackground": true,
            "ticks": "",
            "zerolinecolor": "white"
           }
          },
          "shapedefaults": {
           "line": {
            "color": "#2a3f5f"
           }
          },
          "ternary": {
           "aaxis": {
            "gridcolor": "white",
            "linecolor": "white",
            "ticks": ""
           },
           "baxis": {
            "gridcolor": "white",
            "linecolor": "white",
            "ticks": ""
           },
           "bgcolor": "#E5ECF6",
           "caxis": {
            "gridcolor": "white",
            "linecolor": "white",
            "ticks": ""
           }
          },
          "title": {
           "x": 0.05
          },
          "xaxis": {
           "automargin": true,
           "gridcolor": "white",
           "linecolor": "white",
           "ticks": "",
           "title": {
            "standoff": 15
           },
           "zerolinecolor": "white",
           "zerolinewidth": 2
          },
          "yaxis": {
           "automargin": true,
           "gridcolor": "white",
           "linecolor": "white",
           "ticks": "",
           "title": {
            "standoff": 15
           },
           "zerolinecolor": "white",
           "zerolinewidth": 2
          }
         }
        },
        "title": {
         "text": "NBA Players Clustering Based on 3-Point Shooting"
        },
        "xaxis": {
         "anchor": "y",
         "domain": [
          0,
          1
         ],
         "title": {
          "text": "Shooting Percentage"
         }
        },
        "yaxis": {
         "anchor": "x",
         "domain": [
          0,
          1
         ],
         "title": {
          "text": "Attempts per Game"
         }
        }
       }
      }
     },
     "metadata": {},
     "output_type": "display_data"
    }
   ],
   "source": [
    "player_stats['cluster'] = clusters\n",
    "\n",
    "# Create an interactive scatter plot using Plotly\n",
    "fig = px.scatter(player_stats, x='shooting_percentage', y='Attempts', color='cluster',\n",
    "                 hover_data=['Player Name'], color_continuous_scale='viridis', title='NBA Players Clustering Based on 3-Point Shooting')\n",
    "\n",
    "fig.update_layout(xaxis_title='Shooting Percentage', yaxis_title='Attempts per Game')\n",
    "fig.show()"
   ]
  },
  {
   "cell_type": "code",
   "execution_count": 15,
   "metadata": {},
   "outputs": [
    {
     "data": {
      "text/html": [
       "<div>\n",
       "<style scoped>\n",
       "    .dataframe tbody tr th:only-of-type {\n",
       "        vertical-align: middle;\n",
       "    }\n",
       "\n",
       "    .dataframe tbody tr th {\n",
       "        vertical-align: top;\n",
       "    }\n",
       "\n",
       "    .dataframe thead th {\n",
       "        text-align: right;\n",
       "    }\n",
       "</style>\n",
       "<table border=\"1\" class=\"dataframe\">\n",
       "  <thead>\n",
       "    <tr style=\"text-align: right;\">\n",
       "      <th></th>\n",
       "      <th>Game ID</th>\n",
       "      <th>Game Event ID</th>\n",
       "      <th>Player ID</th>\n",
       "      <th>Player Name</th>\n",
       "      <th>Team ID</th>\n",
       "      <th>Team Name</th>\n",
       "      <th>Period</th>\n",
       "      <th>Minutes Remaining</th>\n",
       "      <th>Seconds Remaining</th>\n",
       "      <th>Action Type</th>\n",
       "      <th>...</th>\n",
       "      <th>Shot Zone Area</th>\n",
       "      <th>Shot Zone Range</th>\n",
       "      <th>Shot Distance</th>\n",
       "      <th>X Location</th>\n",
       "      <th>Y Location</th>\n",
       "      <th>Shot Made Flag</th>\n",
       "      <th>Game Date</th>\n",
       "      <th>Home Team</th>\n",
       "      <th>Away Team</th>\n",
       "      <th>Season Type</th>\n",
       "    </tr>\n",
       "  </thead>\n",
       "  <tbody>\n",
       "    <tr>\n",
       "      <th>0</th>\n",
       "      <td>29700427</td>\n",
       "      <td>389</td>\n",
       "      <td>100</td>\n",
       "      <td>Tim Legler</td>\n",
       "      <td>1610612764</td>\n",
       "      <td>Washington Wizards</td>\n",
       "      <td>4</td>\n",
       "      <td>11</td>\n",
       "      <td>22</td>\n",
       "      <td>Jump Shot</td>\n",
       "      <td>...</td>\n",
       "      <td>Right Side(R)</td>\n",
       "      <td>8-16 ft.</td>\n",
       "      <td>15</td>\n",
       "      <td>117</td>\n",
       "      <td>109</td>\n",
       "      <td>1</td>\n",
       "      <td>19980102</td>\n",
       "      <td>WAS</td>\n",
       "      <td>IND</td>\n",
       "      <td>Regular Season</td>\n",
       "    </tr>\n",
       "    <tr>\n",
       "      <th>1</th>\n",
       "      <td>29700427</td>\n",
       "      <td>406</td>\n",
       "      <td>100</td>\n",
       "      <td>Tim Legler</td>\n",
       "      <td>1610612764</td>\n",
       "      <td>Washington Wizards</td>\n",
       "      <td>4</td>\n",
       "      <td>9</td>\n",
       "      <td>36</td>\n",
       "      <td>Jump Shot</td>\n",
       "      <td>...</td>\n",
       "      <td>Right Side(R)</td>\n",
       "      <td>8-16 ft.</td>\n",
       "      <td>14</td>\n",
       "      <td>143</td>\n",
       "      <td>25</td>\n",
       "      <td>0</td>\n",
       "      <td>19980102</td>\n",
       "      <td>WAS</td>\n",
       "      <td>IND</td>\n",
       "      <td>Regular Season</td>\n",
       "    </tr>\n",
       "    <tr>\n",
       "      <th>2</th>\n",
       "      <td>29700427</td>\n",
       "      <td>475</td>\n",
       "      <td>100</td>\n",
       "      <td>Tim Legler</td>\n",
       "      <td>1610612764</td>\n",
       "      <td>Washington Wizards</td>\n",
       "      <td>4</td>\n",
       "      <td>3</td>\n",
       "      <td>7</td>\n",
       "      <td>Jump Shot</td>\n",
       "      <td>...</td>\n",
       "      <td>Left Side(L)</td>\n",
       "      <td>8-16 ft.</td>\n",
       "      <td>10</td>\n",
       "      <td>-87</td>\n",
       "      <td>55</td>\n",
       "      <td>0</td>\n",
       "      <td>19980102</td>\n",
       "      <td>WAS</td>\n",
       "      <td>IND</td>\n",
       "      <td>Regular Season</td>\n",
       "    </tr>\n",
       "    <tr>\n",
       "      <th>3</th>\n",
       "      <td>29700427</td>\n",
       "      <td>487</td>\n",
       "      <td>100</td>\n",
       "      <td>Tim Legler</td>\n",
       "      <td>1610612764</td>\n",
       "      <td>Washington Wizards</td>\n",
       "      <td>4</td>\n",
       "      <td>1</td>\n",
       "      <td>45</td>\n",
       "      <td>Jump Shot</td>\n",
       "      <td>...</td>\n",
       "      <td>Center(C)</td>\n",
       "      <td>Less Than 8 ft.</td>\n",
       "      <td>5</td>\n",
       "      <td>-1</td>\n",
       "      <td>53</td>\n",
       "      <td>0</td>\n",
       "      <td>19980102</td>\n",
       "      <td>WAS</td>\n",
       "      <td>IND</td>\n",
       "      <td>Regular Season</td>\n",
       "    </tr>\n",
       "    <tr>\n",
       "      <th>4</th>\n",
       "      <td>29700427</td>\n",
       "      <td>497</td>\n",
       "      <td>100</td>\n",
       "      <td>Tim Legler</td>\n",
       "      <td>1610612764</td>\n",
       "      <td>Washington Wizards</td>\n",
       "      <td>4</td>\n",
       "      <td>0</td>\n",
       "      <td>45</td>\n",
       "      <td>Jump Shot</td>\n",
       "      <td>...</td>\n",
       "      <td>Right Side(R)</td>\n",
       "      <td>8-16 ft.</td>\n",
       "      <td>14</td>\n",
       "      <td>89</td>\n",
       "      <td>113</td>\n",
       "      <td>0</td>\n",
       "      <td>19980102</td>\n",
       "      <td>WAS</td>\n",
       "      <td>IND</td>\n",
       "      <td>Regular Season</td>\n",
       "    </tr>\n",
       "  </tbody>\n",
       "</table>\n",
       "<p>5 rows × 22 columns</p>\n",
       "</div>"
      ],
      "text/plain": [
       "    Game ID  Game Event ID  Player ID Player Name     Team ID  \\\n",
       "0  29700427            389        100  Tim Legler  1610612764   \n",
       "1  29700427            406        100  Tim Legler  1610612764   \n",
       "2  29700427            475        100  Tim Legler  1610612764   \n",
       "3  29700427            487        100  Tim Legler  1610612764   \n",
       "4  29700427            497        100  Tim Legler  1610612764   \n",
       "\n",
       "            Team Name  Period  Minutes Remaining  Seconds Remaining  \\\n",
       "0  Washington Wizards       4                 11                 22   \n",
       "1  Washington Wizards       4                  9                 36   \n",
       "2  Washington Wizards       4                  3                  7   \n",
       "3  Washington Wizards       4                  1                 45   \n",
       "4  Washington Wizards       4                  0                 45   \n",
       "\n",
       "  Action Type  ... Shot Zone Area  Shot Zone Range Shot Distance X Location  \\\n",
       "0   Jump Shot  ...  Right Side(R)         8-16 ft.            15        117   \n",
       "1   Jump Shot  ...  Right Side(R)         8-16 ft.            14        143   \n",
       "2   Jump Shot  ...   Left Side(L)         8-16 ft.            10        -87   \n",
       "3   Jump Shot  ...      Center(C)  Less Than 8 ft.             5         -1   \n",
       "4   Jump Shot  ...  Right Side(R)         8-16 ft.            14         89   \n",
       "\n",
       "   Y Location  Shot Made Flag  Game Date  Home Team  Away Team     Season Type  \n",
       "0         109               1   19980102        WAS        IND  Regular Season  \n",
       "1          25               0   19980102        WAS        IND  Regular Season  \n",
       "2          55               0   19980102        WAS        IND  Regular Season  \n",
       "3          53               0   19980102        WAS        IND  Regular Season  \n",
       "4         113               0   19980102        WAS        IND  Regular Season  \n",
       "\n",
       "[5 rows x 22 columns]"
      ]
     },
     "execution_count": 15,
     "metadata": {},
     "output_type": "execute_result"
    }
   ],
   "source": [
    "df.head()"
   ]
  },
  {
   "cell_type": "code",
   "execution_count": 16,
   "metadata": {},
   "outputs": [],
   "source": [
    "df['Game Date'] = pd.to_datetime(df['Game Date'], format='%Y%m%d')\n",
    "df['year'] = df['Game Date'].dt.year"
   ]
  },
  {
   "cell_type": "code",
   "execution_count": 17,
   "metadata": {},
   "outputs": [
    {
     "data": {
      "text/html": [
       "<div>\n",
       "<style scoped>\n",
       "    .dataframe tbody tr th:only-of-type {\n",
       "        vertical-align: middle;\n",
       "    }\n",
       "\n",
       "    .dataframe tbody tr th {\n",
       "        vertical-align: top;\n",
       "    }\n",
       "\n",
       "    .dataframe thead th {\n",
       "        text-align: right;\n",
       "    }\n",
       "</style>\n",
       "<table border=\"1\" class=\"dataframe\">\n",
       "  <thead>\n",
       "    <tr style=\"text-align: right;\">\n",
       "      <th></th>\n",
       "      <th>Game ID</th>\n",
       "      <th>Game Event ID</th>\n",
       "      <th>Player ID</th>\n",
       "      <th>Player Name</th>\n",
       "      <th>Team ID</th>\n",
       "      <th>Team Name</th>\n",
       "      <th>Period</th>\n",
       "      <th>Minutes Remaining</th>\n",
       "      <th>Seconds Remaining</th>\n",
       "      <th>Action Type</th>\n",
       "      <th>...</th>\n",
       "      <th>Shot Zone Range</th>\n",
       "      <th>Shot Distance</th>\n",
       "      <th>X Location</th>\n",
       "      <th>Y Location</th>\n",
       "      <th>Shot Made Flag</th>\n",
       "      <th>Game Date</th>\n",
       "      <th>Home Team</th>\n",
       "      <th>Away Team</th>\n",
       "      <th>Season Type</th>\n",
       "      <th>year</th>\n",
       "    </tr>\n",
       "  </thead>\n",
       "  <tbody>\n",
       "    <tr>\n",
       "      <th>0</th>\n",
       "      <td>29700427</td>\n",
       "      <td>389</td>\n",
       "      <td>100</td>\n",
       "      <td>Tim Legler</td>\n",
       "      <td>1610612764</td>\n",
       "      <td>Washington Wizards</td>\n",
       "      <td>4</td>\n",
       "      <td>11</td>\n",
       "      <td>22</td>\n",
       "      <td>Jump Shot</td>\n",
       "      <td>...</td>\n",
       "      <td>8-16 ft.</td>\n",
       "      <td>15</td>\n",
       "      <td>117</td>\n",
       "      <td>109</td>\n",
       "      <td>1</td>\n",
       "      <td>1998-01-02</td>\n",
       "      <td>WAS</td>\n",
       "      <td>IND</td>\n",
       "      <td>Regular Season</td>\n",
       "      <td>1998</td>\n",
       "    </tr>\n",
       "    <tr>\n",
       "      <th>1</th>\n",
       "      <td>29700427</td>\n",
       "      <td>406</td>\n",
       "      <td>100</td>\n",
       "      <td>Tim Legler</td>\n",
       "      <td>1610612764</td>\n",
       "      <td>Washington Wizards</td>\n",
       "      <td>4</td>\n",
       "      <td>9</td>\n",
       "      <td>36</td>\n",
       "      <td>Jump Shot</td>\n",
       "      <td>...</td>\n",
       "      <td>8-16 ft.</td>\n",
       "      <td>14</td>\n",
       "      <td>143</td>\n",
       "      <td>25</td>\n",
       "      <td>0</td>\n",
       "      <td>1998-01-02</td>\n",
       "      <td>WAS</td>\n",
       "      <td>IND</td>\n",
       "      <td>Regular Season</td>\n",
       "      <td>1998</td>\n",
       "    </tr>\n",
       "    <tr>\n",
       "      <th>2</th>\n",
       "      <td>29700427</td>\n",
       "      <td>475</td>\n",
       "      <td>100</td>\n",
       "      <td>Tim Legler</td>\n",
       "      <td>1610612764</td>\n",
       "      <td>Washington Wizards</td>\n",
       "      <td>4</td>\n",
       "      <td>3</td>\n",
       "      <td>7</td>\n",
       "      <td>Jump Shot</td>\n",
       "      <td>...</td>\n",
       "      <td>8-16 ft.</td>\n",
       "      <td>10</td>\n",
       "      <td>-87</td>\n",
       "      <td>55</td>\n",
       "      <td>0</td>\n",
       "      <td>1998-01-02</td>\n",
       "      <td>WAS</td>\n",
       "      <td>IND</td>\n",
       "      <td>Regular Season</td>\n",
       "      <td>1998</td>\n",
       "    </tr>\n",
       "    <tr>\n",
       "      <th>3</th>\n",
       "      <td>29700427</td>\n",
       "      <td>487</td>\n",
       "      <td>100</td>\n",
       "      <td>Tim Legler</td>\n",
       "      <td>1610612764</td>\n",
       "      <td>Washington Wizards</td>\n",
       "      <td>4</td>\n",
       "      <td>1</td>\n",
       "      <td>45</td>\n",
       "      <td>Jump Shot</td>\n",
       "      <td>...</td>\n",
       "      <td>Less Than 8 ft.</td>\n",
       "      <td>5</td>\n",
       "      <td>-1</td>\n",
       "      <td>53</td>\n",
       "      <td>0</td>\n",
       "      <td>1998-01-02</td>\n",
       "      <td>WAS</td>\n",
       "      <td>IND</td>\n",
       "      <td>Regular Season</td>\n",
       "      <td>1998</td>\n",
       "    </tr>\n",
       "    <tr>\n",
       "      <th>4</th>\n",
       "      <td>29700427</td>\n",
       "      <td>497</td>\n",
       "      <td>100</td>\n",
       "      <td>Tim Legler</td>\n",
       "      <td>1610612764</td>\n",
       "      <td>Washington Wizards</td>\n",
       "      <td>4</td>\n",
       "      <td>0</td>\n",
       "      <td>45</td>\n",
       "      <td>Jump Shot</td>\n",
       "      <td>...</td>\n",
       "      <td>8-16 ft.</td>\n",
       "      <td>14</td>\n",
       "      <td>89</td>\n",
       "      <td>113</td>\n",
       "      <td>0</td>\n",
       "      <td>1998-01-02</td>\n",
       "      <td>WAS</td>\n",
       "      <td>IND</td>\n",
       "      <td>Regular Season</td>\n",
       "      <td>1998</td>\n",
       "    </tr>\n",
       "  </tbody>\n",
       "</table>\n",
       "<p>5 rows × 23 columns</p>\n",
       "</div>"
      ],
      "text/plain": [
       "    Game ID  Game Event ID  Player ID Player Name     Team ID  \\\n",
       "0  29700427            389        100  Tim Legler  1610612764   \n",
       "1  29700427            406        100  Tim Legler  1610612764   \n",
       "2  29700427            475        100  Tim Legler  1610612764   \n",
       "3  29700427            487        100  Tim Legler  1610612764   \n",
       "4  29700427            497        100  Tim Legler  1610612764   \n",
       "\n",
       "            Team Name  Period  Minutes Remaining  Seconds Remaining  \\\n",
       "0  Washington Wizards       4                 11                 22   \n",
       "1  Washington Wizards       4                  9                 36   \n",
       "2  Washington Wizards       4                  3                  7   \n",
       "3  Washington Wizards       4                  1                 45   \n",
       "4  Washington Wizards       4                  0                 45   \n",
       "\n",
       "  Action Type  ...  Shot Zone Range Shot Distance X Location Y Location  \\\n",
       "0   Jump Shot  ...         8-16 ft.            15        117        109   \n",
       "1   Jump Shot  ...         8-16 ft.            14        143         25   \n",
       "2   Jump Shot  ...         8-16 ft.            10        -87         55   \n",
       "3   Jump Shot  ...  Less Than 8 ft.             5         -1         53   \n",
       "4   Jump Shot  ...         8-16 ft.            14         89        113   \n",
       "\n",
       "   Shot Made Flag  Game Date  Home Team  Away Team     Season Type  year  \n",
       "0               1 1998-01-02        WAS        IND  Regular Season  1998  \n",
       "1               0 1998-01-02        WAS        IND  Regular Season  1998  \n",
       "2               0 1998-01-02        WAS        IND  Regular Season  1998  \n",
       "3               0 1998-01-02        WAS        IND  Regular Season  1998  \n",
       "4               0 1998-01-02        WAS        IND  Regular Season  1998  \n",
       "\n",
       "[5 rows x 23 columns]"
      ]
     },
     "execution_count": 17,
     "metadata": {},
     "output_type": "execute_result"
    }
   ],
   "source": [
    "df.head()"
   ]
  },
  {
   "cell_type": "code",
   "execution_count": 18,
   "metadata": {},
   "outputs": [],
   "source": [
    "def cluster_data(data, start_year, end_year):\n",
    "    \n",
    "    data_decade = data[(data['year'] >= start_year) & (data['year'] <= end_year)]\n",
    "\n",
    "    three_point_shots = data_decade[data_decade['Shot Type'] == '3PT Field Goal']\n",
    "\n",
    "    player_stats = three_point_shots.groupby('Player ID').agg(\n",
    "        player_name=('Player Name', 'first'),\n",
    "        shooting_percentage=('Shot Made Flag', 'mean'),\n",
    "        total_attempts=('Game ID', 'count'),\n",
    "        avg_shot_distance=('Shot Distance', 'mean')\n",
    "    ).reset_index()\n",
    "\n",
    "    player_games = three_point_shots.groupby(['Player ID', 'Game ID']).size().reset_index(name='Attempts')\n",
    "    player_attempts_per_game = player_games.groupby('Player ID')['Attempts'].mean().reset_index()\n",
    "\n",
    "    player_stats = pd.merge(player_stats, player_attempts_per_game, on='Player ID')\n",
    "\n",
    "    scaler = StandardScaler()\n",
    "    scaled_features = scaler.fit_transform(player_stats[['shooting_percentage', 'Attempts', 'avg_shot_distance']])\n",
    "\n",
    "    kmeans = KMeans(n_clusters=6, random_state=42)\n",
    "    clusters = kmeans.fit_predict(scaled_features)\n",
    "\n",
    "    player_stats['cluster'] = clusters\n",
    "\n",
    "    return player_stats"
   ]
  },
  {
   "cell_type": "code",
   "execution_count": 19,
   "metadata": {},
   "outputs": [
    {
     "name": "stderr",
     "output_type": "stream",
     "text": [
      "/opt/homebrew/Caskroom/miniforge/base/envs/dmt_project/lib/python3.10/site-packages/sklearn/cluster/_kmeans.py:870: FutureWarning:\n",
      "\n",
      "The default value of `n_init` will change from 10 to 'auto' in 1.4. Set the value of `n_init` explicitly to suppress the warning\n",
      "\n",
      "/opt/homebrew/Caskroom/miniforge/base/envs/dmt_project/lib/python3.10/site-packages/sklearn/cluster/_kmeans.py:870: FutureWarning:\n",
      "\n",
      "The default value of `n_init` will change from 10 to 'auto' in 1.4. Set the value of `n_init` explicitly to suppress the warning\n",
      "\n",
      "/opt/homebrew/Caskroom/miniforge/base/envs/dmt_project/lib/python3.10/site-packages/sklearn/cluster/_kmeans.py:870: FutureWarning:\n",
      "\n",
      "The default value of `n_init` will change from 10 to 'auto' in 1.4. Set the value of `n_init` explicitly to suppress the warning\n",
      "\n"
     ]
    }
   ],
   "source": [
    "df_1998_2004 = cluster_data(df, start_year=1998, end_year=2004)\n",
    "df_2005_2012 = cluster_data(df, start_year=2005, end_year=2012)\n",
    "df_2013_2020 = cluster_data(df, start_year=2013, end_year=2020)"
   ]
  },
  {
   "cell_type": "code",
   "execution_count": 20,
   "metadata": {},
   "outputs": [
    {
     "data": {
      "application/vnd.plotly.v1+json": {
       "config": {
        "plotlyServerURL": "https://plot.ly"
       },
       "data": [
        {
         "customdata": [
          [
           "Grant Long"
          ],
          [
           "Eric Piatkowski"
          ],
          [
           "Clyde Drexler"
          ],
          [
           "Greg Anthony"
          ],
          [
           "Rik Smits"
          ],
          [
           "Dennis Rodman"
          ],
          [
           "Doug West"
          ],
          [
           "Jim McIlvaine"
          ],
          [
           "Eric Riley"
          ],
          [
           "Brad Lohaus"
          ],
          [
           "Monty Williams"
          ],
          [
           "Chris Whitney"
          ],
          [
           "George McCloud"
          ],
          [
           "Mahmoud Abdul-Rauf"
          ],
          [
           "Micheal Williams"
          ],
          [
           "Mario Elie"
          ],
          [
           "Dickey Simpkins"
          ],
          [
           "Gary Payton"
          ],
          [
           "Doug Christie"
          ],
          [
           "Carl Herrera"
          ],
          [
           "Michael Smith"
          ],
          [
           "Sam Perkins"
          ],
          [
           "Greg Minor"
          ],
          [
           "Steve Kerr"
          ],
          [
           "Pooh Richardson"
          ],
          [
           "Kenny Anderson"
          ],
          [
           "Cedric Ceballos"
          ],
          [
           "Doug Overton"
          ],
          [
           "Jeff Grayer"
          ],
          [
           "Bill Wennington"
          ],
          [
           "Latrell Sprewell"
          ],
          [
           "Brent Price"
          ],
          [
           "Dikembe Mutombo"
          ],
          [
           "Nick Van Exel"
          ],
          [
           "Hubert Davis"
          ],
          [
           "Mark Bryant"
          ],
          [
           "Detlef Schrempf"
          ],
          [
           "Nick Anderson"
          ],
          [
           "Tim Legler"
          ],
          [
           "Todd Day"
          ],
          [
           "Dan Majerle"
          ],
          [
           "Dale Ellis"
          ],
          [
           "Robert Horry"
          ],
          [
           "LaPhonso Ellis"
          ],
          [
           "Steven Smith"
          ],
          [
           "Patrick Ewing"
          ],
          [
           "Robert Pack"
          ],
          [
           "Vlade Divac"
          ],
          [
           "David Benoit"
          ],
          [
           "David Wesley"
          ],
          [
           "Kevin Johnson"
          ],
          [
           "P.J. Brown"
          ],
          [
           "Vernon Maxwell"
          ],
          [
           "Terry Dehere"
          ],
          [
           "Tracy Murray"
          ],
          [
           "Jud Buechler"
          ],
          [
           "Jalen Rose"
          ],
          [
           "Antoine Carr"
          ],
          [
           "Derek Harper"
          ],
          [
           "Chris Childs"
          ],
          [
           "Hakeem Olajuwon"
          ],
          [
           "Ron Harper"
          ],
          [
           "Chris Mills"
          ],
          [
           "Joe Kleine"
          ],
          [
           "Keith Askins"
          ],
          [
           "Muggsy Bogues"
          ],
          [
           "Olden Polynice"
          ],
          [
           "Bryant Stith"
          ],
          [
           "John Crotty"
          ],
          [
           "Billy Owens"
          ],
          [
           "Bison Dele"
          ],
          [
           "Bobby Phills"
          ],
          [
           "Chris Webber"
          ],
          [
           "Terry Cummings"
          ],
          [
           "Dennis Scott"
          ],
          [
           "Anthony Mason"
          ],
          [
           "Anthony Bowie"
          ],
          [
           "Lee Mayberry"
          ],
          [
           "Scott Burrell"
          ],
          [
           "Danny Ferry"
          ],
          [
           "Chris Dudley"
          ],
          [
           "Gary Grant"
          ],
          [
           "Nate McMillan"
          ],
          [
           "Jeff Hornacek"
          ],
          [
           "Sam Cassell"
          ],
          [
           "Dell Curry"
          ],
          [
           "Terrell Brandon"
          ],
          [
           "Antonio Davis"
          ],
          [
           "Brian Shaw"
          ],
          [
           "Vinny Del Negro"
          ],
          [
           "Clar. Weatherspoon"
          ],
          [
           "Bill Curley"
          ],
          [
           "Eddie Jones"
          ],
          [
           "Adam Keefe"
          ],
          [
           "Khalid Reeves"
          ],
          [
           "Kevin Edwards"
          ],
          [
           "Tyrone Hill"
          ],
          [
           "Darrick Martin"
          ],
          [
           "Brooks Thompson"
          ],
          [
           "Aaron McKie"
          ],
          [
           "Dee Brown"
          ],
          [
           "Greg Anderson"
          ],
          [
           "Joe Dumars"
          ],
          [
           "George Lynch"
          ],
          [
           "Sean Elliott"
          ],
          [
           "Karl Malone"
          ],
          [
           "Grant Hill"
          ],
          [
           "Brian Grant"
          ],
          [
           "Harvey Grant"
          ],
          [
           "Horace Grant"
          ],
          [
           "Johnny Newman"
          ],
          [
           "Duane Ferrell"
          ],
          [
           "Allan Houston"
          ],
          [
           "Stacey Augmon"
          ],
          [
           "Scott Williams"
          ],
          [
           "Lindsey Hunter"
          ],
          [
           "Armen Gilliam"
          ],
          [
           "Ledell Eackles"
          ],
          [
           "Anthony Miller"
          ],
          [
           "Rick Fox"
          ],
          [
           "Alonzo Mourning"
          ],
          [
           "Glenn Robinson"
          ],
          [
           "Mookie Blaylock"
          ],
          [
           "John Stockton"
          ],
          [
           "Bobby Hurley"
          ],
          [
           "John Starks"
          ],
          [
           "Greg Foster"
          ],
          [
           "Anthony Peeler"
          ],
          [
           "Danny Manning"
          ],
          [
           "Tom Gugliotta"
          ],
          [
           "Joe Wolf"
          ],
          [
           "Dana Barros"
          ],
          [
           "Terry Porter"
          ],
          [
           "Mitchell Butler"
          ],
          [
           "Mark Jackson"
          ],
          [
           "Darrell Armstrong"
          ],
          [
           "Chris Morris"
          ],
          [
           "Anfernee Hardaway"
          ],
          [
           "Chucky Brown"
          ],
          [
           "Clifford Robinson"
          ],
          [
           "Christian Laettner"
          ],
          [
           "Rex Chapman"
          ],
          [
           "Derrick McKey"
          ],
          [
           "Charlie Ward"
          ],
          [
           "Terry Mills"
          ],
          [
           "Isaiah Rider"
          ],
          [
           "Eric Montross"
          ],
          [
           "Tony Smith"
          ],
          [
           "James Robinson"
          ],
          [
           "Kendall Gill"
          ],
          [
           "Calbert Cheaney"
          ],
          [
           "Elliot Perry"
          ],
          [
           "Toni Kukoc"
          ],
          [
           "Rod Strickland"
          ],
          [
           "Reggie Miller"
          ],
          [
           "Sean Rooks"
          ],
          [
           "Derek Strong"
          ],
          [
           "Shaquille O'Neal"
          ],
          [
           "Willie Burton"
          ],
          [
           "Sam Mitchell"
          ],
          [
           "Scott Brooks"
          ],
          [
           "Jayson Williams"
          ],
          [
           "Avery Johnson"
          ],
          [
           "Chris Gatling"
          ],
          [
           "Sherman Douglas"
          ],
          [
           "Shawn Kemp"
          ],
          [
           "Pete Chilcutt"
          ],
          [
           "Tony Dumas"
          ],
          [
           "Carlos Rogers"
          ],
          [
           "Juwan Howard"
          ],
          [
           "Lamond Murray"
          ],
          [
           "Wesley Person"
          ],
          [
           "Lucious Harris"
          ],
          [
           "Bo Outlaw"
          ],
          [
           "Vin Baker"
          ],
          [
           "Chuck Person"
          ],
          [
           "Andrew Lang"
          ],
          [
           "Howard Eisley"
          ],
          [
           "Popeye Jones"
          ],
          [
           "J.R. Reid"
          ],
          [
           "Jason Kidd"
          ],
          [
           "Jon Barry"
          ],
          [
           "Jamal Mashburn"
          ],
          [
           "Matt Bullard"
          ],
          [
           "Alan Henderson"
          ],
          [
           "Reggie Jordan"
          ],
          [
           "Eric Williams"
          ],
          [
           "Jason Caffey"
          ],
          [
           "John Amaechi"
          ],
          [
           "Donny Marshall"
          ],
          [
           "Bob Sura"
          ],
          [
           "Loren Meyer"
          ],
          [
           "Cherokee Parks"
          ],
          [
           "Antonio McDyess"
          ],
          [
           "Michael Curry"
          ],
          [
           "Don Reid"
          ],
          [
           "Andrew DeClercq"
          ],
          [
           "Joe Smith"
          ],
          [
           "Sam Mack"
          ],
          [
           "Eldridge Recasner"
          ],
          [
           "Travis Best"
          ],
          [
           "Fred Hoiberg"
          ],
          [
           "Eddie Johnson"
          ],
          [
           "Brent Barry"
          ],
          [
           "Voshon Lenard"
          ],
          [
           "Kurt Thomas"
          ],
          [
           "Shawn Respert"
          ],
          [
           "Mark Davis"
          ],
          [
           "Kevin Garnett"
          ],
          [
           "Jerry Stackhouse"
          ],
          [
           "Mario Bennett"
          ],
          [
           "Chris Carr"
          ],
          [
           "Michael Finley"
          ],
          [
           "Arvydas Sabonis"
          ],
          [
           "Gary Trent"
          ],
          [
           "Tyus Edney"
          ],
          [
           "Corliss Williamson"
          ],
          [
           "Cory Alexander"
          ],
          [
           "Eric Snow"
          ],
          [
           "Greg Ostertag"
          ],
          [
           "Lawrence Moten"
          ],
          [
           "Bryant Reeves"
          ],
          [
           "Rasheed Wallace"
          ],
          [
           "Randy Brown"
          ],
          [
           "Jim Jackson"
          ],
          [
           "Damon Stoudamire"
          ],
          [
           "Jerome Kersey"
          ],
          [
           "Matt Geiger"
          ],
          [
           "Shawn Bradley"
          ],
          [
           "Tony Massenburg"
          ],
          [
           "David Robinson"
          ],
          [
           "Hersey Hawkins"
          ],
          [
           "David Wingate"
          ],
          [
           "B.J. Armstrong"
          ],
          [
           "Rex Walters"
          ],
          [
           "Glen Rice"
          ],
          [
           "Will Perdue"
          ],
          [
           "Mitch Richmond"
          ],
          [
           "Eric Murdock"
          ],
          [
           "Gerald Wilkins"
          ],
          [
           "Charles Barkley"
          ],
          [
           "Kevin Willis"
          ],
          [
           "Charles Oakley"
          ],
          [
           "Spud Webb"
          ],
          [
           "Michael Jordan"
          ],
          [
           "Ricky Pierce"
          ],
          [
           "Tyrone Corbin"
          ],
          [
           "Tim Hardaway"
          ],
          [
           "Blue Edwards"
          ],
          [
           "Mark Price"
          ],
          [
           "Otis Thorpe"
          ],
          [
           "Bimbo Coles"
          ],
          [
           "Chris Mullin"
          ],
          [
           "Dale Davis"
          ],
          [
           "Haywoode Workman"
          ],
          [
           "Malik Sealy"
          ],
          [
           "Ervin Johnson"
          ],
          [
           "Larry Johnson"
          ],
          [
           "Stanley Roberts"
          ],
          [
           "Rodney Rogers"
          ],
          [
           "Corie Blount"
          ],
          [
           "Loy Vaught"
          ],
          [
           "A.C. Green"
          ],
          [
           "Elden Campbell"
          ],
          [
           "Donyell Marshall"
          ],
          [
           "Anthony Goldwire"
          ],
          [
           "Don MacLean"
          ],
          [
           "Oliver Miller"
          ],
          [
           "Derrick Coleman"
          ],
          [
           "Bryon Russell"
          ],
          [
           "Scottie Pippen"
          ],
          [
           "Allen Iverson"
          ],
          [
           "Marcus Camby"
          ],
          [
           "Shareef Abdur-Rahim"
          ],
          [
           "Stephon Marbury"
          ],
          [
           "Ray Allen"
          ],
          [
           "Antoine Walker"
          ],
          [
           "Lorenzen Wright"
          ],
          [
           "Kerry Kittles"
          ],
          [
           "Samaki Walker"
          ],
          [
           "Erick Dampier"
          ],
          [
           "Todd Fuller"
          ],
          [
           "Vitaly Potapenko"
          ],
          [
           "Steve Nash"
          ],
          [
           "Tony Delk"
          ],
          [
           "John Wallace"
          ],
          [
           "Walter McCarty"
          ],
          [
           "Dontae' Jones"
          ],
          [
           "Roy Rogers"
          ],
          [
           "Derek Fisher"
          ],
          [
           "Jerome Williams"
          ],
          [
           "Brian Evans"
          ],
          [
           "Travis Knight"
          ],
          [
           "Othella Harrington"
          ],
          [
           "Mark Hendrickson"
          ],
          [
           "Jeff McInnis"
          ],
          [
           "Kobe Bryant"
          ],
          [
           "Peja Stojakovic"
          ],
          [
           "Jermaine O'Neal"
          ],
          [
           "Zydrunas Ilgauskas"
          ],
          [
           "Efthimios Rentzias"
          ],
          [
           "Martin Muursepp"
          ],
          [
           "Moochie Norris"
          ],
          [
           "Randy Livingston"
          ],
          [
           "Malik Rose"
          ],
          [
           "Marcus Brown"
          ],
          [
           "Jamie Feick"
          ],
          [
           "Chris Robinson"
          ],
          [
           "Mark Pope"
          ],
          [
           "Shandon Anderson"
          ],
          [
           "Reggie Geary"
          ],
          [
           "Drew Barry"
          ],
          [
           "Walt Williams"
          ],
          [
           "Emanual Davis"
          ],
          [
           "Horacio Llamas"
          ],
          [
           "Darvin Ham"
          ],
          [
           "Shawnelle Scott"
          ],
          [
           "Litterial Green"
          ],
          [
           "Juaquin Hawkins"
          ],
          [
           "Amal McCaskill"
          ],
          [
           "Shane Heal"
          ],
          [
           "Carl Thomas"
          ],
          [
           "Erick Strickland"
          ],
          [
           "Matt Maloney"
          ],
          [
           "Henry James"
          ],
          [
           "Ira Bowman"
          ],
          [
           "Joe Stephens"
          ],
          [
           "Chucky Atkins"
          ],
          [
           "Ivano Newbill"
          ],
          [
           "Tony Farmer"
          ],
          [
           "Mark Strickland"
          ],
          [
           "Ben Wallace"
          ],
          [
           "Jaren Jackson"
          ],
          [
           "Dominique Wilkins"
          ],
          [
           "Corey Beck"
          ],
          [
           "Ike Austin"
          ],
          [
           "Michael Hawkins"
          ],
          [
           "Lloyd Daniels"
          ],
          [
           "Aaron Williams"
          ],
          [
           "Jimmy Oliver"
          ],
          [
           "Lawrence Funderburke"
          ],
          [
           "Bruce Bowen"
          ],
          [
           "Tim Duncan"
          ],
          [
           "Keith Van Horn"
          ],
          [
           "Chauncey Billups"
          ],
          [
           "Antonio Daniels"
          ],
          [
           "Tony Battie"
          ],
          [
           "Ron Mercer"
          ],
          [
           "Tim Thomas"
          ],
          [
           "Adonal Foyle"
          ],
          [
           "Tracy McGrady"
          ],
          [
           "Danny Fortson"
          ],
          [
           "Tariq Abdul-Wahad"
          ],
          [
           "Austin Croshere"
          ],
          [
           "Derek Anderson"
          ],
          [
           "Maurice Taylor"
          ],
          [
           "Kelvin Cato"
          ],
          [
           "Brevin Knight"
          ],
          [
           "Johnny Taylor"
          ],
          [
           "Chris Anstey"
          ],
          [
           "Scot Pollard"
          ],
          [
           "Anthony Parker"
          ],
          [
           "Ed Gray"
          ],
          [
           "Bobby Jackson"
          ],
          [
           "Rodrick Rhodes"
          ],
          [
           "John Thomas"
          ],
          [
           "Charles Smith"
          ],
          [
           "Jacque Vaughn"
          ],
          [
           "Keith Booth"
          ],
          [
           "Charles O'Bannon"
          ],
          [
           "James Cotton"
          ],
          [
           "Marko Milic"
          ],
          [
           "Bubba Wells"
          ],
          [
           "James Collins"
          ],
          [
           "Marc Jackson"
          ],
          [
           "Jerald Honeycutt"
          ],
          [
           "Anthony Johnson"
          ],
          [
           "Stephen Jackson"
          ],
          [
           "Cedric Henderson"
          ],
          [
           "God Shammgod"
          ],
          [
           "Eric Washington"
          ],
          [
           "Alvin Williams"
          ],
          [
           "Predrag Drobnjak"
          ],
          [
           "Chris Crawford"
          ],
          [
           "DeJuan Wheat"
          ],
          [
           "Jamal Robinson"
          ],
          [
           "Adrian Griffin"
          ],
          [
           "Kevin Ollie"
          ],
          [
           "Keith Closs"
          ],
          [
           "Travis Williams"
          ],
          [
           "Shea Seals"
          ],
          [
           "Brandon Williams"
          ],
          [
           "Alvin Sims"
          ],
          [
           "Rick Brunson"
          ],
          [
           "Kornel David"
          ],
          [
           "Rusty LaRue"
          ],
          [
           "Troy Hudson"
          ],
          [
           "Art Long"
          ],
          [
           "Chris Garner"
          ],
          [
           "Kiwane Garris"
          ],
          [
           "Mikki Moore"
          ],
          [
           "Gerald Madkins"
          ],
          [
           "Steve Henson"
          ],
          [
           "Harold Ellis"
          ],
          [
           "Larry Robinson"
          ],
          [
           "Michael Olowokandi"
          ],
          [
           "Mike Bibby"
          ],
          [
           "Raef LaFrentz"
          ],
          [
           "Antawn Jamison"
          ],
          [
           "Vince Carter"
          ],
          [
           "Robert Traylor"
          ],
          [
           "Jason Williams"
          ],
          [
           "Larry Hughes"
          ],
          [
           "Dirk Nowitzki"
          ],
          [
           "Paul Pierce"
          ],
          [
           "Bonzi Wells"
          ],
          [
           "Michael Doleac"
          ],
          [
           "Keon Clark"
          ],
          [
           "Michael Dickerson"
          ],
          [
           "Matt Harpring"
          ],
          [
           "Bryce Drew"
          ],
          [
           "Rasho Nesterovic"
          ],
          [
           "Mirsad Turkcan"
          ],
          [
           "Pat Garrity"
          ],
          [
           "Roshown McLeod"
          ],
          [
           "Ricky Davis"
          ],
          [
           "Brian Skinner"
          ],
          [
           "Tyronn Lue"
          ],
          [
           "Felipe Lopez"
          ],
          [
           "Al Harrington"
          ],
          [
           "Sam Jacobson"
          ],
          [
           "Vladimir Stepania"
          ],
          [
           "Corey Benjamin"
          ],
          [
           "Nazr Mohammed"
          ],
          [
           "Ansu Sesay"
          ],
          [
           "Ruben Patterson"
          ],
          [
           "Rashard Lewis"
          ],
          [
           "Shammond Williams"
          ],
          [
           "Bruno Sundov"
          ],
          [
           "Rafer Alston"
          ],
          [
           "Korleone Young"
          ],
          [
           "Cuttino Mobley"
          ],
          [
           "Miles Simon"
          ],
          [
           "Jahidi White"
          ],
          [
           "Sean Marks"
          ],
          [
           "Toby Bailey"
          ],
          [
           "Andrae Patterson"
          ],
          [
           "Tyson Wheeler"
          ],
          [
           "Ryan Stack"
          ],
          [
           "Cory Carr"
          ],
          [
           "Derrick Dial"
          ],
          [
           "Greg Buckner"
          ],
          [
           "Tremaine Fowlkes"
          ],
          [
           "Ryan Bowen"
          ],
          [
           "J.R. Henderson"
          ],
          [
           "Damon Jones"
          ],
          [
           "Brad Miller"
          ],
          [
           "Adonis Jordan"
          ],
          [
           "Ike Fontaine"
          ],
          [
           "Marlon Garnett"
          ],
          [
           "Tyrone Nesby"
          ],
          [
           "Fred Vinson"
          ],
          [
           "Andrew Gaze"
          ],
          [
           "Thurl Bailey"
          ],
          [
           "Jeff Sheppard"
          ],
          [
           "Anthony Carter"
          ],
          [
           "Mark Macon"
          ],
          [
           "Negele Knight"
          ],
          [
           "Earl Boykins"
          ],
          [
           "Steve Goodrich"
          ],
          [
           "Charles R. Jones"
          ],
          [
           "Gerald Brown"
          ],
          [
           "Randell Jackson"
          ],
          [
           "Elton Brand"
          ],
          [
           "Steve Francis"
          ],
          [
           "Baron Davis"
          ],
          [
           "Lamar Odom"
          ],
          [
           "Jonathan Bender"
          ],
          [
           "Wally Szczerbiak"
          ],
          [
           "Richard Hamilton"
          ],
          [
           "Andre Miller"
          ],
          [
           "Shawn Marion"
          ],
          [
           "Jason Terry"
          ],
          [
           "Trajan Langdon"
          ],
          [
           "Corey Maggette"
          ],
          [
           "William Avery"
          ],
          [
           "Metta World Peace"
          ],
          [
           "Cal Bowdler"
          ],
          [
           "James Posey"
          ],
          [
           "Quincy Lewis"
          ],
          [
           "Dion Glover"
          ],
          [
           "Jeff Foster"
          ],
          [
           "Kenny Thomas"
          ],
          [
           "Devean George"
          ],
          [
           "Andrei Kirilenko"
          ],
          [
           "Tim James"
          ],
          [
           "Vonteego Cummings"
          ],
          [
           "Jumaine Jones"
          ],
          [
           "Scott Padgett"
          ],
          [
           "John Celestand"
          ],
          [
           "Michael Ruffin"
          ],
          [
           "Chris Herren"
          ],
          [
           "Calvin Booth"
          ],
          [
           "Wang Zhi-zhi"
          ],
          [
           "Laron Profit"
          ],
          [
           "Gordan Giricek"
          ],
          [
           "Francisco Elson"
          ],
          [
           "Lee Nailon"
          ],
          [
           "Ryan Robertson"
          ],
          [
           "Rodney Buford"
          ],
          [
           "Manu Ginobili"
          ],
          [
           "Eddie Robinson"
          ],
          [
           "Raja Bell"
          ],
          [
           "Lazaro Borrell"
          ],
          [
           "Jason Miskiri"
          ],
          [
           "Ira Newble"
          ],
          [
           "Milt Palacio"
          ],
          [
           "Rick Hughes"
          ],
          [
           "Jamel Thomas"
          ],
          [
           "Jermaine Jackson"
          ],
          [
           "Dedric Willoughby"
          ],
          [
           "Kenyon Martin"
          ],
          [
           "Stromile Swift"
          ],
          [
           "Darius Miles"
          ],
          [
           "Marcus Fizer"
          ],
          [
           "Mike Miller"
          ],
          [
           "DerMarr Johnson"
          ],
          [
           "Chris Mihm"
          ],
          [
           "Jamal Crawford"
          ],
          [
           "Joel Przybilla"
          ],
          [
           "Keyon Dooling"
          ],
          [
           "Jerome Moiso"
          ],
          [
           "Courtney Alexander"
          ],
          [
           "Mateen Cleaves"
          ],
          [
           "Jason Collier"
          ],
          [
           "Hedo Turkoglu"
          ],
          [
           "Desmond Mason"
          ],
          [
           "Quentin Richardson"
          ],
          [
           "Jamaal Magloire"
          ],
          [
           "Speedy Claxton"
          ],
          [
           "Morris Peterson"
          ],
          [
           "Donnell Harvey"
          ],
          [
           "DeShawn Stevenson"
          ],
          [
           "Dalibor Bagaric"
          ],
          [
           "Jake Tsakalidis"
          ],
          [
           "Primoz Brezec"
          ],
          [
           "Erick Barkley"
          ],
          [
           "Mark Madsen"
          ],
          [
           "Eduardo Najera"
          ],
          [
           "Marko Jaric"
          ],
          [
           "Dan Langhi"
          ],
          [
           "A.J. Guyton"
          ],
          [
           "Khalid El-Amin"
          ],
          [
           "Mike Smith"
          ],
          [
           "Eddie House"
          ],
          [
           "Lavor Postell"
          ],
          [
           "Hanno Mottola"
          ],
          [
           "Michael Redd"
          ],
          [
           "Brian Cardinal"
          ],
          [
           "Jabari Smith"
          ],
          [
           "Jason Hart"
          ],
          [
           "Kaniel Dickens"
          ],
          [
           "Igor Rakocevic"
          ],
          [
           "Chris Porter"
          ],
          [
           "Slava Medvedenko"
          ],
          [
           "Paul McPherson"
          ],
          [
           "Ruben Wolkowyski"
          ],
          [
           "Eddie Gill"
          ],
          [
           "Terrance Roberson"
          ],
          [
           "Malik Allen"
          ],
          [
           "David Vanterpool"
          ],
          [
           "Mike Penberthy"
          ],
          [
           "Ime Udoka"
          ],
          [
           "Pepe Sanchez"
          ],
          [
           "Sean Colson"
          ],
          [
           "Kwame Brown"
          ],
          [
           "Tyson Chandler"
          ],
          [
           "Pau Gasol"
          ],
          [
           "Eddy Curry"
          ],
          [
           "Jason Richardson"
          ],
          [
           "Shane Battier"
          ],
          [
           "Eddie Griffin"
          ],
          [
           "DeSagana Diop"
          ],
          [
           "Rodney White"
          ],
          [
           "Joe Johnson"
          ],
          [
           "Kedrick Brown"
          ],
          [
           "Vladimir Radmanovic"
          ],
          [
           "Richard Jefferson"
          ],
          [
           "Troy Murphy"
          ],
          [
           "Kirk Haston"
          ],
          [
           "Michael Bradley"
          ],
          [
           "Jason Collins"
          ],
          [
           "Zach Randolph"
          ],
          [
           "Brendan Haywood"
          ],
          [
           "Joseph Forte"
          ],
          [
           "Jeryl Sasser"
          ],
          [
           "Brandon Armstrong"
          ],
          [
           "Raul Lopez"
          ],
          [
           "Gerald Wallace"
          ],
          [
           "Samuel Dalembert"
          ],
          [
           "Jamaal Tinsley"
          ],
          [
           "Tony Parker"
          ],
          [
           "Will Solomon"
          ],
          [
           "Mike James"
          ],
          [
           "Maurice Evans"
          ],
          [
           "Antonis Fotsis"
          ],
          [
           "Trenton Hassell"
          ],
          [
           "Gilbert Arenas"
          ],
          [
           "Omar Cook"
          ],
          [
           "Terence Morris"
          ],
          [
           "Brian Scalabrine"
          ],
          [
           "Jeff Trepagnier"
          ],
          [
           "Damone Brown"
          ],
          [
           "Mehmet Okur"
          ],
          [
           "Earl Watson"
          ],
          [
           "Jamison Brewer"
          ],
          [
           "Bobby Simmons"
          ],
          [
           "Sean Lampley"
          ],
          [
           "Loren Woods"
          ],
          [
           "Jarron Collins"
          ],
          [
           "Kenny Satterfield"
          ],
          [
           "Charlie Bell"
          ],
          [
           "Carlos Arroyo"
          ],
          [
           "Paul Shirley"
          ],
          [
           "Joe Crispin"
          ],
          [
           "Tang Hamilton"
          ],
          [
           "Victor Alexander"
          ],
          [
           "Oscar Torres"
          ],
          [
           "Dean Oliver"
          ],
          [
           "Tierre Brown"
          ],
          [
           "Chris Andersen"
          ],
          [
           "Mike Wilks"
          ],
          [
           "Norman Richardson"
          ],
          [
           "Mengke Bateer"
          ],
          [
           "Yao Ming"
          ],
          [
           "Jay Williams"
          ],
          [
           "Mike Dunleavy"
          ],
          [
           "Drew Gooden"
          ],
          [
           "Nikoloz Tskitishvili"
          ],
          [
           "Dajuan Wagner"
          ],
          [
           "Nene"
          ],
          [
           "Chris Wilcox"
          ],
          [
           "Amar'e Stoudemire"
          ],
          [
           "Caron Butler"
          ],
          [
           "Jared Jeffries"
          ],
          [
           "Melvin Ely"
          ],
          [
           "Marcus Haislip"
          ],
          [
           "Fred Jones"
          ],
          [
           "Bostjan Nachbar"
          ],
          [
           "Jiri Welsch"
          ],
          [
           "Juan Dixon"
          ],
          [
           "Curtis Borchardt"
          ],
          [
           "Ryan Humphrey"
          ],
          [
           "Kareem Rush"
          ],
          [
           "Qyntel Woods"
          ],
          [
           "Casey Jacobsen"
          ],
          [
           "Tayshaun Prince"
          ],
          [
           "Frank Williams"
          ],
          [
           "John Salmons"
          ],
          [
           "Chris Jefferies"
          ],
          [
           "Dan Dickau"
          ],
          [
           "Roger Mason Jr."
          ],
          [
           "Vincent Yarbrough"
          ],
          [
           "Dan Gadzuric"
          ],
          [
           "Carlos Boozer"
          ],
          [
           "Tito Maddox"
          ],
          [
           "Flip Murray"
          ],
          [
           "Lonny Baxter"
          ],
          [
           "Matt Barnes"
          ],
          [
           "Rasual Butler"
          ],
          [
           "Tamar Slay"
          ],
          [
           "J.R. Bremer"
          ],
          [
           "Predrag Savovic"
          ],
          [
           "Junior Harrington"
          ],
          [
           "Jannero Pargo"
          ],
          [
           "Maurice Carter"
          ],
          [
           "Pat Burke"
          ],
          [
           "Smush Parker"
          ],
          [
           "Mike Batiste"
          ],
          [
           "Devin Brown"
          ],
          [
           "Adam Harrington"
          ],
          [
           "Richie Frahm"
          ],
          [
           "Reggie Evans"
          ],
          [
           "Antoine Rigaudeau"
          ],
          [
           "LeBron James"
          ],
          [
           "Darko Milicic"
          ],
          [
           "Carmelo Anthony"
          ],
          [
           "Chris Bosh"
          ],
          [
           "Dwyane Wade"
          ],
          [
           "Chris Kaman"
          ],
          [
           "Kirk Hinrich"
          ],
          [
           "T.J. Ford"
          ],
          [
           "Michael Sweetney"
          ],
          [
           "Jarvis Hayes"
          ],
          [
           "Mickael Pietrus"
          ],
          [
           "Nick Collison"
          ],
          [
           "Marcus Banks"
          ],
          [
           "Luke Ridnour"
          ],
          [
           "Reece Gaines"
          ],
          [
           "Troy Bell"
          ],
          [
           "Zarko Cabarkapa"
          ],
          [
           "David West"
          ],
          [
           "Sasha Pavlovic"
          ],
          [
           "Dahntay Jones"
          ],
          [
           "Boris Diaw"
          ],
          [
           "Zoran Planinic"
          ],
          [
           "Brian Cook"
          ],
          [
           "Carlos Delfino"
          ],
          [
           "Leandro Barbosa"
          ],
          [
           "Josh Howard"
          ],
          [
           "Maciej Lampe"
          ],
          [
           "Jason Kapono"
          ],
          [
           "Luke Walton"
          ],
          [
           "Travis Hansen"
          ],
          [
           "Steve Blake"
          ],
          [
           "Willie Green"
          ],
          [
           "Zaza Pachulia"
          ],
          [
           "Keith Bogans"
          ],
          [
           "Matt Bonner"
          ],
          [
           "Mo Williams"
          ],
          [
           "James Jones"
          ],
          [
           "Kyle Korver"
          ],
          [
           "Brandon Hunter"
          ],
          [
           "Theron Smith"
          ],
          [
           "Marquis Daniels"
          ],
          [
           "Udonis Haslem"
          ],
          [
           "Quinton Ross"
          ],
          [
           "Kirk Penney"
          ],
          [
           "Britton Johnsen"
          ],
          [
           "Ronald Dupree"
          ],
          [
           "Yuta Tabuse"
          ],
          [
           "Josh Davis"
          ],
          [
           "Linton Johnson"
          ],
          [
           "Matt Carroll"
          ],
          [
           "Alex Garcia"
          ],
          [
           "Keith McLeod"
          ],
          [
           "Desmond Ferguson"
          ],
          [
           "Ben Gordon"
          ],
          [
           "Shaun Livingston"
          ],
          [
           "Devin Harris"
          ],
          [
           "Josh Childress"
          ],
          [
           "Luol Deng"
          ],
          [
           "Andre Iguodala"
          ],
          [
           "Luke Jackson"
          ],
          [
           "Sebastian Telfair"
          ],
          [
           "Kris Humphries"
          ],
          [
           "Kirk Snyder"
          ],
          [
           "Josh Smith"
          ],
          [
           "JR Smith"
          ],
          [
           "Jameer Nelson"
          ],
          [
           "Delonte West"
          ],
          [
           "Tony Allen"
          ],
          [
           "Kevin Martin"
          ],
          [
           "Sasha Vujacic"
          ],
          [
           "Beno Udrih"
          ],
          [
           "Anderson Varejao"
          ],
          [
           "Lionel Chalmers"
          ],
          [
           "Antonio Burks"
          ],
          [
           "Royal Ivey"
          ],
          [
           "Chris Duhon"
          ],
          [
           "Justin Reed"
          ],
          [
           "Bernard Robinson"
          ],
          [
           "Matt Freije"
          ],
          [
           "Luis Flores"
          ],
          [
           "Horace Jenkins"
          ],
          [
           "Andres Nocioni"
          ],
          [
           "Awvee Storey"
          ],
          [
           "Andre Barrett"
          ],
          [
           "Damien Wilkins"
          ]
         ],
         "hovertemplate": "shooting_percentage=%{x}<br>Attempts=%{y}<br>player_name=%{customdata[0]}<br>cluster=%{marker.color}<extra></extra>",
         "legendgroup": "",
         "marker": {
          "color": [
           0,
           1,
           1,
           1,
           0,
           3,
           0,
           0,
           0,
           3,
           2,
           1,
           1,
           3,
           0,
           3,
           0,
           1,
           1,
           0,
           2,
           1,
           3,
           3,
           3,
           3,
           3,
           3,
           1,
           5,
           1,
           3,
           0,
           1,
           1,
           0,
           3,
           1,
           3,
           1,
           1,
           1,
           3,
           3,
           1,
           2,
           3,
           3,
           3,
           1,
           0,
           2,
           1,
           3,
           1,
           3,
           1,
           0,
           1,
           3,
           0,
           3,
           3,
           0,
           3,
           3,
           3,
           1,
           3,
           3,
           3,
           1,
           3,
           5,
           1,
           0,
           5,
           3,
           1,
           3,
           4,
           3,
           3,
           3,
           3,
           1,
           3,
           0,
           3,
           3,
           0,
           0,
           1,
           0,
           3,
           3,
           2,
           1,
           3,
           3,
           1,
           0,
           1,
           3,
           1,
           3,
           3,
           2,
           0,
           0,
           3,
           0,
           1,
           2,
           2,
           1,
           0,
           3,
           2,
           1,
           0,
           1,
           1,
           3,
           3,
           1,
           3,
           1,
           3,
           0,
           2,
           1,
           1,
           3,
           3,
           1,
           3,
           3,
           3,
           1,
           3,
           1,
           3,
           1,
           1,
           1,
           2,
           2,
           1,
           3,
           3,
           3,
           1,
           3,
           1,
           0,
           0,
           2,
           3,
           3,
           3,
           4,
           0,
           3,
           3,
           3,
           3,
           3,
           0,
           2,
           1,
           1,
           3,
           2,
           0,
           1,
           0,
           1,
           3,
           3,
           1,
           1,
           1,
           1,
           0,
           3,
           3,
           2,
           0,
           0,
           1,
           0,
           0,
           0,
           3,
           0,
           0,
           0,
           1,
           3,
           3,
           1,
           1,
           1,
           1,
           3,
           3,
           0,
           3,
           1,
           3,
           3,
           1,
           3,
           2,
           3,
           2,
           1,
           0,
           2,
           0,
           2,
           1,
           0,
           1,
           1,
           2,
           0,
           2,
           2,
           0,
           1,
           3,
           3,
           3,
           1,
           2,
           1,
           3,
           3,
           3,
           2,
           3,
           0,
           3,
           0,
           1,
           1,
           3,
           1,
           2,
           0,
           1,
           2,
           3,
           3,
           2,
           3,
           2,
           1,
           0,
           0,
           2,
           0,
           1,
           3,
           3,
           2,
           3,
           1,
           1,
           1,
           2,
           3,
           1,
           1,
           1,
           0,
           1,
           2,
           2,
           0,
           0,
           1,
           1,
           3,
           1,
           1,
           0,
           1,
           0,
           3,
           0,
           0,
           0,
           3,
           1,
           1,
           0,
           0,
           3,
           3,
           3,
           3,
           0,
           0,
           3,
           1,
           0,
           3,
           3,
           3,
           1,
           3,
           3,
           2,
           0,
           0,
           3,
           2,
           1,
           3,
           1,
           1,
           3,
           2,
           0,
           1,
           5,
           0,
           3,
           2,
           1,
           3,
           5,
           0,
           3,
           1,
           2,
           5,
           0,
           1,
           0,
           1,
           1,
           3,
           0,
           3,
           1,
           0,
           1,
           0,
           3,
           3,
           1,
           0,
           2,
           0,
           3,
           0,
           2,
           3,
           3,
           1,
           0,
           2,
           1,
           3,
           0,
           2,
           0,
           3,
           0,
           3,
           3,
           1,
           3,
           1,
           0,
           2,
           1,
           3,
           3,
           3,
           3,
           0,
           3,
           3,
           0,
           0,
           0,
           3,
           5,
           3,
           0,
           3,
           1,
           5,
           3,
           3,
           0,
           3,
           3,
           0,
           1,
           0,
           1,
           1,
           3,
           1,
           0,
           1,
           3,
           1,
           1,
           3,
           0,
           2,
           1,
           3,
           3,
           2,
           0,
           1,
           0,
           3,
           2,
           3,
           3,
           3,
           3,
           0,
           3,
           4,
           3,
           0,
           1,
           1,
           3,
           1,
           3,
           1,
           0,
           0,
           0,
           0,
           0,
           5,
           0,
           0,
           0,
           3,
           0,
           0,
           3,
           1,
           3,
           0,
           3,
           3,
           1,
           3,
           3,
           0,
           3,
           2,
           3,
           0,
           3,
           3,
           3,
           3,
           0,
           0,
           1,
           1,
           1,
           3,
           3,
           3,
           3,
           1,
           1,
           1,
           1,
           3,
           1,
           0,
           1,
           3,
           3,
           0,
           3,
           3,
           3,
           3,
           3,
           1,
           3,
           3,
           2,
           3,
           0,
           3,
           3,
           1,
           4,
           0,
           0,
           3,
           1,
           3,
           3,
           0,
           0,
           3,
           3,
           0,
           0,
           2,
           1,
           0,
           0,
           0,
           0,
           1,
           1,
           3,
           1,
           0,
           3,
           0,
           3,
           3,
           0,
           1,
           3,
           1,
           2,
           0,
           1,
           2,
           3,
           0,
           0,
           2,
           3,
           2,
           3,
           1,
           3,
           1,
           3,
           3,
           1,
           3,
           0,
           1,
           3,
           0,
           0,
           3,
           3,
           0,
           0,
           0,
           0,
           3,
           0,
           0,
           2,
           1,
           0,
           0,
           0,
           0,
           4,
           0,
           5,
           1,
           1,
           1,
           0,
           3,
           1,
           3,
           1,
           3,
           3,
           0,
           2,
           2,
           2,
           0,
           0,
           3,
           3,
           3,
           0,
           0,
           1,
           1,
           1,
           1,
           0,
           3,
           3,
           1,
           0,
           3,
           3,
           3,
           0,
           3,
           3,
           3,
           3,
           0,
           0,
           2,
           3,
           0,
           3,
           0,
           3,
           2,
           0,
           3,
           0,
           3,
           0,
           3,
           3,
           3,
           2,
           1,
           1,
           3,
           3,
           1,
           2,
           2,
           2,
           3,
           3,
           0,
           3,
           3,
           3,
           3,
           1,
           0,
           0,
           3,
           3,
           3,
           3,
           3,
           3,
           3,
           3,
           3,
           3,
           4,
           0,
           0,
           1,
           0,
           0,
           1,
           3,
           1,
           0,
           3,
           3,
           1,
           0,
           3,
           3,
           3,
           3,
           1,
           2,
           0,
           1,
           0,
           1,
           3,
           3,
           4,
           1,
           0,
           2,
           3,
           1,
           0,
           3,
           3,
           3,
           0,
           3,
           3,
           3,
           3,
           3,
           3,
           1,
           3,
           1,
           3,
           0,
           3,
           3,
           3,
           1,
           3,
           4,
           1,
           3,
           3,
           1,
           1,
           2,
           3,
           3,
           2,
           2,
           3,
           0,
           3,
           5,
           3,
           3,
           3,
           1,
           0,
           3,
           1,
           2,
           1,
           0,
           1,
           3,
           5,
           3,
           3,
           3,
           2,
           3,
           0,
           0,
           0,
           0,
           1,
           3,
           0,
           3,
           2,
           2,
           3,
           0,
           0,
           1,
           3,
           0,
           3,
           3,
           1,
           0
          ],
          "coloraxis": "coloraxis",
          "symbol": "circle"
         },
         "mode": "markers",
         "name": "",
         "orientation": "v",
         "showlegend": false,
         "type": "scatter",
         "x": [
          0.1774193548387097,
          0.40798376184032475,
          0.32,
          0.37024608501118567,
          0,
          0.20833333333333334,
          0,
          0,
          0,
          0.2857142857142857,
          0.14814814814814814,
          0.36445536445536447,
          0.35627906976744184,
          0.2,
          0.16666666666666666,
          0.34912280701754383,
          0,
          0.3268787459658829,
          0.3492822966507177,
          0,
          0,
          0.3875739644970414,
          0.23636363636363636,
          0.4048507462686567,
          0.21428571428571427,
          0.36180904522613067,
          0.3142857142857143,
          0.2727272727272727,
          0.3333333333333333,
          1,
          0.34535452322738386,
          0.38333333333333336,
          0,
          0.34625550660792953,
          0.45112781954887216,
          0,
          0.3984375,
          0.33167330677290835,
          0.3387096774193548,
          0.38,
          0.344578313253012,
          0.4234592445328032,
          0.33184257602862255,
          0.2803738317757009,
          0.3869246164109406,
          0,
          0.3157894736842105,
          0.2375,
          0.29545454545454547,
          0.3646437994722955,
          0.17391304347826086,
          0,
          0.3193863319386332,
          0.4,
          0.37757437070938216,
          0.371824480369515,
          0.3609625668449198,
          0,
          0.34901960784313724,
          0.3272425249169435,
          0.18181818181818182,
          0.2801047120418848,
          0.3246445497630332,
          0,
          0.25301204819277107,
          0.2972972972972973,
          0.4,
          0.33601609657947684,
          0.4084507042253521,
          0.32142857142857145,
          0.25,
          0.36901408450704226,
          0.2547945205479452,
          1,
          0.3786610878661088,
          0.14285714285714285,
          0.6,
          0.34965034965034963,
          0.3634361233480176,
          0.4111111111111111,
          0,
          0.34782608695652173,
          0.3695652173913043,
          0.4441340782122905,
          0.33997901364113325,
          0.40664961636828645,
          0.36363636363636365,
          0,
          0.3167808219178082,
          0.33636363636363636,
          0,
          0.2222222222222222,
          0.3751065643648764,
          0.125,
          0.3793103448275862,
          0.30434782608695654,
          0,
          0.31451612903225806,
          0.2857142857142857,
          0.3603504928806134,
          0.3842364532019704,
          0,
          0.40636042402826855,
          0.31322505800464034,
          0.37532133676092544,
          0.3,
          0.28776978417266186,
          0.125,
          0.09090909090909091,
          0,
          0.36624775583482944,
          0,
          0.4057142857142857,
          0.03225806451612903,
          0.21428571428571427,
          0.36240786240786244,
          0,
          0.2413793103448276,
          0,
          0.34944480731548005,
          0.09090909090909091,
          0.3437229437229437,
          0.3190909090909091,
          0.38016528925619836,
          0.23809523809523808,
          0.33045148895292986,
          0.2391304347826087,
          0.38481675392670156,
          0.23809523809523808,
          0.22916666666666666,
          0.2222222222222222,
          0.4006024096385542,
          0.4118831822759315,
          0.3709677419354839,
          0.35168738898756663,
          0.3343558282208589,
          0.3181818181818182,
          0.3225806451612903,
          0.31666666666666665,
          0.3621140763997907,
          0.25,
          0.36907216494845363,
          0.3010752688172043,
          0.37065148640101203,
          0.36688311688311687,
          0.3222543352601156,
          0,
          0,
          0.33884297520661155,
          0.24299065420560748,
          0.2784090909090909,
          0.336734693877551,
          0.3325581395348837,
          0.2346368715083799,
          0.3863192182410424,
          0.16666666666666666,
          0.1111111111111111,
          0,
          0.3,
          0.28426395939086296,
          0.45454545454545453,
          0,
          0.10714285714285714,
          0.2737430167597765,
          0.22448979591836735,
          0.2692307692307692,
          0.38219895287958117,
          0.5,
          0.08695652173913043,
          0.09090909090909091,
          0.3803611738148984,
          0.42504866969500327,
          0.33799237611181704,
          0.16666666666666666,
          0.14583333333333334,
          0.3381742738589212,
          0,
          0.36636880584890336,
          0.3333333333333333,
          0.26666666666666666,
          0.31507513330101794,
          0.40050590219224286,
          0.3706407137064071,
          0.4078549848942598,
          0.18181818181818182,
          0.5,
          0.3204930662557781,
          0,
          0.07692307692307693,
          0.16666666666666666,
          0.31641468682505397,
          0.2,
          0.09090909090909091,
          0.07692307692307693,
          0.2792207792207792,
          0,
          0,
          0.16,
          0.379110251450677,
          0.4051724137931034,
          0.34470377019748655,
          0.3931297709923664,
          0.3219178082191781,
          0.4086294416243655,
          0.38289322617680827,
          0.23809523809523808,
          0.26865671641791045,
          0,
          0.3051224944320713,
          0.3018867924528302,
          0.5,
          0.3359683794466403,
          0.36983573917371826,
          0.25,
          0.07142857142857142,
          0.25,
          0.11764705882352941,
          0.33093525179856115,
          0.19480519480519481,
          0.2,
          0,
          0.08333333333333333,
          0.33746355685131196,
          0.13636363636363635,
          0.37752161383285304,
          0.3516304347826087,
          0.1111111111111111,
          0.058823529411764705,
          0.1,
          0.25,
          0.14285714285714285,
          0.3704318936877076,
          0.4,
          0.3815789473684211,
          0.29333333333333333,
          0.38304552590266877,
          0,
          0.35219399538106233,
          0.3488372093023256,
          0.23214285714285715,
          0.19834710743801653,
          0.16666666666666666,
          0.2689075630252101,
          0,
          0.25630252100840334,
          0,
          0.3046153846153846,
          0.35250266240681577,
          0.30337078651685395,
          0.30864197530864196,
          0,
          0.2,
          0.43037974683544306,
          0,
          0.3333333333333333,
          0.26506024096385544,
          0.25,
          0.32100840336134456,
          0,
          0.3466371027346637,
          0.1111111111111111,
          0,
          0.045454545454545456,
          0.05263157894736842,
          0.35852713178294576,
          0.35,
          0.32558139534883723,
          0,
          0.32044198895027626,
          0.37309476474486414,
          0.31360112755461594,
          0.3057142857142857,
          0.21739130434782608,
          0.3038277511961722,
          0.310941475826972,
          0.4043575776994553,
          0.32891332470892626,
          0.05263157894736842,
          0.3728923476005188,
          0.2222222222222222,
          0,
          0,
          0,
          0.4182229767968308,
          0.3324764353041988,
          0.2826086956521739,
          0.3474218089602705,
          0.4,
          0,
          0.38415841584158417,
          0.043478260869565216,
          0.3466666666666667,
          0.15384615384615385,
          0,
          0,
          0.3435754189944134,
          0.32593856655290104,
          0.3919617986470354,
          0.1527777777777778,
          0.16,
          0.5,
          0.4444444444444444,
          0.2917771883289125,
          0.2987012987012987,
          0.14545454545454545,
          0,
          0.4375,
          0.3684210526315789,
          0.16363636363636364,
          0.3120879120879121,
          0.30952380952380953,
          0.375,
          0.39579967689822293,
          0.34210526315789475,
          0.3333333333333333,
          0.2222222222222222,
          0,
          0,
          0.4166666666666667,
          0,
          0.2222222222222222,
          0.3617021276595745,
          0.35655737704918034,
          0.34551495016611294,
          0.36363636363636365,
          0,
          0.125,
          0.36855506047103753,
          1,
          0.1956521739130435,
          0.25,
          0.11538461538461539,
          0.3558139534883721,
          0.2631578947368421,
          0.6666666666666666,
          0.19148936170212766,
          0.27586206896551724,
          0.2222222222222222,
          0.07692307692307693,
          1,
          0.07142857142857142,
          0.3763693270735524,
          0.18487394957983194,
          0.3696524064171123,
          0.3698167791706847,
          0.34155363748458695,
          0.13043478260869565,
          0.2600896860986547,
          0.36591639871382636,
          0,
          0.3508178228990412,
          0.18181818181818182,
          0.24,
          0.3462749213011542,
          0.3456953642384106,
          0.16666666666666666,
          0.07692307692307693,
          0.15,
          0.39436619718309857,
          0.14814814814814814,
          0,
          0.20512820512820512,
          0.3225806451612903,
          0.3507326007326007,
          0.18181818181818182,
          0,
          0.26666666666666666,
          0.35802469135802467,
          0.1,
          0,
          0,
          0.5,
          0.16666666666666666,
          0.5,
          0.2222222222222222,
          0.3626373626373626,
          0.31871345029239767,
          0.3314659197012138,
          0.14634146341463414,
          0,
          0.3597560975609756,
          0.315028901734104,
          0.3333333333333333,
          0.3425925925925926,
          0.38028169014084506,
          0,
          0.2914285714285714,
          0.391304347826087,
          0,
          0,
          0,
          0.3,
          1,
          0.35542168674698793,
          0,
          0.32926829268292684,
          0.33037475345167655,
          0.6666666666666666,
          0.21428571428571427,
          0.2727272727272727,
          0.2,
          0.4,
          0.375,
          0,
          0.3870967741935484,
          0,
          0.3727087576374745,
          0.35498320268757,
          0.31421121251629724,
          0.38285340314136124,
          0.21052631578947367,
          0.3156870377578824,
          0.27371273712737126,
          0.37629119527791444,
          0.35145075602778914,
          0.3380530973451327,
          0.16666666666666666,
          0.05263157894736842,
          0.4013793103448276,
          0.3422459893048128,
          0.3712871287128713,
          0,
          0,
          0.4085545722713864,
          0.1111111111111111,
          0.3537117903930131,
          0,
          0.3790446841294299,
          0.3246753246753247,
          0.2488479262672811,
          0.36,
          0.13333333333333333,
          0.2893401015228426,
          0,
          0.27586206896551724,
          0.19205298013245034,
          0.38451443569553806,
          0.36786786786786785,
          0.21739130434782608,
          0.3565121412803532,
          0.25,
          0.37783505154639174,
          0,
          0,
          0,
          0.2,
          0,
          1,
          0,
          0.16666666666666666,
          0.19047619047619047,
          0.3170731707317073,
          0.2,
          0.20930232558139536,
          0.4,
          0.37650844730490746,
          0.3132530120481928,
          0,
          0.2,
          0.2608695652173913,
          0.3162251655629139,
          0.2857142857142857,
          0.3125,
          0,
          0.2857142857142857,
          0.11,
          0.3333333333333333,
          0,
          0.32387706855791965,
          0.3333333333333333,
          0.3240223463687151,
          0.3,
          0.14285714285714285,
          0,
          0.3437278525868179,
          0.3310034947578632,
          0.3104972375690608,
          0.3424657534246575,
          0.39689922480620154,
          0.30474452554744524,
          0.2205128205128205,
          0.3541666666666667,
          0.3685636856368564,
          0.39631336405529954,
          0.3225331369661267,
          0.2578616352201258,
          0.317722681359045,
          0.18181818181818182,
          0.32860520094562645,
          0.32786885245901637,
          0.3202614379084967,
          0.17142857142857143,
          0.24686192468619247,
          0.34002677376171353,
          0.30648769574944074,
          0.3333333333333333,
          0.3205882352941177,
          0.3343065693430657,
          0.375,
          0.2222222222222222,
          0,
          0.32786885245901637,
          0,
          0.3850267379679144,
          0.27450980392156865,
          0.36486486486486486,
          0,
          0.1111111111111111,
          0,
          0.32653061224489793,
          0.3603305785123967,
          0.2571428571428571,
          0.3657142857142857,
          0,
          0,
          0.32,
          0.2534246575342466,
          0,
          0.16666666666666666,
          0.15384615384615385,
          0.29591836734693877,
          0.19886363636363635,
          0.06666666666666667,
          0.14432989690721648,
          0.19230769230769232,
          0.3889716840536513,
          0.3422818791946309,
          0.25,
          0.3419642857142857,
          0,
          0.3122923588039867,
          0,
          0.3442622950819672,
          0.2962962962962963,
          0.1111111111111111,
          0.3738796414852753,
          0.264,
          0.3515439429928741,
          0,
          0.13402061855670103,
          0.359504132231405,
          0.1,
          0.21428571428571427,
          0,
          0,
          0,
          0.26666666666666666,
          0.09090909090909091,
          0.47619047619047616,
          0.34196891191709844,
          0.2894736842105263,
          0.375,
          0.3333333333333333,
          0.16666666666666666,
          0.34901960784313724,
          0.25,
          0.0625,
          0.4025157232704403,
          0.4195804195804196,
          0,
          0.21428571428571427,
          0.375,
          0.4166666666666667,
          0,
          0.1,
          0.16666666666666666,
          0,
          0.36764705882352944,
          0,
          0,
          0,
          0.39568345323741005,
          0,
          0,
          0.2,
          0.16666666666666666,
          0,
          0.1875,
          1,
          0.3278520041109969,
          0.37432432432432433,
          0.3415929203539823,
          0,
          0.3053435114503817,
          0.3476510067114094,
          0.281437125748503,
          0.3821138211382114,
          0.31076923076923074,
          0.3561643835616438,
          0,
          0.125,
          0.09090909090909091,
          0.07142857142857142,
          0,
          0,
          0.2916666666666667,
          0.32894736842105265,
          0.3125,
          0.15,
          0,
          0.3157142857142857,
          0.3236009732360097,
          0.2839506172839506,
          0.34219269102990035,
          0.2,
          0.30434782608695654,
          0.34977578475336324,
          0.3652173913043478,
          0,
          0.2,
          0.3053435114503817,
          0.46153846153846156,
          0,
          0.3497536945812808,
          0.30434782608695654,
          0.2857142857142857,
          0.31746031746031744,
          0,
          0.16666666666666666,
          0,
          0.21818181818181817,
          0,
          0.3191489361702128,
          0,
          0.38461538461538464,
          0,
          0,
          0.31654676258992803,
          0.15789473684210525,
          0.3870967741935484,
          0,
          0.34,
          0.5,
          0.3333333333333333,
          0.25,
          0.3217821782178218,
          0.3609341825902335,
          0.23809523809523808,
          0.24096385542168675,
          0.3181818181818182,
          0,
          0,
          0.2,
          0.3013698630136986,
          0.2631578947368421,
          0,
          0.26666666666666666,
          0.34951456310679613,
          0.36633663366336633,
          0.3603238866396761,
          0.3047337278106509,
          0,
          0,
          0.33548387096774196,
          0.3333333333333333,
          0.3691931540342298,
          0.3343195266272189,
          0.3076923076923077,
          0.32038834951456313,
          0.3645833333333333,
          0.30344827586206896,
          0.3333333333333333,
          0.2692307692307692,
          0,
          0.14285714285714285,
          0,
          0.27800829875518673,
          0.2,
          0.16,
          0.3443526170798898,
          0.27450980392156865,
          0.32653061224489793,
          0.15384615384615385,
          0.2558139534883721,
          0.3173076923076923,
          0.36363636363636365,
          0.14285714285714285,
          0.31496062992125984,
          0.2222222222222222,
          0.4,
          0.35714285714285715,
          0.3695652173913043,
          0,
          0.2,
          0.3082191780821918,
          0,
          0.3157894736842105,
          0.29411764705882354,
          0.30985915492957744,
          0,
          0.377431906614786,
          0.23809523809523808,
          0,
          0.28191489361702127,
          0.32727272727272727,
          0,
          0.308411214953271,
          0.3684210526315789,
          0.2727272727272727,
          0,
          0.1875,
          0.25,
          0.2987012987012987,
          0.32,
          0.24,
          0.2978723404255319,
          0.3645833333333333,
          0.3333333333333333,
          0.3798449612403101,
          0.3008130081300813,
          0.16666666666666666,
          0.43137254901960786,
          0.3333333333333333,
          0.3,
          0.36363636363636365,
          0.3211009174311927,
          0,
          0.3375,
          0.25,
          0.23404255319148937,
          0.3924050632911392,
          0.39646464646464646,
          0,
          0.46153846153846156,
          0.25757575757575757,
          0,
          0,
          0.25,
          0.0625,
          0.4,
          1,
          0.391304347826087,
          0.21212121212121213,
          0.3333333333333333,
          0.2777777777777778,
          0.125,
          0.375,
          0.45569620253164556,
          0,
          0.27586206896551724,
          0.14285714285714285,
          0.25,
          0.3,
          0.6666666666666666,
          0.23076923076923078,
          0.4,
          0.3157894736842105,
          0,
          0.1951219512195122,
          0.125,
          0,
          0.2222222222222222,
          0,
          0.3333333333333333,
          0.4888888888888889,
          0,
          0.2222222222222222,
          0,
          0.3333333333333333,
          0.26666666666666666,
          0,
          0,
          0.2692307692307692,
          0.25,
          0,
          0.18181818181818182,
          0.5,
          0.3333333333333333,
          0.14285714285714285
         ],
         "xaxis": "x",
         "y": [
          1.24,
          3.56144578313253,
          5.208333333333333,
          2.8838709677419354,
          1,
          1.6,
          1,
          1,
          1,
          2.3333333333333335,
          1.0384615384615385,
          3.6339285714285716,
          3.6195286195286194,
          1.4705882352941178,
          1.5,
          2.3949579831932772,
          1,
          3.908108108108108,
          3.234042553191489,
          1,
          1,
          2.6825396825396823,
          1.6176470588235294,
          2.1877551020408164,
          1.3125,
          2.128342245989305,
          2.3529411764705883,
          1.8059701492537314,
          3,
          1,
          3.45877378435518,
          2.5531914893617023,
          1,
          4.809322033898305,
          2.944649446494465,
          1,
          1.8285714285714285,
          5.122448979591836,
          2.1379310344827585,
          2.9069767441860463,
          4.206081081081081,
          3.6449275362318843,
          2.3291666666666666,
          2.2061855670103094,
          3.1359832635983262,
          1.1428571428571428,
          1.425,
          1.2213740458015268,
          2.5384615384615383,
          3.7084148727984343,
          1.3529411764705883,
          1.1111111111111112,
          4.097142857142857,
          2.280701754385965,
          3.3486590038314175,
          2.3031914893617023,
          2.9800796812749004,
          1,
          2.9310344827586206,
          2.0201342281879193,
          1.0476190476190477,
          1.9690721649484537,
          2.24468085106383,
          1,
          1.8444444444444446,
          1.608695652173913,
          1,
          2.6864864864864866,
          1.8362068965517242,
          1.3658536585365855,
          1,
          3.287037037037037,
          1.7632850241545894,
          1,
          3.414285714285714,
          1,
          1,
          2.6,
          2.8917197452229297,
          2.202797202797203,
          1,
          1.5333333333333334,
          2.1904761904761907,
          2.034090909090909,
          2.5211640211640214,
          3.090909090909091,
          2.101123595505618,
          1,
          2.1872659176029963,
          1.3253012048192772,
          1,
          1,
          4.720321931589537,
          1,
          2.0232558139534884,
          1.3529411764705883,
          1,
          2.7403314917127073,
          1.75,
          2.359173126614987,
          5.486486486486487,
          1,
          6.086021505376344,
          1.7449392712550607,
          2.73943661971831,
          1.2280701754385965,
          1.5617977528089888,
          1,
          1.1,
          1,
          2.4008620689655173,
          1,
          3.8346613545816735,
          1,
          1.0769230769230769,
          3.7,
          1,
          2.0714285714285716,
          1,
          3.092929292929293,
          1.1,
          2.9093198992443323,
          4.150943396226415,
          1.7952522255192878,
          1.5,
          3.9885057471264367,
          1.4375,
          3.20335429769392,
          1.1886792452830188,
          1.0909090909090908,
          1.125,
          2.825531914893617,
          3.0743034055727554,
          1.7714285714285714,
          2.421505376344086,
          4.500986193293886,
          1.8082191780821917,
          2.291828793774319,
          1.5384615384615385,
          3.4619565217391304,
          1.1958762886597938,
          3.9430894308943087,
          1.1481481481481481,
          3.4595185995623634,
          2.9615384615384617,
          3.2336448598130842,
          1,
          1,
          3.408450704225352,
          1.5507246376811594,
          1.543859649122807,
          1.380281690140845,
          3.154034229828851,
          1.3161764705882353,
          5.320623916811092,
          1,
          1,
          1,
          1.25,
          1.3493150684931507,
          1.2222222222222223,
          1,
          1.0769230769230769,
          1.6126126126126126,
          1.380281690140845,
          1.0833333333333333,
          1.9895833333333333,
          1.3333333333333333,
          1.15,
          1,
          2.644776119402985,
          3.961439588688946,
          2.017948717948718,
          1,
          1.0909090909090908,
          3.765625,
          1,
          2.7600896860986546,
          1.05,
          1.25,
          3.8417132216014895,
          2.7905882352941176,
          3.4634831460674156,
          3.2935323383084576,
          1,
          1,
          2.0092879256965945,
          1,
          1,
          1.0909090909090908,
          2.660919540229885,
          1,
          1.2222222222222223,
          1.1818181818181819,
          1.3628318584070795,
          1,
          1,
          1,
          4.831775700934579,
          2.32,
          1.7085889570552146,
          2.6464646464646466,
          3.0416666666666665,
          4.273318872017353,
          4.269607843137255,
          1,
          2.2333333333333334,
          1,
          1.5644599303135889,
          3.904017857142857,
          1,
          2.2589285714285716,
          3.93921568627451,
          1.4757281553398058,
          1.037037037037037,
          1.3333333333333333,
          1.0625,
          3.1954022988505746,
          1.2833333333333334,
          1,
          1,
          1,
          3.161290322580645,
          1.2222222222222223,
          3.3047619047619046,
          3.6947791164658637,
          1.1612903225806452,
          1,
          1,
          1,
          1,
          3.04040404040404,
          1.25,
          1.6170212765957446,
          1.5957446808510638,
          3.509641873278237,
          1,
          3.654008438818565,
          1.8970588235294117,
          1.8064516129032258,
          1.704225352112676,
          1,
          1.3837209302325582,
          1,
          1.8449612403100775,
          1.1428571428571428,
          2.7542372881355934,
          5.743119266055046,
          1.934782608695652,
          3,
          1,
          1.4102564102564104,
          3.3617021276595747,
          1.25,
          1.9375,
          1.2388059701492538,
          1,
          2.5869565217391304,
          1,
          2.8787234042553194,
          1.0588235294117647,
          1,
          1.0476190476190477,
          1,
          2.652956298200514,
          2.4657534246575343,
          2.0476190476190474,
          1.1666666666666667,
          1.8344594594594594,
          3.0484848484848484,
          3.5386533665835413,
          4.183266932270916,
          1,
          1.5144927536231885,
          3.8605108055009825,
          6.001923076923077,
          5.663003663003663,
          1.0555555555555556,
          3.645390070921986,
          1,
          1,
          1,
          1,
          3.541082164328657,
          3.2416666666666667,
          1.15,
          3.113157894736842,
          3,
          1,
          3.085539714867617,
          1.0454545454545454,
          2.0833333333333335,
          1.4444444444444444,
          1,
          1,
          2.4604810996563575,
          3.2555555555555555,
          5.149590163934426,
          1.1428571428571428,
          1,
          1.1428571428571428,
          2.1176470588235294,
          1.8480392156862746,
          1.54,
          1.1702127659574468,
          1.4,
          1.6,
          2.590909090909091,
          1.4102564102564104,
          2.2693266832917707,
          1.68,
          1.7777777777777777,
          3.537142857142857,
          2.345679012345679,
          1,
          1.0588235294117647,
          1,
          1,
          1.3333333333333333,
          1,
          3,
          2.238095238095238,
          2.8126801152737753,
          3.562130177514793,
          1.375,
          1,
          1.7777777777777777,
          3.9472361809045227,
          1,
          1.393939393939394,
          1.1428571428571428,
          1.04,
          4.154589371980676,
          1.3571428571428572,
          1,
          1.146341463414634,
          1.8125,
          3,
          1,
          1,
          1.0769230769230769,
          2.9311926605504586,
          1.1018518518518519,
          3.2879120879120878,
          4.40339702760085,
          2.1859838274932613,
          1.0454545454545454,
          1.6766917293233083,
          3.154158215010142,
          1,
          4.303398058252427,
          1.1,
          1.4150943396226414,
          2.4561855670103094,
          3.561320754716981,
          1.0714285714285714,
          1,
          1.0714285714285714,
          2.4482758620689653,
          1.125,
          1,
          1.4444444444444444,
          2.2142857142857144,
          2.975476839237057,
          1.8333333333333333,
          1,
          3.0434782608695654,
          1.35,
          1.1111111111111112,
          1,
          1.5,
          1.2,
          1.2,
          1.6363636363636365,
          1.2857142857142858,
          2.757575757575758,
          1.7628865979381443,
          4.01123595505618,
          1.1081081081081081,
          1,
          2.6031746031746033,
          2.0057971014492755,
          1.6626506024096386,
          2.25,
          2.0285714285714285,
          1,
          1.5217391304347827,
          1.0454545454545454,
          1,
          1,
          1.5,
          1.4285714285714286,
          1,
          1.7849462365591398,
          1,
          2.2777777777777777,
          3.017857142857143,
          1.5,
          1.1666666666666667,
          1.2222222222222223,
          1,
          1.6666666666666667,
          1.3333333333333333,
          1,
          3.4444444444444446,
          1,
          3.2879464285714284,
          2.7142857142857144,
          2.5397350993377485,
          3.9585492227979273,
          1,
          5.512875536480687,
          2.372990353697749,
          4.262054507337526,
          4.9534412955465585,
          2.084870848708487,
          1,
          1,
          3.5194174757281553,
          1.87,
          2.376470588235294,
          1,
          1,
          3.8853868194842405,
          1.4516129032258065,
          2.29,
          1,
          2.421641791044776,
          1.4666666666666666,
          1.4466666666666668,
          1.4705882352941178,
          1.1538461538461537,
          2.141304347826087,
          1,
          1.2083333333333333,
          1.1984126984126984,
          3.8387909319899243,
          2.883116883116883,
          1.6428571428571428,
          3.8227848101265822,
          1.3333333333333333,
          4.282560706401766,
          1,
          1,
          1,
          1.0714285714285714,
          1,
          1,
          1,
          1.4285714285714286,
          1.4,
          1.553030303030303,
          1.0526315789473684,
          1.1944444444444444,
          1.25,
          3.5014084507042256,
          1.2028985507246377,
          1,
          1.6666666666666667,
          1.5333333333333334,
          3.11340206185567,
          1.4,
          1.7777777777777777,
          1,
          1.1666666666666667,
          1.2195121951219512,
          1,
          1,
          2.0434782608695654,
          1,
          2.5942028985507246,
          1.25,
          1,
          1,
          3.627249357326478,
          5.2297650130548305,
          2.8639240506329116,
          1.972972972972973,
          2.354014598540146,
          1.8767123287671232,
          1.598360655737705,
          3.210191082802548,
          4.58955223880597,
          2.5833333333333335,
          2.673228346456693,
          2.0126582278481013,
          3.084985835694051,
          1.1,
          3.2045454545454546,
          1.525,
          2.25,
          1.09375,
          1.8968253968253967,
          2.3126934984520124,
          2.1594202898550723,
          1,
          2.361111111111111,
          3.004385964912281,
          1.9615384615384615,
          1.5,
          1,
          2.5416666666666665,
          1,
          2.125,
          1.5454545454545454,
          2.775,
          1,
          1,
          2,
          1.798165137614679,
          3.2180851063829787,
          1.09375,
          2,
          1,
          1,
          1.524390243902439,
          1.489795918367347,
          1,
          1.5,
          1.1818181818181819,
          4.260869565217392,
          1.3037037037037038,
          1,
          1.2435897435897436,
          1.3,
          4.371335504885994,
          2.8653846153846154,
          1.0909090909090908,
          4.516129032258065,
          1,
          1.980263157894737,
          1,
          1.6266666666666667,
          1.173913043478261,
          1,
          2.6296296296296298,
          1.4619883040935673,
          4.325342465753424,
          1,
          1.3108108108108107,
          3.7003058103975537,
          1,
          1.4823529411764707,
          1,
          1,
          1,
          1.3636363636363635,
          1,
          1.1666666666666667,
          2.9022556390977443,
          1.4074074074074074,
          3.0476190476190474,
          2.27027027027027,
          2,
          2.6842105263157894,
          1.76,
          1.1428571428571428,
          4.2,
          1.9861111111111112,
          1.5,
          1.2727272727272727,
          1.3333333333333333,
          1.2,
          1,
          1,
          1.3333333333333333,
          1,
          1.446808510638298,
          1,
          1.25,
          1.2,
          2.8958333333333335,
          1,
          1,
          1.25,
          1,
          1,
          1.103448275862069,
          1,
          3.7713178294573644,
          3.045267489711934,
          3.4451219512195124,
          1,
          2.046875,
          2.9919678714859437,
          1.964705882352941,
          4.241379310344827,
          2.1103896103896105,
          1.5208333333333333,
          1.5,
          1,
          1,
          1,
          1,
          1,
          1.5,
          1.6521739130434783,
          1.7454545454545454,
          1.1111111111111112,
          1,
          3.1818181818181817,
          2.946236559139785,
          3.1153846153846154,
          3.185185185185185,
          1.1111111111111112,
          1.4375,
          2.0458715596330275,
          4.6,
          1,
          1.7741935483870968,
          1.617283950617284,
          1.4444444444444444,
          1,
          1.735042735042735,
          1.7797619047619047,
          1.6153846153846154,
          1.4,
          1,
          1.2,
          1,
          1.8333333333333333,
          1.5,
          1.9054054054054055,
          1,
          2.4375,
          1,
          2,
          2.3559322033898304,
          1.1875,
          1.55,
          1.2,
          1.5625,
          1.6,
          1.5,
          1,
          2.8857142857142857,
          2.9074074074074074,
          1.6153846153846154,
          2.155844155844156,
          3.0425531914893615,
          1,
          1,
          1.0526315789473684,
          1.972972972972973,
          1.2127659574468086,
          1,
          1.0714285714285714,
          2.168421052631579,
          2.1041666666666665,
          2.494949494949495,
          2.9391304347826086,
          1,
          1,
          2.2627737226277373,
          1.21875,
          2.478787878787879,
          2.2533333333333334,
          1.8571428571428572,
          2.1458333333333335,
          2.0869565217391304,
          2.101449275362319,
          2.111111111111111,
          1.813953488372093,
          1,
          1.4,
          1.5,
          2.9753086419753085,
          1,
          1.4705882352941178,
          2.6496350364963503,
          1.6451612903225807,
          4.21505376344086,
          1.7333333333333334,
          1.3870967741935485,
          2.6,
          2.75,
          1,
          2.267857142857143,
          1.7234042553191489,
          1.8055555555555556,
          1.75,
          2.875,
          1,
          1,
          3.0103092783505154,
          1,
          2.7403846153846154,
          1,
          1.5106382978723405,
          1,
          5.089108910891089,
          1.05,
          1,
          2.3797468354430378,
          2.9464285714285716,
          1,
          1.5970149253731343,
          1.9558823529411764,
          2.2,
          2,
          1.6,
          1,
          1.54,
          1.3157894736842106,
          1.4285714285714286,
          1.236842105263158,
          3,
          1.6363636363636365,
          3,
          1.8088235294117647,
          1.2,
          2.372093023255814,
          1.3404255319148937,
          1.5,
          3.1666666666666665,
          2.056603773584906,
          1,
          2.926829268292683,
          1.3333333333333333,
          1.6206896551724137,
          3.4347826086956523,
          4.658823529411765,
          1,
          1.625,
          1.6097560975609757,
          1,
          1,
          2,
          1.3333333333333333,
          1.25,
          1,
          1.9166666666666667,
          1.5714285714285714,
          1,
          3,
          1.1428571428571428,
          1.6,
          3.0384615384615383,
          1,
          2.761904761904762,
          1.75,
          2.8333333333333335,
          2.5,
          1.5,
          1.8571428571428572,
          1,
          1.4615384615384615,
          1,
          2.2777777777777777,
          1.4545454545454546,
          1.5,
          1.125,
          1,
          3,
          1.8,
          1,
          2.25,
          1.5,
          1,
          2.5,
          1,
          1,
          2.888888888888889,
          2,
          1.5,
          2,
          1,
          2.625,
          1.4
         ],
         "yaxis": "y"
        }
       ],
       "layout": {
        "coloraxis": {
         "colorbar": {
          "title": {
           "text": "cluster"
          }
         },
         "colorscale": [
          [
           0,
           "#440154"
          ],
          [
           0.1111111111111111,
           "#482878"
          ],
          [
           0.2222222222222222,
           "#3e4989"
          ],
          [
           0.3333333333333333,
           "#31688e"
          ],
          [
           0.4444444444444444,
           "#26828e"
          ],
          [
           0.5555555555555556,
           "#1f9e89"
          ],
          [
           0.6666666666666666,
           "#35b779"
          ],
          [
           0.7777777777777778,
           "#6ece58"
          ],
          [
           0.8888888888888888,
           "#b5de2b"
          ],
          [
           1,
           "#fde725"
          ]
         ]
        },
        "legend": {
         "tracegroupgap": 0
        },
        "template": {
         "data": {
          "bar": [
           {
            "error_x": {
             "color": "#2a3f5f"
            },
            "error_y": {
             "color": "#2a3f5f"
            },
            "marker": {
             "line": {
              "color": "#E5ECF6",
              "width": 0.5
             },
             "pattern": {
              "fillmode": "overlay",
              "size": 10,
              "solidity": 0.2
             }
            },
            "type": "bar"
           }
          ],
          "barpolar": [
           {
            "marker": {
             "line": {
              "color": "#E5ECF6",
              "width": 0.5
             },
             "pattern": {
              "fillmode": "overlay",
              "size": 10,
              "solidity": 0.2
             }
            },
            "type": "barpolar"
           }
          ],
          "carpet": [
           {
            "aaxis": {
             "endlinecolor": "#2a3f5f",
             "gridcolor": "white",
             "linecolor": "white",
             "minorgridcolor": "white",
             "startlinecolor": "#2a3f5f"
            },
            "baxis": {
             "endlinecolor": "#2a3f5f",
             "gridcolor": "white",
             "linecolor": "white",
             "minorgridcolor": "white",
             "startlinecolor": "#2a3f5f"
            },
            "type": "carpet"
           }
          ],
          "choropleth": [
           {
            "colorbar": {
             "outlinewidth": 0,
             "ticks": ""
            },
            "type": "choropleth"
           }
          ],
          "contour": [
           {
            "colorbar": {
             "outlinewidth": 0,
             "ticks": ""
            },
            "colorscale": [
             [
              0,
              "#0d0887"
             ],
             [
              0.1111111111111111,
              "#46039f"
             ],
             [
              0.2222222222222222,
              "#7201a8"
             ],
             [
              0.3333333333333333,
              "#9c179e"
             ],
             [
              0.4444444444444444,
              "#bd3786"
             ],
             [
              0.5555555555555556,
              "#d8576b"
             ],
             [
              0.6666666666666666,
              "#ed7953"
             ],
             [
              0.7777777777777778,
              "#fb9f3a"
             ],
             [
              0.8888888888888888,
              "#fdca26"
             ],
             [
              1,
              "#f0f921"
             ]
            ],
            "type": "contour"
           }
          ],
          "contourcarpet": [
           {
            "colorbar": {
             "outlinewidth": 0,
             "ticks": ""
            },
            "type": "contourcarpet"
           }
          ],
          "heatmap": [
           {
            "colorbar": {
             "outlinewidth": 0,
             "ticks": ""
            },
            "colorscale": [
             [
              0,
              "#0d0887"
             ],
             [
              0.1111111111111111,
              "#46039f"
             ],
             [
              0.2222222222222222,
              "#7201a8"
             ],
             [
              0.3333333333333333,
              "#9c179e"
             ],
             [
              0.4444444444444444,
              "#bd3786"
             ],
             [
              0.5555555555555556,
              "#d8576b"
             ],
             [
              0.6666666666666666,
              "#ed7953"
             ],
             [
              0.7777777777777778,
              "#fb9f3a"
             ],
             [
              0.8888888888888888,
              "#fdca26"
             ],
             [
              1,
              "#f0f921"
             ]
            ],
            "type": "heatmap"
           }
          ],
          "heatmapgl": [
           {
            "colorbar": {
             "outlinewidth": 0,
             "ticks": ""
            },
            "colorscale": [
             [
              0,
              "#0d0887"
             ],
             [
              0.1111111111111111,
              "#46039f"
             ],
             [
              0.2222222222222222,
              "#7201a8"
             ],
             [
              0.3333333333333333,
              "#9c179e"
             ],
             [
              0.4444444444444444,
              "#bd3786"
             ],
             [
              0.5555555555555556,
              "#d8576b"
             ],
             [
              0.6666666666666666,
              "#ed7953"
             ],
             [
              0.7777777777777778,
              "#fb9f3a"
             ],
             [
              0.8888888888888888,
              "#fdca26"
             ],
             [
              1,
              "#f0f921"
             ]
            ],
            "type": "heatmapgl"
           }
          ],
          "histogram": [
           {
            "marker": {
             "pattern": {
              "fillmode": "overlay",
              "size": 10,
              "solidity": 0.2
             }
            },
            "type": "histogram"
           }
          ],
          "histogram2d": [
           {
            "colorbar": {
             "outlinewidth": 0,
             "ticks": ""
            },
            "colorscale": [
             [
              0,
              "#0d0887"
             ],
             [
              0.1111111111111111,
              "#46039f"
             ],
             [
              0.2222222222222222,
              "#7201a8"
             ],
             [
              0.3333333333333333,
              "#9c179e"
             ],
             [
              0.4444444444444444,
              "#bd3786"
             ],
             [
              0.5555555555555556,
              "#d8576b"
             ],
             [
              0.6666666666666666,
              "#ed7953"
             ],
             [
              0.7777777777777778,
              "#fb9f3a"
             ],
             [
              0.8888888888888888,
              "#fdca26"
             ],
             [
              1,
              "#f0f921"
             ]
            ],
            "type": "histogram2d"
           }
          ],
          "histogram2dcontour": [
           {
            "colorbar": {
             "outlinewidth": 0,
             "ticks": ""
            },
            "colorscale": [
             [
              0,
              "#0d0887"
             ],
             [
              0.1111111111111111,
              "#46039f"
             ],
             [
              0.2222222222222222,
              "#7201a8"
             ],
             [
              0.3333333333333333,
              "#9c179e"
             ],
             [
              0.4444444444444444,
              "#bd3786"
             ],
             [
              0.5555555555555556,
              "#d8576b"
             ],
             [
              0.6666666666666666,
              "#ed7953"
             ],
             [
              0.7777777777777778,
              "#fb9f3a"
             ],
             [
              0.8888888888888888,
              "#fdca26"
             ],
             [
              1,
              "#f0f921"
             ]
            ],
            "type": "histogram2dcontour"
           }
          ],
          "mesh3d": [
           {
            "colorbar": {
             "outlinewidth": 0,
             "ticks": ""
            },
            "type": "mesh3d"
           }
          ],
          "parcoords": [
           {
            "line": {
             "colorbar": {
              "outlinewidth": 0,
              "ticks": ""
             }
            },
            "type": "parcoords"
           }
          ],
          "pie": [
           {
            "automargin": true,
            "type": "pie"
           }
          ],
          "scatter": [
           {
            "fillpattern": {
             "fillmode": "overlay",
             "size": 10,
             "solidity": 0.2
            },
            "type": "scatter"
           }
          ],
          "scatter3d": [
           {
            "line": {
             "colorbar": {
              "outlinewidth": 0,
              "ticks": ""
             }
            },
            "marker": {
             "colorbar": {
              "outlinewidth": 0,
              "ticks": ""
             }
            },
            "type": "scatter3d"
           }
          ],
          "scattercarpet": [
           {
            "marker": {
             "colorbar": {
              "outlinewidth": 0,
              "ticks": ""
             }
            },
            "type": "scattercarpet"
           }
          ],
          "scattergeo": [
           {
            "marker": {
             "colorbar": {
              "outlinewidth": 0,
              "ticks": ""
             }
            },
            "type": "scattergeo"
           }
          ],
          "scattergl": [
           {
            "marker": {
             "colorbar": {
              "outlinewidth": 0,
              "ticks": ""
             }
            },
            "type": "scattergl"
           }
          ],
          "scattermapbox": [
           {
            "marker": {
             "colorbar": {
              "outlinewidth": 0,
              "ticks": ""
             }
            },
            "type": "scattermapbox"
           }
          ],
          "scatterpolar": [
           {
            "marker": {
             "colorbar": {
              "outlinewidth": 0,
              "ticks": ""
             }
            },
            "type": "scatterpolar"
           }
          ],
          "scatterpolargl": [
           {
            "marker": {
             "colorbar": {
              "outlinewidth": 0,
              "ticks": ""
             }
            },
            "type": "scatterpolargl"
           }
          ],
          "scatterternary": [
           {
            "marker": {
             "colorbar": {
              "outlinewidth": 0,
              "ticks": ""
             }
            },
            "type": "scatterternary"
           }
          ],
          "surface": [
           {
            "colorbar": {
             "outlinewidth": 0,
             "ticks": ""
            },
            "colorscale": [
             [
              0,
              "#0d0887"
             ],
             [
              0.1111111111111111,
              "#46039f"
             ],
             [
              0.2222222222222222,
              "#7201a8"
             ],
             [
              0.3333333333333333,
              "#9c179e"
             ],
             [
              0.4444444444444444,
              "#bd3786"
             ],
             [
              0.5555555555555556,
              "#d8576b"
             ],
             [
              0.6666666666666666,
              "#ed7953"
             ],
             [
              0.7777777777777778,
              "#fb9f3a"
             ],
             [
              0.8888888888888888,
              "#fdca26"
             ],
             [
              1,
              "#f0f921"
             ]
            ],
            "type": "surface"
           }
          ],
          "table": [
           {
            "cells": {
             "fill": {
              "color": "#EBF0F8"
             },
             "line": {
              "color": "white"
             }
            },
            "header": {
             "fill": {
              "color": "#C8D4E3"
             },
             "line": {
              "color": "white"
             }
            },
            "type": "table"
           }
          ]
         },
         "layout": {
          "annotationdefaults": {
           "arrowcolor": "#2a3f5f",
           "arrowhead": 0,
           "arrowwidth": 1
          },
          "autotypenumbers": "strict",
          "coloraxis": {
           "colorbar": {
            "outlinewidth": 0,
            "ticks": ""
           }
          },
          "colorscale": {
           "diverging": [
            [
             0,
             "#8e0152"
            ],
            [
             0.1,
             "#c51b7d"
            ],
            [
             0.2,
             "#de77ae"
            ],
            [
             0.3,
             "#f1b6da"
            ],
            [
             0.4,
             "#fde0ef"
            ],
            [
             0.5,
             "#f7f7f7"
            ],
            [
             0.6,
             "#e6f5d0"
            ],
            [
             0.7,
             "#b8e186"
            ],
            [
             0.8,
             "#7fbc41"
            ],
            [
             0.9,
             "#4d9221"
            ],
            [
             1,
             "#276419"
            ]
           ],
           "sequential": [
            [
             0,
             "#0d0887"
            ],
            [
             0.1111111111111111,
             "#46039f"
            ],
            [
             0.2222222222222222,
             "#7201a8"
            ],
            [
             0.3333333333333333,
             "#9c179e"
            ],
            [
             0.4444444444444444,
             "#bd3786"
            ],
            [
             0.5555555555555556,
             "#d8576b"
            ],
            [
             0.6666666666666666,
             "#ed7953"
            ],
            [
             0.7777777777777778,
             "#fb9f3a"
            ],
            [
             0.8888888888888888,
             "#fdca26"
            ],
            [
             1,
             "#f0f921"
            ]
           ],
           "sequentialminus": [
            [
             0,
             "#0d0887"
            ],
            [
             0.1111111111111111,
             "#46039f"
            ],
            [
             0.2222222222222222,
             "#7201a8"
            ],
            [
             0.3333333333333333,
             "#9c179e"
            ],
            [
             0.4444444444444444,
             "#bd3786"
            ],
            [
             0.5555555555555556,
             "#d8576b"
            ],
            [
             0.6666666666666666,
             "#ed7953"
            ],
            [
             0.7777777777777778,
             "#fb9f3a"
            ],
            [
             0.8888888888888888,
             "#fdca26"
            ],
            [
             1,
             "#f0f921"
            ]
           ]
          },
          "colorway": [
           "#636efa",
           "#EF553B",
           "#00cc96",
           "#ab63fa",
           "#FFA15A",
           "#19d3f3",
           "#FF6692",
           "#B6E880",
           "#FF97FF",
           "#FECB52"
          ],
          "font": {
           "color": "#2a3f5f"
          },
          "geo": {
           "bgcolor": "white",
           "lakecolor": "white",
           "landcolor": "#E5ECF6",
           "showlakes": true,
           "showland": true,
           "subunitcolor": "white"
          },
          "hoverlabel": {
           "align": "left"
          },
          "hovermode": "closest",
          "mapbox": {
           "style": "light"
          },
          "paper_bgcolor": "white",
          "plot_bgcolor": "#E5ECF6",
          "polar": {
           "angularaxis": {
            "gridcolor": "white",
            "linecolor": "white",
            "ticks": ""
           },
           "bgcolor": "#E5ECF6",
           "radialaxis": {
            "gridcolor": "white",
            "linecolor": "white",
            "ticks": ""
           }
          },
          "scene": {
           "xaxis": {
            "backgroundcolor": "#E5ECF6",
            "gridcolor": "white",
            "gridwidth": 2,
            "linecolor": "white",
            "showbackground": true,
            "ticks": "",
            "zerolinecolor": "white"
           },
           "yaxis": {
            "backgroundcolor": "#E5ECF6",
            "gridcolor": "white",
            "gridwidth": 2,
            "linecolor": "white",
            "showbackground": true,
            "ticks": "",
            "zerolinecolor": "white"
           },
           "zaxis": {
            "backgroundcolor": "#E5ECF6",
            "gridcolor": "white",
            "gridwidth": 2,
            "linecolor": "white",
            "showbackground": true,
            "ticks": "",
            "zerolinecolor": "white"
           }
          },
          "shapedefaults": {
           "line": {
            "color": "#2a3f5f"
           }
          },
          "ternary": {
           "aaxis": {
            "gridcolor": "white",
            "linecolor": "white",
            "ticks": ""
           },
           "baxis": {
            "gridcolor": "white",
            "linecolor": "white",
            "ticks": ""
           },
           "bgcolor": "#E5ECF6",
           "caxis": {
            "gridcolor": "white",
            "linecolor": "white",
            "ticks": ""
           }
          },
          "title": {
           "x": 0.05
          },
          "xaxis": {
           "automargin": true,
           "gridcolor": "white",
           "linecolor": "white",
           "ticks": "",
           "title": {
            "standoff": 15
           },
           "zerolinecolor": "white",
           "zerolinewidth": 2
          },
          "yaxis": {
           "automargin": true,
           "gridcolor": "white",
           "linecolor": "white",
           "ticks": "",
           "title": {
            "standoff": 15
           },
           "zerolinecolor": "white",
           "zerolinewidth": 2
          }
         }
        },
        "title": {
         "text": "NBA Players Clustering Based on 3-Point Shooting (Period 1)"
        },
        "xaxis": {
         "anchor": "y",
         "domain": [
          0,
          1
         ],
         "title": {
          "text": "Shooting Percentage"
         }
        },
        "yaxis": {
         "anchor": "x",
         "domain": [
          0,
          1
         ],
         "title": {
          "text": "Attempts per Game"
         }
        }
       }
      }
     },
     "metadata": {},
     "output_type": "display_data"
    },
    {
     "data": {
      "application/vnd.plotly.v1+json": {
       "config": {
        "plotlyServerURL": "https://plot.ly"
       },
       "data": [
        {
         "customdata": [
          [
           "Eric Piatkowski"
          ],
          [
           "Gary Payton"
          ],
          [
           "Doug Christie"
          ],
          [
           "Latrell Sprewell"
          ],
          [
           "Nick Van Exel"
          ],
          [
           "Robert Horry"
          ],
          [
           "Steven Smith"
          ],
          [
           "David Wesley"
          ],
          [
           "P.J. Brown"
          ],
          [
           "Jalen Rose"
          ],
          [
           "Chris Webber"
          ],
          [
           "Sam Cassell"
          ],
          [
           "Antonio Davis"
          ],
          [
           "Eddie Jones"
          ],
          [
           "Darrick Martin"
          ],
          [
           "Aaron McKie"
          ],
          [
           "George Lynch"
          ],
          [
           "Grant Hill"
          ],
          [
           "Allan Houston"
          ],
          [
           "Scott Williams"
          ],
          [
           "Lindsey Hunter"
          ],
          [
           "Alonzo Mourning"
          ],
          [
           "Glenn Robinson"
          ],
          [
           "Anthony Peeler"
          ],
          [
           "Tom Gugliotta"
          ],
          [
           "Darrell Armstrong"
          ],
          [
           "Anfernee Hardaway"
          ],
          [
           "Clifford Robinson"
          ],
          [
           "Christian Laettner"
          ],
          [
           "Calbert Cheaney"
          ],
          [
           "Toni Kukoc"
          ],
          [
           "Rod Strickland"
          ],
          [
           "Reggie Miller"
          ],
          [
           "Shaquille O'Neal"
          ],
          [
           "Juwan Howard"
          ],
          [
           "Lamond Murray"
          ],
          [
           "Wesley Person"
          ],
          [
           "Lucious Harris"
          ],
          [
           "Vin Baker"
          ],
          [
           "Howard Eisley"
          ],
          [
           "Jason Kidd"
          ],
          [
           "Jon Barry"
          ],
          [
           "Alan Henderson"
          ],
          [
           "Eric Williams"
          ],
          [
           "Bob Sura"
          ],
          [
           "Antonio McDyess"
          ],
          [
           "Theo Ratliff"
          ],
          [
           "Joe Smith"
          ],
          [
           "Travis Best"
          ],
          [
           "Fred Hoiberg"
          ],
          [
           "Brent Barry"
          ],
          [
           "Voshon Lenard"
          ],
          [
           "Kurt Thomas"
          ],
          [
           "Kevin Garnett"
          ],
          [
           "Jerry Stackhouse"
          ],
          [
           "Michael Finley"
          ],
          [
           "Corliss Williamson"
          ],
          [
           "Cory Alexander"
          ],
          [
           "Eric Snow"
          ],
          [
           "Greg Ostertag"
          ],
          [
           "Rasheed Wallace"
          ],
          [
           "Jim Jackson"
          ],
          [
           "Damon Stoudamire"
          ],
          [
           "Kevin Willis"
          ],
          [
           "Dale Davis"
          ],
          [
           "Rodney Rogers"
          ],
          [
           "Elden Campbell"
          ],
          [
           "Donyell Marshall"
          ],
          [
           "Anthony Goldwire"
          ],
          [
           "Bryon Russell"
          ],
          [
           "Allen Iverson"
          ],
          [
           "Marcus Camby"
          ],
          [
           "Shareef Abdur-Rahim"
          ],
          [
           "Stephon Marbury"
          ],
          [
           "Ray Allen"
          ],
          [
           "Antoine Walker"
          ],
          [
           "Lorenzen Wright"
          ],
          [
           "Kerry Kittles"
          ],
          [
           "Erick Dampier"
          ],
          [
           "Vitaly Potapenko"
          ],
          [
           "Steve Nash"
          ],
          [
           "Tony Delk"
          ],
          [
           "Walter McCarty"
          ],
          [
           "Derek Fisher"
          ],
          [
           "Jerome Williams"
          ],
          [
           "Jeff McInnis"
          ],
          [
           "Kobe Bryant"
          ],
          [
           "Peja Stojakovic"
          ],
          [
           "Jermaine O'Neal"
          ],
          [
           "Zydrunas Ilgauskas"
          ],
          [
           "Moochie Norris"
          ],
          [
           "Randy Livingston"
          ],
          [
           "Malik Rose"
          ],
          [
           "Shandon Anderson"
          ],
          [
           "Ben Handlogten"
          ],
          [
           "Erick Strickland"
          ],
          [
           "Chucky Atkins"
          ],
          [
           "Ben Wallace"
          ],
          [
           "Aaron Williams"
          ],
          [
           "Bruce Bowen"
          ],
          [
           "Tim Duncan"
          ],
          [
           "Keith Van Horn"
          ],
          [
           "Chauncey Billups"
          ],
          [
           "Antonio Daniels"
          ],
          [
           "Tony Battie"
          ],
          [
           "Ron Mercer"
          ],
          [
           "Tim Thomas"
          ],
          [
           "Tracy McGrady"
          ],
          [
           "Danny Fortson"
          ],
          [
           "Austin Croshere"
          ],
          [
           "Derek Anderson"
          ],
          [
           "Maurice Taylor"
          ],
          [
           "Brevin Knight"
          ],
          [
           "Anthony Parker"
          ],
          [
           "Bobby Jackson"
          ],
          [
           "Charles Smith"
          ],
          [
           "Jacque Vaughn"
          ],
          [
           "Marc Jackson"
          ],
          [
           "Anthony Johnson"
          ],
          [
           "Stephen Jackson"
          ],
          [
           "Alvin Williams"
          ],
          [
           "Predrag Drobnjak"
          ],
          [
           "Mark Blount"
          ],
          [
           "Adrian Griffin"
          ],
          [
           "Kevin Ollie"
          ],
          [
           "Rick Brunson"
          ],
          [
           "Troy Hudson"
          ],
          [
           "Mikki Moore"
          ],
          [
           "Mike Bibby"
          ],
          [
           "Raef LaFrentz"
          ],
          [
           "Antawn Jamison"
          ],
          [
           "Vince Carter"
          ],
          [
           "Robert Traylor"
          ],
          [
           "Jason Williams"
          ],
          [
           "Larry Hughes"
          ],
          [
           "Dirk Nowitzki"
          ],
          [
           "Paul Pierce"
          ],
          [
           "Bonzi Wells"
          ],
          [
           "Michael Doleac"
          ],
          [
           "Matt Harpring"
          ],
          [
           "Rasho Nesterovic"
          ],
          [
           "Pat Garrity"
          ],
          [
           "Ricky Davis"
          ],
          [
           "Brian Skinner"
          ],
          [
           "Tyronn Lue"
          ],
          [
           "Al Harrington"
          ],
          [
           "Nazr Mohammed"
          ],
          [
           "Ruben Patterson"
          ],
          [
           "Rashard Lewis"
          ],
          [
           "Shammond Williams"
          ],
          [
           "Bruno Sundov"
          ],
          [
           "Jerome James"
          ],
          [
           "Rafer Alston"
          ],
          [
           "Cuttino Mobley"
          ],
          [
           "Sean Marks"
          ],
          [
           "Greg Buckner"
          ],
          [
           "Ryan Bowen"
          ],
          [
           "Maceo Baston"
          ],
          [
           "Damon Jones"
          ],
          [
           "Brad Miller"
          ],
          [
           "Anthony Carter"
          ],
          [
           "Earl Boykins"
          ],
          [
           "Elton Brand"
          ],
          [
           "Steve Francis"
          ],
          [
           "Baron Davis"
          ],
          [
           "Lamar Odom"
          ],
          [
           "Jonathan Bender"
          ],
          [
           "Wally Szczerbiak"
          ],
          [
           "Richard Hamilton"
          ],
          [
           "Andre Miller"
          ],
          [
           "Shawn Marion"
          ],
          [
           "Jason Terry"
          ],
          [
           "Corey Maggette"
          ],
          [
           "Metta World Peace"
          ],
          [
           "James Posey"
          ],
          [
           "Dion Glover"
          ],
          [
           "Jeff Foster"
          ],
          [
           "Kenny Thomas"
          ],
          [
           "Devean George"
          ],
          [
           "Andrei Kirilenko"
          ],
          [
           "Jumaine Jones"
          ],
          [
           "Scott Padgett"
          ],
          [
           "Michael Ruffin"
          ],
          [
           "Calvin Booth"
          ],
          [
           "Wang Zhi-zhi"
          ],
          [
           "Obinna Ekezie"
          ],
          [
           "Laron Profit"
          ],
          [
           "Gordan Giricek"
          ],
          [
           "Francisco Elson"
          ],
          [
           "Lee Nailon"
          ],
          [
           "Rodney Buford"
          ],
          [
           "Manu Ginobili"
          ],
          [
           "Raja Bell"
          ],
          [
           "Ira Newble"
          ],
          [
           "Milt Palacio"
          ],
          [
           "Jermaine Jackson"
          ],
          [
           "Kenyon Martin"
          ],
          [
           "Stromile Swift"
          ],
          [
           "Darius Miles"
          ],
          [
           "Marcus Fizer"
          ],
          [
           "Mike Miller"
          ],
          [
           "DerMarr Johnson"
          ],
          [
           "Chris Mihm"
          ],
          [
           "Jamal Crawford"
          ],
          [
           "Joel Przybilla"
          ],
          [
           "Keyon Dooling"
          ],
          [
           "Mateen Cleaves"
          ],
          [
           "Jason Collier"
          ],
          [
           "Hedo Turkoglu"
          ],
          [
           "Desmond Mason"
          ],
          [
           "Quentin Richardson"
          ],
          [
           "Speedy Claxton"
          ],
          [
           "Morris Peterson"
          ],
          [
           "DeShawn Stevenson"
          ],
          [
           "Mamadou N'diaye"
          ],
          [
           "Primoz Brezec"
          ],
          [
           "Mark Madsen"
          ],
          [
           "Eduardo Najera"
          ],
          [
           "Marko Jaric"
          ],
          [
           "Jake Voskuhl"
          ],
          [
           "Eddie House"
          ],
          [
           "Michael Redd"
          ],
          [
           "Brian Cardinal"
          ],
          [
           "Jabari Smith"
          ],
          [
           "Jason Hart"
          ],
          [
           "Kaniel Dickens"
          ],
          [
           "Slava Medvedenko"
          ],
          [
           "Eddie Gill"
          ],
          [
           "Malik Allen"
          ],
          [
           "Ime Udoka"
          ],
          [
           "Kwame Brown"
          ],
          [
           "Tyson Chandler"
          ],
          [
           "Pau Gasol"
          ],
          [
           "Eddy Curry"
          ],
          [
           "Jason Richardson"
          ],
          [
           "Shane Battier"
          ],
          [
           "Eddie Griffin"
          ],
          [
           "DeSagana Diop"
          ],
          [
           "Rodney White"
          ],
          [
           "Joe Johnson"
          ],
          [
           "Kedrick Brown"
          ],
          [
           "Vladimir Radmanovic"
          ],
          [
           "Richard Jefferson"
          ],
          [
           "Troy Murphy"
          ],
          [
           "Steven Hunter"
          ],
          [
           "Michael Bradley"
          ],
          [
           "Jason Collins"
          ],
          [
           "Zach Randolph"
          ],
          [
           "Brendan Haywood"
          ],
          [
           "Raul Lopez"
          ],
          [
           "Gerald Wallace"
          ],
          [
           "Samuel Dalembert"
          ],
          [
           "Jamaal Tinsley"
          ],
          [
           "Tony Parker"
          ],
          [
           "Will Solomon"
          ],
          [
           "Mike James"
          ],
          [
           "Maurice Evans"
          ],
          [
           "Trenton Hassell"
          ],
          [
           "Gilbert Arenas"
          ],
          [
           "Omar Cook"
          ],
          [
           "Terence Morris"
          ],
          [
           "Brian Scalabrine"
          ],
          [
           "Damone Brown"
          ],
          [
           "Mehmet Okur"
          ],
          [
           "Earl Watson"
          ],
          [
           "Jamison Brewer"
          ],
          [
           "Bobby Simmons"
          ],
          [
           "Loren Woods"
          ],
          [
           "Jarron Collins"
          ],
          [
           "Charlie Bell"
          ],
          [
           "Carlos Arroyo"
          ],
          [
           "Tierre Brown"
          ],
          [
           "Chris Andersen"
          ],
          [
           "Mike Wilks"
          ],
          [
           "Yao Ming"
          ],
          [
           "Mike Dunleavy"
          ],
          [
           "Drew Gooden"
          ],
          [
           "Nikoloz Tskitishvili"
          ],
          [
           "Dajuan Wagner"
          ],
          [
           "Nene"
          ],
          [
           "Chris Wilcox"
          ],
          [
           "Amar'e Stoudemire"
          ],
          [
           "Caron Butler"
          ],
          [
           "Jared Jeffries"
          ],
          [
           "Melvin Ely"
          ],
          [
           "Marcus Haislip"
          ],
          [
           "Fred Jones"
          ],
          [
           "Bostjan Nachbar"
          ],
          [
           "Jiri Welsch"
          ],
          [
           "Juan Dixon"
          ],
          [
           "Kareem Rush"
          ],
          [
           "Qyntel Woods"
          ],
          [
           "Casey Jacobsen"
          ],
          [
           "Tayshaun Prince"
          ],
          [
           "Nenad Krstic"
          ],
          [
           "Frank Williams"
          ],
          [
           "John Salmons"
          ],
          [
           "Dan Dickau"
          ],
          [
           "Roger Mason Jr."
          ],
          [
           "Dan Gadzuric"
          ],
          [
           "Carlos Boozer"
          ],
          [
           "David Andersen"
          ],
          [
           "Juan Carlos Navarro"
          ],
          [
           "Mario Kasun"
          ],
          [
           "Flip Murray"
          ],
          [
           "Matt Barnes"
          ],
          [
           "Jamal Sampson"
          ],
          [
           "Darius Songaila"
          ],
          [
           "Rasual Butler"
          ],
          [
           "Luis Scola"
          ],
          [
           "Junior Harrington"
          ],
          [
           "Jannero Pargo"
          ],
          [
           "Pat Burke"
          ],
          [
           "Smush Parker"
          ],
          [
           "Devin Brown"
          ],
          [
           "Richie Frahm"
          ],
          [
           "Reggie Evans"
          ],
          [
           "LeBron James"
          ],
          [
           "Darko Milicic"
          ],
          [
           "Carmelo Anthony"
          ],
          [
           "Chris Bosh"
          ],
          [
           "Dwyane Wade"
          ],
          [
           "Chris Kaman"
          ],
          [
           "Kirk Hinrich"
          ],
          [
           "T.J. Ford"
          ],
          [
           "Jarvis Hayes"
          ],
          [
           "Mickael Pietrus"
          ],
          [
           "Nick Collison"
          ],
          [
           "Marcus Banks"
          ],
          [
           "Luke Ridnour"
          ],
          [
           "Reece Gaines"
          ],
          [
           "Zarko Cabarkapa"
          ],
          [
           "David West"
          ],
          [
           "Sasha Pavlovic"
          ],
          [
           "Dahntay Jones"
          ],
          [
           "Boris Diaw"
          ],
          [
           "Zoran Planinic"
          ],
          [
           "Travis Outlaw"
          ],
          [
           "Brian Cook"
          ],
          [
           "Carlos Delfino"
          ],
          [
           "Ndudi Ebi"
          ],
          [
           "Kendrick Perkins"
          ],
          [
           "Leandro Barbosa"
          ],
          [
           "Josh Howard"
          ],
          [
           "Maciej Lampe"
          ],
          [
           "Jason Kapono"
          ],
          [
           "Luke Walton"
          ],
          [
           "Steve Blake"
          ],
          [
           "Willie Green"
          ],
          [
           "Zaza Pachulia"
          ],
          [
           "Keith Bogans"
          ],
          [
           "Matt Bonner"
          ],
          [
           "Mo Williams"
          ],
          [
           "James Jones"
          ],
          [
           "Kyle Korver"
          ],
          [
           "Theron Smith"
          ],
          [
           "Marquis Daniels"
          ],
          [
           "Udonis Haslem"
          ],
          [
           "Quinton Ross"
          ],
          [
           "Ronald Dupree"
          ],
          [
           "Josh Davis"
          ],
          [
           "Linton Johnson"
          ],
          [
           "Matt Carroll"
          ],
          [
           "Melvin Sanders"
          ],
          [
           "Keith McLeod"
          ],
          [
           "Josh Powell"
          ],
          [
           "Lynn Greer"
          ],
          [
           "Dwight Howard"
          ],
          [
           "Emeka Okafor"
          ],
          [
           "Ben Gordon"
          ],
          [
           "Shaun Livingston"
          ],
          [
           "Devin Harris"
          ],
          [
           "Josh Childress"
          ],
          [
           "Luol Deng"
          ],
          [
           "Rafael Araujo"
          ],
          [
           "Andre Iguodala"
          ],
          [
           "Luke Jackson"
          ],
          [
           "Andris Biedrins"
          ],
          [
           "Sebastian Telfair"
          ],
          [
           "Kris Humphries"
          ],
          [
           "Al Jefferson"
          ],
          [
           "Kirk Snyder"
          ],
          [
           "Josh Smith"
          ],
          [
           "JR Smith"
          ],
          [
           "Dorell Wright"
          ],
          [
           "Jameer Nelson"
          ],
          [
           "Viktor Khryapa"
          ],
          [
           "Sergei Monia"
          ],
          [
           "Delonte West"
          ],
          [
           "Tony Allen"
          ],
          [
           "Kevin Martin"
          ],
          [
           "Sasha Vujacic"
          ],
          [
           "Beno Udrih"
          ],
          [
           "Anderson Varejao"
          ],
          [
           "Jackson Vroman"
          ],
          [
           "Lionel Chalmers"
          ],
          [
           "Donta Smith"
          ],
          [
           "Andre Emmett"
          ],
          [
           "Antonio Burks"
          ],
          [
           "Royal Ivey"
          ],
          [
           "Chris Duhon"
          ],
          [
           "Justin Reed"
          ],
          [
           "Trevor Ariza"
          ],
          [
           "Bernard Robinson"
          ],
          [
           "Vassilis Spanoulis"
          ],
          [
           "Matt Freije"
          ],
          [
           "Luis Flores"
          ],
          [
           "DJ Mbenga"
          ],
          [
           "Horace Jenkins"
          ],
          [
           "Tony Bobbitt"
          ],
          [
           "Andres Nocioni"
          ],
          [
           "Gerald Fitch"
          ],
          [
           "Andre Brown"
          ],
          [
           "Desmon Farmer"
          ],
          [
           "Erik Daniels"
          ],
          [
           "Awvee Storey"
          ],
          [
           "Earl Barron"
          ],
          [
           "Andre Barrett"
          ],
          [
           "Damien Wilkins"
          ],
          [
           "Kasib Powell"
          ],
          [
           "Billy Thomas"
          ],
          [
           "Mark Jones"
          ],
          [
           "Andrew Bogut"
          ],
          [
           "Marvin Williams"
          ],
          [
           "Chris Paul"
          ],
          [
           "Raymond Felton"
          ],
          [
           "Martell Webster"
          ],
          [
           "Charlie Villanueva"
          ],
          [
           "Channing Frye"
          ],
          [
           "Ike Diogu"
          ],
          [
           "Deron Williams"
          ],
          [
           "Andrew Bynum"
          ],
          [
           "Yaroslav Korolev"
          ],
          [
           "Sean May"
          ],
          [
           "Rashad McCants"
          ],
          [
           "Antoine Wright"
          ],
          [
           "Joey Graham"
          ],
          [
           "Danny Granger"
          ],
          [
           "Gerald Green"
          ],
          [
           "Hakim Warrick"
          ],
          [
           "Nate Robinson"
          ],
          [
           "Jarrett Jack"
          ],
          [
           "Francisco Garcia"
          ],
          [
           "Luther Head"
          ],
          [
           "Johan Petro"
          ],
          [
           "Jason Maxiell"
          ],
          [
           "Linas Kleiza"
          ],
          [
           "Ian Mahinmi"
          ],
          [
           "David Lee"
          ],
          [
           "Salim Stoudamire"
          ],
          [
           "Daniel Ewing"
          ],
          [
           "Brandon Bass"
          ],
          [
           "CJ Miles"
          ],
          [
           "Ersan Ilyasova"
          ],
          [
           "Ronny Turiaf"
          ],
          [
           "Travis Diener"
          ],
          [
           "Von Wafer"
          ],
          [
           "Monta Ellis"
          ],
          [
           "Roko Ukic"
          ],
          [
           "Lou Williams"
          ],
          [
           "Bracey Wright"
          ],
          [
           "Mickael Gelabale"
          ],
          [
           "Andray Blatche"
          ],
          [
           "Ryan Gomes"
          ],
          [
           "Orien Greene"
          ],
          [
           "Dijon Thompson"
          ],
          [
           "Lawrence Roberts"
          ],
          [
           "Amir Johnson"
          ],
          [
           "Marcin Gortat"
          ],
          [
           "Alex Acker"
          ],
          [
           "Uros Slokar"
          ],
          [
           "Fabricio Oberto"
          ],
          [
           "Arvydas Macijauskas"
          ],
          [
           "Ronnie Price"
          ],
          [
           "Sarunas Jasikevicius"
          ],
          [
           "Jose Calderon"
          ],
          [
           "Donell Taylor"
          ],
          [
           "Shavlik Randolph"
          ],
          [
           "Rawle Marshall"
          ],
          [
           "Alan Anderson"
          ],
          [
           "Eddie Basden"
          ],
          [
           "James Singleton"
          ],
          [
           "Anthony Roberson"
          ],
          [
           "Will Bynum"
          ],
          [
           "Dwayne Jones"
          ],
          [
           "Kevin Burleson"
          ],
          [
           "Devin Green"
          ],
          [
           "Stephen Graham"
          ],
          [
           "Esteban Batista"
          ],
          [
           "Jawad Williams"
          ],
          [
           "Will Conroy"
          ],
          [
           "Anthony Grundy"
          ],
          [
           "Noel Felix"
          ],
          [
           "Roger Powell"
          ],
          [
           "Kelenna Azubuike"
          ],
          [
           "Chuck Hayes"
          ],
          [
           "Boniface Ndong"
          ],
          [
           "John Lucas III"
          ],
          [
           "Andre Owens"
          ],
          [
           "Jamario Moon"
          ],
          [
           "Andrea Bargnani"
          ],
          [
           "LaMarcus Aldridge"
          ],
          [
           "Adam Morrison"
          ],
          [
           "Tyrus Thomas"
          ],
          [
           "Shelden Williams"
          ],
          [
           "Brandon Roy"
          ],
          [
           "Randy Foye"
          ],
          [
           "Rudy Gay"
          ],
          [
           "Patrick O'Bryant"
          ],
          [
           "JJ Redick"
          ],
          [
           "Hilton Armstrong"
          ],
          [
           "Thabo Sefolosha"
          ],
          [
           "Ronnie Brewer"
          ],
          [
           "Rodney Carney"
          ],
          [
           "Shawne Williams"
          ],
          [
           "Oleksiy Pecherov"
          ],
          [
           "Quincy Douby"
          ],
          [
           "Renaldo Balkman"
          ],
          [
           "Rajon Rondo"
          ],
          [
           "Marcus Williams"
          ],
          [
           "Kyle Lowry"
          ],
          [
           "Shannon Brown"
          ],
          [
           "Jordan Farmar"
          ],
          [
           "Sergio Rodriguez"
          ],
          [
           "Maurice Ager"
          ],
          [
           "Mardy Collins"
          ],
          [
           "James White"
          ],
          [
           "Steve Novak"
          ],
          [
           "Solomon Jones"
          ],
          [
           "Paul Davis"
          ],
          [
           "P.J. Tucker"
          ],
          [
           "Craig Smith"
          ],
          [
           "Bobby Jones"
          ],
          [
           "David Noel"
          ],
          [
           "Daniel Gibson"
          ],
          [
           "Marcus Vinicius"
          ],
          [
           "Dee Brown"
          ],
          [
           "Paul Millsap"
          ],
          [
           "Leon Powe"
          ],
          [
           "Ryan Hollins"
          ],
          [
           "Cheikh Samb"
          ],
          [
           "Guillermo Diaz"
          ],
          [
           "Hassan Adams"
          ],
          [
           "Damir Markota"
          ],
          [
           "Will Blalock"
          ],
          [
           "Chris Quinn"
          ],
          [
           "Allan Ray"
          ],
          [
           "Lou Amundson"
          ],
          [
           "Tarence Kinsey"
          ],
          [
           "Jorge Garbajosa"
          ],
          [
           "Pooh Jeter"
          ],
          [
           "Justin Williams"
          ],
          [
           "Yakhouba Diawara"
          ],
          [
           "Pops Mensah-Bonsu"
          ],
          [
           "Robert Hite"
          ],
          [
           "J.J. Barea"
          ],
          [
           "Darius Washington"
          ],
          [
           "Ivan McFarlin"
          ],
          [
           "Walter Herrmann"
          ],
          [
           "Kevinn Pinkney"
          ],
          [
           "Mike Harris"
          ],
          [
           "Cedric Bozeman"
          ],
          [
           "Dontell Jefferson"
          ],
          [
           "Jeremy Richardson"
          ],
          [
           "Walker Russell"
          ],
          [
           "Kevin Durant"
          ],
          [
           "Al Horford"
          ],
          [
           "Mike Conley"
          ],
          [
           "Jeff Green"
          ],
          [
           "Yi Jianlian"
          ],
          [
           "Corey Brewer"
          ],
          [
           "Brandan Wright"
          ],
          [
           "Joakim Noah"
          ],
          [
           "Spencer Hawes"
          ],
          [
           "Acie Law"
          ],
          [
           "Thaddeus Young"
          ],
          [
           "Julian Wright"
          ],
          [
           "Al Thornton"
          ],
          [
           "Rodney Stuckey"
          ],
          [
           "Nick Young"
          ],
          [
           "Sean Williams"
          ],
          [
           "Marco Belinelli"
          ],
          [
           "Javaris Crittenton"
          ],
          [
           "Jason Smith"
          ],
          [
           "Daequan Cook"
          ],
          [
           "Jared Dudley"
          ],
          [
           "Wilson Chandler"
          ],
          [
           "Rudy Fernandez"
          ],
          [
           "Morris Almond"
          ],
          [
           "Aaron Brooks"
          ],
          [
           "Arron Afflalo"
          ],
          [
           "Tiago Splitter"
          ],
          [
           "Alando Tucker"
          ],
          [
           "Carl Landry"
          ],
          [
           "Gabe Pruitt"
          ],
          [
           "Nick Fazekas"
          ],
          [
           "Glen Davis"
          ],
          [
           "Josh McRoberts"
          ],
          [
           "Kyrylo Fesenko"
          ],
          [
           "Sun Sun"
          ],
          [
           "Derrick Byars"
          ],
          [
           "Dominic McGuire"
          ],
          [
           "Marc Gasol"
          ],
          [
           "Aaron Gray"
          ],
          [
           "Taurean Green"
          ],
          [
           "Demetris Nichols"
          ],
          [
           "Ramon Sessions"
          ],
          [
           "DJ Strawberry"
          ],
          [
           "Mustafa Shakur"
          ],
          [
           "Coby Karl"
          ],
          [
           "C.J. Watson"
          ],
          [
           "Anthony Tolliver"
          ],
          [
           "Trey Johnson"
          ],
          [
           "Mario West"
          ],
          [
           "Thomas Gardner"
          ],
          [
           "Ivan Johnson"
          ],
          [
           "Carldell Johnson"
          ],
          [
           "Blake Ahearn"
          ],
          [
           "Mike Taylor"
          ],
          [
           "Michael Beasley"
          ],
          [
           "O.J. Mayo"
          ],
          [
           "Derrick Rose"
          ],
          [
           "Russell Westbrook"
          ],
          [
           "Kevin Love"
          ],
          [
           "Danilo Gallinari"
          ],
          [
           "Eric Gordon"
          ],
          [
           "Joe Alexander"
          ],
          [
           "D.J. Augustin"
          ],
          [
           "Brook Lopez"
          ],
          [
           "Jerryd Bayless"
          ],
          [
           "Jason Thompson"
          ],
          [
           "Brandon Rush"
          ],
          [
           "Anthony Randolph"
          ],
          [
           "Robin Lopez"
          ],
          [
           "Marreese Speights"
          ],
          [
           "Roy Hibbert"
          ],
          [
           "JaVale McGee"
          ],
          [
           "JJ Hickson"
          ],
          [
           "Alexis Ajinca"
          ],
          [
           "Ryan Anderson"
          ],
          [
           "Courtney Lee"
          ],
          [
           "Kosta Koufos"
          ],
          [
           "Serge Ibaka"
          ],
          [
           "Nicolas Batum"
          ],
          [
           "George Hill"
          ],
          [
           "Darrell Arthur"
          ],
          [
           "Donte Greene"
          ],
          [
           "DJ White"
          ],
          [
           "J.R. Giddens"
          ],
          [
           "Walter Sharpe"
          ],
          [
           "Mario Chalmers"
          ],
          [
           "DeAndre Jordan"
          ],
          [
           "Luc Mbah a Moute"
          ],
          [
           "Kyle Weaver"
          ],
          [
           "Sonny Weems"
          ],
          [
           "Chris Douglas-Roberts"
          ],
          [
           "Nathan Jawai"
          ],
          [
           "Sean Singletary"
          ],
          [
           "Patrick Ewing"
          ],
          [
           "Goran Dragic"
          ],
          [
           "Henry Walker"
          ],
          [
           "Malik Hairston"
          ],
          [
           "Darnell Jackson"
          ],
          [
           "Joe Crawford"
          ],
          [
           "Anthony Morrow"
          ],
          [
           "Bobby Brown"
          ],
          [
           "Hamed Haddadi"
          ],
          [
           "Rob Kurz"
          ],
          [
           "DeMarcus Nelson"
          ],
          [
           "Othyus Jeffers"
          ],
          [
           "Oliver Lafayette"
          ],
          [
           "Chris Hunter"
          ],
          [
           "Gary Forbes"
          ],
          [
           "Cartier Martin"
          ],
          [
           "Blake Griffin"
          ],
          [
           "James Harden"
          ],
          [
           "Tyreke Evans"
          ],
          [
           "Ricky Rubio"
          ],
          [
           "Jonny Flynn"
          ],
          [
           "Stephen Curry"
          ],
          [
           "Jordan Hill"
          ],
          [
           "DeMar DeRozan"
          ],
          [
           "Brandon Jennings"
          ],
          [
           "Terrence Williams"
          ],
          [
           "Gerald Henderson"
          ],
          [
           "Tyler Hansbrough"
          ],
          [
           "Earl Clark"
          ],
          [
           "Austin Daye"
          ],
          [
           "James Johnson"
          ],
          [
           "Jrue Holiday"
          ],
          [
           "Ty Lawson"
          ],
          [
           "Jeff Teague"
          ],
          [
           "Eric Maynor"
          ],
          [
           "Darren Collison"
          ],
          [
           "Omri Casspi"
          ],
          [
           "Byron Mullens"
          ],
          [
           "Rodrigue Beaubois"
          ],
          [
           "Taj Gibson"
          ],
          [
           "DeMarre Carroll"
          ],
          [
           "Wayne Ellington"
          ],
          [
           "Toney Douglas"
          ],
          [
           "Christian Eyenga"
          ],
          [
           "Victor Claver"
          ],
          [
           "Jermaine Taylor"
          ],
          [
           "Dante Cunningham"
          ],
          [
           "DaJuan Summers"
          ],
          [
           "Sam Young"
          ],
          [
           "DeJuan Blair"
          ],
          [
           "Jon Brockman"
          ],
          [
           "Jonas Jerebko"
          ],
          [
           "Derrick Brown"
          ],
          [
           "Jodie Meeks"
          ],
          [
           "Marcus Thornton"
          ],
          [
           "Chase Budinger"
          ],
          [
           "Danny Green"
          ],
          [
           "Taylor Griffin"
          ],
          [
           "AJ Price"
          ],
          [
           "Nando De Colo"
          ],
          [
           "Patty Mills"
          ],
          [
           "Lester Hudson"
          ],
          [
           "Garrett Temple"
          ],
          [
           "Marcus Landry"
          ],
          [
           "Larry Owens"
          ],
          [
           "Wesley Matthews"
          ],
          [
           "Alonzo Gee"
          ],
          [
           "Reggie Williams"
          ],
          [
           "Cedric Jackson"
          ],
          [
           "Sundiata Gaines"
          ],
          [
           "Zabian Dowdell"
          ],
          [
           "Terrel Harris"
          ],
          [
           "John Wall"
          ],
          [
           "Evan Turner"
          ],
          [
           "Derrick Favors"
          ],
          [
           "Wesley Johnson"
          ],
          [
           "DeMarcus Cousins"
          ],
          [
           "Ekpe Udoh"
          ],
          [
           "Greg Monroe"
          ],
          [
           "Al-Farouq Aminu"
          ],
          [
           "Gordon Hayward"
          ],
          [
           "Paul George"
          ],
          [
           "Xavier Henry"
          ],
          [
           "Ed Davis"
          ],
          [
           "Patrick Patterson"
          ],
          [
           "Larry Sanders"
          ],
          [
           "Luke Babbitt"
          ],
          [
           "Kevin Seraphin"
          ],
          [
           "Eric Bledsoe"
          ],
          [
           "Avery Bradley"
          ],
          [
           "James Anderson"
          ],
          [
           "Craig Brackins"
          ],
          [
           "Elliot Williams"
          ],
          [
           "Trevor Booker"
          ],
          [
           "Damion James"
          ],
          [
           "Dominique Jones"
          ],
          [
           "Quincy Pondexter"
          ],
          [
           "Jordan Crawford"
          ],
          [
           "Greivis Vasquez"
          ],
          [
           "Daniel Orton"
          ],
          [
           "Lazar Hayward"
          ],
          [
           "Armon Johnson"
          ],
          [
           "Darington Hobson"
          ],
          [
           "Andy Rautins"
          ],
          [
           "Landry Fields"
          ],
          [
           "Lance Stephenson"
          ],
          [
           "Devin Ebanks"
          ],
          [
           "Luke Harangody"
          ],
          [
           "Pape Sy"
          ],
          [
           "Willie Warren"
          ],
          [
           "Jeremy Evans"
          ],
          [
           "Ben Uzoh"
          ],
          [
           "Donald Sloan"
          ],
          [
           "Gary Neal"
          ],
          [
           "Jeremy Lin"
          ],
          [
           "Sherron Collins"
          ],
          [
           "Samardo Samuels"
          ],
          [
           "Ish Smith"
          ],
          [
           "Jerome Dyson"
          ],
          [
           "Manny Harris"
          ],
          [
           "Justin Dentmon"
          ],
          [
           "Lance Thomas"
          ],
          [
           "Jerry Smith"
          ],
          [
           "Luke Zeller"
          ],
          [
           "Courtney Fortson"
          ],
          [
           "Kyrie Irving"
          ],
          [
           "Derrick Williams"
          ],
          [
           "Enes Kanter"
          ],
          [
           "Tristan Thompson"
          ],
          [
           "Jan Vesely"
          ],
          [
           "Brandon Knight"
          ],
          [
           "Kemba Walker"
          ],
          [
           "Jimmer Fredette"
          ],
          [
           "Klay Thompson"
          ],
          [
           "Alec Burks"
          ],
          [
           "Markieff Morris"
          ],
          [
           "Marcus Morris Sr."
          ],
          [
           "Kawhi Leonard"
          ],
          [
           "Nikola Vucevic"
          ],
          [
           "Iman Shumpert"
          ],
          [
           "Chris Singleton"
          ],
          [
           "Tobias Harris"
          ],
          [
           "Donatas Motiejunas"
          ],
          [
           "Nolan Smith"
          ],
          [
           "Reggie Jackson"
          ],
          [
           "MarShon Brooks"
          ],
          [
           "Jordan Hamilton"
          ],
          [
           "Norris Cole"
          ],
          [
           "Cory Joseph"
          ],
          [
           "Jimmy Butler"
          ],
          [
           "Justin Harper"
          ],
          [
           "Kyle Singler"
          ],
          [
           "Shelvin Mack"
          ],
          [
           "Tyler Honeycutt"
          ],
          [
           "Trey Thompkins"
          ],
          [
           "Chandler Parsons"
          ],
          [
           "Jeremy Tyler"
          ],
          [
           "Jon Leuer"
          ],
          [
           "Darius Morris"
          ],
          [
           "Malcolm Lee"
          ],
          [
           "Charles Jenkins"
          ],
          [
           "Josh Harrellson"
          ],
          [
           "Andrew Goudelock"
          ],
          [
           "Josh Selby"
          ],
          [
           "DeAndre Liggins"
          ],
          [
           "E'Twaun Moore"
          ],
          [
           "Isaiah Thomas"
          ],
          [
           "Edwin Ubiles"
          ],
          [
           "Cory Higgins"
          ],
          [
           "D.J. Kennedy"
          ],
          [
           "Mychel Thompson"
          ],
          [
           "Dennis Horner"
          ],
          [
           "Xavier Silas"
          ],
          [
           "Julyan Stone"
          ],
          [
           "Jeremy Pargo"
          ],
          [
           "Greg Smith"
          ],
          [
           "Gustavo Ayon"
          ],
          [
           "Anthony Davis"
          ],
          [
           "Michael Kidd-Gilchrist"
          ],
          [
           "Bradley Beal"
          ],
          [
           "Dion Waiters"
          ],
          [
           "Damian Lillard"
          ],
          [
           "Terrence Ross"
          ],
          [
           "Andre Drummond"
          ],
          [
           "Harrison Barnes"
          ],
          [
           "Austin Rivers"
          ],
          [
           "Meyers Leonard"
          ],
          [
           "Jeremy Lamb"
          ],
          [
           "Kendall Marshall"
          ],
          [
           "John Henson"
          ],
          [
           "Maurice Harkless"
          ],
          [
           "Tyler Zeller"
          ],
          [
           "Terrence Jones"
          ],
          [
           "Evan Fournier"
          ],
          [
           "Jared Sullinger"
          ],
          [
           "John Jenkins"
          ],
          [
           "Jared Cunningham"
          ],
          [
           "Marquis Teague"
          ],
          [
           "Jeffery Taylor"
          ],
          [
           "Bernard James"
          ],
          [
           "Jae Crowder"
          ],
          [
           "Draymond Green"
          ],
          [
           "Quincy Miller"
          ],
          [
           "Will Barton"
          ],
          [
           "Tyshawn Taylor"
          ],
          [
           "Doron Lamb"
          ],
          [
           "Kim English"
          ],
          [
           "Darius Miller"
          ],
          [
           "Kevin Murphy"
          ],
          [
           "Kris Joseph"
          ],
          [
           "Tornike Shengelia"
          ],
          [
           "Darius Johnson-Odom"
          ],
          [
           "Mirza Teletovic"
          ],
          [
           "Chris Copeland"
          ],
          [
           "Pablo Prigioni"
          ],
          [
           "Alexey Shved"
          ],
          [
           "Kent Bazemore"
          ],
          [
           "Maalik Wayns"
          ],
          [
           "Brian Roberts"
          ],
          [
           "Scott Machado"
          ],
          [
           "Ben Hansbrough"
          ],
          [
           "DeQuan Jones"
          ]
         ],
         "hovertemplate": "shooting_percentage=%{x}<br>Attempts=%{y}<br>player_name=%{customdata[0]}<br>cluster=%{marker.color}<extra></extra>",
         "legendgroup": "",
         "marker": {
          "color": [
           5,
           5,
           0,
           5,
           1,
           5,
           0,
           1,
           2,
           5,
           0,
           5,
           4,
           1,
           0,
           0,
           0,
           0,
           1,
           4,
           0,
           4,
           0,
           5,
           0,
           5,
           5,
           5,
           4,
           4,
           5,
           0,
           1,
           2,
           2,
           5,
           5,
           0,
           3,
           0,
           1,
           5,
           4,
           5,
           5,
           4,
           2,
           0,
           0,
           5,
           5,
           1,
           0,
           0,
           5,
           1,
           0,
           5,
           0,
           4,
           1,
           5,
           1,
           3,
           4,
           5,
           2,
           1,
           5,
           5,
           1,
           0,
           0,
           1,
           1,
           1,
           4,
           5,
           2,
           4,
           1,
           5,
           5,
           5,
           4,
           0,
           1,
           1,
           4,
           0,
           0,
           5,
           0,
           0,
           3,
           0,
           1,
           2,
           2,
           5,
           0,
           5,
           1,
           0,
           0,
           4,
           1,
           1,
           4,
           5,
           5,
           2,
           4,
           1,
           1,
           5,
           0,
           0,
           5,
           1,
           4,
           0,
           0,
           2,
           4,
           5,
           5,
           4,
           1,
           5,
           1,
           1,
           2,
           1,
           5,
           5,
           1,
           0,
           4,
           0,
           2,
           5,
           5,
           0,
           5,
           1,
           0,
           4,
           1,
           5,
           4,
           4,
           1,
           1,
           0,
           5,
           0,
           0,
           1,
           0,
           0,
           5,
           0,
           5,
           1,
           5,
           5,
           5,
           5,
           0,
           5,
           1,
           5,
           1,
           1,
           4,
           4,
           2,
           5,
           0,
           1,
           5,
           2,
           0,
           5,
           4,
           0,
           5,
           0,
           4,
           5,
           1,
           1,
           0,
           4,
           4,
           0,
           2,
           0,
           0,
           1,
           5,
           4,
           1,
           3,
           5,
           0,
           5,
           1,
           2,
           1,
           0,
           1,
           1,
           3,
           0,
           1,
           0,
           5,
           0,
           1,
           1,
           5,
           0,
           0,
           4,
           0,
           0,
           0,
           5,
           2,
           2,
           0,
           5,
           1,
           1,
           0,
           2,
           0,
           1,
           4,
           1,
           5,
           5,
           3,
           2,
           0,
           0,
           2,
           5,
           5,
           2,
           5,
           0,
           5,
           1,
           5,
           0,
           1,
           4,
           4,
           5,
           0,
           5,
           5,
           0,
           5,
           4,
           2,
           1,
           0,
           0,
           2,
           0,
           0,
           1,
           0,
           0,
           5,
           4,
           2,
           0,
           5,
           0,
           2,
           5,
           5,
           1,
           0,
           5,
           1,
           0,
           5,
           5,
           4,
           4,
           5,
           5,
           1,
           4,
           2,
           0,
           1,
           4,
           5,
           5,
           3,
           4,
           1,
           2,
           0,
           5,
           0,
           1,
           5,
           5,
           2,
           1,
           4,
           5,
           0,
           5,
           2,
           1,
           0,
           5,
           1,
           2,
           0,
           5,
           0,
           0,
           0,
           5,
           0,
           5,
           0,
           5,
           5,
           1,
           4,
           2,
           1,
           5,
           0,
           5,
           0,
           5,
           5,
           2,
           5,
           5,
           1,
           5,
           1,
           0,
           0,
           2,
           0,
           0,
           0,
           0,
           5,
           5,
           0,
           0,
           0,
           2,
           4,
           1,
           0,
           5,
           0,
           5,
           0,
           5,
           5,
           4,
           5,
           2,
           2,
           0,
           0,
           1,
           1,
           1,
           0,
           0,
           5,
           0,
           1,
           5,
           5,
           2,
           4,
           0,
           0,
           4,
           0,
           0,
           5,
           4,
           5,
           4,
           0,
           4,
           5,
           4,
           4,
           5,
           1,
           0,
           2,
           0,
           0,
           0,
           4,
           0,
           5,
           5,
           5,
           4,
           4,
           5,
           5,
           5,
           1,
           1,
           1,
           0,
           1,
           4,
           0,
           0,
           1,
           5,
           0,
           1,
           5,
           0,
           1,
           5,
           5,
           1,
           4,
           2,
           1,
           3,
           4,
           5,
           0,
           2,
           5,
           5,
           2,
           5,
           5,
           5,
           0,
           5,
           5,
           0,
           0,
           5,
           0,
           0,
           2,
           0,
           0,
           0,
           0,
           2,
           0,
           0,
           5,
           5,
           0,
           5,
           0,
           5,
           4,
           0,
           5,
           0,
           2,
           0,
           4,
           0,
           4,
           5,
           4,
           0,
           0,
           4,
           5,
           2,
           4,
           5,
           5,
           5,
           1,
           0,
           5,
           0,
           0,
           5,
           1,
           5,
           2,
           1,
           2,
           0,
           0,
           5,
           5,
           0,
           5,
           0,
           0,
           5,
           5,
           5,
           5,
           0,
           0,
           0,
           0,
           1,
           4,
           4,
           0,
           2,
           0,
           0,
           1,
           0,
           0,
           0,
           2,
           4,
           4,
           4,
           4,
           0,
           0,
           5,
           5,
           3,
           0,
           5,
           0,
           3,
           5,
           2,
           0,
           5,
           0,
           4,
           5,
           5,
           4,
           0,
           0,
           5,
           0,
           1,
           0,
           5,
           5,
           0,
           5,
           2,
           4,
           0,
           0,
           5,
           0,
           0,
           0,
           5,
           4,
           1,
           0,
           0,
           1,
           5,
           1,
           1,
           0,
           1,
           5,
           4,
           0,
           2,
           0,
           4,
           4,
           0,
           4,
           4,
           1,
           0,
           2,
           4,
           0,
           0,
           0,
           0,
           4,
           0,
           5,
           5,
           0,
           2,
           0,
           0,
           0,
           5,
           0,
           5,
           1,
           1,
           5,
           5,
           1,
           1,
           0,
           5,
           4,
           5,
           2,
           5,
           4,
           4,
           2,
           0,
           4,
           2,
           0,
           1,
           5,
           2,
           0,
           1,
           5,
           4,
           5,
           0,
           4,
           4,
           1,
           4,
           0,
           5,
           0,
           0,
           3,
           0,
           0,
           5,
           1,
           0,
           0,
           0,
           1,
           5,
           2,
           5,
           4,
           0,
           5,
           2,
           5,
           5,
           0,
           1,
           0,
           5,
           5,
           1,
           2,
           0,
           1,
           0,
           0,
           4,
           0,
           5,
           0,
           5,
           5,
           5,
           0,
           5,
           5,
           5,
           5,
           2,
           0,
           5,
           1,
           0,
           0,
           0,
           2,
           0,
           0,
           2,
           4,
           0,
           0,
           1,
           1,
           1,
           1,
           4,
           5,
           5,
           5,
           5,
           0,
           0,
           5,
           1,
           5,
           5,
           0,
           0,
           0,
           0,
           0,
           0,
           2,
           5,
           0,
           4,
           3,
           0,
           5,
           1,
           0,
           2,
           0,
           4,
           5,
           4,
           0,
           5,
           5,
           0,
           0,
           0,
           4,
           4,
           5,
           1,
           5,
           4,
           0,
           0,
           4,
           0,
           5,
           0,
           4,
           0,
           4,
           0,
           2,
           0,
           0,
           1,
           5,
           0,
           4,
           0,
           4,
           5,
           0,
           2,
           0,
           0,
           0,
           1,
           5,
           4,
           2,
           2,
           1,
           1,
           5,
           1,
           0,
           5,
           5,
           5,
           0,
           5,
           0,
           0,
           0,
           0,
           0,
           5,
           5,
           0,
           0,
           0,
           0,
           5,
           0,
           0,
           0,
           1,
           4,
           0,
           5,
           0,
           0,
           5,
           5,
           4,
           4,
           5,
           1,
           0,
           0,
           5,
           1,
           4,
           5,
           0,
           5,
           3,
           2,
           4,
           0,
           1,
           1,
           1,
           5,
           0,
           5,
           5,
           2,
           5,
           0,
           4,
           0,
           4,
           0,
           0,
           2,
           5,
           5,
           4,
           5,
           4,
           5,
           0,
           4,
           0,
           0,
           0,
           5,
           0,
           4,
           4,
           5,
           4,
           5,
           5,
           5,
           1,
           4,
           0,
           5,
           4,
           0,
           0
          ],
          "coloraxis": "coloraxis",
          "symbol": "circle"
         },
         "mode": "markers",
         "name": "",
         "orientation": "v",
         "showlegend": false,
         "type": "scatter",
         "x": [
          0.3882978723404255,
          0.2865731462925852,
          0.17647058823529413,
          0.2978723404255319,
          0.38181818181818183,
          0.35340729001584786,
          0.30952380952380953,
          0.370304114490161,
          0,
          0.3863080684596577,
          0.30656934306569344,
          0.3207920792079208,
          0,
          0.3577545195052331,
          0.3185840707964602,
          0.32075471698113206,
          0.3076923076923077,
          0.3375796178343949,
          0.35294117647058826,
          0,
          0.28431372549019607,
          0,
          0.3125,
          0.41379310344827586,
          0.3076923076923077,
          0.3159340659340659,
          0.3541666666666667,
          0.34271099744245526,
          0,
          0,
          0.33955223880597013,
          0.5,
          0.3254237288135593,
          0,
          0,
          0.36666666666666664,
          0.4805194805194805,
          0.34210526315789475,
          0,
          0.29411764705882354,
          0.37465395262996,
          0.4425287356321839,
          0,
          0.3484848484848485,
          0.4028776978417266,
          0,
          0,
          0.22580645161290322,
          0.2972972972972973,
          0.45652173913043476,
          0.41304347826086957,
          0.32142857142857145,
          0.3333333333333333,
          0.2064516129032258,
          0.3305699481865285,
          0.38958904109589043,
          0.4,
          0.42105263157894735,
          0.23076923076923078,
          0,
          0.3423264042459089,
          0.41403508771929826,
          0.36073619631901843,
          0,
          0,
          0.30177514792899407,
          0,
          0.3631578947368421,
          0.3902439024390244,
          0.32222222222222224,
          0.3219730941704036,
          0.24561403508771928,
          0.23529411764705882,
          0.34810951760104303,
          0.4001448925380343,
          0.3266613290632506,
          0,
          0.4,
          0.14285714285714285,
          0,
          0.4323630136986301,
          0.3829787234042553,
          0.3248407643312102,
          0.37693798449612403,
          0,
          0.24736842105263157,
          0.34099290780141844,
          0.4058033780857514,
          0.08571428571428572,
          0.32954545454545453,
          0.21052631578947367,
          0.625,
          0.2,
          0.2,
          0,
          0.2542372881355932,
          0.35688405797101447,
          0.11428571428571428,
          0,
          0.4191363251481795,
          0.18032786885245902,
          0.3448275862068966,
          0.39701207883026063,
          0.27107061503416857,
          0.17857142857142858,
          0,
          0.3825944170771757,
          0.31925465838509315,
          0,
          0.3309692671394799,
          0.33505154639175255,
          0,
          0.1206896551724138,
          0.4091209517514871,
          0.3473360655737705,
          0.39473684210526316,
          0.3103448275862069,
          0.2,
          0.3721633888048411,
          0.33942108890420397,
          0,
          0.35714285714285715,
          0.3592233009708738,
          0,
          0.125,
          0.36538461538461536,
          0.3691460055096419,
          0.125,
          0.3816872427983539,
          0.3689516129032258,
          0.3543859649122807,
          0.3631054620405359,
          0,
          0.34394041976980366,
          0.33055555555555555,
          0.3838918283362728,
          0.379382889200561,
          0.2727272727272727,
          0,
          0.275,
          0.25,
          0.3460207612456747,
          0.36425531914893616,
          0.4,
          0.4059040590405904,
          0.36158415841584157,
          0.3333333333333333,
          0.11538461538461539,
          0.3868042526579112,
          0.3793103448275862,
          0,
          0,
          0.347906976744186,
          0.37561942517343905,
          0.20833333333333334,
          0.3321616871704745,
          0.19230769230769232,
          0.375,
          0.40088430361090643,
          0.3285198555956679,
          0.2794871794871795,
          0.3550624133148405,
          0.18181818181818182,
          0.33448275862068966,
          0.3148831488314883,
          0.31469052945563014,
          0.34146341463414637,
          0.39552238805970147,
          0.3671875,
          0.20689655172413793,
          0.31169811320754715,
          0.38762405137186223,
          0.3247422680412371,
          0.34899912967798086,
          0.36637259989621174,
          0.125,
          0.125,
          0,
          0.3411764705882353,
          0.30626780626780625,
          0.3585237258347979,
          0.36162361623616235,
          0,
          0.5,
          0.6666666666666666,
          0,
          0.18421052631578946,
          0.3798449612403101,
          0.1875,
          0,
          0.24193548387096775,
          0.37482319660537483,
          0.4167812929848693,
          0.36220472440944884,
          0.125,
          0.16666666666666666,
          0.25735294117647056,
          0.08333333333333333,
          0.23529411764705882,
          0.16666666666666666,
          0.41226499552372425,
          0.32142857142857145,
          0,
          0.35072,
          0,
          0.36196911196911197,
          0.2222222222222222,
          0.5454545454545454,
          0.38176075799447295,
          0.07692307692307693,
          0.35947712418300654,
          0.23770491803278687,
          0.38481174218251435,
          0.3525132275132275,
          0,
          0.2,
          0,
          0.3,
          0.3458149779735683,
          0.3333333333333333,
          0.40070921985815605,
          0.3640142517814727,
          0.36084452975047987,
          0.5,
          0.32954545454545453,
          0,
          0.3333333333333333,
          0.28888888888888886,
          0.2727272727272727,
          0.3556231003039514,
          0,
          0,
          0.28440366972477066,
          1,
          0.38716177317213585,
          0.38451882845188284,
          0.23529411764705882,
          0.25,
          0.3548387096774194,
          0.37209302325581395,
          0,
          0.378849506101104,
          0.37694524495677234,
          0.3904382470119522,
          0,
          0.16666666666666666,
          0.2727272727272727,
          0.2765432098765432,
          0,
          0.4411764705882353,
          0.3211805555555556,
          0.1,
          0.287758346581876,
          0.29375,
          0.32558139534883723,
          0.39675383228133454,
          0.3682539682539683,
          0.23076923076923078,
          0.34185441941074524,
          0,
          0,
          0.3672055427251732,
          0.36363636363636365,
          0.37686809616634176,
          0.3276972624798712,
          0.18181818181818182,
          0.4008810572687225,
          0,
          0,
          0.3634126333059885,
          0.3420074349442379,
          0.3333333333333333,
          0.1111111111111111,
          0.3157894736842105,
          0.16666666666666666,
          0.3671399594320487,
          0.20161290322580644,
          0.16666666666666666,
          1,
          0.1,
          0,
          0.2457627118644068,
          0.3328290468986384,
          0.2550607287449393,
          0,
          0.6,
          0.3597122302158273,
          0.37576499388004897,
          0.297029702970297,
          0.35650887573964496,
          0.37410071942446044,
          0.36666666666666664,
          0.3157894736842105,
          0.3739198743126473,
          0.14285714285714285,
          0,
          0.3650137741046832,
          0.35526315789473684,
          0.37911702873160474,
          0,
          0,
          0.3465346534653465,
          0.3611111111111111,
          0,
          0.30528586839266453,
          0.3324555628703094,
          0,
          0.14285714285714285,
          0.3624197002141328,
          0.07407407407407407,
          0.3,
          0.35541535226077814,
          0.2903225806451613,
          0.34185733512786004,
          0.3344947735191638,
          0.3485714285714286,
          0.14285714285714285,
          0.3325769854132901,
          0,
          0.3333333333333333,
          0.2878787878787879,
          0.29583975346687214,
          0,
          0.3806275579809004,
          0.29638009049773756,
          0.37103594080338265,
          0.35888324873096444,
          0.10526315789473684,
          0.33797909407665505,
          0.35177865612648224,
          0.25,
          0.32142857142857145,
          0.2620689655172414,
          0.3510392609699769,
          0.3389261744966443,
          0.33978494623655914,
          0.2804878048780488,
          0.33598183881952326,
          0.3824959481361426,
          0.3611626468769326,
          0,
          0,
          0.3849743350443304,
          0.3333333333333333,
          0.5,
          0.43673469387755104,
          0.32833020637898686,
          0.39070016034206306,
          0.3385753931544866,
          0,
          0.3592004703115814,
          0.4144736842105263,
          0.3857579729139362,
          0.40189873417721517,
          0.41510142749812173,
          0.2727272727272727,
          0.22969187675070027,
          0,
          0.3202614379084967,
          0.3333333333333333,
          0.2916666666666667,
          0.3472222222222222,
          0.3840985442329227,
          0.6666666666666666,
          0.29533678756476683,
          0.36363636363636365,
          0.34615384615384615,
          0.05263157894736842,
          0,
          0.40296846011131726,
          0.24390243902439024,
          0.31490384615384615,
          0.3404255319148936,
          0.33534743202416917,
          0.25,
          0.3324453915823122,
          0.3373493975903614,
          0,
          0.31947261663286003,
          0,
          0.09090909090909091,
          0.32575757575757575,
          0.27497062279670975,
          0.36727024256918345,
          0.363244176013805,
          0.3855165069222577,
          0.2916666666666667,
          0.2647058823529412,
          0.3712784588441331,
          0.25984251968503935,
          0.3816221284575715,
          0.37194244604316545,
          0.3403846153846154,
          0.027777777777777776,
          0,
          0.25806451612903225,
          0.3076923076923077,
          0,
          0.2857142857142857,
          0.3494897959183674,
          0.3663646659116648,
          0,
          0.3269398430688753,
          0.16666666666666666,
          0.1724137931034483,
          0.125,
          0.6666666666666666,
          0,
          0,
          0.5,
          0.3778744561839652,
          0.2692307692307692,
          0,
          0.25,
          0.5,
          0.21428571428571427,
          0.07142857142857142,
          0.20833333333333334,
          0.32922535211267606,
          0.24242424242424243,
          0.2962962962962963,
          0,
          0.045454545454545456,
          0.33201581027667987,
          0.35772913816689467,
          0.33022490400438836,
          0.375,
          0.34858681022880217,
          0.3872,
          0.5,
          0.35186035829122647,
          0.1111111111111111,
          0.25,
          0.23076923076923078,
          0.3682219419924338,
          0.3091247672253259,
          0.2972972972972973,
          0.3844330304227578,
          0.3612565445026178,
          0.1926605504587156,
          0.3544943820224719,
          0.3546462063086104,
          0.3613312202852615,
          0.3831932773109244,
          0.1,
          0,
          0.3358024691358025,
          0,
          0.043478260869565216,
          0.3658008658008658,
          0.29508196721311475,
          0,
          0.337228714524207,
          0.35878962536023057,
          0,
          0.35268817204301073,
          0.3293768545994065,
          0.319672131147541,
          0.1891891891891892,
          0.3330860534124629,
          0.32432432432432434,
          0.32142857142857145,
          0.23225806451612904,
          0.3487394957983193,
          0.21153846153846154,
          0.3076923076923077,
          0,
          0.2608695652173913,
          0.16666666666666666,
          0.32,
          0.5,
          0,
          0.25,
          0.29646017699115046,
          0.352,
          0.3861646234676007,
          0.2,
          1,
          0.23809523809523808,
          0.3755868544600939,
          0.14285714285714285,
          0.29133858267716534,
          0.36486486486486486,
          0.26842105263157895,
          0,
          0.18518518518518517,
          0,
          0.3063583815028902,
          0,
          0.3082191780821918,
          0,
          0.3333333333333333,
          0.3333333333333333,
          0,
          0.40891472868217055,
          0,
          0,
          0.3381294964028777,
          0.375,
          0.3368606701940035,
          0.3612662942271881,
          0.2079207920792079,
          0.32891246684350134,
          0.18518518518518517,
          0.2222222222222222,
          0.34643226473629785,
          0.37261146496815284,
          0.3435934144595562,
          0,
          0.3897810218978102,
          0.2857142857142857,
          0.3263009845288326,
          0.2543352601156069,
          0.3410981697171381,
          0.3371868978805395,
          0.2903225806451613,
          0.3119266055045872,
          0.16923076923076924,
          0.256857855361596,
          0.3135802469135803,
          0.33042635658914726,
          0.33676975945017185,
          0.3661870503597122,
          0.3160919540229885,
          0.2765957446808511,
          0.2992125984251969,
          0.36363636363636365,
          0.43902439024390244,
          0.1111111111111111,
          0,
          0.3333333333333333,
          0.037037037037037035,
          0.3064516129032258,
          0.32075471698113206,
          0.4129287598944591,
          0.42105263157894735,
          0.22413793103448276,
          0.2803738317757009,
          0,
          0,
          0,
          0,
          0,
          0.375,
          0.2,
          0.3815165876777251,
          0.41379310344827586,
          0,
          0.323943661971831,
          0.3444976076555024,
          0.2,
          0,
          0.29901960784313725,
          0,
          0.21739130434782608,
          0.3533487297921478,
          0.3333333333333333,
          0,
          0.3848684210526316,
          0.5,
          0,
          0.15384615384615385,
          0.5,
          0.38461538461538464,
          0.3076923076923077,
          0.3654848800834202,
          0.23529411764705882,
          0.38022813688212925,
          0.3361522198731501,
          0.3333333333333333,
          0.31203566121842496,
          0,
          0,
          0.30363036303630364,
          0.23076923076923078,
          0.336986301369863,
          0.2571428571428571,
          0.2932330827067669,
          0.27608695652173915,
          0.37971274685816875,
          0,
          0.3923809523809524,
          0.23076923076923078,
          0.25862068965517243,
          0.3619197482297404,
          0.40744368266405484,
          0.3210463733650416,
          0.3628023352793995,
          0.2916666666666667,
          0.36565507031828276,
          0.3897338403041825,
          0,
          0.29411764705882354,
          0.1111111111111111,
          0.2786885245901639,
          0,
          0.13333333333333333,
          0.328,
          0,
          0,
          0,
          0.1875,
          0.13333333333333333,
          0,
          0.18181818181818182,
          0.2,
          0.3110236220472441,
          0.23076923076923078,
          0.1,
          0.25,
          0.36714285714285716,
          0.31264367816091954,
          0.25,
          0.16666666666666666,
          0.24390243902439024,
          0.25,
          0.26666666666666666,
          0.3125,
          0.325,
          0.34953271028037386,
          0.38307794803464357,
          0.3023543990086741,
          0.2994858611825193,
          0.35511363636363635,
          0.36171938361719386,
          0.3702213279678068,
          0.3404255319148936,
          0.36736736736736736,
          0,
          0.3456221198156682,
          0.04,
          0.41397288842544316,
          0.125,
          0,
          0.20833333333333334,
          0.3076923076923077,
          0,
          0,
          0.3333333333333333,
          0.3857729138166895,
          0.37609649122807015,
          0,
          0.27586206896551724,
          0.36755823986194996,
          0.37203791469194314,
          0.07142857142857142,
          0.3044280442804428,
          0.3333333333333333,
          0,
          0,
          0.359375,
          0,
          0.23255813953488372,
          0.35,
          0.24050632911392406,
          0.27586206896551724,
          0,
          0.4,
          0.3333333333333333,
          0.3592105263157895,
          0.3756345177664975,
          0.16666666666666666,
          0.23529411764705882,
          0.25,
          0.4245810055865922,
          0.31140350877192985,
          0,
          0.39473684210526316,
          0,
          0.25,
          0.5,
          0,
          0.34285714285714286,
          0.3719512195121951,
          0.21568627450980393,
          0.36789297658862874,
          0.2589928057553957,
          0.32,
          0.33810888252148996,
          0.4419047619047619,
          0,
          0.23113207547169812,
          0.3432601880877743,
          0.31547619047619047,
          0.2692307692307692,
          0,
          0.2,
          0.35174418604651164,
          0.2857142857142857,
          0.3806818181818182,
          0.37373737373737376,
          0.34718100890207715,
          0.34509803921568627,
          0.3620253164556962,
          0.3615733736762481,
          0.2832369942196532,
          0.32142857142857145,
          0.1,
          0.2857142857142857,
          0.3785557986870897,
          0.36295369211514394,
          0.2765957446808511,
          0.23529411764705882,
          0.2835820895522388,
          0.05555555555555555,
          0.3670886075949367,
          0.2722222222222222,
          0,
          0,
          0.29959514170040485,
          0.325,
          0.3718371837183718,
          0.3592039800995025,
          0.36136662286465177,
          0.408,
          0,
          0.31809145129224653,
          0.38235294117647056,
          0.39925373134328357,
          0.2631578947368421,
          0.2976190476190476,
          0.32142857142857145,
          0.4444444444444444,
          0.39118198874296434,
          0.3242320819112628,
          0.3770833333333333,
          0.16666666666666666,
          0.30612244897959184,
          0.3,
          0.1951219512195122,
          0.2356687898089172,
          0.33125,
          0,
          0.3389830508474576,
          0.16216216216216217,
          0,
          0,
          0.30303030303030304,
          0.36950146627565983,
          0.35423728813559324,
          0.3157894736842105,
          0,
          0.3076923076923077,
          0,
          0.3793103448275862,
          0,
          0.2737430167597765,
          0.3333333333333333,
          0.34108527131782945,
          0.21428571428571427,
          0.2962962962962963,
          0.2,
          0,
          0.09523809523809523,
          0.3605769230769231,
          0.28867924528301886,
          0.325,
          0,
          0.28378378378378377,
          0.4,
          0,
          0.25,
          0.3352272727272727,
          0.2916666666666667,
          0.15151515151515152,
          0.2413793103448276,
          0,
          0.3333333333333333,
          0,
          0.3333333333333333,
          0.20454545454545456,
          0.4062968515742129,
          0.2916666666666667,
          0.2,
          0,
          0.2692307692307692,
          0.125,
          0.359375,
          0.14285714285714285,
          0,
          0.16666666666666666,
          0.3333333333333333,
          0.23076923076923078,
          0.39792387543252594,
          0.29508196721311475,
          0,
          0,
          0,
          0.3933649289099526,
          0.3136094674556213,
          0.3727598566308244,
          0.40165631469979296,
          0.2857142857142857,
          0.34285714285714286,
          0.35833333333333334,
          0.3865979381443299,
          0.3,
          0.3037974683544304,
          0.32167832167832167,
          0.30952380952380953,
          0.2,
          0.2413793103448276,
          0.25316455696202533,
          0.3090909090909091,
          0.3617021276595745,
          0.2727272727272727,
          0.19047619047619047,
          0.18518518518518517,
          0.15384615384615385,
          0.35802469135802467,
          0.2857142857142857,
          0.3333333333333333,
          0.3076923076923077,
          0.35014836795252224,
          0,
          0.2727272727272727,
          0.41818181818181815,
          0.29411764705882354,
          0.18181818181818182,
          0.328125,
          0.3815789473684211,
          0.1111111111111111,
          0,
          0.3805970149253731,
          0.3738019169329074,
          0.2,
          0.2,
          0.5,
          0.36363636363636365,
          0,
          0.16666666666666666,
          0.18181818181818182,
          0.2978723404255319,
          0,
          0,
          0,
          0.4,
          0.26851851851851855,
          0.32456140350877194,
          0.3701657458563536,
          0.3146067415730337,
          0.5,
          0.3384615384615385,
          0.3584905660377358,
          0,
          0.5454545454545454,
          0.2,
          0,
          0.21428571428571427,
          0,
          0.25,
          0.3125,
          0.3333333333333333,
          0.45,
          0.6666666666666666,
          0,
          0.3382352941176471,
          0,
          0.2840909090909091,
          0.1935483870967742,
          0,
          0.2,
          0.3333333333333333,
          0.26666666666666666,
          0.47058823529411764,
          0.3333333333333333,
          0,
          0,
          1,
          0,
          0.2222222222222222,
          0.45161290322580644,
          0.3488372093023256,
          0.3333333333333333,
          0,
          0.20833333333333334,
          0.38461538461538464,
          0,
          0.2727272727272727,
          0.3333333333333333
         ],
         "xaxis": "x",
         "y": [
          2.4415584415584415,
          2.482587064676617,
          2,
          3.2790697674418605,
          3.5106382978723403,
          2.534136546184739,
          1.9090909090909092,
          3.8551724137931034,
          1,
          2.9424460431654675,
          1.4574468085106382,
          2.744565217391304,
          1,
          4.237903225806452,
          1.7936507936507937,
          1.65625,
          1.0833333333333333,
          1.7444444444444445,
          5.666666666666667,
          1,
          2.0923076923076924,
          1,
          1.2307692307692308,
          1.8125,
          2,
          2.289308176100629,
          2.0869565217391304,
          2.4746835443037973,
          1,
          1,
          2.707070707070707,
          1,
          4.609375,
          1,
          1,
          2.027027027027027,
          2.9615384615384617,
          1.6521739130434783,
          1,
          2.125,
          4.794985250737463,
          2.5970149253731343,
          1,
          2.0625,
          3.0217391304347827,
          1,
          1,
          1.0333333333333334,
          2,
          2.3,
          3.325301204819277,
          3.5,
          1,
          1.2109375,
          2.8550295857988166,
          3.882978723404255,
          1,
          1.7272727272727273,
          1.5294117647058822,
          1,
          4.226168224299065,
          3.3529411764705883,
          4.267015706806283,
          1,
          1,
          3.0727272727272728,
          1,
          4.028268551236749,
          3.1538461538461537,
          2.3684210526315788,
          3.5173501577287065,
          1.0754716981132075,
          1.2142857142857142,
          3.5841121495327104,
          6.20839580209895,
          4.460714285714285,
          1,
          2,
          1,
          1,
          3.792207792207792,
          3.081967213114754,
          2.211267605633803,
          3.0714285714285716,
          1,
          2.375,
          5.086580086580087,
          5.845569620253165,
          1.09375,
          1.3134328358208955,
          1.4615384615384615,
          1.6,
          1.25,
          1.2121212121212122,
          1,
          2.0344827586206895,
          4.0588235294117645,
          1.0606060606060606,
          1,
          2.974811083123426,
          1.0517241379310345,
          2.4622641509433962,
          5.074193548387097,
          1.650375939849624,
          1.0769230769230769,
          1.5,
          4.171232876712328,
          4.2592592592592595,
          1,
          2.4310344827586206,
          2.9618320610687023,
          1,
          1.1153846153846154,
          3.47816091954023,
          3.523465703971119,
          2.111111111111111,
          1.0740740740740742,
          1,
          2.1672131147540985,
          4.97770154373928,
          1.5,
          1.6,
          1.6349206349206349,
          1,
          1,
          2.122448979591837,
          3.1293103448275863,
          1,
          4.900840336134454,
          3.1392405063291138,
          4.362244897959184,
          4.520186335403727,
          1,
          4.024523160762943,
          3.2238805970149254,
          2.9076923076923076,
          4.269461077844311,
          1.7087378640776698,
          1,
          1.3043478260869565,
          1,
          2.4285714285714284,
          3.4057971014492754,
          1,
          2.5933014354066986,
          4.574275362318841,
          1,
          1.1304347826086956,
          5.670212765957447,
          2.230769230769231,
          1,
          1,
          5.0233644859813085,
          3.527972027972028,
          1.0434782608695652,
          2.634259259259259,
          1.2380952380952381,
          1.1428571428571428,
          4.5083056478405314,
          1.8528428093645486,
          1.6883116883116882,
          2.5842293906810037,
          1,
          2.213740458015267,
          5.123949579831932,
          2.390374331550802,
          2.05,
          3.2013651877133107,
          2.410041841004184,
          1.4597315436241611,
          2.893013100436681,
          4.894285714285714,
          2.2690058479532165,
          4.193430656934306,
          3.981404958677686,
          2,
          1,
          1,
          2.6666666666666665,
          1.9024390243902438,
          4.214814814814815,
          2.6310679611650487,
          1,
          1,
          1,
          1,
          1.3571428571428572,
          2.1864406779661016,
          1.0666666666666667,
          1,
          2.48,
          4.598373983739838,
          4.680257510729613,
          1.5301204819277108,
          1.1428571428571428,
          1,
          1.2252252252252251,
          1.0909090909090908,
          1.1724137931034482,
          1.2,
          4.354775828460039,
          2.9473684210526314,
          1,
          5.278716216216216,
          1,
          2.4725536992840094,
          1.3846153846153846,
          1.375,
          4.257142857142857,
          1.0833333333333333,
          4.5574468085106385,
          1.564102564102564,
          4.1786666666666665,
          3.678832116788321,
          1,
          1.25,
          7,
          1.8324607329842932,
          2.1826923076923075,
          1,
          3.5923566878980893,
          4.743661971830986,
          2.2951541850220263,
          1,
          1.7777777777777777,
          1,
          1,
          1.9565217391304348,
          1,
          2.5603112840466924,
          1,
          1,
          1.2528735632183907,
          1,
          5.819095477386934,
          3.848631239935588,
          2.308641975308642,
          1,
          1.8235294117647058,
          4.874223602484472,
          2,
          3.592901878914405,
          3.1718464351005484,
          3.3466666666666667,
          1,
          1,
          1.4666666666666666,
          1.7016806722689075,
          1,
          2.125,
          2.6422018348623855,
          1,
          2.7467248908296944,
          1.6580310880829014,
          2.4571428571428573,
          3.57741935483871,
          2.535211267605634,
          1.2380952380952381,
          6.271739130434782,
          1.3333333333333333,
          1,
          2.1121951219512196,
          1.5714285714285714,
          3.42,
          2.688311688311688,
          1.8333333333333333,
          3.174825174825175,
          1,
          1,
          3.606508875739645,
          1.5549132947976878,
          1.8,
          1.0588235294117647,
          1.3571428571428572,
          1.2,
          3.897233201581028,
          1.3191489361702127,
          1.3846153846153846,
          1,
          1,
          1,
          1.2688172043010753,
          2.937777777777778,
          1.4444444444444444,
          1,
          1.25,
          2.8958333333333335,
          3.6150442477876106,
          1.7413793103448276,
          2.5900383141762453,
          3.633986928104575,
          1.7142857142857142,
          2.235294117647059,
          2.269162210338681,
          1.1666666666666667,
          1,
          2.8924302788844622,
          2.638888888888889,
          3.6873385012919897,
          1,
          1,
          1.7118644067796611,
          5.538461538461538,
          1,
          2.7837837837837838,
          3.1844863731656186,
          1,
          1.05,
          3.9914529914529915,
          1.0384615384615385,
          1.875,
          2.981191222570533,
          1.2916666666666667,
          3.7525252525252526,
          2.7507987220447285,
          2.8225806451612905,
          1,
          4.375886524822695,
          1,
          3.077064220183486,
          1.3333333333333333,
          2.7854077253218885,
          1,
          3.7783505154639174,
          1.6806083650190113,
          3.0418006430868165,
          3.7523809523809524,
          1,
          1.900662251655629,
          2.495069033530572,
          1,
          1.6,
          1.2083333333333333,
          2.3596730245231607,
          1.568421052631579,
          2.325,
          1.7826086956521738,
          2.5389048991354466,
          2.26007326007326,
          3.8684210526315788,
          1,
          1,
          3.8822463768115942,
          2.652392947103275,
          1,
          3.111111111111111,
          1.7475409836065574,
          3.383363471971067,
          2.456818181818182,
          1.0625,
          3.296511627906977,
          3.2153846153846155,
          4.184643510054845,
          3.24435318275154,
          4.2935483870967746,
          1.2222222222222223,
          1.600896860986547,
          1,
          1.5148514851485149,
          1,
          1.8461538461538463,
          1.5319148936170213,
          2.781931464174455,
          1,
          1.838095238095238,
          1.1,
          1.8571428571428572,
          1,
          1,
          4.491666666666666,
          1.1081081081081081,
          2.936470588235294,
          1.558011049723757,
          2.886627906976744,
          1,
          3.112769485903814,
          2.1842105263157894,
          1,
          2.5544041450777204,
          1,
          1.03125,
          1.9411764705882353,
          2.1328320802005014,
          5.23613595706619,
          4.261029411764706,
          3.570342205323194,
          1.3714285714285714,
          1.7894736842105263,
          2.7853658536585364,
          1.3655913978494623,
          4.587096774193548,
          3.088888888888889,
          2.2757111597374178,
          1.0285714285714285,
          1.5,
          2.066666666666667,
          1.5294117647058822,
          1,
          1.2727272727272727,
          1.7422222222222221,
          3.4158607350096712,
          1,
          3.4238805970149255,
          1,
          1.8125,
          1.8461538461538463,
          1.5,
          1,
          1.5,
          2,
          3.490238611713666,
          2.1666666666666665,
          1,
          2.2222222222222223,
          1,
          1.1666666666666667,
          1.4,
          1.6,
          2.050541516245487,
          3.3,
          2.769230769230769,
          1.3333333333333333,
          1,
          2.2063953488372094,
          2.8061420345489445,
          3.338827838827839,
          3.651282051282051,
          3.47196261682243,
          4.266211604095563,
          1,
          3.873665480427046,
          1,
          1.2,
          1.1818181818181819,
          3.6376146788990824,
          2.3973214285714284,
          1.5163934426229508,
          5.04183266932271,
          3.114130434782609,
          1.329268292682927,
          3.982102908277405,
          2.459119496855346,
          3.155,
          3.71875,
          1,
          1,
          3.4517045454545454,
          1,
          1.0454545454545454,
          3.422222222222222,
          1.876923076923077,
          1.0666666666666667,
          3.327777777777778,
          2.58955223880597,
          1,
          3.0392156862745097,
          2.277027027027027,
          3.24468085106383,
          1.4230769230769231,
          3.1421911421911424,
          2.3125,
          1.5555555555555556,
          1.2916666666666667,
          2.9473684210526314,
          1.3,
          1.625,
          1,
          1.15,
          1.0909090909090908,
          1.5625,
          1,
          1,
          1.5,
          1.8225806451612903,
          2.9296875,
          2.6682242990654204,
          1.4,
          1,
          1.3125,
          3.328125,
          1.1666666666666667,
          1.5301204819277108,
          3.217391304347826,
          1.507936507936508,
          1,
          1.8,
          1,
          1.6476190476190475,
          1,
          2.433333333333333,
          1,
          1.5,
          1,
          1,
          2.789189189189189,
          1,
          1,
          2.6476190476190475,
          2.3333333333333335,
          2.268,
          3.8633093525179856,
          1.1744186046511629,
          2.877862595419847,
          1,
          1.125,
          3.0894568690095845,
          3.984771573604061,
          3.2337962962962963,
          1,
          3.595800524934383,
          1,
          2.0141643059490084,
          1.5515695067264574,
          2.504166666666667,
          2.9322033898305087,
          2.039473684210526,
          2.18,
          1.25,
          1.468864468864469,
          2.3684210526315788,
          3.0442477876106193,
          2.6615853658536586,
          3.116591928251121,
          1.7227722772277227,
          1.4242424242424243,
          1.7638888888888888,
          1.2222222222222223,
          3.896694214876033,
          1,
          1,
          1.875,
          1.0384615384615385,
          1.878787878787879,
          1.5588235294117647,
          3.818639798488665,
          1.1875,
          1.4871794871794872,
          1.3544303797468353,
          1,
          1,
          1,
          1,
          1,
          1.3333333333333333,
          1.6666666666666667,
          2.588957055214724,
          3.411764705882353,
          1,
          1.775,
          2.9857142857142858,
          1.1538461538461537,
          1,
          2.6842105263157894,
          1,
          2.5555555555555554,
          2.562130177514793,
          1.3333333333333333,
          1,
          2.4918032786885247,
          2,
          1,
          1.4444444444444444,
          1,
          2.0526315789473686,
          1.4444444444444444,
          4.409195402298851,
          1,
          2.9060773480662982,
          3.0915032679738563,
          1.991150442477876,
          2.7028112449799195,
          1,
          1,
          1.6467391304347827,
          1.5194805194805194,
          2.1098265895953756,
          1.4285714285714286,
          1.821917808219178,
          2.062780269058296,
          3.238372093023256,
          1,
          3.658536585365854,
          1.7333333333333334,
          1.3488372093023255,
          4.3231292517006805,
          3.075301204819277,
          3.548523206751055,
          4.55893536121673,
          1.5,
          4.415032679738562,
          3.0492753623188404,
          1,
          1.4166666666666667,
          1.125,
          1.6486486486486487,
          1,
          1.0714285714285714,
          1.7605633802816902,
          1,
          1,
          6,
          1.2307692307692308,
          1.1111111111111112,
          1,
          1.375,
          1.3636363636363635,
          1.7887323943661972,
          1.8571428571428572,
          1.1111111111111112,
          2,
          2.422145328719723,
          2.7531645569620253,
          1.3333333333333333,
          1.2,
          2.411764705882353,
          1,
          1.5,
          3,
          1.8181818181818181,
          2.192622950819672,
          4.4017595307917885,
          3.618834080717489,
          2.542483660130719,
          3.4174757281553396,
          4.932,
          4.945273631840796,
          1.6206896551724137,
          3.4329896907216493,
          1,
          2.438202247191011,
          1.0869565217391304,
          3.4746376811594204,
          1.0666666666666667,
          1,
          1,
          1.0833333333333333,
          1,
          1,
          1.8,
          5.0588235294117645,
          2.980392156862745,
          1,
          1.0740740740740742,
          4.024305555555555,
          2.910344827586207,
          1.0769230769230769,
          2.6310679611650487,
          1,
          1.25,
          1,
          3.7859154929577463,
          1,
          1.1025641025641026,
          2.3076923076923075,
          1.5192307692307692,
          1.5466666666666666,
          1,
          1.3888888888888888,
          1,
          2.743682310469314,
          3.4867256637168142,
          1.3333333333333333,
          1.0625,
          2,
          4.114942528735632,
          2.5054945054945055,
          1,
          1.7272727272727273,
          1.5,
          1.3333333333333333,
          2,
          1,
          2.1875,
          3.0943396226415096,
          1.0408163265306123,
          4.13840830449827,
          2.291208791208791,
          2.272727272727273,
          2.475177304964539,
          5.048076923076923,
          1,
          1.7520661157024793,
          5.2727272727272725,
          2,
          1.5476190476190477,
          1,
          1,
          2.4397163120567376,
          1.4528301886792452,
          2.838709677419355,
          2.6877828054298645,
          2.188311688311688,
          1.7346938775510203,
          1.984924623115578,
          3.088785046728972,
          3.326923076923077,
          2.676470588235294,
          1,
          1.4736842105263157,
          2.510989010989011,
          4.139896373056994,
          2.0434782608695654,
          1.7,
          1.9142857142857144,
          1.0588235294117647,
          1.7173913043478262,
          1.5384615384615385,
          1,
          1,
          1.9448818897637796,
          1.3793103448275863,
          4.058035714285714,
          4.785714285714286,
          3.676328502415459,
          3.937007874015748,
          2,
          3.2243589743589745,
          1.7894736842105263,
          2.8210526315789473,
          3.1666666666666665,
          2.1538461538461537,
          1.8666666666666667,
          1.6363636363636365,
          4.264,
          2.46218487394958,
          3.2432432432432434,
          2,
          2.0136986301369864,
          1.1111111111111112,
          2.05,
          1.7840909090909092,
          1.6,
          1,
          3.232876712328767,
          1.1935483870967742,
          1,
          1,
          1.98,
          2.56390977443609,
          3.5757575757575757,
          1.1875,
          1,
          2.08,
          1,
          2.9,
          1,
          1.7722772277227723,
          2.189189189189189,
          2.1864406779661016,
          1.75,
          1.5,
          1,
          1,
          1.105263157894737,
          1.8909090909090909,
          4.140625,
          2.206896551724138,
          1,
          1.9473684210526316,
          1.6666666666666667,
          3,
          1.3333333333333333,
          2.5323741007194243,
          1.8113207547169812,
          1.2222222222222223,
          2.0232558139534884,
          1,
          1.5,
          1,
          1,
          1.4193548387096775,
          3.768361581920904,
          2.7540983606557377,
          1.25,
          1,
          1.368421052631579,
          1.3333333333333333,
          2.2857142857142856,
          2.3333333333333335,
          1,
          1.5,
          1,
          1.8571428571428572,
          4.070422535211268,
          2.472972972972973,
          1,
          1,
          1,
          4.262626262626263,
          3.557894736842105,
          3.402439024390244,
          5.193548387096774,
          1.4651162790697674,
          2.2151898734177213,
          3.1578947368421053,
          2.5866666666666664,
          1.1111111111111112,
          2.981132075471698,
          2.0140845070422535,
          1.4,
          1.25,
          1.8125,
          1.7954545454545454,
          2.7049180327868854,
          2.473684210526316,
          1.6805555555555556,
          1.9090909090909092,
          1.2272727272727273,
          2.6,
          2.53125,
          1.6333333333333333,
          1,
          1.3,
          3.8735632183908044,
          1,
          1,
          1.896551724137931,
          2,
          1.5714285714285714,
          2.3703703703703702,
          2.235294117647059,
          1.3846153846153846,
          1.3333333333333333,
          2.627450980392157,
          3.7261904761904763,
          1.6666666666666667,
          1.4705882352941178,
          2,
          3.6666666666666665,
          1,
          3,
          1.8333333333333333,
          2.41025641025641,
          1,
          1,
          1,
          1,
          4.32,
          4.75,
          6.241379310344827,
          3.2962962962962963,
          1,
          2.3214285714285716,
          2.3043478260869565,
          1,
          1.5714285714285714,
          1.6666666666666667,
          1,
          1.1666666666666667,
          1,
          1.3333333333333333,
          1.6,
          1,
          2.2222222222222223,
          1.5,
          1,
          2.6153846153846154,
          1,
          3.142857142857143,
          1.3478260869565217,
          1,
          1.5625,
          1.5,
          1.6666666666666667,
          1.8888888888888888,
          1.5,
          1,
          1,
          1,
          1,
          2.7,
          3.1,
          2.0476190476190474,
          4.777777777777778,
          1,
          2.1818181818181817,
          2.1666666666666665,
          1,
          1.5714285714285714,
          1
         ],
         "yaxis": "y"
        }
       ],
       "layout": {
        "coloraxis": {
         "colorbar": {
          "title": {
           "text": "cluster"
          }
         },
         "colorscale": [
          [
           0,
           "#440154"
          ],
          [
           0.1111111111111111,
           "#482878"
          ],
          [
           0.2222222222222222,
           "#3e4989"
          ],
          [
           0.3333333333333333,
           "#31688e"
          ],
          [
           0.4444444444444444,
           "#26828e"
          ],
          [
           0.5555555555555556,
           "#1f9e89"
          ],
          [
           0.6666666666666666,
           "#35b779"
          ],
          [
           0.7777777777777778,
           "#6ece58"
          ],
          [
           0.8888888888888888,
           "#b5de2b"
          ],
          [
           1,
           "#fde725"
          ]
         ]
        },
        "legend": {
         "tracegroupgap": 0
        },
        "template": {
         "data": {
          "bar": [
           {
            "error_x": {
             "color": "#2a3f5f"
            },
            "error_y": {
             "color": "#2a3f5f"
            },
            "marker": {
             "line": {
              "color": "#E5ECF6",
              "width": 0.5
             },
             "pattern": {
              "fillmode": "overlay",
              "size": 10,
              "solidity": 0.2
             }
            },
            "type": "bar"
           }
          ],
          "barpolar": [
           {
            "marker": {
             "line": {
              "color": "#E5ECF6",
              "width": 0.5
             },
             "pattern": {
              "fillmode": "overlay",
              "size": 10,
              "solidity": 0.2
             }
            },
            "type": "barpolar"
           }
          ],
          "carpet": [
           {
            "aaxis": {
             "endlinecolor": "#2a3f5f",
             "gridcolor": "white",
             "linecolor": "white",
             "minorgridcolor": "white",
             "startlinecolor": "#2a3f5f"
            },
            "baxis": {
             "endlinecolor": "#2a3f5f",
             "gridcolor": "white",
             "linecolor": "white",
             "minorgridcolor": "white",
             "startlinecolor": "#2a3f5f"
            },
            "type": "carpet"
           }
          ],
          "choropleth": [
           {
            "colorbar": {
             "outlinewidth": 0,
             "ticks": ""
            },
            "type": "choropleth"
           }
          ],
          "contour": [
           {
            "colorbar": {
             "outlinewidth": 0,
             "ticks": ""
            },
            "colorscale": [
             [
              0,
              "#0d0887"
             ],
             [
              0.1111111111111111,
              "#46039f"
             ],
             [
              0.2222222222222222,
              "#7201a8"
             ],
             [
              0.3333333333333333,
              "#9c179e"
             ],
             [
              0.4444444444444444,
              "#bd3786"
             ],
             [
              0.5555555555555556,
              "#d8576b"
             ],
             [
              0.6666666666666666,
              "#ed7953"
             ],
             [
              0.7777777777777778,
              "#fb9f3a"
             ],
             [
              0.8888888888888888,
              "#fdca26"
             ],
             [
              1,
              "#f0f921"
             ]
            ],
            "type": "contour"
           }
          ],
          "contourcarpet": [
           {
            "colorbar": {
             "outlinewidth": 0,
             "ticks": ""
            },
            "type": "contourcarpet"
           }
          ],
          "heatmap": [
           {
            "colorbar": {
             "outlinewidth": 0,
             "ticks": ""
            },
            "colorscale": [
             [
              0,
              "#0d0887"
             ],
             [
              0.1111111111111111,
              "#46039f"
             ],
             [
              0.2222222222222222,
              "#7201a8"
             ],
             [
              0.3333333333333333,
              "#9c179e"
             ],
             [
              0.4444444444444444,
              "#bd3786"
             ],
             [
              0.5555555555555556,
              "#d8576b"
             ],
             [
              0.6666666666666666,
              "#ed7953"
             ],
             [
              0.7777777777777778,
              "#fb9f3a"
             ],
             [
              0.8888888888888888,
              "#fdca26"
             ],
             [
              1,
              "#f0f921"
             ]
            ],
            "type": "heatmap"
           }
          ],
          "heatmapgl": [
           {
            "colorbar": {
             "outlinewidth": 0,
             "ticks": ""
            },
            "colorscale": [
             [
              0,
              "#0d0887"
             ],
             [
              0.1111111111111111,
              "#46039f"
             ],
             [
              0.2222222222222222,
              "#7201a8"
             ],
             [
              0.3333333333333333,
              "#9c179e"
             ],
             [
              0.4444444444444444,
              "#bd3786"
             ],
             [
              0.5555555555555556,
              "#d8576b"
             ],
             [
              0.6666666666666666,
              "#ed7953"
             ],
             [
              0.7777777777777778,
              "#fb9f3a"
             ],
             [
              0.8888888888888888,
              "#fdca26"
             ],
             [
              1,
              "#f0f921"
             ]
            ],
            "type": "heatmapgl"
           }
          ],
          "histogram": [
           {
            "marker": {
             "pattern": {
              "fillmode": "overlay",
              "size": 10,
              "solidity": 0.2
             }
            },
            "type": "histogram"
           }
          ],
          "histogram2d": [
           {
            "colorbar": {
             "outlinewidth": 0,
             "ticks": ""
            },
            "colorscale": [
             [
              0,
              "#0d0887"
             ],
             [
              0.1111111111111111,
              "#46039f"
             ],
             [
              0.2222222222222222,
              "#7201a8"
             ],
             [
              0.3333333333333333,
              "#9c179e"
             ],
             [
              0.4444444444444444,
              "#bd3786"
             ],
             [
              0.5555555555555556,
              "#d8576b"
             ],
             [
              0.6666666666666666,
              "#ed7953"
             ],
             [
              0.7777777777777778,
              "#fb9f3a"
             ],
             [
              0.8888888888888888,
              "#fdca26"
             ],
             [
              1,
              "#f0f921"
             ]
            ],
            "type": "histogram2d"
           }
          ],
          "histogram2dcontour": [
           {
            "colorbar": {
             "outlinewidth": 0,
             "ticks": ""
            },
            "colorscale": [
             [
              0,
              "#0d0887"
             ],
             [
              0.1111111111111111,
              "#46039f"
             ],
             [
              0.2222222222222222,
              "#7201a8"
             ],
             [
              0.3333333333333333,
              "#9c179e"
             ],
             [
              0.4444444444444444,
              "#bd3786"
             ],
             [
              0.5555555555555556,
              "#d8576b"
             ],
             [
              0.6666666666666666,
              "#ed7953"
             ],
             [
              0.7777777777777778,
              "#fb9f3a"
             ],
             [
              0.8888888888888888,
              "#fdca26"
             ],
             [
              1,
              "#f0f921"
             ]
            ],
            "type": "histogram2dcontour"
           }
          ],
          "mesh3d": [
           {
            "colorbar": {
             "outlinewidth": 0,
             "ticks": ""
            },
            "type": "mesh3d"
           }
          ],
          "parcoords": [
           {
            "line": {
             "colorbar": {
              "outlinewidth": 0,
              "ticks": ""
             }
            },
            "type": "parcoords"
           }
          ],
          "pie": [
           {
            "automargin": true,
            "type": "pie"
           }
          ],
          "scatter": [
           {
            "fillpattern": {
             "fillmode": "overlay",
             "size": 10,
             "solidity": 0.2
            },
            "type": "scatter"
           }
          ],
          "scatter3d": [
           {
            "line": {
             "colorbar": {
              "outlinewidth": 0,
              "ticks": ""
             }
            },
            "marker": {
             "colorbar": {
              "outlinewidth": 0,
              "ticks": ""
             }
            },
            "type": "scatter3d"
           }
          ],
          "scattercarpet": [
           {
            "marker": {
             "colorbar": {
              "outlinewidth": 0,
              "ticks": ""
             }
            },
            "type": "scattercarpet"
           }
          ],
          "scattergeo": [
           {
            "marker": {
             "colorbar": {
              "outlinewidth": 0,
              "ticks": ""
             }
            },
            "type": "scattergeo"
           }
          ],
          "scattergl": [
           {
            "marker": {
             "colorbar": {
              "outlinewidth": 0,
              "ticks": ""
             }
            },
            "type": "scattergl"
           }
          ],
          "scattermapbox": [
           {
            "marker": {
             "colorbar": {
              "outlinewidth": 0,
              "ticks": ""
             }
            },
            "type": "scattermapbox"
           }
          ],
          "scatterpolar": [
           {
            "marker": {
             "colorbar": {
              "outlinewidth": 0,
              "ticks": ""
             }
            },
            "type": "scatterpolar"
           }
          ],
          "scatterpolargl": [
           {
            "marker": {
             "colorbar": {
              "outlinewidth": 0,
              "ticks": ""
             }
            },
            "type": "scatterpolargl"
           }
          ],
          "scatterternary": [
           {
            "marker": {
             "colorbar": {
              "outlinewidth": 0,
              "ticks": ""
             }
            },
            "type": "scatterternary"
           }
          ],
          "surface": [
           {
            "colorbar": {
             "outlinewidth": 0,
             "ticks": ""
            },
            "colorscale": [
             [
              0,
              "#0d0887"
             ],
             [
              0.1111111111111111,
              "#46039f"
             ],
             [
              0.2222222222222222,
              "#7201a8"
             ],
             [
              0.3333333333333333,
              "#9c179e"
             ],
             [
              0.4444444444444444,
              "#bd3786"
             ],
             [
              0.5555555555555556,
              "#d8576b"
             ],
             [
              0.6666666666666666,
              "#ed7953"
             ],
             [
              0.7777777777777778,
              "#fb9f3a"
             ],
             [
              0.8888888888888888,
              "#fdca26"
             ],
             [
              1,
              "#f0f921"
             ]
            ],
            "type": "surface"
           }
          ],
          "table": [
           {
            "cells": {
             "fill": {
              "color": "#EBF0F8"
             },
             "line": {
              "color": "white"
             }
            },
            "header": {
             "fill": {
              "color": "#C8D4E3"
             },
             "line": {
              "color": "white"
             }
            },
            "type": "table"
           }
          ]
         },
         "layout": {
          "annotationdefaults": {
           "arrowcolor": "#2a3f5f",
           "arrowhead": 0,
           "arrowwidth": 1
          },
          "autotypenumbers": "strict",
          "coloraxis": {
           "colorbar": {
            "outlinewidth": 0,
            "ticks": ""
           }
          },
          "colorscale": {
           "diverging": [
            [
             0,
             "#8e0152"
            ],
            [
             0.1,
             "#c51b7d"
            ],
            [
             0.2,
             "#de77ae"
            ],
            [
             0.3,
             "#f1b6da"
            ],
            [
             0.4,
             "#fde0ef"
            ],
            [
             0.5,
             "#f7f7f7"
            ],
            [
             0.6,
             "#e6f5d0"
            ],
            [
             0.7,
             "#b8e186"
            ],
            [
             0.8,
             "#7fbc41"
            ],
            [
             0.9,
             "#4d9221"
            ],
            [
             1,
             "#276419"
            ]
           ],
           "sequential": [
            [
             0,
             "#0d0887"
            ],
            [
             0.1111111111111111,
             "#46039f"
            ],
            [
             0.2222222222222222,
             "#7201a8"
            ],
            [
             0.3333333333333333,
             "#9c179e"
            ],
            [
             0.4444444444444444,
             "#bd3786"
            ],
            [
             0.5555555555555556,
             "#d8576b"
            ],
            [
             0.6666666666666666,
             "#ed7953"
            ],
            [
             0.7777777777777778,
             "#fb9f3a"
            ],
            [
             0.8888888888888888,
             "#fdca26"
            ],
            [
             1,
             "#f0f921"
            ]
           ],
           "sequentialminus": [
            [
             0,
             "#0d0887"
            ],
            [
             0.1111111111111111,
             "#46039f"
            ],
            [
             0.2222222222222222,
             "#7201a8"
            ],
            [
             0.3333333333333333,
             "#9c179e"
            ],
            [
             0.4444444444444444,
             "#bd3786"
            ],
            [
             0.5555555555555556,
             "#d8576b"
            ],
            [
             0.6666666666666666,
             "#ed7953"
            ],
            [
             0.7777777777777778,
             "#fb9f3a"
            ],
            [
             0.8888888888888888,
             "#fdca26"
            ],
            [
             1,
             "#f0f921"
            ]
           ]
          },
          "colorway": [
           "#636efa",
           "#EF553B",
           "#00cc96",
           "#ab63fa",
           "#FFA15A",
           "#19d3f3",
           "#FF6692",
           "#B6E880",
           "#FF97FF",
           "#FECB52"
          ],
          "font": {
           "color": "#2a3f5f"
          },
          "geo": {
           "bgcolor": "white",
           "lakecolor": "white",
           "landcolor": "#E5ECF6",
           "showlakes": true,
           "showland": true,
           "subunitcolor": "white"
          },
          "hoverlabel": {
           "align": "left"
          },
          "hovermode": "closest",
          "mapbox": {
           "style": "light"
          },
          "paper_bgcolor": "white",
          "plot_bgcolor": "#E5ECF6",
          "polar": {
           "angularaxis": {
            "gridcolor": "white",
            "linecolor": "white",
            "ticks": ""
           },
           "bgcolor": "#E5ECF6",
           "radialaxis": {
            "gridcolor": "white",
            "linecolor": "white",
            "ticks": ""
           }
          },
          "scene": {
           "xaxis": {
            "backgroundcolor": "#E5ECF6",
            "gridcolor": "white",
            "gridwidth": 2,
            "linecolor": "white",
            "showbackground": true,
            "ticks": "",
            "zerolinecolor": "white"
           },
           "yaxis": {
            "backgroundcolor": "#E5ECF6",
            "gridcolor": "white",
            "gridwidth": 2,
            "linecolor": "white",
            "showbackground": true,
            "ticks": "",
            "zerolinecolor": "white"
           },
           "zaxis": {
            "backgroundcolor": "#E5ECF6",
            "gridcolor": "white",
            "gridwidth": 2,
            "linecolor": "white",
            "showbackground": true,
            "ticks": "",
            "zerolinecolor": "white"
           }
          },
          "shapedefaults": {
           "line": {
            "color": "#2a3f5f"
           }
          },
          "ternary": {
           "aaxis": {
            "gridcolor": "white",
            "linecolor": "white",
            "ticks": ""
           },
           "baxis": {
            "gridcolor": "white",
            "linecolor": "white",
            "ticks": ""
           },
           "bgcolor": "#E5ECF6",
           "caxis": {
            "gridcolor": "white",
            "linecolor": "white",
            "ticks": ""
           }
          },
          "title": {
           "x": 0.05
          },
          "xaxis": {
           "automargin": true,
           "gridcolor": "white",
           "linecolor": "white",
           "ticks": "",
           "title": {
            "standoff": 15
           },
           "zerolinecolor": "white",
           "zerolinewidth": 2
          },
          "yaxis": {
           "automargin": true,
           "gridcolor": "white",
           "linecolor": "white",
           "ticks": "",
           "title": {
            "standoff": 15
           },
           "zerolinecolor": "white",
           "zerolinewidth": 2
          }
         }
        },
        "title": {
         "text": "NBA Players Clustering Based on 3-Point Shooting (Period 2)"
        },
        "xaxis": {
         "anchor": "y",
         "domain": [
          0,
          1
         ],
         "title": {
          "text": "Shooting Percentage"
         }
        },
        "yaxis": {
         "anchor": "x",
         "domain": [
          0,
          1
         ],
         "title": {
          "text": "Attempts per Game"
         }
        }
       }
      }
     },
     "metadata": {},
     "output_type": "display_data"
    },
    {
     "data": {
      "application/vnd.plotly.v1+json": {
       "config": {
        "plotlyServerURL": "https://plot.ly"
       },
       "data": [
        {
         "customdata": [
          [
           "Grant Hill"
          ],
          [
           "Jason Kidd"
          ],
          [
           "Kurt Thomas"
          ],
          [
           "Kevin Garnett"
          ],
          [
           "Jerry Stackhouse"
          ],
          [
           "Rasheed Wallace"
          ],
          [
           "Ray Allen"
          ],
          [
           "Steve Nash"
          ],
          [
           "Derek Fisher"
          ],
          [
           "Kobe Bryant"
          ],
          [
           "Tim Duncan"
          ],
          [
           "Chauncey Billups"
          ],
          [
           "Tracy McGrady"
          ],
          [
           "Stephen Jackson"
          ],
          [
           "Antawn Jamison"
          ],
          [
           "Vince Carter"
          ],
          [
           "Dirk Nowitzki"
          ],
          [
           "Paul Pierce"
          ],
          [
           "Al Harrington"
          ],
          [
           "Nazr Mohammed"
          ],
          [
           "Rashard Lewis"
          ],
          [
           "Elton Brand"
          ],
          [
           "Lamar Odom"
          ],
          [
           "Richard Hamilton"
          ],
          [
           "Andre Miller"
          ],
          [
           "Shawn Marion"
          ],
          [
           "Jason Terry"
          ],
          [
           "Metta World Peace"
          ],
          [
           "Andrei Kirilenko"
          ],
          [
           "Manu Ginobili"
          ],
          [
           "Kenyon Martin"
          ],
          [
           "Mike Miller"
          ],
          [
           "Jamal Crawford"
          ],
          [
           "Keyon Dooling"
          ],
          [
           "Hedo Turkoglu"
          ],
          [
           "Quentin Richardson"
          ],
          [
           "DeShawn Stevenson"
          ],
          [
           "Tyson Chandler"
          ],
          [
           "Pau Gasol"
          ],
          [
           "Jason Richardson"
          ],
          [
           "Shane Battier"
          ],
          [
           "Joe Johnson"
          ],
          [
           "Vladimir Radmanovic"
          ],
          [
           "Richard Jefferson"
          ],
          [
           "Jason Collins"
          ],
          [
           "Zach Randolph"
          ],
          [
           "Brendan Haywood"
          ],
          [
           "Gerald Wallace"
          ],
          [
           "Samuel Dalembert"
          ],
          [
           "Jamaal Tinsley"
          ],
          [
           "Tony Parker"
          ],
          [
           "Mike James"
          ],
          [
           "Earl Watson"
          ],
          [
           "Chris Andersen"
          ],
          [
           "Mike Dunleavy"
          ],
          [
           "Drew Gooden"
          ],
          [
           "Nene"
          ],
          [
           "Chris Wilcox"
          ],
          [
           "Amar'e Stoudemire"
          ],
          [
           "Caron Butler"
          ],
          [
           "Jared Jeffries"
          ],
          [
           "Tayshaun Prince"
          ],
          [
           "John Salmons"
          ],
          [
           "Roger Mason Jr."
          ],
          [
           "Carlos Boozer"
          ],
          [
           "Matt Barnes"
          ],
          [
           "Rasual Butler"
          ],
          [
           "Luis Scola"
          ],
          [
           "Jannero Pargo"
          ],
          [
           "Reggie Evans"
          ],
          [
           "LeBron James"
          ],
          [
           "Carmelo Anthony"
          ],
          [
           "Chris Bosh"
          ],
          [
           "Dwyane Wade"
          ],
          [
           "Chris Kaman"
          ],
          [
           "Kirk Hinrich"
          ],
          [
           "Mickael Pietrus"
          ],
          [
           "Nick Collison"
          ],
          [
           "Luke Ridnour"
          ],
          [
           "David West"
          ],
          [
           "Sasha Pavlovic"
          ],
          [
           "Dahntay Jones"
          ],
          [
           "Boris Diaw"
          ],
          [
           "Travis Outlaw"
          ],
          [
           "Carlos Delfino"
          ],
          [
           "Kendrick Perkins"
          ],
          [
           "Leandro Barbosa"
          ],
          [
           "Luke Walton"
          ],
          [
           "Steve Blake"
          ],
          [
           "Willie Green"
          ],
          [
           "Zaza Pachulia"
          ],
          [
           "Keith Bogans"
          ],
          [
           "Matt Bonner"
          ],
          [
           "Mo Williams"
          ],
          [
           "James Jones"
          ],
          [
           "Kyle Korver"
          ],
          [
           "Marquis Daniels"
          ],
          [
           "Udonis Haslem"
          ],
          [
           "Dwight Howard"
          ],
          [
           "Ben Gordon"
          ],
          [
           "Shaun Livingston"
          ],
          [
           "Devin Harris"
          ],
          [
           "Luol Deng"
          ],
          [
           "Andre Iguodala"
          ],
          [
           "Sebastian Telfair"
          ],
          [
           "Kris Humphries"
          ],
          [
           "Al Jefferson"
          ],
          [
           "Josh Smith"
          ],
          [
           "JR Smith"
          ],
          [
           "Dorell Wright"
          ],
          [
           "Jameer Nelson"
          ],
          [
           "Tony Allen"
          ],
          [
           "Kevin Martin"
          ],
          [
           "Sasha Vujacic"
          ],
          [
           "Beno Udrih"
          ],
          [
           "Anderson Varejao"
          ],
          [
           "Royal Ivey"
          ],
          [
           "Chris Duhon"
          ],
          [
           "Trevor Ariza"
          ],
          [
           "Earl Barron"
          ],
          [
           "Damien Wilkins"
          ],
          [
           "Andrew Bogut"
          ],
          [
           "Marvin Williams"
          ],
          [
           "Chris Paul"
          ],
          [
           "Raymond Felton"
          ],
          [
           "Martell Webster"
          ],
          [
           "Charlie Villanueva"
          ],
          [
           "Channing Frye"
          ],
          [
           "Deron Williams"
          ],
          [
           "Danny Granger"
          ],
          [
           "Gerald Green"
          ],
          [
           "Hakim Warrick"
          ],
          [
           "Nate Robinson"
          ],
          [
           "Jarrett Jack"
          ],
          [
           "Francisco Garcia"
          ],
          [
           "Johan Petro"
          ],
          [
           "Ian Mahinmi"
          ],
          [
           "David Lee"
          ],
          [
           "Brandon Bass"
          ],
          [
           "CJ Miles"
          ],
          [
           "Ersan Ilyasova"
          ],
          [
           "Monta Ellis"
          ],
          [
           "Lou Williams"
          ],
          [
           "Mickael Gelabale"
          ],
          [
           "Andray Blatche"
          ],
          [
           "Ryan Gomes"
          ],
          [
           "Amir Johnson"
          ],
          [
           "Marcin Gortat"
          ],
          [
           "Ronnie Price"
          ],
          [
           "Jose Calderon"
          ],
          [
           "Shavlik Randolph"
          ],
          [
           "Alan Anderson"
          ],
          [
           "Will Bynum"
          ],
          [
           "Chuck Hayes"
          ],
          [
           "John Lucas III"
          ],
          [
           "Andrea Bargnani"
          ],
          [
           "LaMarcus Aldridge"
          ],
          [
           "Tyrus Thomas"
          ],
          [
           "Randy Foye"
          ],
          [
           "Rudy Gay"
          ],
          [
           "JJ Redick"
          ],
          [
           "Hilton Armstrong"
          ],
          [
           "Thabo Sefolosha"
          ],
          [
           "Ronnie Brewer"
          ],
          [
           "Shawne Williams"
          ],
          [
           "Rajon Rondo"
          ],
          [
           "Kyle Lowry"
          ],
          [
           "Shannon Brown"
          ],
          [
           "Jordan Farmar"
          ],
          [
           "Sergio Rodriguez"
          ],
          [
           "Joel Freeland"
          ],
          [
           "James White"
          ],
          [
           "Steve Novak"
          ],
          [
           "P.J. Tucker"
          ],
          [
           "Daniel Gibson"
          ],
          [
           "Paul Millsap"
          ],
          [
           "Chris Quinn"
          ],
          [
           "Lou Amundson"
          ],
          [
           "J.J. Barea"
          ],
          [
           "Mike Harris"
          ],
          [
           "Kevin Durant"
          ],
          [
           "Al Horford"
          ],
          [
           "Mike Conley"
          ],
          [
           "Jeff Green"
          ],
          [
           "Corey Brewer"
          ],
          [
           "Brandan Wright"
          ],
          [
           "Joakim Noah"
          ],
          [
           "Spencer Hawes"
          ],
          [
           "Thaddeus Young"
          ],
          [
           "Rodney Stuckey"
          ],
          [
           "Nick Young"
          ],
          [
           "Marco Belinelli"
          ],
          [
           "Jason Smith"
          ],
          [
           "Daequan Cook"
          ],
          [
           "Jared Dudley"
          ],
          [
           "Wilson Chandler"
          ],
          [
           "Aaron Brooks"
          ],
          [
           "Arron Afflalo"
          ],
          [
           "Tiago Splitter"
          ],
          [
           "Carl Landry"
          ],
          [
           "Glen Davis"
          ],
          [
           "Josh McRoberts"
          ],
          [
           "Marc Gasol"
          ],
          [
           "Aaron Gray"
          ],
          [
           "Ramon Sessions"
          ],
          [
           "Mustafa Shakur"
          ],
          [
           "C.J. Watson"
          ],
          [
           "Anthony Tolliver"
          ],
          [
           "Ivan Johnson"
          ],
          [
           "Andre Ingram"
          ],
          [
           "Michael Beasley"
          ],
          [
           "O.J. Mayo"
          ],
          [
           "Derrick Rose"
          ],
          [
           "Russell Westbrook"
          ],
          [
           "Kevin Love"
          ],
          [
           "Danilo Gallinari"
          ],
          [
           "Eric Gordon"
          ],
          [
           "D.J. Augustin"
          ],
          [
           "Brook Lopez"
          ],
          [
           "Jerryd Bayless"
          ],
          [
           "Jason Thompson"
          ],
          [
           "Brandon Rush"
          ],
          [
           "Anthony Randolph"
          ],
          [
           "Robin Lopez"
          ],
          [
           "Marreese Speights"
          ],
          [
           "Roy Hibbert"
          ],
          [
           "JaVale McGee"
          ],
          [
           "JJ Hickson"
          ],
          [
           "Alexis Ajinca"
          ],
          [
           "Ryan Anderson"
          ],
          [
           "Courtney Lee"
          ],
          [
           "Kosta Koufos"
          ],
          [
           "Serge Ibaka"
          ],
          [
           "Nicolas Batum"
          ],
          [
           "George Hill"
          ],
          [
           "Darrell Arthur"
          ],
          [
           "Joey Dorsey"
          ],
          [
           "Mario Chalmers"
          ],
          [
           "DeAndre Jordan"
          ],
          [
           "Omer Asik"
          ],
          [
           "Luc Mbah a Moute"
          ],
          [
           "Sonny Weems"
          ],
          [
           "Chris Douglas-Roberts"
          ],
          [
           "Goran Dragic"
          ],
          [
           "Henry Walker"
          ],
          [
           "Anthony Morrow"
          ],
          [
           "Bobby Brown"
          ],
          [
           "Othyus Jeffers"
          ],
          [
           "Cartier Martin"
          ],
          [
           "Greg Stiemsma"
          ],
          [
           "Blake Griffin"
          ],
          [
           "James Harden"
          ],
          [
           "Tyreke Evans"
          ],
          [
           "Ricky Rubio"
          ],
          [
           "Stephen Curry"
          ],
          [
           "Jordan Hill"
          ],
          [
           "DeMar DeRozan"
          ],
          [
           "Brandon Jennings"
          ],
          [
           "Terrence Williams"
          ],
          [
           "Gerald Henderson"
          ],
          [
           "Tyler Hansbrough"
          ],
          [
           "Earl Clark"
          ],
          [
           "Austin Daye"
          ],
          [
           "James Johnson"
          ],
          [
           "Jrue Holiday"
          ],
          [
           "Ty Lawson"
          ],
          [
           "Jeff Teague"
          ],
          [
           "Eric Maynor"
          ],
          [
           "Darren Collison"
          ],
          [
           "Omri Casspi"
          ],
          [
           "Byron Mullens"
          ],
          [
           "Rodrigue Beaubois"
          ],
          [
           "Taj Gibson"
          ],
          [
           "DeMarre Carroll"
          ],
          [
           "Wayne Ellington"
          ],
          [
           "Toney Douglas"
          ],
          [
           "Victor Claver"
          ],
          [
           "Jeff Ayres"
          ],
          [
           "Dante Cunningham"
          ],
          [
           "Sam Young"
          ],
          [
           "DeJuan Blair"
          ],
          [
           "Jonas Jerebko"
          ],
          [
           "Jodie Meeks"
          ],
          [
           "Patrick Beverley"
          ],
          [
           "Marcus Thornton"
          ],
          [
           "Chase Budinger"
          ],
          [
           "Nick Calathes"
          ],
          [
           "Danny Green"
          ],
          [
           "AJ Price"
          ],
          [
           "Nando De Colo"
          ],
          [
           "Patty Mills"
          ],
          [
           "Lester Hudson"
          ],
          [
           "Garrett Temple"
          ],
          [
           "Jerel McNeal"
          ],
          [
           "Wesley Matthews"
          ],
          [
           "Alonzo Gee"
          ],
          [
           "Dionte Christmas"
          ],
          [
           "Reggie Williams"
          ],
          [
           "Terrel Harris"
          ],
          [
           "John Wall"
          ],
          [
           "Evan Turner"
          ],
          [
           "Derrick Favors"
          ],
          [
           "Wesley Johnson"
          ],
          [
           "DeMarcus Cousins"
          ],
          [
           "Ekpe Udoh"
          ],
          [
           "Greg Monroe"
          ],
          [
           "Al-Farouq Aminu"
          ],
          [
           "Gordon Hayward"
          ],
          [
           "Paul George"
          ],
          [
           "Xavier Henry"
          ],
          [
           "Ed Davis"
          ],
          [
           "Patrick Patterson"
          ],
          [
           "Larry Sanders"
          ],
          [
           "Luke Babbitt"
          ],
          [
           "Kevin Seraphin"
          ],
          [
           "Eric Bledsoe"
          ],
          [
           "Avery Bradley"
          ],
          [
           "James Anderson"
          ],
          [
           "Elliot Williams"
          ],
          [
           "Trevor Booker"
          ],
          [
           "Damion James"
          ],
          [
           "Quincy Pondexter"
          ],
          [
           "Jordan Crawford"
          ],
          [
           "Greivis Vasquez"
          ],
          [
           "Lazar Hayward"
          ],
          [
           "Tibor Pleiss"
          ],
          [
           "Hassan Whiteside"
          ],
          [
           "Nemanja Bjelica"
          ],
          [
           "Landry Fields"
          ],
          [
           "Lance Stephenson"
          ],
          [
           "Devin Ebanks"
          ],
          [
           "Jeremy Evans"
          ],
          [
           "Donald Sloan"
          ],
          [
           "Timofey Mozgov"
          ],
          [
           "Gary Neal"
          ],
          [
           "Jeremy Lin"
          ],
          [
           "Ish Smith"
          ],
          [
           "Jeff Adrien"
          ],
          [
           "Elijah Millsap"
          ],
          [
           "Manny Harris"
          ],
          [
           "Lance Thomas"
          ],
          [
           "Luke Zeller"
          ],
          [
           "Kyrie Irving"
          ],
          [
           "Derrick Williams"
          ],
          [
           "Enes Kanter"
          ],
          [
           "Tristan Thompson"
          ],
          [
           "Jonas Valanciunas"
          ],
          [
           "Bismack Biyombo"
          ],
          [
           "Brandon Knight"
          ],
          [
           "Kemba Walker"
          ],
          [
           "Jimmer Fredette"
          ],
          [
           "Klay Thompson"
          ],
          [
           "Alec Burks"
          ],
          [
           "Markieff Morris"
          ],
          [
           "Marcus Morris Sr."
          ],
          [
           "Kawhi Leonard"
          ],
          [
           "Nikola Vucevic"
          ],
          [
           "Iman Shumpert"
          ],
          [
           "Chris Singleton"
          ],
          [
           "Tobias Harris"
          ],
          [
           "Donatas Motiejunas"
          ],
          [
           "Nolan Smith"
          ],
          [
           "Kenneth Faried"
          ],
          [
           "Nikola Mirotic"
          ],
          [
           "Reggie Jackson"
          ],
          [
           "MarShon Brooks"
          ],
          [
           "Jordan Hamilton"
          ],
          [
           "Norris Cole"
          ],
          [
           "Cory Joseph"
          ],
          [
           "Jimmy Butler"
          ],
          [
           "Bojan Bogdanovic"
          ],
          [
           "Justin Harper"
          ],
          [
           "Kyle Singler"
          ],
          [
           "Shelvin Mack"
          ],
          [
           "Tyler Honeycutt"
          ],
          [
           "Chandler Parsons"
          ],
          [
           "Jon Leuer"
          ],
          [
           "Darius Morris"
          ],
          [
           "Davis Bertans"
          ],
          [
           "Josh Harrellson"
          ],
          [
           "Andrew Goudelock"
          ],
          [
           "Josh Selby"
          ],
          [
           "Lavoy Allen"
          ],
          [
           "DeAndre Liggins"
          ],
          [
           "E'Twaun Moore"
          ],
          [
           "Isaiah Thomas"
          ],
          [
           "Dwight Buycks"
          ],
          [
           "Chris Wright"
          ],
          [
           "Xavier Silas"
          ],
          [
           "Julyan Stone"
          ],
          [
           "Jeremy Pargo"
          ],
          [
           "Malcolm Thomas"
          ],
          [
           "Brad Wanamaker"
          ],
          [
           "Josh Akognon"
          ],
          [
           "Anthony Davis"
          ],
          [
           "Michael Kidd-Gilchrist"
          ],
          [
           "Bradley Beal"
          ],
          [
           "Dion Waiters"
          ],
          [
           "Thomas Robinson"
          ],
          [
           "Damian Lillard"
          ],
          [
           "Terrence Ross"
          ],
          [
           "Andre Drummond"
          ],
          [
           "Harrison Barnes"
          ],
          [
           "Austin Rivers"
          ],
          [
           "Meyers Leonard"
          ],
          [
           "Jeremy Lamb"
          ],
          [
           "Kendall Marshall"
          ],
          [
           "John Henson"
          ],
          [
           "Maurice Harkless"
          ],
          [
           "Tyler Zeller"
          ],
          [
           "Terrence Jones"
          ],
          [
           "Andrew Nicholson"
          ],
          [
           "Evan Fournier"
          ],
          [
           "Jared Sullinger"
          ],
          [
           "John Jenkins"
          ],
          [
           "Jared Cunningham"
          ],
          [
           "Tony Wroten"
          ],
          [
           "Perry Jones III"
          ],
          [
           "Marquis Teague"
          ],
          [
           "Jeffery Taylor"
          ],
          [
           "Tomas Satoransky"
          ],
          [
           "Bernard James"
          ],
          [
           "Jae Crowder"
          ],
          [
           "Draymond Green"
          ],
          [
           "Orlando Johnson"
          ],
          [
           "Quincy Acy"
          ],
          [
           "Quincy Miller"
          ],
          [
           "Khris Middleton"
          ],
          [
           "Will Barton"
          ],
          [
           "Tyshawn Taylor"
          ],
          [
           "Doron Lamb"
          ],
          [
           "Mike Scott"
          ],
          [
           "Kim English"
          ],
          [
           "Justin Hamilton"
          ],
          [
           "Darius Miller"
          ],
          [
           "Kevin Murphy"
          ],
          [
           "Kostas Papanikolaou"
          ],
          [
           "Kyle O'Quinn"
          ],
          [
           "Kris Joseph"
          ],
          [
           "Furkan Aldemir"
          ],
          [
           "Tornike Shengelia"
          ],
          [
           "Darius Johnson-Odom"
          ],
          [
           "Robbie Hummel"
          ],
          [
           "Robert Sacre"
          ],
          [
           "Hollis Thompson"
          ],
          [
           "Mirza Teletovic"
          ],
          [
           "Chris Copeland"
          ],
          [
           "Pablo Prigioni"
          ],
          [
           "Alexey Shved"
          ],
          [
           "Kent Bazemore"
          ],
          [
           "Maalik Wayns"
          ],
          [
           "Brian Roberts"
          ],
          [
           "Henry Sims"
          ],
          [
           "Scott Machado"
          ],
          [
           "Ben Hansbrough"
          ],
          [
           "Tony Mitchell"
          ],
          [
           "Willie Reed"
          ],
          [
           "Chris Johnson"
          ],
          [
           "Diante Garrett"
          ],
          [
           "DeQuan Jones"
          ],
          [
           "Justin Holiday"
          ],
          [
           "JaMychal Green"
          ],
          [
           "James Nunnally"
          ],
          [
           "Jorge Gutierrez"
          ],
          [
           "Toure' Murry"
          ],
          [
           "Glen Rice"
          ],
          [
           "Aron Baynes"
          ],
          [
           "Nerlens Noel"
          ],
          [
           "Alex Len"
          ],
          [
           "Allen Crabbe"
          ],
          [
           "Andre Roberson"
          ],
          [
           "Anthony Bennett"
          ],
          [
           "Archie Goodwin"
          ],
          [
           "Ben McLemore"
          ],
          [
           "Brandon Paul"
          ],
          [
           "Carrick Felix"
          ],
          [
           "CJ McCollum"
          ],
          [
           "Cody Zeller"
          ],
          [
           "Dennis Schroder"
          ],
          [
           "Dewayne Dedmon"
          ],
          [
           "Erick Green"
          ],
          [
           "Gorgui Dieng"
          ],
          [
           "Isaiah Canaan"
          ],
          [
           "Jamaal Franklin"
          ],
          [
           "James Southerland"
          ],
          [
           "Jeff Withey"
          ],
          [
           "Kelly Olynyk"
          ],
          [
           "Kentavious Caldwell-Pope"
          ],
          [
           "Lorenzo Brown"
          ],
          [
           "Mason Plumlee"
          ],
          [
           "Michael Carter-Williams"
          ],
          [
           "Mike Muscala"
          ],
          [
           "Nate Wolters"
          ],
          [
           "Otto Porter Jr."
          ],
          [
           "Peyton Siva"
          ],
          [
           "Ray McCallum"
          ],
          [
           "Reggie Bullock"
          ],
          [
           "Ricky Ledo"
          ],
          [
           "Robert Covington"
          ],
          [
           "Rudy Gobert"
          ],
          [
           "Shabazz Muhammad"
          ],
          [
           "Shane Larkin"
          ],
          [
           "Steven Adams"
          ],
          [
           "Tim Hardaway Jr."
          ],
          [
           "Tony Mitchell"
          ],
          [
           "Tony Snell"
          ],
          [
           "Trey Burke"
          ],
          [
           "Vander Blue"
          ],
          [
           "Victor Oladipo"
          ],
          [
           "Giannis Antetokounmpo"
          ],
          [
           "Sergey Karasev"
          ],
          [
           "Pierre Jackson"
          ],
          [
           "Grant Jerrett"
          ],
          [
           "Lucas Nogueira"
          ],
          [
           "Erik Murphy"
          ],
          [
           "Phil Pressey"
          ],
          [
           "James Ennis III"
          ],
          [
           "Nemanja Nedovic"
          ],
          [
           "Alex Abrines"
          ],
          [
           "Adonis Thomas"
          ],
          [
           "Matthew Dellavedova"
          ],
          [
           "Solomon Hill"
          ],
          [
           "Raul Neto"
          ],
          [
           "Ryan Kelly"
          ],
          [
           "Joffrey Lauvergne"
          ],
          [
           "Gal Mekel"
          ],
          [
           "Gigi Datome"
          ],
          [
           "Vitor Faverani"
          ],
          [
           "Pero Antic"
          ],
          [
           "Ian Clark"
          ],
          [
           "Seth Curry"
          ],
          [
           "Brandon Davies"
          ],
          [
           "Kalin Lucas"
          ],
          [
           "Patrick Christopher"
          ],
          [
           "Chris Babb"
          ],
          [
           "Larry Drew II"
          ],
          [
           "Troy Daniels"
          ],
          [
           "Rodney McGruder"
          ],
          [
           "Jonathon Simmons"
          ],
          [
           "Thanasis Antetokounmpo"
          ],
          [
           "Reggie Hearn"
          ],
          [
           "Josh Magette"
          ],
          [
           "C.J. Williams"
          ],
          [
           "PJ Hairston"
          ],
          [
           "Will Cherry"
          ],
          [
           "Casper Ware"
          ],
          [
           "Scotty Hopson"
          ],
          [
           "Russ Smith"
          ],
          [
           "Shabazz Napier"
          ],
          [
           "Jordan McRae"
          ],
          [
           "Zach LaVine"
          ],
          [
           "Tyler Ennis"
          ],
          [
           "Markel Brown"
          ],
          [
           "Elfrid Payton"
          ],
          [
           "Semaj Christon"
          ],
          [
           "Jordan Clarkson"
          ],
          [
           "Devyn Marble"
          ],
          [
           "KJ McDaniels"
          ],
          [
           "Nick Johnson"
          ],
          [
           "C.J. Wilcox"
          ],
          [
           "Jabari Brown"
          ],
          [
           "Gary Harris"
          ],
          [
           "Spencer Dinwiddie"
          ],
          [
           "Nik Stauskas"
          ],
          [
           "Rodney Hood"
          ],
          [
           "Jordan Adams"
          ],
          [
           "Khem Birch"
          ],
          [
           "Cleanthony Early"
          ],
          [
           "Glenn Robinson III"
          ],
          [
           "James Young"
          ],
          [
           "Jerami Grant"
          ],
          [
           "Joe Harris"
          ],
          [
           "Doug McDermott"
          ],
          [
           "Cory Jefferson"
          ],
          [
           "Sean Kilpatrick"
          ],
          [
           "Aaron Gordon"
          ],
          [
           "T.J. Warren"
          ],
          [
           "Lamar Patterson"
          ],
          [
           "Marcus Smart"
          ],
          [
           "Kyle Anderson"
          ],
          [
           "Dwight Powell"
          ],
          [
           "Adreian Payne"
          ],
          [
           "Noah Vonleh"
          ],
          [
           "Julius Randle"
          ],
          [
           "Cameron Bairstow"
          ],
          [
           "Johnny O'Bryant III"
          ],
          [
           "James Michael McAdoo"
          ],
          [
           "Keith Appling"
          ],
          [
           "Andrew Wiggins"
          ],
          [
           "Jabari Parker"
          ],
          [
           "Joel Embiid"
          ],
          [
           "Bryce Cotton"
          ],
          [
           "Mitch McGary"
          ],
          [
           "Dante Exum"
          ],
          [
           "Andre Dawkins"
          ],
          [
           "JaKarr Sampson"
          ],
          [
           "Eric Moreland"
          ],
          [
           "Josh Huestis"
          ],
          [
           "Shayne Whittington"
          ],
          [
           "Jamil Wilson"
          ],
          [
           "Dario Saric"
          ],
          [
           "Clint Capela"
          ],
          [
           "Bogdan Bogdanovic"
          ],
          [
           "Jusuf Nurkic"
          ],
          [
           "Damien Inglis"
          ],
          [
           "Bruno Caboclo"
          ],
          [
           "Nikola Jokic"
          ],
          [
           "Kristaps Porzingis"
          ],
          [
           "Damjan Rudez"
          ],
          [
           "Tyler Johnson"
          ],
          [
           "Tim Frazier"
          ],
          [
           "Tarik Black"
          ],
          [
           "David Wear"
          ],
          [
           "Travis Wear"
          ],
          [
           "Langston Galloway"
          ],
          [
           "Zoran Dragic"
          ],
          [
           "Joe Ingles"
          ],
          [
           "David Stockton"
          ],
          [
           "John Holland"
          ],
          [
           "Jarell Eddie"
          ],
          [
           "Drew Gordon"
          ],
          [
           "Xavier Munford"
          ],
          [
           "Omari Johnson"
          ],
          [
           "T.J. McConnell"
          ],
          [
           "Jahlil Okafor"
          ],
          [
           "Emmanuel Mudiay"
          ],
          [
           "Tyus Jones"
          ],
          [
           "Justin Anderson"
          ],
          [
           "Anthony Brown"
          ],
          [
           "Montrezl Harrell"
          ],
          [
           "Andrew Harrison"
          ],
          [
           "Aaron Harrison"
          ],
          [
           "Delon Wright"
          ],
          [
           "RJ Hunter"
          ],
          [
           "Sam Dekker"
          ],
          [
           "D'Angelo Russell"
          ],
          [
           "Karl-Anthony Towns"
          ],
          [
           "Richaun Holmes"
          ],
          [
           "Justise Winslow"
          ],
          [
           "Willie Cauley-Stein"
          ],
          [
           "Kelly Oubre Jr."
          ],
          [
           "Frank Kaminsky"
          ],
          [
           "Devin Booker"
          ],
          [
           "Cameron Payne"
          ],
          [
           "Myles Turner"
          ],
          [
           "Trey Lyles"
          ],
          [
           "Stanley Johnson"
          ],
          [
           "Jerian Grant"
          ],
          [
           "Bobby Portis"
          ],
          [
           "Kevon Looney"
          ],
          [
           "Rashad Vaughn"
          ],
          [
           "Christian Wood"
          ],
          [
           "Jordan Mickey"
          ],
          [
           "Rondae Hollis-Jefferson"
          ],
          [
           "Terry Rozier"
          ],
          [
           "Norman Powell"
          ],
          [
           "Chasson Randle"
          ],
          [
           "Jarell Martin"
          ],
          [
           "Michael Frazier"
          ],
          [
           "Quinn Cook"
          ],
          [
           "Chris McCullough"
          ],
          [
           "Pat Connaughton"
          ],
          [
           "Willy Hernangomez"
          ],
          [
           "Josh Richardson"
          ],
          [
           "Darrun Hilliard"
          ],
          [
           "Joe Young"
          ],
          [
           "Treveon Graham"
          ],
          [
           "Larry Nance Jr."
          ],
          [
           "Mario Hezonja"
          ],
          [
           "Alan Williams"
          ],
          [
           "Bryce Dejean-Jones"
          ],
          [
           "Royce O'Neale"
          ],
          [
           "Cedi Osman"
          ],
          [
           "Luis Montero"
          ],
          [
           "Cristiano Felicio"
          ],
          [
           "Boban Marjanovic"
          ],
          [
           "Duje Dukan"
          ],
          [
           "Axel Toupane"
          ],
          [
           "Maurice Ndour"
          ],
          [
           "Salah Mejri"
          ],
          [
           "Malcolm Miller"
          ],
          [
           "Coty Clarke"
          ],
          [
           "Marcelo Huertas"
          ],
          [
           "Jordan Sibert"
          ],
          [
           "Jacob Pullen"
          ],
          [
           "Jonathan Gibson"
          ],
          [
           "Malcolm Delaney"
          ],
          [
           "Walt Lemon Jr."
          ],
          [
           "Briante Weber"
          ],
          [
           "Julian Washburn"
          ],
          [
           "Ben Simmons"
          ],
          [
           "Dragan Bender"
          ],
          [
           "Domantas Sabonis"
          ],
          [
           "Wade Baldwin IV"
          ],
          [
           "Malik Beasley"
          ],
          [
           "Marquese Chriss"
          ],
          [
           "Deyonta Davis"
          ],
          [
           "Kris Dunn"
          ],
          [
           "Henry Ellenson"
          ],
          [
           "Buddy Hield"
          ],
          [
           "Brandon Ingram"
          ],
          [
           "Demetrius Jackson"
          ],
          [
           "Brice Johnson"
          ],
          [
           "Damian Jones"
          ],
          [
           "Skal Labissiere"
          ],
          [
           "Caris LeVert"
          ],
          [
           "Thon Maker"
          ],
          [
           "Dejounte Murray"
          ],
          [
           "Jamal Murray"
          ],
          [
           "Jakob Poeltl"
          ],
          [
           "Taurean Prince"
          ],
          [
           "Zhou Qi"
          ],
          [
           "Tyler Ulis"
          ],
          [
           "Denzel Valentine"
          ],
          [
           "Ron Baker"
          ],
          [
           "Jaylen Brown"
          ],
          [
           "DeAndre' Bembry"
          ],
          [
           "Joel Bolomboy"
          ],
          [
           "Malcolm Brogdon"
          ],
          [
           "Cheick Diallo"
          ],
          [
           "Kay Felder"
          ],
          [
           "Michael Gbinije"
          ],
          [
           "Daniel Hamilton"
          ],
          [
           "AJ Hammons"
          ],
          [
           "Jake Layman"
          ],
          [
           "Patrick McCaw"
          ],
          [
           "Georges Niang"
          ],
          [
           "Marcus Paige"
          ],
          [
           "Gary Payton II"
          ],
          [
           "Malachi Richardson"
          ],
          [
           "Wayne Selden"
          ],
          [
           "Pascal Siakam"
          ],
          [
           "Jarrod Uthoff"
          ],
          [
           "Isaiah Whitehead"
          ],
          [
           "Troy Williams"
          ],
          [
           "Kyle Wiltjer"
          ],
          [
           "Furkan Korkmaz"
          ],
          [
           "Timothe Luwawu-Cabarrot"
          ],
          [
           "Ben Bentil"
          ],
          [
           "Yogi Ferrell"
          ],
          [
           "Damion Lee"
          ],
          [
           "Sheldon Mac"
          ],
          [
           "Alex Poythress"
          ],
          [
           "Tim Quarterman"
          ],
          [
           "Isaiah Taylor"
          ],
          [
           "Tyrone Wallace"
          ],
          [
           "James Webb III"
          ],
          [
           "Juancho Hernangomez"
          ],
          [
           "Guerschon Yabusele"
          ],
          [
           "Ivica Zubac"
          ],
          [
           "Dorian Finney-Smith"
          ],
          [
           "Fred VanVleet"
          ],
          [
           "Georgios Papagiannis"
          ],
          [
           "Paul Zipser"
          ],
          [
           "Abdel Nader"
          ],
          [
           "Shawn Long"
          ],
          [
           "Mindaugas Kuzminskas"
          ],
          [
           "Nicolas Brussino"
          ],
          [
           "Ryan Arcidiacono"
          ],
          [
           "Bryn Forbes"
          ],
          [
           "Okaro White"
          ],
          [
           "Kyle Collinsworth"
          ],
          [
           "Danuel House Jr."
          ],
          [
           "Patricio Garino"
          ],
          [
           "Marcus Georges-Hunt"
          ],
          [
           "Nicolas Laprovittola"
          ],
          [
           "Jalen Jones"
          ],
          [
           "Derrick Jones Jr."
          ],
          [
           "Shaquille Harrison"
          ],
          [
           "Alex Caruso"
          ],
          [
           "Josh Gray"
          ],
          [
           "Myke Henry"
          ],
          [
           "David Nwaba"
          ],
          [
           "Alfonzo McKinnie"
          ],
          [
           "Jordan Loyd"
          ],
          [
           "Mitchell Creek"
          ],
          [
           "Markelle Fultz"
          ],
          [
           "Lonzo Ball"
          ],
          [
           "Josh Jackson"
          ],
          [
           "De'Aaron Fox"
          ],
          [
           "Jayson Tatum"
          ],
          [
           "Malik Monk"
          ],
          [
           "Jonathan Isaac"
          ],
          [
           "Dennis Smith Jr."
          ],
          [
           "Frank Ntilikina"
          ],
          [
           "Lauri Markkanen"
          ],
          [
           "Donovan Mitchell"
          ],
          [
           "Luke Kennard"
          ],
          [
           "Zach Collins"
          ],
          [
           "John Collins"
          ],
          [
           "Justin Jackson"
          ],
          [
           "Justin Patton"
          ],
          [
           "OG Anunoby"
          ],
          [
           "Harry Giles III"
          ],
          [
           "Jarrett Allen"
          ],
          [
           "TJ Leaf"
          ],
          [
           "Bam Adebayo"
          ],
          [
           "Terrance Ferguson"
          ],
          [
           "D.J. Wilson"
          ],
          [
           "Isaiah Hartenstein"
          ],
          [
           "Jawun Evans"
          ],
          [
           "Anzejs Pasecniks"
          ],
          [
           "Jordan Bell"
          ],
          [
           "Tony Bradley"
          ],
          [
           "Ivan Rabb"
          ],
          [
           "Kyle Kuzma"
          ],
          [
           "Tyler Lydon"
          ],
          [
           "Semi Ojeleye"
          ],
          [
           "Derrick White"
          ],
          [
           "Frank Jackson"
          ],
          [
           "Caleb Swanigan"
          ],
          [
           "Josh Hart"
          ],
          [
           "Johnathan Motley"
          ],
          [
           "Dwayne Bacon"
          ],
          [
           "PJ Dozier"
          ],
          [
           "Alec Peters"
          ],
          [
           "Edmond Sumner"
          ],
          [
           "Wes Iwundu"
          ],
          [
           "Frank Mason"
          ],
          [
           "Jonah Bolden"
          ],
          [
           "Sindarius Thornwell"
          ],
          [
           "Dillon Brooks"
          ],
          [
           "Tyler Dorsey"
          ],
          [
           "Jaron Blossomgame"
          ],
          [
           "Thomas Bryant"
          ],
          [
           "Monte Morris"
          ],
          [
           "Devin Robinson"
          ],
          [
           "Damyean Dotson"
          ],
          [
           "Kobi Simmons"
          ],
          [
           "Sterling Brown"
          ],
          [
           "Vlatko Cancar"
          ],
          [
           "Charles Cooke"
          ],
          [
           "Nigel Williams-Goss"
          ],
          [
           "Davon Reed"
          ],
          [
           "Luke Kornet"
          ],
          [
           "Isaiah Hicks"
          ],
          [
           "Kadeem Allen"
          ],
          [
           "Jabari Bird"
          ],
          [
           "Chris Boucher"
          ],
          [
           "Jacob Wiley"
          ],
          [
           "Mike James"
          ],
          [
           "Milos Teodosic"
          ],
          [
           "Tyler Cavanaugh"
          ],
          [
           "Daniel Theis"
          ],
          [
           "Maxi Kleber"
          ],
          [
           "Antonio Blakeney"
          ],
          [
           "Torrey Craig"
          ],
          [
           "Matt Williams Jr."
          ],
          [
           "Derrick Walton Jr."
          ],
          [
           "Gian Clavell"
          ],
          [
           "Milton Doyle"
          ],
          [
           "Antonius Cleveland"
          ],
          [
           "Nigel Hayes"
          ],
          [
           "Jamel Artis"
          ],
          [
           "Xavier Rathan-Mayes"
          ],
          [
           "Troy Caupain"
          ],
          [
           "London Perrantes"
          ],
          [
           "Andrew White III"
          ],
          [
           "Naz Mitrou-Long"
          ],
          [
           "Isaiah Briscoe"
          ],
          [
           "Jaylen Morris"
          ],
          [
           "Mychal Mulder"
          ],
          [
           "Erik McCree"
          ],
          [
           "Dusty Hannahs"
          ],
          [
           "Billy Garrett"
          ],
          [
           "Rodney Purvis"
          ],
          [
           "Tahjere McCall"
          ],
          [
           "Paul Watson"
          ],
          [
           "Aaron Jackson"
          ],
          [
           "Rawle Alkins"
          ],
          [
           "Grayson Allen"
          ],
          [
           "Marvin Bagley III"
          ],
          [
           "Mo Bamba"
          ],
          [
           "Keita Bates-Diop"
          ],
          [
           "Brian Bowen II"
          ],
          [
           "Mikal Bridges"
          ],
          [
           "Miles Bridges"
          ],
          [
           "Bruce Brown"
          ],
          [
           "Troy Brown Jr."
          ],
          [
           "Jalen Brunson"
          ],
          [
           "Jevon Carter"
          ],
          [
           "Wendell Carter Jr."
          ],
          [
           "Hamidou Diallo"
          ],
          [
           "Donte DiVincenzo"
          ],
          [
           "Trevon Duval"
          ],
          [
           "Jacob Evans"
          ],
          [
           "Bruno Fernando"
          ],
          [
           "Melvin Frazier Jr."
          ],
          [
           "Shai Gilgeous-Alexander"
          ],
          [
           "Devonte' Graham"
          ],
          [
           "Devon Hall"
          ],
          [
           "Kevin Hervey"
          ],
          [
           "Aaron Holiday"
          ],
          [
           "Kevin Huerter"
          ],
          [
           "Chandler Hutchison"
          ],
          [
           "Jaren Jackson Jr."
          ],
          [
           "Alize Johnson"
          ],
          [
           "Kevin Knox II"
          ],
          [
           "Caleb Martin"
          ],
          [
           "Cody Martin"
          ],
          [
           "Yante Maten"
          ],
          [
           "De'Anthony Melton"
          ],
          [
           "Chimezie Metu"
          ],
          [
           "Shake Milton"
          ],
          [
           "Svi Mykhailiuk"
          ],
          [
           "Malik Newman"
          ],
          [
           "Josh Okogie"
          ],
          [
           "Michael Porter Jr."
          ],
          [
           "Jerome Robinson"
          ],
          [
           "Collin Sexton"
          ],
          [
           "Landry Shamet"
          ],
          [
           "Anfernee Simons"
          ],
          [
           "Zhaire Smith"
          ],
          [
           "Omari Spellman"
          ],
          [
           "Khyri Thomas"
          ],
          [
           "Gary Trent Jr."
          ],
          [
           "Allonzo Trier"
          ],
          [
           "Jarred Vanderbilt"
          ],
          [
           "Moritz Wagner"
          ],
          [
           "Lonnie Walker IV"
          ],
          [
           "P.J. Washington"
          ],
          [
           "Kenrich Williams"
          ],
          [
           "Trae Young"
          ],
          [
           "Deandre Ayton"
          ],
          [
           "Luka Doncic"
          ],
          [
           "Theo Pinson"
          ],
          [
           "Ray Spalding"
          ],
          [
           "Carsen Edwards"
          ],
          [
           "Shamorie Ponds"
          ],
          [
           "Bonzie Colson"
          ],
          [
           "Goga Bitadze"
          ],
          [
           "Oshae Brissett"
          ],
          [
           "Vincent Edwards"
          ],
          [
           "Donte Grantham"
          ],
          [
           "Terence Davis"
          ],
          [
           "Dzanan Musa"
          ],
          [
           "Elie Okobo"
          ],
          [
           "Rui Hachimura"
          ],
          [
           "Deng Adel"
          ],
          [
           "Ky Bowman"
          ],
          [
           "Rodions Kurucs"
          ],
          [
           "Isaac Bonga"
          ],
          [
           "Marcus Derrickson"
          ],
          [
           "Brandon Sampson"
          ],
          [
           "Kelan Martin"
          ],
          [
           "Gary Clark"
          ],
          [
           "Wenyen Gabriel"
          ],
          [
           "Thomas Welsh"
          ],
          [
           "Jaylen Adams"
          ],
          [
           "J.P. Macura"
          ],
          [
           "Jared Terrell"
          ],
          [
           "Deonte Burton"
          ],
          [
           "Duncan Robinson"
          ],
          [
           "Daryl Macon"
          ],
          [
           "Kendrick Nunn"
          ],
          [
           "Yuta Watanabe"
          ],
          [
           "Johnathan Williams"
          ],
          [
           "Joe Chealey"
          ],
          [
           "Ryan Broekhoff"
          ],
          [
           "DeVaughn Akoon-Purcell"
          ],
          [
           "Zach Lofton"
          ],
          [
           "Jordan McLaughlin"
          ],
          [
           "Brandon Goodwin"
          ],
          [
           "BJ Johnson"
          ],
          [
           "Chris Chiozza"
          ],
          [
           "Jemerrio Jones"
          ],
          [
           "Gabe Vincent"
          ],
          [
           "Drew Eubanks"
          ],
          [
           "Cameron Reynolds"
          ],
          [
           "Juan Toscano-Anderson"
          ],
          [
           "Haywood Highsmith"
          ],
          [
           "Alen Smailagic"
          ],
          [
           "Isaac Humphries"
          ],
          [
           "Dairis Bertans"
          ],
          [
           "Zylan Cheatham"
          ],
          [
           "Chris Clemons"
          ],
          [
           "Amir Coffey"
          ],
          [
           "Jared Harper"
          ],
          [
           "Dewan Hernandez"
          ],
          [
           "DaQuan Jeffries"
          ],
          [
           "Terance Mann"
          ],
          [
           "Justin Robinson"
          ],
          [
           "Marial Shayok"
          ],
          [
           "Max Strus"
          ],
          [
           "Zion Williamson"
          ],
          [
           "RJ Barrett"
          ],
          [
           "Cam Reddish"
          ],
          [
           "Ja Morant"
          ],
          [
           "De'Andre Hunter"
          ],
          [
           "Coby White"
          ],
          [
           "Jarrett Culver"
          ],
          [
           "Brandon Clarke"
          ],
          [
           "Sekou Doumbouya"
          ],
          [
           "Darius Garland"
          ],
          [
           "Jaxson Hayes"
          ],
          [
           "Nickeil Alexander-Walker"
          ],
          [
           "Tyler Herro"
          ],
          [
           "Keldon Johnson"
          ],
          [
           "Romeo Langford"
          ],
          [
           "Nassir Little"
          ],
          [
           "KZ Okpala"
          ],
          [
           "Kevin Porter Jr."
          ],
          [
           "Darius Bazley"
          ],
          [
           "Jordan Bone"
          ],
          [
           "Ignas Brazdeikis"
          ],
          [
           "Nicolas Claxton"
          ],
          [
           "Luguentz Dort"
          ],
          [
           "Kyle Guy"
          ],
          [
           "Jaylen Hoard"
          ],
          [
           "Talen Horton-Tucker"
          ],
          [
           "Ty Jerome"
          ],
          [
           "Cameron Johnson"
          ],
          [
           "Mfiondu Kabengele"
          ],
          [
           "Louis King"
          ],
          [
           "Jalen Lecque"
          ],
          [
           "Jalen McDaniels"
          ],
          [
           "Zach Norvell Jr."
          ],
          [
           "Jaylen Nowell"
          ],
          [
           "Miye Oni"
          ],
          [
           "Eric Paschall"
          ],
          [
           "Jordan Poole"
          ],
          [
           "Naz Reid"
          ],
          [
           "Luka Samanic"
          ],
          [
           "Admiral Schofield"
          ],
          [
           "Matisse Thybulle"
          ],
          [
           "Tremont Waters"
          ],
          [
           "Quinndary Weatherspoon"
          ],
          [
           "Grant Williams"
          ],
          [
           "Adam Mokoka"
          ],
          [
           "Justin James"
          ],
          [
           "Charles Brown Jr."
          ],
          [
           "John Konchar"
          ],
          [
           "Vic Law"
          ],
          [
           "Jeremiah Martin"
          ],
          [
           "Garrison Mathews"
          ],
          [
           "Rayjon Tucker"
          ],
          [
           "Dean Wade"
          ],
          [
           "Chris Silva"
          ],
          [
           "Vincent Poirier"
          ],
          [
           "William Howard"
          ],
          [
           "Nicolo Melli"
          ],
          [
           "Marko Guduric"
          ],
          [
           "Stanton Kidd"
          ],
          [
           "Matt Thomas"
          ],
          [
           "Tariq Owens"
          ],
          [
           "Javonte Green"
          ],
          [
           "Juwan Morgan"
          ],
          [
           "Matt Mooney"
          ]
         ],
         "hovertemplate": "shooting_percentage=%{x}<br>Attempts=%{y}<br>player_name=%{customdata[0]}<br>cluster=%{marker.color}<extra></extra>",
         "legendgroup": "",
         "marker": {
          "color": [
           3,
           1,
           5,
           0,
           3,
           0,
           4,
           1,
           1,
           4,
           0,
           1,
           0,
           1,
           1,
           1,
           1,
           1,
           1,
           0,
           1,
           0,
           3,
           3,
           3,
           3,
           1,
           1,
           3,
           1,
           0,
           1,
           4,
           3,
           1,
           3,
           1,
           0,
           3,
           4,
           1,
           1,
           3,
           1,
           0,
           3,
           0,
           3,
           2,
           3,
           3,
           1,
           3,
           3,
           1,
           3,
           0,
           2,
           3,
           1,
           0,
           3,
           1,
           1,
           0,
           4,
           1,
           3,
           1,
           0,
           4,
           4,
           1,
           3,
           0,
           1,
           3,
           3,
           3,
           3,
           3,
           3,
           3,
           3,
           4,
           2,
           3,
           3,
           1,
           1,
           2,
           1,
           1,
           1,
           1,
           4,
           3,
           0,
           3,
           1,
           0,
           1,
           1,
           1,
           1,
           3,
           0,
           1,
           4,
           1,
           4,
           3,
           4,
           1,
           3,
           0,
           1,
           3,
           4,
           1,
           3,
           3,
           1,
           4,
           1,
           4,
           1,
           1,
           4,
           1,
           4,
           0,
           1,
           3,
           1,
           3,
           0,
           2,
           3,
           4,
           1,
           1,
           4,
           3,
           3,
           0,
           3,
           0,
           1,
           1,
           0,
           1,
           3,
           2,
           1,
           3,
           3,
           3,
           4,
           1,
           4,
           0,
           1,
           3,
           1,
           1,
           4,
           3,
           1,
           1,
           0,
           3,
           1,
           1,
           3,
           1,
           0,
           2,
           1,
           0,
           4,
           1,
           4,
           1,
           1,
           2,
           2,
           1,
           1,
           3,
           4,
           1,
           3,
           1,
           1,
           4,
           1,
           1,
           2,
           3,
           3,
           1,
           1,
           0,
           3,
           0,
           1,
           1,
           2,
           1,
           3,
           1,
           1,
           4,
           4,
           4,
           4,
           1,
           4,
           1,
           3,
           1,
           3,
           3,
           1,
           3,
           0,
           0,
           0,
           4,
           1,
           3,
           1,
           4,
           1,
           1,
           2,
           1,
           0,
           0,
           3,
           3,
           1,
           1,
           4,
           1,
           3,
           0,
           1,
           0,
           1,
           4,
           1,
           1,
           4,
           3,
           3,
           4,
           3,
           3,
           3,
           1,
           1,
           1,
           4,
           1,
           1,
           3,
           1,
           1,
           1,
           1,
           3,
           4,
           4,
           1,
           3,
           3,
           1,
           3,
           2,
           3,
           1,
           4,
           1,
           1,
           3,
           4,
           1,
           3,
           4,
           3,
           1,
           3,
           4,
           3,
           3,
           3,
           0,
           1,
           3,
           3,
           1,
           1,
           2,
           0,
           1,
           4,
           4,
           3,
           2,
           1,
           0,
           1,
           2,
           1,
           4,
           1,
           3,
           3,
           0,
           1,
           1,
           1,
           0,
           0,
           3,
           1,
           0,
           1,
           1,
           3,
           3,
           3,
           1,
           1,
           3,
           2,
           3,
           3,
           3,
           0,
           4,
           3,
           3,
           3,
           3,
           2,
           4,
           4,
           3,
           4,
           1,
           1,
           4,
           4,
           1,
           1,
           3,
           1,
           3,
           3,
           3,
           4,
           1,
           3,
           1,
           3,
           3,
           1,
           4,
           3,
           1,
           1,
           0,
           4,
           3,
           3,
           4,
           3,
           3,
           3,
           0,
           3,
           1,
           4,
           3,
           0,
           0,
           3,
           3,
           0,
           3,
           1,
           1,
           3,
           4,
           1,
           2,
           4,
           4,
           0,
           1,
           1,
           1,
           1,
           1,
           3,
           3,
           3,
           3,
           3,
           4,
           1,
           1,
           3,
           1,
           3,
           3,
           3,
           1,
           2,
           4,
           1,
           3,
           1,
           3,
           4,
           1,
           3,
           1,
           1,
           3,
           1,
           1,
           3,
           3,
           3,
           0,
           0,
           0,
           0,
           3,
           0,
           1,
           4,
           1,
           1,
           1,
           1,
           3,
           3,
           3,
           5,
           3,
           0,
           3,
           1,
           3,
           3,
           4,
           1,
           1,
           3,
           3,
           3,
           3,
           3,
           3,
           4,
           3,
           3,
           3,
           1,
           3,
           3,
           4,
           3,
           1,
           1,
           3,
           3,
           4,
           3,
           3,
           0,
           1,
           4,
           3,
           2,
           3,
           1,
           3,
           1,
           3,
           3,
           1,
           3,
           4,
           0,
           3,
           3,
           2,
           4,
           5,
           1,
           1,
           1,
           4,
           1,
           3,
           3,
           0,
           3,
           0,
           3,
           1,
           0,
           1,
           3,
           1,
           1,
           3,
           1,
           3,
           3,
           3,
           3,
           1,
           1,
           4,
           3,
           0,
           0,
           3,
           3,
           4,
           1,
           3,
           0,
           3,
           3,
           3,
           1,
           3,
           1,
           0,
           3,
           1,
           1,
           4,
           3,
           3,
           3,
           3,
           4,
           3,
           3,
           3,
           3,
           1,
           4,
           4,
           1,
           4,
           3,
           0,
           3,
           1,
           3,
           1,
           4,
           1,
           0,
           1,
           1,
           1,
           3,
           4,
           3,
           3,
           3,
           3,
           3,
           3,
           3,
           3,
           0,
           1,
           1,
           1,
           3,
           0,
           1,
           3,
           3,
           5,
           3,
           0,
           4,
           4,
           2,
           4,
           0,
           3,
           1,
           1,
           4,
           1,
           1,
           3,
           0,
           0,
           1,
           4,
           3,
           4,
           3,
           3,
           1,
           0,
           3,
           1,
           3,
           3,
           1,
           3,
           1,
           1,
           0,
           3,
           1,
           3,
           3,
           3,
           4,
           1,
           3,
           1,
           3,
           1,
           1,
           4,
           1,
           1,
           1,
           1,
           3,
           1,
           0,
           1,
           1,
           0,
           3,
           4,
           1,
           1,
           3,
           3,
           1,
           3,
           1,
           3,
           4,
           3,
           3,
           1,
           3,
           1,
           2,
           1,
           1,
           4,
           3,
           0,
           3,
           4,
           3,
           0,
           3,
           3,
           5,
           3,
           5,
           0,
           1,
           3,
           3,
           3,
           3,
           2,
           1,
           3,
           3,
           4,
           3,
           0,
           3,
           1,
           4,
           1,
           3,
           0,
           3,
           3,
           1,
           3,
           3,
           4,
           3,
           4,
           0,
           3,
           4,
           3,
           1,
           3,
           3,
           1,
           3,
           3,
           0,
           3,
           3,
           1,
           3,
           1,
           3,
           3,
           3,
           1,
           1,
           3,
           3,
           3,
           3,
           1,
           1,
           0,
           1,
           1,
           3,
           3,
           3,
           3,
           3,
           3,
           1,
           3,
           0,
           1,
           4,
           0,
           1,
           3,
           3,
           1,
           1,
           1,
           4,
           3,
           3,
           4,
           0,
           3,
           1,
           1,
           3,
           3,
           3,
           3,
           1,
           3,
           3,
           3,
           0,
           3,
           4,
           1,
           1,
           4,
           4,
           1,
           1,
           1,
           4,
           4,
           1,
           3,
           1,
           1,
           0,
           1,
           0,
           0,
           3,
           0,
           1,
           3,
           3,
           3,
           0,
           3,
           3,
           3,
           4,
           3,
           3,
           1,
           1,
           0,
           4,
           3,
           3,
           3,
           1,
           3,
           3,
           3,
           3,
           3,
           4,
           1,
           3,
           3,
           1,
           0,
           1,
           3,
           1,
           0,
           0,
           0,
           3,
           1,
           3,
           3,
           3,
           3,
           3,
           1,
           4,
           1,
           3,
           1,
           1,
           1,
           3,
           3,
           1,
           3,
           3,
           3,
           1,
           0,
           5,
           0,
           1,
           3,
           3,
           3,
           4,
           0,
           3,
           0,
           1,
           0,
           0,
           3,
           3,
           1,
           3,
           3,
           1,
           0,
           1,
           1,
           3,
           3,
           1,
           1,
           3,
           3,
           1,
           5,
           3,
           0,
           3,
           1,
           4,
           0,
           0,
           1,
           4,
           3,
           4,
           3,
           1,
           1,
           3,
           0,
           3,
           0,
           1,
           4,
           0,
           1,
           1,
           3,
           1,
           4,
           1,
           1,
           1,
           3,
           1,
           1,
           0,
           3,
           3,
           1,
           1,
           4,
           0,
           4,
           1,
           0,
           3,
           3,
           1,
           0,
           3,
           3,
           0,
           1,
           3,
           3,
           3,
           3,
           1,
           1,
           3,
           1,
           3,
           1,
           1,
           3,
           1,
           1,
           0,
           3,
           3,
           4,
           1,
           4,
           3,
           2,
           0,
           1,
           0,
           0,
           1,
           1,
           3,
           1,
           3,
           4,
           5,
           1,
           3,
           3,
           3,
           1,
           1,
           0,
           1,
           0,
           0,
           0,
           3,
           3,
           1,
           1,
           0,
           3,
           1,
           4,
           1,
           4,
           4,
           1,
           3,
           1,
           4,
           2,
           1,
           4,
           3,
           3,
           3,
           0,
           1,
           1,
           3,
           0,
           0,
           1,
           0,
           0,
           0,
           3,
           4,
           3,
           3,
           0,
           3,
           1,
           0,
           0,
           3,
           4,
           1,
           0,
           1,
           1,
           3,
           0,
           3,
           3,
           3,
           3,
           3,
           0,
           0,
           1,
           0,
           3,
           0,
           1,
           0,
           1,
           3,
           0,
           1,
           0,
           3,
           3,
           0
          ],
          "coloraxis": "coloraxis",
          "symbol": "circle"
         },
         "mode": "markers",
         "name": "",
         "showlegend": false,
         "type": "scattergl",
         "x": [
          0.2727272727272727,
          0.2796208530805687,
          1,
          0.1111111111111111,
          0.21428571428571427,
          0,
          0.3899018232819074,
          0.41379310344827586,
          0.38095238095238093,
          0.2842809364548495,
          0.09523809523809523,
          0.3402777777777778,
          0,
          0.248,
          0.3526570048309179,
          0.36844636844636847,
          0.37845010615711255,
          0.3687064291247095,
          0.30656934306569344,
          0,
          0.3482758620689655,
          0,
          0.2727272727272727,
          0.2894736842105263,
          0.325,
          0.32616487455197135,
          0.37767584097859325,
          0.3049645390070922,
          0.2976190476190476,
          0.3543307086614173,
          0,
          0.4206896551724138,
          0.3422546634225466,
          0.4,
          0.38596491228070173,
          0.3333333333333333,
          0.33035714285714285,
          0,
          0.4005235602094241,
          0.3,
          0.3754863813229572,
          0.37062205959226346,
          0.2857142857142857,
          0.3875968992248062,
          0,
          0.26785714285714285,
          0,
          0.28342245989304815,
          0,
          0.24719101123595505,
          0.3511450381679389,
          0.3769230769230769,
          0.21739130434782608,
          0.2826086956521739,
          0.4078014184397163,
          0.3288590604026846,
          0.17857142857142858,
          0,
          0.2,
          0.37128072445019406,
          0,
          0.3472803347280335,
          0.36658354114713215,
          0.42748091603053434,
          0,
          0.33273273273273274,
          0.3816155988857939,
          0.35447761194029853,
          0.38764044943820225,
          0,
          0.3541004450095359,
          0.3580605055946954,
          0.36150845253576075,
          0.30445544554455445,
          0.14285714285714285,
          0.3682539682539683,
          0.16666666666666666,
          0.2558139534883721,
          0.3215434083601286,
          0.28888888888888886,
          0.2857142857142857,
          0.2222222222222222,
          0.3391304347826087,
          0.3333333333333333,
          0.379746835443038,
          0,
          0.3629807692307692,
          0.35294117647058826,
          0.3684210526315789,
          0.3681159420289855,
          0,
          0.33157894736842103,
          0.39841688654353563,
          0.35294117647058826,
          0.39194139194139194,
          0.43665018541409145,
          0.23076923076923078,
          0.09090909090909091,
          0.20588235294117646,
          0.36129032258064514,
          0.13513513513513514,
          0.33088774761555395,
          0.33030852994555354,
          0.34278180619644033,
          0.3208955223880597,
          0.31868131868131866,
          0.14705882352941177,
          0.29504504504504503,
          0.38071236559139787,
          0.36594202898550726,
          0.34797768479776847,
          0.2719298245614035,
          0.388641425389755,
          0.3470319634703196,
          0.334375,
          0,
          0.42857142857142855,
          0.3125,
          0.3615216201423098,
          0.5,
          0.3076923076923077,
          0.3333333333333333,
          0.3722963644730787,
          0.37467700258397935,
          0.3263254113345521,
          0.3897810218978102,
          0.32171156893819336,
          0.39397664413030115,
          0.3739782016348774,
          0.32786885245901637,
          0.36097773897861196,
          0,
          0.37132987910189985,
          0.3176470588235294,
          0.3480392156862745,
          0.3333333333333333,
          0.17391304347826086,
          0,
          0.27906976744186046,
          0.3656224237427865,
          0.3632286995515695,
          0.30434782608695654,
          0.3518242740134028,
          0.3076923076923077,
          0.23880597014925373,
          0,
          0.33116883116883117,
          0.14285714285714285,
          0.30158730158730157,
          0.42441860465116277,
          0,
          0.33877038895859474,
          0.28,
          0,
          0.3492822966507177,
          0.29015544041450775,
          0.33271028037383177,
          0.375,
          0.3592814371257485,
          0.34489937543372656,
          0.41824249165739713,
          0,
          0.3538788522848034,
          0.25,
          0.3475409836065574,
          0.3386923901393355,
          0.3731713364740888,
          0.23076923076923078,
          0.39751552795031053,
          0.36254980079681276,
          0,
          0.3125,
          0.41204819277108434,
          0.36860407352210633,
          0.20930232558139536,
          0.339273474982865,
          0,
          0,
          0.3481053307642903,
          0,
          0.3824584284316922,
          0.3692741367159972,
          0.36747252747252745,
          0.3333333333333333,
          0.26787181594083814,
          0,
          0,
          0.37027027027027026,
          0.3295154185022026,
          0.3181818181818182,
          0.3732558139534884,
          0.3688663282571912,
          0.3480392156862745,
          0.2318840579710145,
          0.3859784283513097,
          0.34844192634560905,
          0.3705220061412487,
          0.3783112582781457,
          0.14285714285714285,
          0.5,
          0.25,
          0.3417190775681342,
          0.36427939876215737,
          0,
          0.31567328918322296,
          0,
          0.3713405238828968,
          0.38838084991931143,
          0,
          0.4166666666666667,
          0.3507692307692308,
          0.3577981651376147,
          0.3074433656957929,
          0.30520833333333336,
          0.37780040733197556,
          0.38897243107769425,
          0.3700227531285552,
          0.384807596201899,
          0.3372670807453416,
          0.36390243902439023,
          0.29411764705882354,
          0.3687150837988827,
          0.26865671641791045,
          0.3013698630136986,
          0.36574746008708275,
          0.23076923076923078,
          0.16666666666666666,
          0,
          0,
          0.37155963302752293,
          0.3921433494141971,
          0.5,
          0.363022113022113,
          0.35021938571998407,
          0.3870967741935484,
          0.36017897091722595,
          0,
          0.3415492957746479,
          0.125,
          0,
          0.33949579831932775,
          0.375,
          0.38095238095238093,
          0.3653658536585366,
          0.3409090909090909,
          0.40592930444697833,
          0.3488372093023256,
          0,
          0.36964980544747084,
          0,
          0.33913764510779437,
          0.3577535624476111,
          0.34913793103448276,
          0.3234880450070324,
          0.42674180327868855,
          0.23076923076923078,
          0.2881976212259835,
          0.3402061855670103,
          0.2777777777777778,
          0.334855403348554,
          0.21428571428571427,
          0.3319838056680162,
          0.34554973821989526,
          0.3188248095756257,
          0.34776119402985073,
          0.34491315136476425,
          0.35603892386949054,
          0.3548387096774194,
          0.40172278778386844,
          0.3746312684365782,
          0.35428571428571426,
          0.35,
          0.22522522522522523,
          0.3601800900450225,
          0.37745740498034075,
          0.3410041841004184,
          0.30303030303030304,
          0.4,
          0.3540983606557377,
          0.375,
          0,
          0.3739130434782609,
          0.3712871287128713,
          0.37826755509994875,
          0.35553470919324576,
          0.3366093366093366,
          0.3076923076923077,
          0.39969278033794164,
          0.32019704433497537,
          0.34615384615384615,
          0.38714390065741416,
          0.38461538461538464,
          0.3482849604221636,
          0.5,
          0.37478361223312173,
          0.32616487455197135,
          0.2903225806451613,
          0.28125,
          0,
          0.32782874617737,
          0.29238329238329236,
          0.20994475138121546,
          0.33556547619047616,
          0.33697813121272363,
          0,
          0.10526315789473684,
          0.3462515883100381,
          0.365272373540856,
          0.3811311311311311,
          0.32954545454545453,
          0,
          0.36816524908869985,
          0,
          0.4079601990049751,
          0,
          0.33796296296296297,
          0.3618421052631579,
          0.3155737704918033,
          0.3129251700680272,
          0.30327868852459017,
          0,
          0.3618421052631579,
          0.34450651769087526,
          0.35855263157894735,
          0,
          0,
          0.32,
          0.3946360153256705,
          0.16666666666666666,
          0.3189873417721519,
          0.5,
          0.25,
          0.3236363636363636,
          0.1896551724137931,
          0.3516320474777448,
          0.34364548494983277,
          0.31776913099870296,
          0,
          0.27884615384615385,
          0.3181818181818182,
          0.38516746411483255,
          0,
          0.3901023890784983,
          0.30197268588770865,
          0.2754491017964072,
          0.2903225806451613,
          0.36018957345971564,
          0,
          0.34298300818124605,
          0.36421725239616615,
          0.37083333333333335,
          0.420012746972594,
          0.36363636363636365,
          0.34334763948497854,
          0.3704312114989733,
          0.38684807256235826,
          0.3299492385786802,
          0.346843853820598,
          0.3076923076923077,
          0.3644067796610169,
          0.30317848410757947,
          0.3333333333333333,
          0.2391304347826087,
          0.3548895899053628,
          0.3404147698533131,
          0.3815789473684211,
          0.35517241379310344,
          0.343042071197411,
          0.33406113537117904,
          0.33784579164214246,
          0.39100932994062765,
          0.375,
          0.36315086782376504,
          0.33475935828877007,
          0,
          0.3760252365930599,
          0.33064516129032256,
          0.27722772277227725,
          0.40717628705148207,
          0.375,
          0.15789473684210525,
          0.3333333333333333,
          0.13333333333333333,
          0.35772357723577236,
          0.39049103663289164,
          0.35833333333333334,
          0.3698630136986301,
          0,
          0,
          0.4,
          0.4,
          0.09090909090909091,
          0.38461538461538464,
          0.5,
          0.3189873417721519,
          0.26262626262626265,
          0.38198303597543143,
          0.35136855506047104,
          0,
          0.3700081499592502,
          0.3704474505723205,
          0.13592233009708737,
          0.3738361266294227,
          0.35076748152359294,
          0.3986175115207373,
          0.33607118412046544,
          0.3724340175953079,
          0.25,
          0.32276119402985076,
          0.29411764705882354,
          0.2852760736196319,
          0.3210332103321033,
          0.37394110528438884,
          0.2746212121212121,
          0.36303630363036304,
          0.288135593220339,
          0.23013698630136986,
          0.29545454545454547,
          0.2127659574468085,
          0.31382978723404253,
          0.3665338645418327,
          0,
          0.3368185212845407,
          0.3200775945683802,
          0.3116883116883117,
          0.3505747126436782,
          0.29464285714285715,
          0.396249490419894,
          0.3479289940828402,
          0.36363636363636365,
          0.4107142857142857,
          0.3609422492401216,
          0.18181818181818182,
          0.3090909090909091,
          0.38317757009345793,
          0.25,
          0.2907801418439716,
          0.22627737226277372,
          0,
          0,
          0,
          0,
          0.34285714285714286,
          0,
          0.3861702127659574,
          0.3705685618729097,
          0.36511627906976746,
          0.37722419928825623,
          0.2982456140350877,
          0.3442253521126761,
          0.2857142857142857,
          0.3505338078291815,
          0.17391304347826086,
          1,
          0.2,
          0,
          0.3333333333333333,
          0.30678466076696165,
          0.35454545454545455,
          0.2413793103448276,
          0.3622508792497069,
          0.3728129205921938,
          0.32,
          0.17647058823529413,
          0.4166666666666667,
          0.25,
          0.33797909407665505,
          0.2857142857142857,
          0.3298245614035088,
          0.3870967741935484,
          0.2679324894514768,
          0.2608695652173913,
          0.23684210526315788,
          0.3627450980392157,
          0.2777777777777778,
          0.4,
          0.39710144927536234,
          0.24778761061946902,
          0.3364849833147942,
          0.33261802575107297,
          0.28846153846153844,
          0.344311377245509,
          0.35132575757575757,
          0.46153846153846156,
          0.5,
          0.14285714285714285,
          0.3735483870967742,
          0.35059288537549405,
          0.18018018018018017,
          0.0625,
          0.2534142640364188,
          0.36103542234332425,
          0.2608695652173913,
          0.4004149377593361,
          0.28,
          0.33490566037735847,
          0.3856589147286822,
          0.37142857142857144,
          0.3576107899807322,
          0,
          0.3248081841432225,
          0.3342541436464088,
          0.08333333333333333,
          0.351310861423221,
          1,
          0.384297520661157,
          0.34243542435424357,
          0.15384615384615385,
          0.3499214248297538,
          0.287215411558669,
          0.2818181818181818,
          0.2727272727272727,
          0.06666666666666667,
          0.2647058823529412,
          0,
          0.25263157894736843,
          0.34942820838627703,
          0.16666666666666666,
          0.36698717948717946,
          0.2,
          0.36069651741293535,
          0.3442437923250564,
          0.37922077922077924,
          0.3157894736842105,
          0.28160919540229884,
          0.21739130434782608,
          0.30864197530864196,
          0.3,
          0.30423940149625933,
          0.34096692111959287,
          0.441233140655106,
          0.22727272727272727,
          0,
          0,
          0.2222222222222222,
          0.2,
          0.39617292700212614,
          0.3357142857142857,
          0.31952662721893493,
          0,
          0.5,
          0.34615384615384615,
          0.2872340425531915,
          0.29455445544554454,
          0.2222222222222222,
          0.3333333333333333,
          0,
          0.1875,
          0.3473053892215569,
          0.3574468085106383,
          0.3753631609529343,
          0.3145539906103286,
          0.2916666666666667,
          0.28990825688073396,
          0.19696969696969696,
          0.33776867963152507,
          0.2222222222222222,
          0.29098360655737704,
          0.21428571428571427,
          0.3392857142857143,
          0.3709677419354839,
          0.3603082851637765,
          0.31931575196008555,
          0.35362578334825423,
          0.36589698046181174,
          0.4074074074074074,
          0,
          0.26262626262626265,
          0.3710691823899371,
          0.2781456953642384,
          0.3488372093023256,
          0.4197786998616874,
          0.41248972884141333,
          0.125,
          0.33506044905008636,
          0.3191948238677211,
          0.3499222395023328,
          0.2413793103448276,
          0.3162094763092269,
          0.3035019455252918,
          0.29261363636363635,
          0.2542372881355932,
          0.30743243243243246,
          0.29473684210526313,
          0.2,
          0.36,
          0.3181818181818182,
          0,
          0.33232077764277035,
          0.323943661971831,
          0.31965174129353235,
          0.30434782608695654,
          0,
          0.3081081081081081,
          0.16666666666666666,
          0.25333333333333335,
          1,
          0.31496062992125984,
          0.125,
          0.42857142857142855,
          0.3561746987951807,
          0,
          0.3700277520814061,
          0.06976744186046512,
          0.25,
          0.31413612565445026,
          0.3412322274881517,
          0.3568935427574171,
          0.3732394366197183,
          0.36095238095238097,
          0.3316062176165803,
          0.14285714285714285,
          0,
          0.36363636363636365,
          0.3666465984346779,
          0.21428571428571427,
          0.40572792362768495,
          0.5,
          0.2972972972972973,
          0.2923076923076923,
          0,
          0.30303030303030304,
          0.3333333333333333,
          0.3371212121212121,
          0.23529411764705882,
          0.3234597156398104,
          0.3431952662721893,
          0.3,
          0.2857142857142857,
          0.09803921568627451,
          0.2976190476190476,
          0.21818181818181817,
          0.3477406679764244,
          0.2903225806451613,
          0.2920634920634921,
          0.3557015485687471,
          0.3953488372093023,
          0.2565789473684211,
          0.3377926421404682,
          0.21052631578947367,
          0.32806621519939805,
          0.34790528233151186,
          0.3550488599348534,
          0.3289817232375979,
          0.34986595174262736,
          0.34093376764386535,
          0.2946859903381642,
          0.3162705667276051,
          0.36220472440944884,
          0.14285714285714285,
          0.31954887218045114,
          0.36813186813186816,
          0.11764705882352941,
          0.21782178217821782,
          0.36528822055137844,
          0.36085626911314983,
          0.3780487804878049,
          0.3439153439153439,
          0.25,
          0.3926247288503254,
          0.30612244897959184,
          0.33987915407854985,
          0.32954545454545453,
          0.3613267466478476,
          0.30392156862745096,
          0.2971014492753623,
          0.32697547683923706,
          0.3238095238095238,
          0.32112332112332115,
          0,
          0.375,
          0.3776978417266187,
          0.36248415716096327,
          0.2727272727272727,
          0,
          0.2857142857142857,
          0.4,
          0.3181818181818182,
          0.14285714285714285,
          0.2926829268292683,
          0.373134328358209,
          1,
          0.25,
          1,
          0,
          0.3684210526315789,
          0.31063829787234043,
          0.5,
          0.19230769230769232,
          0.20833333333333334,
          0.08333333333333333,
          0.32332155477031804,
          0.3150684931506849,
          0.2702702702702703,
          0.38902147971360385,
          0.2895238095238095,
          0,
          0.3060240963855422,
          0.34306569343065696,
          0.41119221411192214,
          0.3578231292517007,
          0.2857142857142857,
          0,
          0.2222222222222222,
          0.3448275862068966,
          0.3458646616541353,
          0.31264367816091954,
          0.358974358974359,
          0.3578214059531349,
          0.25,
          0.36542835481425323,
          0.10526315789473684,
          0.28,
          0.3657858136300417,
          0.2595419847328244,
          0.36860068259385664,
          0.2692307692307692,
          0.2,
          0.3829296424452134,
          0.3333333333333333,
          0.2682926829268293,
          0,
          0.35714285714285715,
          0.5,
          0.30606060606060603,
          0.3069908814589666,
          0.39184952978056425,
          0.25,
          0.25609756097560976,
          0.3010752688172043,
          0.3373134328358209,
          0.3282051282051282,
          0.23076923076923078,
          0.30538922155688625,
          0.28859060402684567,
          0.35714285714285715,
          0.3737166324435318,
          0.3284132841328413,
          0,
          0.3652058432934927,
          0.3460490463215259,
          0.2647058823529412,
          0.3584905660377358,
          0.35294117647058826,
          0.24096385542168675,
          0.20270270270270271,
          0.21052631578947367,
          0.36,
          0.2916666666666667,
          0,
          0.3268983268983269,
          0.3886255924170616,
          0,
          0.3377777777777778,
          0.34306569343065696,
          0.3684210526315789,
          0.32142857142857145,
          0.29896907216494845,
          0.37305699481865284,
          0.3994661921708185,
          0.3404255319148936,
          0.23529411764705882,
          0.3633217993079585,
          0,
          0.29411764705882354,
          0.37037037037037035,
          0.37037037037037035,
          0.2764227642276423,
          0.2929936305732484,
          0.375,
          0.23076923076923078,
          0.3275862068965517,
          0.34591194968553457,
          0.3080357142857143,
          0.5,
          0,
          0.2556390977443609,
          0.3431151241534989,
          0.29766536964980544,
          0.3345724907063197,
          0.3916279069767442,
          0.32175032175032175,
          0.3215130023640662,
          0.3144758735440932,
          0.3105134474327628,
          0.35619047619047617,
          0.35,
          0.40634441087613293,
          0.3188405797101449,
          0.3693181818181818,
          0.3253012048192771,
          0.16666666666666666,
          0.3654743390357698,
          0,
          0.16923076923076924,
          0.3522727272727273,
          0.1111111111111111,
          0.3424657534246575,
          0.328125,
          0.18181818181818182,
          0.2631578947368421,
          0,
          0.21052631578947367,
          0.5,
          0.2,
          0.3269230769230769,
          0.4,
          0.3333333333333333,
          0.3562874251497006,
          0.31833910034602075,
          0.1111111111111111,
          0.3530150753768844,
          0.2,
          0.34517766497461927,
          0.25,
          0.3103448275862069,
          0.26153846153846155,
          0.30845771144278605,
          0.29375,
          0.3275862068965517,
          0.34177215189873417,
          0.3640483383685801,
          0.3504531722054381,
          0.2564102564102564,
          0.34355828220858897,
          0.38441558441558443,
          0,
          0.3612565445026178,
          0.28205128205128205,
          0.34308510638297873,
          0.16666666666666666,
          0.125,
          0,
          0.30952380952380953,
          0.3394736842105263,
          0.2222222222222222,
          0.3492063492063492,
          0.42857142857142855,
          0.29285714285714287,
          0.5,
          0.2653061224489796,
          0.3783783783783784,
          0.35106382978723405,
          0.33653846153846156,
          0.35443037974683544,
          0.35664335664335667,
          0.3350383631713555,
          0.2,
          0.4146341463414634,
          0.4,
          0.17391304347826086,
          0.6,
          0.25,
          0.27586206896551724,
          0.07142857142857142,
          0.6666666666666666,
          0,
          0.3673469387755102,
          0.21739130434782608,
          0.3235294117647059,
          0.23076923076923078,
          0.3076923076923077,
          0,
          0.25,
          0,
          0.25,
          0,
          0,
          0.16666666666666666,
          0.25,
          0.33678756476683935,
          0.288135593220339,
          0.3333333333333333,
          0.3013698630136986,
          0,
          0.3411016949152542,
          0.328,
          0.29896907216494845,
          0.3364485981308411,
          0.3521594684385382,
          0.365296803652968,
          0.19672131147540983,
          0.1864406779661017,
          0.3223684210526316,
          1,
          0.32142857142857145,
          0.13513513513513514,
          0.3076923076923077,
          0.3641160949868074,
          0.35694050991501414,
          0,
          0,
          0.37349397590361444,
          0.38282387190684136,
          0.29545454545454547,
          0.38589211618257263,
          0.5,
          0.33747779751332146,
          0.5405405405405406,
          0.23376623376623376,
          0,
          0.3113207547169811,
          0,
          0.41333333333333333,
          0.3850267379679144,
          0,
          0.27371273712737126,
          0.4215686274509804,
          0.31137724550898205,
          0.39201451905626133,
          0.40575539568345326,
          0.336,
          0.3157894736842105,
          0.36554621848739494,
          0.3018867924528302,
          0.3738738738738739,
          0.3837837837837838,
          0,
          0.3125,
          0.4,
          0.3739130434782609,
          0.3055555555555556,
          0.3438095238095238,
          0,
          0.32238805970149254,
          0.22556390977443608,
          0,
          0.3088235294117647,
          0.5,
          0.23809523809523808,
          0.16666666666666666,
          0.2,
          0.25,
          0,
          0.3963963963963964,
          0.21052631578947367,
          0.31527093596059114,
          0.273972602739726,
          0.2608695652173913,
          0.308411214953271,
          0.33073929961089493,
          0.3492063492063492,
          0.5,
          0.3793103448275862,
          0.2604166666666667,
          0.3080357142857143,
          0.3,
          0.42857142857142855,
          0.33783783783783783,
          0,
          0.23529411764705882,
          0.24,
          0.43771626297577854,
          0.46153846153846156,
          0.36187845303867405,
          0.20833333333333334,
          0,
          0,
          0.4027777777777778,
          0,
          0,
          0.3815789473684211,
          0.3010752688172043,
          0.3076923076923077,
          0.43478260869565216,
          0.2,
          0.25,
          1,
          0.4117647058823529,
          0.34782608695652173,
          0.2,
          0.23076923076923078,
          0.2727272727272727,
          0.29411764705882354,
          0,
          0.35106382978723405,
          0.14285714285714285,
          0,
          0,
          0.25,
          0.25,
          0.6,
          0.3333333333333333,
          0,
          0.46153846153846156,
          0.3197969543147208,
          0.332,
          0.3669064748201439,
          0.35526315789473684,
          0.3537234042553192,
          0.2986425339366516,
          0.40384615384615385,
          0.2857142857142857,
          0.3547297297297297,
          0.25,
          0.3418803418803419,
          0.391304347826087,
          0.4,
          0.21739130434782608,
          0.23728813559322035,
          0,
          0.33544303797468356,
          0.3,
          0.2,
          0.1111111111111111,
          0.14285714285714285,
          0.3013698630136986,
          0,
          0,
          0,
          0.2765957446808511,
          0.39737991266375544,
          0.45,
          0.36363636363636365,
          0,
          0.375,
          0.375,
          0.11538461538461539,
          0,
          0.2868217054263566,
          0.2792452830188679,
          0.32989690721649484,
          0,
          0.2978723404255319,
          0.352112676056338,
          0.17647058823529413,
          0,
          0.24705882352941178,
          0.4,
          0.34615384615384615,
          0.3333333333333333,
          0.4444444444444444,
          0,
          0,
          0.41304347826086957,
          0,
          0.5,
          0,
          0.5,
          0,
          0.3611111111111111,
          0.30864197530864196,
          0,
          0.4666666666666667,
          0,
          0.2608695652173913,
          0.2,
          0
         ],
         "xaxis": "x",
         "y": [
          1.2222222222222223,
          3.6379310344827585,
          1,
          1.125,
          1.75,
          1,
          4.321212121212121,
          2.5892857142857144,
          3.024,
          5.98,
          1.05,
          3.6,
          1.5,
          3.048780487804878,
          2.9571428571428573,
          3.952471482889734,
          4.060344827586207,
          4.047021943573668,
          2.9782608695652173,
          1,
          3.0208333333333335,
          1,
          1.6923076923076923,
          1.7272727272727273,
          1.3186813186813187,
          2.0364963503649633,
          3.5934065934065935,
          3.710526315789474,
          2,
          3.5774647887323945,
          1,
          2.9,
          4.706106870229007,
          1.7857142857142858,
          2.814814814814815,
          2.25,
          3.2,
          1,
          1.6977777777777778,
          4.814814814814815,
          3.697841726618705,
          4.122844827586207,
          2.1,
          2.6955223880597017,
          1.5,
          1.7142857142857142,
          1,
          2.2,
          1,
          2.3421052631578947,
          1.6529968454258674,
          3.25,
          1.2105263157894737,
          1.0952380952380953,
          3.785234899328859,
          1.8860759493670887,
          1,
          1,
          1,
          3.6985645933014353,
          1,
          1.5723684210526316,
          3.0150375939849625,
          2.425925925925926,
          1,
          4.416445623342175,
          2.6791044776119404,
          1.900709219858156,
          3.7872340425531914,
          1,
          4.832565284178187,
          5.291666666666667,
          3.272340425531915,
          2.4191616766467066,
          1.1666666666666667,
          2.9716981132075473,
          2.4,
          1.4576271186440677,
          2.2214285714285715,
          1.1688311688311688,
          2.1538461538461537,
          1.44,
          1.929530201342282,
          2.108108108108108,
          6.32,
          1,
          2.0194174757281553,
          1.8214285714285714,
          3.234042553191489,
          2.6136363636363638,
          1,
          3.8,
          2.283132530120482,
          3.8636363636363638,
          2.9197860962566846,
          5.3487603305785125,
          1.6956521739130435,
          1.2941176470588236,
          1,
          3.0097087378640777,
          1.0277777777777777,
          3.2452380952380953,
          3.2222222222222223,
          2.9005736137667304,
          3.1904761904761907,
          1.8958333333333333,
          1.0303030303030303,
          3.2527472527472527,
          6.1360824742268045,
          3.5612903225806454,
          4.453416149068323,
          1.3333333333333333,
          4.29665071770335,
          2.8076923076923075,
          1.7486338797814207,
          1,
          2.1875,
          2,
          6.049668874172186,
          2,
          1.9696969696969697,
          1,
          3.994485294117647,
          4.846153846153846,
          2.7979539641943734,
          4.3081761006289305,
          3.525139664804469,
          4.0879396984924625,
          4.292397660818714,
          2.8705882352941177,
          5.057395143487859,
          1,
          3.9657534246575343,
          2.446043165467626,
          4,
          1,
          1.393939393939394,
          1,
          1.131578947368421,
          5.427293064876958,
          3.4110898661567877,
          3.338709677419355,
          5.077504725897921,
          1.8571428571428572,
          1.3673469387755102,
          2,
          1.4807692307692308,
          1,
          2.8421052631578947,
          3.4204545454545454,
          1,
          3.253061224489796,
          1.838235294117647,
          1,
          2.548780487804878,
          2.3536585365853657,
          1.742671009771987,
          1.6,
          4.459940652818991,
          3.139433551198257,
          6.264808362369338,
          1,
          2.4066496163682864,
          1.5,
          3.388888888888889,
          2.598885793871866,
          6.688225538971808,
          1.8571428571428572,
          3.5,
          3.803030303030303,
          1,
          1.6,
          3.143939393939394,
          3.423469387755102,
          2.5294117647058822,
          2.9474747474747476,
          1,
          1,
          3.5067567567567566,
          1,
          5.7434456928838955,
          3.2104072398190047,
          4.769392033542977,
          3.453427065026362,
          2.753393665158371,
          1,
          1,
          2.661870503597122,
          2.6091954022988504,
          2,
          4.92836676217765,
          4.104166666666667,
          1.9065420560747663,
          3.1363636363636362,
          2.9702517162471396,
          4.294403892944039,
          3.1314102564102564,
          3.5425219941348973,
          1.1666666666666667,
          1.2727272727272727,
          1.1428571428571428,
          2.8392857142857144,
          3.4693251533742333,
          1,
          1.749034749034749,
          1,
          2.5652173913043477,
          3.872916666666667,
          1.1428571428571428,
          4,
          1.7567567567567568,
          4.093896713615023,
          3.2640845070422535,
          5.034965034965035,
          6.049281314168378,
          5.480769230769231,
          7.074446680080483,
          3.698706099815157,
          4.849397590361446,
          3.360655737704918,
          1.5454545454545454,
          2.435374149659864,
          2.2333333333333334,
          1.6404494382022472,
          2.8122448979591836,
          1,
          1.1111111111111112,
          1,
          1,
          5.797872340425532,
          3.0872340425531917,
          1,
          2.9816849816849818,
          4.830443159922929,
          3.853107344632768,
          2.5112359550561796,
          1,
          3.227272727272727,
          1,
          1,
          2.2037037037037037,
          1.6666666666666667,
          2.94,
          3.9575289575289574,
          5.739130434782608,
          3.334600760456274,
          2.388888888888889,
          1,
          3.1728395061728394,
          1,
          4.1020408163265305,
          9.19106317411402,
          3.2222222222222223,
          3.0063424947145876,
          9.776293823038397,
          1.1818181818181819,
          2.42350332594235,
          4.561128526645768,
          1.8,
          2.1262135922330097,
          1.1666666666666667,
          2.5729166666666665,
          2.546666666666667,
          2.596045197740113,
          4.276595744680851,
          2.741496598639456,
          3.1364452423698386,
          1.7547169811320755,
          2.9288990825688073,
          2.617760617760618,
          3.0172413793103448,
          2.5,
          1.2197802197802199,
          4.253191489361702,
          5.143820224719101,
          2.950617283950617,
          2.020408163265306,
          1,
          2.4015748031496065,
          1,
          1,
          2.233009708737864,
          4.026578073089701,
          4.335555555555556,
          4.147859922178989,
          2.481707317073171,
          1.56,
          5,
          2.859154929577465,
          1.9622641509433962,
          4.533112582781457,
          1.3,
          3.653012048192771,
          1,
          6.313296903460838,
          1.9109589041095891,
          1.7222222222222223,
          1.9393939393939394,
          1.75,
          3.6577181208053693,
          2.0452261306532664,
          1.448,
          3.2,
          4.139917695473251,
          1,
          1.1176470588235294,
          3.5370786516853934,
          4.374468085106383,
          7.291970802919708,
          2.3157894736842106,
          1,
          3.1056603773584905,
          1,
          3.2289156626506026,
          1,
          4.127388535031847,
          4.334012219959267,
          3.696969696969697,
          2.227272727272727,
          1.515527950310559,
          2,
          2.8322981366459627,
          3.5328947368421053,
          3.831932773109244,
          1,
          1,
          1.1904761904761905,
          3.367741935483871,
          1.2857142857142858,
          2.8973105134474326,
          2,
          1.2,
          2.433628318584071,
          1.288888888888889,
          3.404040404040404,
          3.1473684210526316,
          2.350609756097561,
          1,
          2.260869565217391,
          2,
          2.13265306122449,
          1,
          5.700389105058366,
          2.304195804195804,
          1.255639097744361,
          1.3478260869565217,
          1.6746031746031746,
          1,
          4.701183431952662,
          6.624338624338624,
          2.1818181818181817,
          7.366197183098592,
          2.831978319783198,
          2.818548387096774,
          4.271929824561403,
          4.2,
          3.203252032520325,
          3.329646017699115,
          1.6956521739130435,
          4.083788706739527,
          2.0974358974358975,
          1.875,
          1.3142857142857143,
          5.434285714285714,
          3.9071146245059287,
          2.111111111111111,
          3.580246913580247,
          2.2888888888888888,
          2.0584269662921346,
          3.3054474708171204,
          4.851851851851852,
          2,
          2.794776119402985,
          2.6714285714285713,
          1,
          4.452247191011236,
          2,
          1.9056603773584906,
          4.801498127340824,
          1.6,
          2.111111111111111,
          1.5,
          1,
          1.8088235294117647,
          2.8574610244988863,
          5.84070796460177,
          2.0277777777777777,
          1,
          2,
          1.5384615384615385,
          1.7857142857142858,
          1.2222222222222223,
          1.8571428571428572,
          2,
          2.57328990228013,
          1.3943661971830985,
          6.138240574506284,
          4.101827676240209,
          1,
          7.802861685214626,
          5.28021978021978,
          1.2409638554216869,
          3.4813614262560777,
          3.6045081967213113,
          2.903010033444816,
          3.2394678492239466,
          2.7063492063492065,
          1.6,
          2.376940133037694,
          1.1333333333333333,
          1.8522727272727273,
          2.068702290076336,
          5.038617886178862,
          2.6802030456852792,
          2.525,
          1.7352941176470589,
          3.230088495575221,
          1.9701492537313432,
          1.5161290322580645,
          2.3209876543209877,
          2.3679245283018866,
          1,
          4.6092943201376935,
          3.325806451612903,
          2.1095890410958904,
          2.704663212435233,
          2.3333333333333335,
          4.602251407129456,
          3.9393939393939394,
          1.8333333333333333,
          2.3333333333333335,
          2.963963963963964,
          1.8333333333333333,
          2.588235294117647,
          4,
          1,
          2.35,
          1.280373831775701,
          1,
          1.25,
          1.2,
          1.5,
          2.0588235294117645,
          1,
          3.745019920318725,
          4.853896103896104,
          3.049645390070922,
          2.4757709251101323,
          3,
          3.622448979591837,
          1.4,
          2.371308016877637,
          1.6428571428571428,
          1,
          1.5,
          1,
          1,
          2.8016528925619837,
          1.7741935483870968,
          1.5263157894736843,
          4.40826873385013,
          2.5888501742160277,
          2.5,
          1.7,
          1.7142857142857142,
          2,
          2.3524590163934427,
          1,
          2.355371900826446,
          4.428571428571429,
          2.1160714285714284,
          1.7692307692307692,
          2.043010752688172,
          4.131645569620253,
          1.9285714285714286,
          1.6666666666666667,
          5.52,
          1.4675324675324675,
          3.707216494845361,
          2.968152866242038,
          1.793103448275862,
          1.7578947368421052,
          4.8,
          1.3,
          1.5,
          1.1666666666666667,
          3.1762295081967213,
          4.9317738791423,
          1.88135593220339,
          1,
          2.3368794326241136,
          2.8560311284046693,
          1.725,
          3.688775510204082,
          2.0833333333333335,
          2.0784313725490198,
          4.03125,
          1.75,
          6.586294416243655,
          1,
          2.1366120218579234,
          1.9052631578947368,
          1,
          5.6929637526652455,
          1,
          3.6351931330472103,
          3.9048991354466858,
          3.25,
          4.556085918854415,
          2.6374133949191685,
          1.9298245614035088,
          2.2,
          2.5,
          1.1333333333333333,
          1.5,
          1.9387755102040816,
          2.6233333333333335,
          1.2857142857142858,
          3.7365269461077846,
          1.25,
          2.8646080760095014,
          2.858064516129032,
          1.934673366834171,
          2.669421487603306,
          1.6111111111111112,
          1.3529411764705883,
          2.025,
          1.4814814814814814,
          3.1328125,
          2.673469387755102,
          4.202429149797571,
          1.5714285714285714,
          1,
          1.3333333333333333,
          2.25,
          1.9444444444444444,
          4.507987220447284,
          2.9473684210526314,
          2.425837320574163,
          1.1428571428571428,
          1,
          2,
          2.41025641025641,
          3.706422018348624,
          1.8,
          2.625,
          2,
          1.4545454545454546,
          3.4081632653061225,
          2.9746835443037973,
          5.183734939759036,
          1.9541284403669725,
          2.3132530120481927,
          2.0488721804511276,
          1.5348837209302326,
          4.400900900900901,
          2.347826086956522,
          2.392156862745098,
          1.4736842105263157,
          1.9310344827586208,
          3.263157894736842,
          4.289256198347108,
          4.739864864864865,
          3.6864686468646863,
          4.540322580645161,
          1.5,
          1,
          2.475,
          2.5105263157894737,
          2.0972222222222223,
          2.7146464646464645,
          4.619808306709265,
          3.2281167108753315,
          1.3333333333333333,
          4.020833333333333,
          3.790190735694823,
          2.5823293172690764,
          1.9333333333333333,
          4.673659673659674,
          1.4770114942528736,
          2.0229885057471266,
          1.372093023255814,
          2.1142857142857143,
          2.4463519313304722,
          1,
          1.6129032258064515,
          1.4666666666666666,
          1,
          3.863849765258216,
          2.985981308411215,
          3.81042654028436,
          1.9166666666666667,
          1,
          2.6303317535545023,
          2,
          1.7578125,
          1,
          1.8676470588235294,
          1.1428571428571428,
          4.846153846153846,
          4.441471571906354,
          1,
          5.378109452736318,
          1.1025641025641026,
          1.3333333333333333,
          2.984375,
          3.196969696969697,
          4.982608695652174,
          2.5132743362831858,
          3.6082474226804124,
          2,
          1.0769230769230769,
          1,
          2.6551724137931036,
          4.237244897959184,
          1.75,
          4.438559322033898,
          1.2,
          2.3125,
          2.8260869565217392,
          1,
          1.9411764705882353,
          3,
          1.5621301775147929,
          1.0625,
          3.1029411764705883,
          2.1392405063291138,
          2.6815642458100557,
          2.6486486486486487,
          1.0851063829787233,
          2.5454545454545454,
          2.8947368421052633,
          2.232456140350877,
          2.4473684210526314,
          2.3161764705882355,
          6.722397476340694,
          4.03125,
          1.6521739130434783,
          2.6,
          1.0555555555555556,
          4.015105740181269,
          3.6357615894039736,
          5.738317757009346,
          2.837037037037037,
          2.7226277372262775,
          3.101010101010101,
          3.032967032967033,
          2.463963963963964,
          2.843283582089552,
          1.135135135135135,
          2.66,
          2.4594594594594597,
          1.1333333333333333,
          1.4852941176470589,
          4.521246458923513,
          3.259136212624585,
          2.4477611940298507,
          1.766355140186916,
          1.6,
          2.89937106918239,
          1.6896551724137931,
          2.865800865800866,
          1.2571428571428571,
          4.60064935064935,
          1.9615384615384615,
          1.725,
          2.6214285714285714,
          2.1283783783783785,
          3.186770428015564,
          1,
          2.4615384615384617,
          2.7939698492462313,
          4.383333333333334,
          1.2222222222222223,
          1.0909090909090908,
          1.3333333333333333,
          5,
          2.2,
          1.1666666666666667,
          1.8636363636363635,
          1.8611111111111112,
          1,
          1.5686274509803921,
          1,
          1,
          3.3529411764705883,
          2.0982142857142856,
          1.5,
          1.4444444444444444,
          2,
          1.0434782608695652,
          3.369047619047619,
          1.8481012658227849,
          1.2758620689655173,
          4.319587628865979,
          2.536231884057971,
          1,
          2.292817679558011,
          2.4909090909090907,
          6.715686274509804,
          3.371559633027523,
          1.5555555555555556,
          1,
          1,
          1.5818181818181818,
          3.8181818181818183,
          2.338709677419355,
          1.6421052631578947,
          5.194078947368421,
          1,
          5.42798353909465,
          1.9,
          2.393617021276596,
          4.438271604938271,
          2.1129032258064515,
          4.126760563380282,
          2.072463768115942,
          1,
          3.524390243902439,
          1,
          1.7826086956521738,
          1.3333333333333333,
          1.75,
          1.4285714285714286,
          2.578125,
          2.1363636363636362,
          2.7982456140350878,
          2,
          1.8222222222222222,
          1.7884615384615385,
          2.8151260504201683,
          3.4513274336283186,
          1.8571428571428572,
          2.2567567567567566,
          2.442622950819672,
          1.5555555555555556,
          4.058333333333334,
          3.1882352941176473,
          1,
          3.4700460829493087,
          4.170454545454546,
          1.7894736842105263,
          1.8928571428571428,
          1.5454545454545454,
          1.8863636363636365,
          1.510204081632653,
          1.9,
          3.0254777070063694,
          1.6,
          1.2,
          3.334763948497854,
          4.48936170212766,
          1,
          2.6470588235294117,
          2.2459016393442623,
          1.7272727272727273,
          2.896551724137931,
          2.6216216216216215,
          2.699300699300699,
          4.425196850393701,
          1.6785714285714286,
          1.7,
          4.624,
          1.6666666666666667,
          1.5454545454545454,
          2.7,
          2.7,
          2.4356435643564356,
          1.8255813953488371,
          2.150537634408602,
          2.6,
          2.9,
          1.7865168539325842,
          1.9478260869565218,
          1.6,
          1,
          2.180327868852459,
          5.753246753246753,
          3.0963855421686746,
          2.877005347593583,
          4.516806722689076,
          4.292817679558011,
          3.2790697674418605,
          4.144827586206897,
          2.588607594936709,
          6.176470588235294,
          6.8936170212765955,
          4.163522012578617,
          2.075187969924812,
          2.8852459016393444,
          3.074074074074074,
          1.5,
          3.1831683168316833,
          1,
          1.2037037037037037,
          1.353846153846154,
          1.0909090909090908,
          3.5828220858895707,
          2.430379746835443,
          1.375,
          1.7272727272727273,
          1,
          1.0555555555555556,
          1,
          1.3636363636363635,
          5.4874371859296485,
          1.6666666666666667,
          2.306122448979592,
          2.693548387096774,
          3.0104166666666665,
          1.0588235294117647,
          4.4222222222222225,
          1.6666666666666667,
          2.3734939759036147,
          2.1176470588235294,
          3.2222222222222223,
          2.2413793103448274,
          1.7033898305084745,
          2.2222222222222223,
          2.4166666666666665,
          1.490566037735849,
          4.243589743589744,
          3.5591397849462365,
          2.2941176470588234,
          1.9878048780487805,
          2.636986301369863,
          1,
          3.9246575342465753,
          2.0526315789473686,
          2.6666666666666665,
          1.2,
          1.1428571428571428,
          1,
          2.210526315789474,
          4,
          1.2857142857142858,
          1.96875,
          1.1666666666666667,
          1.794871794871795,
          1,
          3.161290322580645,
          4.389830508474576,
          2.5405405405405403,
          1.7333333333333334,
          3.241025641025641,
          2.6,
          2.5723684210526314,
          1.6666666666666667,
          1.64,
          3,
          2.5555555555555554,
          1,
          2.2857142857142856,
          2.9,
          2.8,
          1,
          1,
          3.5,
          2.090909090909091,
          1.5454545454545454,
          1.8571428571428572,
          7.428571428571429,
          1,
          2.6666666666666665,
          2,
          3.25,
          1,
          1.3333333333333333,
          2,
          1.7142857142857142,
          3.1639344262295084,
          1.9344262295081966,
          1.9550561797752808,
          2.7037037037037037,
          1,
          3.4452554744525545,
          3.5714285714285716,
          1.7962962962962963,
          2.3777777777777778,
          2.839622641509434,
          3.1739130434782608,
          1.297872340425532,
          1.3111111111111111,
          3.707317073170732,
          1,
          1.8666666666666667,
          1.3214285714285714,
          1.1818181818181819,
          2.786764705882353,
          6.854368932038835,
          2,
          2.6666666666666665,
          3.2233009708737863,
          5.325581395348837,
          1.6603773584905661,
          4.422018348623853,
          1,
          4.17037037037037,
          3.0833333333333335,
          2.081081081081081,
          1,
          2.4941176470588236,
          1,
          3.3333333333333335,
          4.202247191011236,
          1,
          2.975806451612903,
          2.4878048780487805,
          2.3857142857142857,
          3.826388888888889,
          5.265151515151516,
          3.2051282051282053,
          2.7142857142857144,
          2.8674698795180724,
          1.8928571428571428,
          3.8275862068965516,
          2.4025974025974026,
          1,
          2.2857142857142856,
          1.9767441860465116,
          4.107142857142857,
          3.7058823529411766,
          7.5,
          1,
          7.976190476190476,
          2.891304347826087,
          1,
          2.4285714285714284,
          1,
          4.2,
          1.44,
          1.875,
          2,
          1,
          3.8947368421052633,
          2.375,
          2.2808988764044944,
          2.0277777777777777,
          2.090909090909091,
          2.6097560975609757,
          2.8555555555555556,
          1.4651162790697674,
          2.857142857142857,
          2.230769230769231,
          3.4285714285714284,
          3.027027027027027,
          1.4285714285714286,
          2.3333333333333335,
          2.642857142857143,
          4,
          1.5454545454545454,
          1.7857142857142858,
          7.8108108108108105,
          2.6,
          5.838709677419355,
          1.6,
          1,
          1.3333333333333333,
          2.938775510204082,
          1.3333333333333333,
          1,
          2.7142857142857144,
          2.657142857142857,
          1.8571428571428572,
          2.875,
          2,
          5.333333333333333,
          1,
          3,
          2.090909090909091,
          1.25,
          1.4444444444444444,
          2.75,
          3.4,
          1,
          3.6153846153846154,
          1.4,
          1,
          1,
          2,
          1.7142857142857142,
          1.6666666666666667,
          3,
          1,
          1.625,
          3.581818181818182,
          4.385964912280702,
          2.574074074074074,
          4.825396825396825,
          5.875,
          3.564516129032258,
          1.4054054054054055,
          2.9696969696969697,
          5.016949152542373,
          1,
          3.5454545454545454,
          5.5,
          1.6666666666666667,
          1.9166666666666667,
          1.84375,
          1,
          3.511111111111111,
          2.7027027027027026,
          1.4285714285714286,
          1.8,
          1.75,
          2.7037037037037037,
          1,
          1,
          1,
          2.1363636363636362,
          4.673469387755102,
          2,
          1.5714285714285714,
          1.3333333333333333,
          2,
          2.6666666666666665,
          2.3636363636363638,
          1,
          2.388888888888889,
          4.818181818181818,
          3.88,
          2,
          2.9375,
          2.784313725490196,
          2.125,
          1,
          1.8085106382978724,
          2.142857142857143,
          1.8571428571428572,
          1.8,
          1.2857142857142858,
          1,
          1,
          3.066666666666667,
          1,
          1,
          1,
          2,
          4,
          3.75,
          2.3142857142857145,
          1,
          3,
          1,
          1.4375,
          1.25,
          1
         ],
         "yaxis": "y"
        }
       ],
       "layout": {
        "coloraxis": {
         "colorbar": {
          "title": {
           "text": "cluster"
          }
         },
         "colorscale": [
          [
           0,
           "#440154"
          ],
          [
           0.1111111111111111,
           "#482878"
          ],
          [
           0.2222222222222222,
           "#3e4989"
          ],
          [
           0.3333333333333333,
           "#31688e"
          ],
          [
           0.4444444444444444,
           "#26828e"
          ],
          [
           0.5555555555555556,
           "#1f9e89"
          ],
          [
           0.6666666666666666,
           "#35b779"
          ],
          [
           0.7777777777777778,
           "#6ece58"
          ],
          [
           0.8888888888888888,
           "#b5de2b"
          ],
          [
           1,
           "#fde725"
          ]
         ]
        },
        "legend": {
         "tracegroupgap": 0
        },
        "template": {
         "data": {
          "bar": [
           {
            "error_x": {
             "color": "#2a3f5f"
            },
            "error_y": {
             "color": "#2a3f5f"
            },
            "marker": {
             "line": {
              "color": "#E5ECF6",
              "width": 0.5
             },
             "pattern": {
              "fillmode": "overlay",
              "size": 10,
              "solidity": 0.2
             }
            },
            "type": "bar"
           }
          ],
          "barpolar": [
           {
            "marker": {
             "line": {
              "color": "#E5ECF6",
              "width": 0.5
             },
             "pattern": {
              "fillmode": "overlay",
              "size": 10,
              "solidity": 0.2
             }
            },
            "type": "barpolar"
           }
          ],
          "carpet": [
           {
            "aaxis": {
             "endlinecolor": "#2a3f5f",
             "gridcolor": "white",
             "linecolor": "white",
             "minorgridcolor": "white",
             "startlinecolor": "#2a3f5f"
            },
            "baxis": {
             "endlinecolor": "#2a3f5f",
             "gridcolor": "white",
             "linecolor": "white",
             "minorgridcolor": "white",
             "startlinecolor": "#2a3f5f"
            },
            "type": "carpet"
           }
          ],
          "choropleth": [
           {
            "colorbar": {
             "outlinewidth": 0,
             "ticks": ""
            },
            "type": "choropleth"
           }
          ],
          "contour": [
           {
            "colorbar": {
             "outlinewidth": 0,
             "ticks": ""
            },
            "colorscale": [
             [
              0,
              "#0d0887"
             ],
             [
              0.1111111111111111,
              "#46039f"
             ],
             [
              0.2222222222222222,
              "#7201a8"
             ],
             [
              0.3333333333333333,
              "#9c179e"
             ],
             [
              0.4444444444444444,
              "#bd3786"
             ],
             [
              0.5555555555555556,
              "#d8576b"
             ],
             [
              0.6666666666666666,
              "#ed7953"
             ],
             [
              0.7777777777777778,
              "#fb9f3a"
             ],
             [
              0.8888888888888888,
              "#fdca26"
             ],
             [
              1,
              "#f0f921"
             ]
            ],
            "type": "contour"
           }
          ],
          "contourcarpet": [
           {
            "colorbar": {
             "outlinewidth": 0,
             "ticks": ""
            },
            "type": "contourcarpet"
           }
          ],
          "heatmap": [
           {
            "colorbar": {
             "outlinewidth": 0,
             "ticks": ""
            },
            "colorscale": [
             [
              0,
              "#0d0887"
             ],
             [
              0.1111111111111111,
              "#46039f"
             ],
             [
              0.2222222222222222,
              "#7201a8"
             ],
             [
              0.3333333333333333,
              "#9c179e"
             ],
             [
              0.4444444444444444,
              "#bd3786"
             ],
             [
              0.5555555555555556,
              "#d8576b"
             ],
             [
              0.6666666666666666,
              "#ed7953"
             ],
             [
              0.7777777777777778,
              "#fb9f3a"
             ],
             [
              0.8888888888888888,
              "#fdca26"
             ],
             [
              1,
              "#f0f921"
             ]
            ],
            "type": "heatmap"
           }
          ],
          "heatmapgl": [
           {
            "colorbar": {
             "outlinewidth": 0,
             "ticks": ""
            },
            "colorscale": [
             [
              0,
              "#0d0887"
             ],
             [
              0.1111111111111111,
              "#46039f"
             ],
             [
              0.2222222222222222,
              "#7201a8"
             ],
             [
              0.3333333333333333,
              "#9c179e"
             ],
             [
              0.4444444444444444,
              "#bd3786"
             ],
             [
              0.5555555555555556,
              "#d8576b"
             ],
             [
              0.6666666666666666,
              "#ed7953"
             ],
             [
              0.7777777777777778,
              "#fb9f3a"
             ],
             [
              0.8888888888888888,
              "#fdca26"
             ],
             [
              1,
              "#f0f921"
             ]
            ],
            "type": "heatmapgl"
           }
          ],
          "histogram": [
           {
            "marker": {
             "pattern": {
              "fillmode": "overlay",
              "size": 10,
              "solidity": 0.2
             }
            },
            "type": "histogram"
           }
          ],
          "histogram2d": [
           {
            "colorbar": {
             "outlinewidth": 0,
             "ticks": ""
            },
            "colorscale": [
             [
              0,
              "#0d0887"
             ],
             [
              0.1111111111111111,
              "#46039f"
             ],
             [
              0.2222222222222222,
              "#7201a8"
             ],
             [
              0.3333333333333333,
              "#9c179e"
             ],
             [
              0.4444444444444444,
              "#bd3786"
             ],
             [
              0.5555555555555556,
              "#d8576b"
             ],
             [
              0.6666666666666666,
              "#ed7953"
             ],
             [
              0.7777777777777778,
              "#fb9f3a"
             ],
             [
              0.8888888888888888,
              "#fdca26"
             ],
             [
              1,
              "#f0f921"
             ]
            ],
            "type": "histogram2d"
           }
          ],
          "histogram2dcontour": [
           {
            "colorbar": {
             "outlinewidth": 0,
             "ticks": ""
            },
            "colorscale": [
             [
              0,
              "#0d0887"
             ],
             [
              0.1111111111111111,
              "#46039f"
             ],
             [
              0.2222222222222222,
              "#7201a8"
             ],
             [
              0.3333333333333333,
              "#9c179e"
             ],
             [
              0.4444444444444444,
              "#bd3786"
             ],
             [
              0.5555555555555556,
              "#d8576b"
             ],
             [
              0.6666666666666666,
              "#ed7953"
             ],
             [
              0.7777777777777778,
              "#fb9f3a"
             ],
             [
              0.8888888888888888,
              "#fdca26"
             ],
             [
              1,
              "#f0f921"
             ]
            ],
            "type": "histogram2dcontour"
           }
          ],
          "mesh3d": [
           {
            "colorbar": {
             "outlinewidth": 0,
             "ticks": ""
            },
            "type": "mesh3d"
           }
          ],
          "parcoords": [
           {
            "line": {
             "colorbar": {
              "outlinewidth": 0,
              "ticks": ""
             }
            },
            "type": "parcoords"
           }
          ],
          "pie": [
           {
            "automargin": true,
            "type": "pie"
           }
          ],
          "scatter": [
           {
            "fillpattern": {
             "fillmode": "overlay",
             "size": 10,
             "solidity": 0.2
            },
            "type": "scatter"
           }
          ],
          "scatter3d": [
           {
            "line": {
             "colorbar": {
              "outlinewidth": 0,
              "ticks": ""
             }
            },
            "marker": {
             "colorbar": {
              "outlinewidth": 0,
              "ticks": ""
             }
            },
            "type": "scatter3d"
           }
          ],
          "scattercarpet": [
           {
            "marker": {
             "colorbar": {
              "outlinewidth": 0,
              "ticks": ""
             }
            },
            "type": "scattercarpet"
           }
          ],
          "scattergeo": [
           {
            "marker": {
             "colorbar": {
              "outlinewidth": 0,
              "ticks": ""
             }
            },
            "type": "scattergeo"
           }
          ],
          "scattergl": [
           {
            "marker": {
             "colorbar": {
              "outlinewidth": 0,
              "ticks": ""
             }
            },
            "type": "scattergl"
           }
          ],
          "scattermapbox": [
           {
            "marker": {
             "colorbar": {
              "outlinewidth": 0,
              "ticks": ""
             }
            },
            "type": "scattermapbox"
           }
          ],
          "scatterpolar": [
           {
            "marker": {
             "colorbar": {
              "outlinewidth": 0,
              "ticks": ""
             }
            },
            "type": "scatterpolar"
           }
          ],
          "scatterpolargl": [
           {
            "marker": {
             "colorbar": {
              "outlinewidth": 0,
              "ticks": ""
             }
            },
            "type": "scatterpolargl"
           }
          ],
          "scatterternary": [
           {
            "marker": {
             "colorbar": {
              "outlinewidth": 0,
              "ticks": ""
             }
            },
            "type": "scatterternary"
           }
          ],
          "surface": [
           {
            "colorbar": {
             "outlinewidth": 0,
             "ticks": ""
            },
            "colorscale": [
             [
              0,
              "#0d0887"
             ],
             [
              0.1111111111111111,
              "#46039f"
             ],
             [
              0.2222222222222222,
              "#7201a8"
             ],
             [
              0.3333333333333333,
              "#9c179e"
             ],
             [
              0.4444444444444444,
              "#bd3786"
             ],
             [
              0.5555555555555556,
              "#d8576b"
             ],
             [
              0.6666666666666666,
              "#ed7953"
             ],
             [
              0.7777777777777778,
              "#fb9f3a"
             ],
             [
              0.8888888888888888,
              "#fdca26"
             ],
             [
              1,
              "#f0f921"
             ]
            ],
            "type": "surface"
           }
          ],
          "table": [
           {
            "cells": {
             "fill": {
              "color": "#EBF0F8"
             },
             "line": {
              "color": "white"
             }
            },
            "header": {
             "fill": {
              "color": "#C8D4E3"
             },
             "line": {
              "color": "white"
             }
            },
            "type": "table"
           }
          ]
         },
         "layout": {
          "annotationdefaults": {
           "arrowcolor": "#2a3f5f",
           "arrowhead": 0,
           "arrowwidth": 1
          },
          "autotypenumbers": "strict",
          "coloraxis": {
           "colorbar": {
            "outlinewidth": 0,
            "ticks": ""
           }
          },
          "colorscale": {
           "diverging": [
            [
             0,
             "#8e0152"
            ],
            [
             0.1,
             "#c51b7d"
            ],
            [
             0.2,
             "#de77ae"
            ],
            [
             0.3,
             "#f1b6da"
            ],
            [
             0.4,
             "#fde0ef"
            ],
            [
             0.5,
             "#f7f7f7"
            ],
            [
             0.6,
             "#e6f5d0"
            ],
            [
             0.7,
             "#b8e186"
            ],
            [
             0.8,
             "#7fbc41"
            ],
            [
             0.9,
             "#4d9221"
            ],
            [
             1,
             "#276419"
            ]
           ],
           "sequential": [
            [
             0,
             "#0d0887"
            ],
            [
             0.1111111111111111,
             "#46039f"
            ],
            [
             0.2222222222222222,
             "#7201a8"
            ],
            [
             0.3333333333333333,
             "#9c179e"
            ],
            [
             0.4444444444444444,
             "#bd3786"
            ],
            [
             0.5555555555555556,
             "#d8576b"
            ],
            [
             0.6666666666666666,
             "#ed7953"
            ],
            [
             0.7777777777777778,
             "#fb9f3a"
            ],
            [
             0.8888888888888888,
             "#fdca26"
            ],
            [
             1,
             "#f0f921"
            ]
           ],
           "sequentialminus": [
            [
             0,
             "#0d0887"
            ],
            [
             0.1111111111111111,
             "#46039f"
            ],
            [
             0.2222222222222222,
             "#7201a8"
            ],
            [
             0.3333333333333333,
             "#9c179e"
            ],
            [
             0.4444444444444444,
             "#bd3786"
            ],
            [
             0.5555555555555556,
             "#d8576b"
            ],
            [
             0.6666666666666666,
             "#ed7953"
            ],
            [
             0.7777777777777778,
             "#fb9f3a"
            ],
            [
             0.8888888888888888,
             "#fdca26"
            ],
            [
             1,
             "#f0f921"
            ]
           ]
          },
          "colorway": [
           "#636efa",
           "#EF553B",
           "#00cc96",
           "#ab63fa",
           "#FFA15A",
           "#19d3f3",
           "#FF6692",
           "#B6E880",
           "#FF97FF",
           "#FECB52"
          ],
          "font": {
           "color": "#2a3f5f"
          },
          "geo": {
           "bgcolor": "white",
           "lakecolor": "white",
           "landcolor": "#E5ECF6",
           "showlakes": true,
           "showland": true,
           "subunitcolor": "white"
          },
          "hoverlabel": {
           "align": "left"
          },
          "hovermode": "closest",
          "mapbox": {
           "style": "light"
          },
          "paper_bgcolor": "white",
          "plot_bgcolor": "#E5ECF6",
          "polar": {
           "angularaxis": {
            "gridcolor": "white",
            "linecolor": "white",
            "ticks": ""
           },
           "bgcolor": "#E5ECF6",
           "radialaxis": {
            "gridcolor": "white",
            "linecolor": "white",
            "ticks": ""
           }
          },
          "scene": {
           "xaxis": {
            "backgroundcolor": "#E5ECF6",
            "gridcolor": "white",
            "gridwidth": 2,
            "linecolor": "white",
            "showbackground": true,
            "ticks": "",
            "zerolinecolor": "white"
           },
           "yaxis": {
            "backgroundcolor": "#E5ECF6",
            "gridcolor": "white",
            "gridwidth": 2,
            "linecolor": "white",
            "showbackground": true,
            "ticks": "",
            "zerolinecolor": "white"
           },
           "zaxis": {
            "backgroundcolor": "#E5ECF6",
            "gridcolor": "white",
            "gridwidth": 2,
            "linecolor": "white",
            "showbackground": true,
            "ticks": "",
            "zerolinecolor": "white"
           }
          },
          "shapedefaults": {
           "line": {
            "color": "#2a3f5f"
           }
          },
          "ternary": {
           "aaxis": {
            "gridcolor": "white",
            "linecolor": "white",
            "ticks": ""
           },
           "baxis": {
            "gridcolor": "white",
            "linecolor": "white",
            "ticks": ""
           },
           "bgcolor": "#E5ECF6",
           "caxis": {
            "gridcolor": "white",
            "linecolor": "white",
            "ticks": ""
           }
          },
          "title": {
           "x": 0.05
          },
          "xaxis": {
           "automargin": true,
           "gridcolor": "white",
           "linecolor": "white",
           "ticks": "",
           "title": {
            "standoff": 15
           },
           "zerolinecolor": "white",
           "zerolinewidth": 2
          },
          "yaxis": {
           "automargin": true,
           "gridcolor": "white",
           "linecolor": "white",
           "ticks": "",
           "title": {
            "standoff": 15
           },
           "zerolinecolor": "white",
           "zerolinewidth": 2
          }
         }
        },
        "title": {
         "text": "NBA Players Clustering Based on 3-Point Shooting (Period 3)"
        },
        "xaxis": {
         "anchor": "y",
         "domain": [
          0,
          1
         ],
         "title": {
          "text": "Shooting Percentage"
         }
        },
        "yaxis": {
         "anchor": "x",
         "domain": [
          0,
          1
         ],
         "title": {
          "text": "Attempts per Game"
         }
        }
       }
      }
     },
     "metadata": {},
     "output_type": "display_data"
    }
   ],
   "source": [
    "for idx, decade_data in enumerate([df_1998_2004, df_2005_2012, df_2013_2020], start=1):\n",
    "    fig = px.scatter(decade_data, x='shooting_percentage', y='Attempts', color='cluster',\n",
    "                     hover_data=['player_name'], color_continuous_scale='viridis',\n",
    "                     title=f'NBA Players Clustering Based on 3-Point Shooting (Period {idx})')\n",
    "    fig.update_layout(xaxis_title='Shooting Percentage', yaxis_title='Attempts per Game')\n",
    "    fig.show()"
   ]
  },
  {
   "cell_type": "code",
   "execution_count": 29,
   "metadata": {},
   "outputs": [],
   "source": [
    "clutch_time_shots = df[(df['Minutes Remaining'] <= 5) & (df['Period'] >= 4)]"
   ]
  },
  {
   "cell_type": "code",
   "execution_count": 37,
   "metadata": {},
   "outputs": [
    {
     "data": {
      "text/html": [
       "<div>\n",
       "<style scoped>\n",
       "    .dataframe tbody tr th:only-of-type {\n",
       "        vertical-align: middle;\n",
       "    }\n",
       "\n",
       "    .dataframe tbody tr th {\n",
       "        vertical-align: top;\n",
       "    }\n",
       "\n",
       "    .dataframe thead th {\n",
       "        text-align: right;\n",
       "    }\n",
       "</style>\n",
       "<table border=\"1\" class=\"dataframe\">\n",
       "  <thead>\n",
       "    <tr style=\"text-align: right;\">\n",
       "      <th></th>\n",
       "      <th>Player ID</th>\n",
       "      <th>player_name</th>\n",
       "      <th>shooting_percentage</th>\n",
       "      <th>total_attempts</th>\n",
       "    </tr>\n",
       "  </thead>\n",
       "  <tbody>\n",
       "    <tr>\n",
       "      <th>0</th>\n",
       "      <td>3</td>\n",
       "      <td>Grant Long</td>\n",
       "      <td>0.417526</td>\n",
       "      <td>194</td>\n",
       "    </tr>\n",
       "    <tr>\n",
       "      <th>3</th>\n",
       "      <td>15</td>\n",
       "      <td>Eric Piatkowski</td>\n",
       "      <td>0.478088</td>\n",
       "      <td>502</td>\n",
       "    </tr>\n",
       "    <tr>\n",
       "      <th>4</th>\n",
       "      <td>17</td>\n",
       "      <td>Clyde Drexler</td>\n",
       "      <td>0.424460</td>\n",
       "      <td>139</td>\n",
       "    </tr>\n",
       "    <tr>\n",
       "      <th>5</th>\n",
       "      <td>21</td>\n",
       "      <td>Greg Anthony</td>\n",
       "      <td>0.411950</td>\n",
       "      <td>318</td>\n",
       "    </tr>\n",
       "    <tr>\n",
       "      <th>6</th>\n",
       "      <td>22</td>\n",
       "      <td>Rik Smits</td>\n",
       "      <td>0.491525</td>\n",
       "      <td>295</td>\n",
       "    </tr>\n",
       "  </tbody>\n",
       "</table>\n",
       "</div>"
      ],
      "text/plain": [
       "   Player ID      player_name  shooting_percentage  total_attempts\n",
       "0          3       Grant Long             0.417526             194\n",
       "3         15  Eric Piatkowski             0.478088             502\n",
       "4         17    Clyde Drexler             0.424460             139\n",
       "5         21     Greg Anthony             0.411950             318\n",
       "6         22        Rik Smits             0.491525             295"
      ]
     },
     "execution_count": 37,
     "metadata": {},
     "output_type": "execute_result"
    }
   ],
   "source": [
    "clutch_shots = clutch_time_shots.groupby('Player ID').agg(\n",
    "        player_name=('Player Name', 'first'),\n",
    "        shooting_percentage=('Shot Made Flag', 'mean'),\n",
    "        total_attempts=('Game ID', 'count'),\n",
    "    ).reset_index()\n",
    "\n",
    "\n",
    "clutch_shots = clutch_shots[clutch_shots['total_attempts'] >= 100]\n",
    "clutch_shots.head()"
   ]
  },
  {
   "cell_type": "code",
   "execution_count": 41,
   "metadata": {},
   "outputs": [
    {
     "name": "stderr",
     "output_type": "stream",
     "text": [
      "/opt/homebrew/Caskroom/miniforge/base/envs/dmt_project/lib/python3.10/site-packages/sklearn/cluster/_kmeans.py:870: FutureWarning:\n",
      "\n",
      "The default value of `n_init` will change from 10 to 'auto' in 1.4. Set the value of `n_init` explicitly to suppress the warning\n",
      "\n"
     ]
    },
    {
     "data": {
      "application/vnd.plotly.v1+json": {
       "config": {
        "plotlyServerURL": "https://plot.ly"
       },
       "data": [
        {
         "customdata": [
          [
           "Grant Long"
          ],
          [
           "Eric Piatkowski"
          ],
          [
           "Clyde Drexler"
          ],
          [
           "Greg Anthony"
          ],
          [
           "Rik Smits"
          ],
          [
           "Luc Longley"
          ],
          [
           "Monty Williams"
          ],
          [
           "Chris Whitney"
          ],
          [
           "George McCloud"
          ],
          [
           "Mario Elie"
          ],
          [
           "Gary Payton"
          ],
          [
           "Doug Christie"
          ],
          [
           "Sam Perkins"
          ],
          [
           "Steve Kerr"
          ],
          [
           "Kenny Anderson"
          ],
          [
           "Cedric Ceballos"
          ],
          [
           "Doug Overton"
          ],
          [
           "Latrell Sprewell"
          ],
          [
           "Brent Price"
          ],
          [
           "Dikembe Mutombo"
          ],
          [
           "Nick Van Exel"
          ],
          [
           "Hubert Davis"
          ],
          [
           "Mark Bryant"
          ],
          [
           "Detlef Schrempf"
          ],
          [
           "Nick Anderson"
          ],
          [
           "Todd Day"
          ],
          [
           "Dan Majerle"
          ],
          [
           "Dale Ellis"
          ],
          [
           "Robert Horry"
          ],
          [
           "LaPhonso Ellis"
          ],
          [
           "Steven Smith"
          ],
          [
           "Patrick Ewing"
          ],
          [
           "Robert Pack"
          ],
          [
           "Vlade Divac"
          ],
          [
           "David Benoit"
          ],
          [
           "David Wesley"
          ],
          [
           "P.J. Brown"
          ],
          [
           "Vernon Maxwell"
          ],
          [
           "Terry Dehere"
          ],
          [
           "Tracy Murray"
          ],
          [
           "Jud Buechler"
          ],
          [
           "Jalen Rose"
          ],
          [
           "Derek Harper"
          ],
          [
           "Chris Childs"
          ],
          [
           "Hakeem Olajuwon"
          ],
          [
           "Ron Harper"
          ],
          [
           "Chris Mills"
          ],
          [
           "Muggsy Bogues"
          ],
          [
           "Bryant Stith"
          ],
          [
           "John Crotty"
          ],
          [
           "Billy Owens"
          ],
          [
           "Bison Dele"
          ],
          [
           "Bobby Phills"
          ],
          [
           "Chris Webber"
          ],
          [
           "Terry Cummings"
          ],
          [
           "Dennis Scott"
          ],
          [
           "Anthony Mason"
          ],
          [
           "Scott Burrell"
          ],
          [
           "Danny Ferry"
          ],
          [
           "Jeff Hornacek"
          ],
          [
           "Sam Cassell"
          ],
          [
           "Dell Curry"
          ],
          [
           "Terrell Brandon"
          ],
          [
           "Antonio Davis"
          ],
          [
           "Brian Shaw"
          ],
          [
           "Vinny Del Negro"
          ],
          [
           "Clar. Weatherspoon"
          ],
          [
           "Eddie Jones"
          ],
          [
           "Tyrone Hill"
          ],
          [
           "Darrick Martin"
          ],
          [
           "Aaron McKie"
          ],
          [
           "Dee Brown"
          ],
          [
           "Joe Dumars"
          ],
          [
           "George Lynch"
          ],
          [
           "Sean Elliott"
          ],
          [
           "Karl Malone"
          ],
          [
           "Grant Hill"
          ],
          [
           "Brian Grant"
          ],
          [
           "Horace Grant"
          ],
          [
           "Johnny Newman"
          ],
          [
           "Allan Houston"
          ],
          [
           "Stacey Augmon"
          ],
          [
           "Scott Williams"
          ],
          [
           "Lindsey Hunter"
          ],
          [
           "Armen Gilliam"
          ],
          [
           "Rick Fox"
          ],
          [
           "Alonzo Mourning"
          ],
          [
           "Glenn Robinson"
          ],
          [
           "Mookie Blaylock"
          ],
          [
           "John Stockton"
          ],
          [
           "John Starks"
          ],
          [
           "Greg Foster"
          ],
          [
           "Anthony Peeler"
          ],
          [
           "Danny Manning"
          ],
          [
           "Tom Gugliotta"
          ],
          [
           "Dana Barros"
          ],
          [
           "Terry Porter"
          ],
          [
           "Mark Jackson"
          ],
          [
           "Darrell Armstrong"
          ],
          [
           "Anfernee Hardaway"
          ],
          [
           "Chucky Brown"
          ],
          [
           "Clifford Robinson"
          ],
          [
           "Christian Laettner"
          ],
          [
           "Rex Chapman"
          ],
          [
           "Derrick McKey"
          ],
          [
           "Charlie Ward"
          ],
          [
           "Isaiah Rider"
          ],
          [
           "James Robinson"
          ],
          [
           "Kendall Gill"
          ],
          [
           "Calbert Cheaney"
          ],
          [
           "Elliot Perry"
          ],
          [
           "Toni Kukoc"
          ],
          [
           "Rod Strickland"
          ],
          [
           "Reggie Miller"
          ],
          [
           "Sean Rooks"
          ],
          [
           "Derek Strong"
          ],
          [
           "Shaquille O'Neal"
          ],
          [
           "Sam Mitchell"
          ],
          [
           "Jayson Williams"
          ],
          [
           "Avery Johnson"
          ],
          [
           "Chris Gatling"
          ],
          [
           "Sherman Douglas"
          ],
          [
           "Shawn Kemp"
          ],
          [
           "Juwan Howard"
          ],
          [
           "Lamond Murray"
          ],
          [
           "Wesley Person"
          ],
          [
           "Lucious Harris"
          ],
          [
           "Bo Outlaw"
          ],
          [
           "Vin Baker"
          ],
          [
           "Chuck Person"
          ],
          [
           "Howard Eisley"
          ],
          [
           "Popeye Jones"
          ],
          [
           "Jason Kidd"
          ],
          [
           "Jon Barry"
          ],
          [
           "Jamal Mashburn"
          ],
          [
           "Matt Bullard"
          ],
          [
           "Alan Henderson"
          ],
          [
           "Eric Williams"
          ],
          [
           "Jason Caffey"
          ],
          [
           "John Amaechi"
          ],
          [
           "Bob Sura"
          ],
          [
           "Cherokee Parks"
          ],
          [
           "Antonio McDyess"
          ],
          [
           "Michael Curry"
          ],
          [
           "Theo Ratliff"
          ],
          [
           "Don Reid"
          ],
          [
           "Andrew DeClercq"
          ],
          [
           "Joe Smith"
          ],
          [
           "Sam Mack"
          ],
          [
           "Eldridge Recasner"
          ],
          [
           "Travis Best"
          ],
          [
           "Fred Hoiberg"
          ],
          [
           "Eddie Johnson"
          ],
          [
           "Brent Barry"
          ],
          [
           "Voshon Lenard"
          ],
          [
           "Kurt Thomas"
          ],
          [
           "Kevin Garnett"
          ],
          [
           "Jerry Stackhouse"
          ],
          [
           "Chris Carr"
          ],
          [
           "Michael Finley"
          ],
          [
           "Arvydas Sabonis"
          ],
          [
           "Gary Trent"
          ],
          [
           "Corliss Williamson"
          ],
          [
           "Cory Alexander"
          ],
          [
           "Eric Snow"
          ],
          [
           "Greg Ostertag"
          ],
          [
           "Bryant Reeves"
          ],
          [
           "Rasheed Wallace"
          ],
          [
           "Randy Brown"
          ],
          [
           "Jim Jackson"
          ],
          [
           "Damon Stoudamire"
          ],
          [
           "Jerome Kersey"
          ],
          [
           "Matt Geiger"
          ],
          [
           "Shawn Bradley"
          ],
          [
           "Tony Massenburg"
          ],
          [
           "David Robinson"
          ],
          [
           "Hersey Hawkins"
          ],
          [
           "Glen Rice"
          ],
          [
           "Mitch Richmond"
          ],
          [
           "Eric Murdock"
          ],
          [
           "Charles Barkley"
          ],
          [
           "Kevin Willis"
          ],
          [
           "Charles Oakley"
          ],
          [
           "Michael Jordan"
          ],
          [
           "Tyrone Corbin"
          ],
          [
           "Tim Hardaway"
          ],
          [
           "Blue Edwards"
          ],
          [
           "Otis Thorpe"
          ],
          [
           "Bimbo Coles"
          ],
          [
           "Chris Mullin"
          ],
          [
           "Dale Davis"
          ],
          [
           "Malik Sealy"
          ],
          [
           "Ervin Johnson"
          ],
          [
           "Larry Johnson"
          ],
          [
           "Rodney Rogers"
          ],
          [
           "Corie Blount"
          ],
          [
           "Elden Campbell"
          ],
          [
           "Donyell Marshall"
          ],
          [
           "Anthony Goldwire"
          ],
          [
           "Derrick Coleman"
          ],
          [
           "Bryon Russell"
          ],
          [
           "Scottie Pippen"
          ],
          [
           "Allen Iverson"
          ],
          [
           "Marcus Camby"
          ],
          [
           "Shareef Abdur-Rahim"
          ],
          [
           "Stephon Marbury"
          ],
          [
           "Ray Allen"
          ],
          [
           "Antoine Walker"
          ],
          [
           "Lorenzen Wright"
          ],
          [
           "Kerry Kittles"
          ],
          [
           "Samaki Walker"
          ],
          [
           "Erick Dampier"
          ],
          [
           "Todd Fuller"
          ],
          [
           "Vitaly Potapenko"
          ],
          [
           "Steve Nash"
          ],
          [
           "Tony Delk"
          ],
          [
           "John Wallace"
          ],
          [
           "Walter McCarty"
          ],
          [
           "Derek Fisher"
          ],
          [
           "Jerome Williams"
          ],
          [
           "Travis Knight"
          ],
          [
           "Othella Harrington"
          ],
          [
           "Jeff McInnis"
          ],
          [
           "Kobe Bryant"
          ],
          [
           "Peja Stojakovic"
          ],
          [
           "Jermaine O'Neal"
          ],
          [
           "Zydrunas Ilgauskas"
          ],
          [
           "Moochie Norris"
          ],
          [
           "Randy Livingston"
          ],
          [
           "Malik Rose"
          ],
          [
           "Shandon Anderson"
          ],
          [
           "Walt Williams"
          ],
          [
           "Emanual Davis"
          ],
          [
           "Darvin Ham"
          ],
          [
           "Erick Strickland"
          ],
          [
           "Reggie Slater"
          ],
          [
           "Matt Maloney"
          ],
          [
           "Chucky Atkins"
          ],
          [
           "Mark Strickland"
          ],
          [
           "Ben Wallace"
          ],
          [
           "Jaren Jackson"
          ],
          [
           "Ike Austin"
          ],
          [
           "Aaron Williams"
          ],
          [
           "Lawrence Funderburke"
          ],
          [
           "Bruce Bowen"
          ],
          [
           "Tim Duncan"
          ],
          [
           "Keith Van Horn"
          ],
          [
           "Chauncey Billups"
          ],
          [
           "Antonio Daniels"
          ],
          [
           "Tony Battie"
          ],
          [
           "Ron Mercer"
          ],
          [
           "Tim Thomas"
          ],
          [
           "Adonal Foyle"
          ],
          [
           "Tracy McGrady"
          ],
          [
           "Danny Fortson"
          ],
          [
           "Tariq Abdul-Wahad"
          ],
          [
           "Austin Croshere"
          ],
          [
           "Derek Anderson"
          ],
          [
           "Maurice Taylor"
          ],
          [
           "Kelvin Cato"
          ],
          [
           "Brevin Knight"
          ],
          [
           "Chris Anstey"
          ],
          [
           "Scot Pollard"
          ],
          [
           "Anthony Parker"
          ],
          [
           "Bobby Jackson"
          ],
          [
           "Charles Smith"
          ],
          [
           "Jacque Vaughn"
          ],
          [
           "Marc Jackson"
          ],
          [
           "Anthony Johnson"
          ],
          [
           "Stephen Jackson"
          ],
          [
           "Cedric Henderson"
          ],
          [
           "Alvin Williams"
          ],
          [
           "Predrag Drobnjak"
          ],
          [
           "Chris Crawford"
          ],
          [
           "Mark Blount"
          ],
          [
           "Adrian Griffin"
          ],
          [
           "Kevin Ollie"
          ],
          [
           "Michael Stewart"
          ],
          [
           "Rick Brunson"
          ],
          [
           "Troy Hudson"
          ],
          [
           "Mikki Moore"
          ],
          [
           "Michael Olowokandi"
          ],
          [
           "Mike Bibby"
          ],
          [
           "Raef LaFrentz"
          ],
          [
           "Antawn Jamison"
          ],
          [
           "Vince Carter"
          ],
          [
           "Robert Traylor"
          ],
          [
           "Jason Williams"
          ],
          [
           "Larry Hughes"
          ],
          [
           "Dirk Nowitzki"
          ],
          [
           "Paul Pierce"
          ],
          [
           "Bonzi Wells"
          ],
          [
           "Michael Doleac"
          ],
          [
           "Keon Clark"
          ],
          [
           "Michael Dickerson"
          ],
          [
           "Matt Harpring"
          ],
          [
           "Bryce Drew"
          ],
          [
           "Rasho Nesterovic"
          ],
          [
           "Pat Garrity"
          ],
          [
           "Roshown McLeod"
          ],
          [
           "Ricky Davis"
          ],
          [
           "Brian Skinner"
          ],
          [
           "Tyronn Lue"
          ],
          [
           "Felipe Lopez"
          ],
          [
           "Al Harrington"
          ],
          [
           "Vladimir Stepania"
          ],
          [
           "Corey Benjamin"
          ],
          [
           "Nazr Mohammed"
          ],
          [
           "Ruben Patterson"
          ],
          [
           "Rashard Lewis"
          ],
          [
           "Jelani McCoy"
          ],
          [
           "Shammond Williams"
          ],
          [
           "Bruno Sundov"
          ],
          [
           "Jerome James"
          ],
          [
           "Rafer Alston"
          ],
          [
           "Cuttino Mobley"
          ],
          [
           "Jahidi White"
          ],
          [
           "Sean Marks"
          ],
          [
           "Greg Buckner"
          ],
          [
           "Ryan Bowen"
          ],
          [
           "Damon Jones"
          ],
          [
           "Brad Miller"
          ],
          [
           "Tyrone Nesby"
          ],
          [
           "Anthony Carter"
          ],
          [
           "Earl Boykins"
          ],
          [
           "Charles R. Jones"
          ],
          [
           "Elton Brand"
          ],
          [
           "Steve Francis"
          ],
          [
           "Baron Davis"
          ],
          [
           "Lamar Odom"
          ],
          [
           "Jonathan Bender"
          ],
          [
           "Wally Szczerbiak"
          ],
          [
           "Richard Hamilton"
          ],
          [
           "Andre Miller"
          ],
          [
           "Shawn Marion"
          ],
          [
           "Jason Terry"
          ],
          [
           "Trajan Langdon"
          ],
          [
           "Corey Maggette"
          ],
          [
           "William Avery"
          ],
          [
           "Metta World Peace"
          ],
          [
           "Cal Bowdler"
          ],
          [
           "James Posey"
          ],
          [
           "Dion Glover"
          ],
          [
           "Jeff Foster"
          ],
          [
           "Kenny Thomas"
          ],
          [
           "Devean George"
          ],
          [
           "Andrei Kirilenko"
          ],
          [
           "Vonteego Cummings"
          ],
          [
           "Jumaine Jones"
          ],
          [
           "Scott Padgett"
          ],
          [
           "Calvin Booth"
          ],
          [
           "Wang Zhi-zhi"
          ],
          [
           "Laron Profit"
          ],
          [
           "Gordan Giricek"
          ],
          [
           "Francisco Elson"
          ],
          [
           "Lee Nailon"
          ],
          [
           "Todd MacCulloch"
          ],
          [
           "Rodney Buford"
          ],
          [
           "Manu Ginobili"
          ],
          [
           "Eddie Robinson"
          ],
          [
           "Raja Bell"
          ],
          [
           "Ira Newble"
          ],
          [
           "Milt Palacio"
          ],
          [
           "Kenyon Martin"
          ],
          [
           "Stromile Swift"
          ],
          [
           "Darius Miles"
          ],
          [
           "Marcus Fizer"
          ],
          [
           "Mike Miller"
          ],
          [
           "DerMarr Johnson"
          ],
          [
           "Chris Mihm"
          ],
          [
           "Jamal Crawford"
          ],
          [
           "Joel Przybilla"
          ],
          [
           "Keyon Dooling"
          ],
          [
           "Etan Thomas"
          ],
          [
           "Courtney Alexander"
          ],
          [
           "Mateen Cleaves"
          ],
          [
           "Hedo Turkoglu"
          ],
          [
           "Desmond Mason"
          ],
          [
           "Quentin Richardson"
          ],
          [
           "Jamaal Magloire"
          ],
          [
           "Speedy Claxton"
          ],
          [
           "Morris Peterson"
          ],
          [
           "Donnell Harvey"
          ],
          [
           "DeShawn Stevenson"
          ],
          [
           "Primoz Brezec"
          ],
          [
           "Mark Madsen"
          ],
          [
           "Eduardo Najera"
          ],
          [
           "Marko Jaric"
          ],
          [
           "Dan Langhi"
          ],
          [
           "A.J. Guyton"
          ],
          [
           "Jake Voskuhl"
          ],
          [
           "Eddie House"
          ],
          [
           "Michael Redd"
          ],
          [
           "Brian Cardinal"
          ],
          [
           "Jabari Smith"
          ],
          [
           "Jason Hart"
          ],
          [
           "Slava Medvedenko"
          ],
          [
           "Eddie Gill"
          ],
          [
           "Malik Allen"
          ],
          [
           "Ime Udoka"
          ],
          [
           "Kwame Brown"
          ],
          [
           "Tyson Chandler"
          ],
          [
           "Pau Gasol"
          ],
          [
           "Eddy Curry"
          ],
          [
           "Jason Richardson"
          ],
          [
           "Shane Battier"
          ],
          [
           "Eddie Griffin"
          ],
          [
           "DeSagana Diop"
          ],
          [
           "Rodney White"
          ],
          [
           "Joe Johnson"
          ],
          [
           "Kedrick Brown"
          ],
          [
           "Vladimir Radmanovic"
          ],
          [
           "Richard Jefferson"
          ],
          [
           "Troy Murphy"
          ],
          [
           "Steven Hunter"
          ],
          [
           "Jason Collins"
          ],
          [
           "Zach Randolph"
          ],
          [
           "Brendan Haywood"
          ],
          [
           "Brandon Armstrong"
          ],
          [
           "Gerald Wallace"
          ],
          [
           "Samuel Dalembert"
          ],
          [
           "Jamaal Tinsley"
          ],
          [
           "Tony Parker"
          ],
          [
           "Will Solomon"
          ],
          [
           "Mike James"
          ],
          [
           "Maurice Evans"
          ],
          [
           "Trenton Hassell"
          ],
          [
           "Gilbert Arenas"
          ],
          [
           "Brian Scalabrine"
          ],
          [
           "Mehmet Okur"
          ],
          [
           "Earl Watson"
          ],
          [
           "Bobby Simmons"
          ],
          [
           "Jarron Collins"
          ],
          [
           "Kenny Satterfield"
          ],
          [
           "Charlie Bell"
          ],
          [
           "Carlos Arroyo"
          ],
          [
           "Chris Andersen"
          ],
          [
           "Mike Wilks"
          ],
          [
           "Yao Ming"
          ],
          [
           "Jay Williams"
          ],
          [
           "Mike Dunleavy"
          ],
          [
           "Drew Gooden"
          ],
          [
           "Nikoloz Tskitishvili"
          ],
          [
           "Dajuan Wagner"
          ],
          [
           "Nene"
          ],
          [
           "Chris Wilcox"
          ],
          [
           "Amar'e Stoudemire"
          ],
          [
           "Caron Butler"
          ],
          [
           "Jared Jeffries"
          ],
          [
           "Melvin Ely"
          ],
          [
           "Fred Jones"
          ],
          [
           "Bostjan Nachbar"
          ],
          [
           "Jiri Welsch"
          ],
          [
           "Juan Dixon"
          ],
          [
           "Kareem Rush"
          ],
          [
           "Qyntel Woods"
          ],
          [
           "Casey Jacobsen"
          ],
          [
           "Tayshaun Prince"
          ],
          [
           "Nenad Krstic"
          ],
          [
           "John Salmons"
          ],
          [
           "Dan Dickau"
          ],
          [
           "Roger Mason Jr."
          ],
          [
           "Dan Gadzuric"
          ],
          [
           "Carlos Boozer"
          ],
          [
           "Juan Carlos Navarro"
          ],
          [
           "Flip Murray"
          ],
          [
           "Matt Barnes"
          ],
          [
           "Darius Songaila"
          ],
          [
           "Rasual Butler"
          ],
          [
           "Luis Scola"
          ],
          [
           "J.R. Bremer"
          ],
          [
           "Junior Harrington"
          ],
          [
           "Jannero Pargo"
          ],
          [
           "Pat Burke"
          ],
          [
           "Smush Parker"
          ],
          [
           "Devin Brown"
          ],
          [
           "Reggie Evans"
          ],
          [
           "LeBron James"
          ],
          [
           "Darko Milicic"
          ],
          [
           "Carmelo Anthony"
          ],
          [
           "Chris Bosh"
          ],
          [
           "Dwyane Wade"
          ],
          [
           "Chris Kaman"
          ],
          [
           "Kirk Hinrich"
          ],
          [
           "T.J. Ford"
          ],
          [
           "Michael Sweetney"
          ],
          [
           "Jarvis Hayes"
          ],
          [
           "Mickael Pietrus"
          ],
          [
           "Nick Collison"
          ],
          [
           "Marcus Banks"
          ],
          [
           "Luke Ridnour"
          ],
          [
           "David West"
          ],
          [
           "Sasha Pavlovic"
          ],
          [
           "Dahntay Jones"
          ],
          [
           "Boris Diaw"
          ],
          [
           "Travis Outlaw"
          ],
          [
           "Brian Cook"
          ],
          [
           "Carlos Delfino"
          ],
          [
           "Kendrick Perkins"
          ],
          [
           "Leandro Barbosa"
          ],
          [
           "Josh Howard"
          ],
          [
           "Jason Kapono"
          ],
          [
           "Luke Walton"
          ],
          [
           "Steve Blake"
          ],
          [
           "Willie Green"
          ],
          [
           "Zaza Pachulia"
          ],
          [
           "Keith Bogans"
          ],
          [
           "Matt Bonner"
          ],
          [
           "Mo Williams"
          ],
          [
           "James Jones"
          ],
          [
           "Kyle Korver"
          ],
          [
           "Marquis Daniels"
          ],
          [
           "Udonis Haslem"
          ],
          [
           "Quinton Ross"
          ],
          [
           "Ronald Dupree"
          ],
          [
           "Matt Carroll"
          ],
          [
           "Keith McLeod"
          ],
          [
           "Josh Powell"
          ],
          [
           "Dwight Howard"
          ],
          [
           "Emeka Okafor"
          ],
          [
           "Ben Gordon"
          ],
          [
           "Shaun Livingston"
          ],
          [
           "Devin Harris"
          ],
          [
           "Josh Childress"
          ],
          [
           "Luol Deng"
          ],
          [
           "Andre Iguodala"
          ],
          [
           "Andris Biedrins"
          ],
          [
           "Sebastian Telfair"
          ],
          [
           "Kris Humphries"
          ],
          [
           "Al Jefferson"
          ],
          [
           "Kirk Snyder"
          ],
          [
           "Josh Smith"
          ],
          [
           "JR Smith"
          ],
          [
           "Dorell Wright"
          ],
          [
           "Jameer Nelson"
          ],
          [
           "Viktor Khryapa"
          ],
          [
           "Delonte West"
          ],
          [
           "Tony Allen"
          ],
          [
           "Kevin Martin"
          ],
          [
           "Sasha Vujacic"
          ],
          [
           "Beno Udrih"
          ],
          [
           "Anderson Varejao"
          ],
          [
           "Royal Ivey"
          ],
          [
           "Chris Duhon"
          ],
          [
           "Trevor Ariza"
          ],
          [
           "DJ Mbenga"
          ],
          [
           "Andres Nocioni"
          ],
          [
           "Earl Barron"
          ],
          [
           "Damien Wilkins"
          ],
          [
           "Andrew Bogut"
          ],
          [
           "Marvin Williams"
          ],
          [
           "Chris Paul"
          ],
          [
           "Raymond Felton"
          ],
          [
           "Martell Webster"
          ],
          [
           "Charlie Villanueva"
          ],
          [
           "Channing Frye"
          ],
          [
           "Ike Diogu"
          ],
          [
           "Deron Williams"
          ],
          [
           "Andrew Bynum"
          ],
          [
           "Rashad McCants"
          ],
          [
           "Antoine Wright"
          ],
          [
           "Joey Graham"
          ],
          [
           "Danny Granger"
          ],
          [
           "Gerald Green"
          ],
          [
           "Hakim Warrick"
          ],
          [
           "Nate Robinson"
          ],
          [
           "Jarrett Jack"
          ],
          [
           "Francisco Garcia"
          ],
          [
           "Luther Head"
          ],
          [
           "Johan Petro"
          ],
          [
           "Jason Maxiell"
          ],
          [
           "Linas Kleiza"
          ],
          [
           "Ian Mahinmi"
          ],
          [
           "David Lee"
          ],
          [
           "Salim Stoudamire"
          ],
          [
           "Brandon Bass"
          ],
          [
           "CJ Miles"
          ],
          [
           "Ersan Ilyasova"
          ],
          [
           "Ronny Turiaf"
          ],
          [
           "Travis Diener"
          ],
          [
           "Von Wafer"
          ],
          [
           "Monta Ellis"
          ],
          [
           "Lou Williams"
          ],
          [
           "Mickael Gelabale"
          ],
          [
           "Andray Blatche"
          ],
          [
           "Ryan Gomes"
          ],
          [
           "Amir Johnson"
          ],
          [
           "Marcin Gortat"
          ],
          [
           "Ronnie Price"
          ],
          [
           "Jose Calderon"
          ],
          [
           "Alan Anderson"
          ],
          [
           "James Singleton"
          ],
          [
           "Will Bynum"
          ],
          [
           "Stephen Graham"
          ],
          [
           "Kelenna Azubuike"
          ],
          [
           "Chuck Hayes"
          ],
          [
           "John Lucas III"
          ],
          [
           "Jamario Moon"
          ],
          [
           "Andrea Bargnani"
          ],
          [
           "LaMarcus Aldridge"
          ],
          [
           "Adam Morrison"
          ],
          [
           "Tyrus Thomas"
          ],
          [
           "Shelden Williams"
          ],
          [
           "Brandon Roy"
          ],
          [
           "Randy Foye"
          ],
          [
           "Rudy Gay"
          ],
          [
           "JJ Redick"
          ],
          [
           "Hilton Armstrong"
          ],
          [
           "Thabo Sefolosha"
          ],
          [
           "Ronnie Brewer"
          ],
          [
           "Rodney Carney"
          ],
          [
           "Shawne Williams"
          ],
          [
           "Oleksiy Pecherov"
          ],
          [
           "Quincy Douby"
          ],
          [
           "Renaldo Balkman"
          ],
          [
           "Rajon Rondo"
          ],
          [
           "Marcus Williams"
          ],
          [
           "Josh Boone"
          ],
          [
           "Kyle Lowry"
          ],
          [
           "Shannon Brown"
          ],
          [
           "Jordan Farmar"
          ],
          [
           "Sergio Rodriguez"
          ],
          [
           "Maurice Ager"
          ],
          [
           "Mardy Collins"
          ],
          [
           "Steve Novak"
          ],
          [
           "Solomon Jones"
          ],
          [
           "P.J. Tucker"
          ],
          [
           "Craig Smith"
          ],
          [
           "Daniel Gibson"
          ],
          [
           "Paul Millsap"
          ],
          [
           "Leon Powe"
          ],
          [
           "Ryan Hollins"
          ],
          [
           "Chris Quinn"
          ],
          [
           "Lou Amundson"
          ],
          [
           "Tarence Kinsey"
          ],
          [
           "Yakhouba Diawara"
          ],
          [
           "J.J. Barea"
          ],
          [
           "Walter Herrmann"
          ],
          [
           "Kevin Durant"
          ],
          [
           "Al Horford"
          ],
          [
           "Mike Conley"
          ],
          [
           "Jeff Green"
          ],
          [
           "Yi Jianlian"
          ],
          [
           "Corey Brewer"
          ],
          [
           "Brandan Wright"
          ],
          [
           "Joakim Noah"
          ],
          [
           "Spencer Hawes"
          ],
          [
           "Acie Law"
          ],
          [
           "Thaddeus Young"
          ],
          [
           "Julian Wright"
          ],
          [
           "Al Thornton"
          ],
          [
           "Rodney Stuckey"
          ],
          [
           "Nick Young"
          ],
          [
           "Marco Belinelli"
          ],
          [
           "Javaris Crittenton"
          ],
          [
           "Jason Smith"
          ],
          [
           "Daequan Cook"
          ],
          [
           "Jared Dudley"
          ],
          [
           "Wilson Chandler"
          ],
          [
           "Rudy Fernandez"
          ],
          [
           "Aaron Brooks"
          ],
          [
           "Arron Afflalo"
          ],
          [
           "Tiago Splitter"
          ],
          [
           "Carl Landry"
          ],
          [
           "Glen Davis"
          ],
          [
           "Josh McRoberts"
          ],
          [
           "Dominic McGuire"
          ],
          [
           "Marc Gasol"
          ],
          [
           "Aaron Gray"
          ],
          [
           "Ramon Sessions"
          ],
          [
           "Joel Anthony"
          ],
          [
           "C.J. Watson"
          ],
          [
           "Anthony Tolliver"
          ],
          [
           "Michael Beasley"
          ],
          [
           "O.J. Mayo"
          ],
          [
           "Derrick Rose"
          ],
          [
           "Russell Westbrook"
          ],
          [
           "Kevin Love"
          ],
          [
           "Danilo Gallinari"
          ],
          [
           "Eric Gordon"
          ],
          [
           "D.J. Augustin"
          ],
          [
           "Brook Lopez"
          ],
          [
           "Jerryd Bayless"
          ],
          [
           "Jason Thompson"
          ],
          [
           "Brandon Rush"
          ],
          [
           "Anthony Randolph"
          ],
          [
           "Robin Lopez"
          ],
          [
           "Marreese Speights"
          ],
          [
           "Roy Hibbert"
          ],
          [
           "JaVale McGee"
          ],
          [
           "JJ Hickson"
          ],
          [
           "Alexis Ajinca"
          ],
          [
           "Ryan Anderson"
          ],
          [
           "Courtney Lee"
          ],
          [
           "Kosta Koufos"
          ],
          [
           "Serge Ibaka"
          ],
          [
           "Nicolas Batum"
          ],
          [
           "George Hill"
          ],
          [
           "Darrell Arthur"
          ],
          [
           "Donte Greene"
          ],
          [
           "DJ White"
          ],
          [
           "Nikola Pekovic"
          ],
          [
           "Mario Chalmers"
          ],
          [
           "DeAndre Jordan"
          ],
          [
           "Omer Asik"
          ],
          [
           "Luc Mbah a Moute"
          ],
          [
           "Sonny Weems"
          ],
          [
           "Chris Douglas-Roberts"
          ],
          [
           "Goran Dragic"
          ],
          [
           "Henry Walker"
          ],
          [
           "Anthony Morrow"
          ],
          [
           "Bobby Brown"
          ],
          [
           "Gary Forbes"
          ],
          [
           "Cartier Martin"
          ],
          [
           "Blake Griffin"
          ],
          [
           "James Harden"
          ],
          [
           "Tyreke Evans"
          ],
          [
           "Ricky Rubio"
          ],
          [
           "Jonny Flynn"
          ],
          [
           "Stephen Curry"
          ],
          [
           "Jordan Hill"
          ],
          [
           "DeMar DeRozan"
          ],
          [
           "Brandon Jennings"
          ],
          [
           "Terrence Williams"
          ],
          [
           "Gerald Henderson"
          ],
          [
           "Tyler Hansbrough"
          ],
          [
           "Earl Clark"
          ],
          [
           "Austin Daye"
          ],
          [
           "James Johnson"
          ],
          [
           "Jrue Holiday"
          ],
          [
           "Ty Lawson"
          ],
          [
           "Jeff Teague"
          ],
          [
           "Eric Maynor"
          ],
          [
           "Darren Collison"
          ],
          [
           "Omri Casspi"
          ],
          [
           "Byron Mullens"
          ],
          [
           "Rodrigue Beaubois"
          ],
          [
           "Taj Gibson"
          ],
          [
           "DeMarre Carroll"
          ],
          [
           "Wayne Ellington"
          ],
          [
           "Toney Douglas"
          ],
          [
           "Jeff Ayres"
          ],
          [
           "Dante Cunningham"
          ],
          [
           "Sam Young"
          ],
          [
           "DeJuan Blair"
          ],
          [
           "Jonas Jerebko"
          ],
          [
           "Derrick Brown"
          ],
          [
           "Jodie Meeks"
          ],
          [
           "Patrick Beverley"
          ],
          [
           "Marcus Thornton"
          ],
          [
           "Chase Budinger"
          ],
          [
           "Danny Green"
          ],
          [
           "AJ Price"
          ],
          [
           "Patty Mills"
          ],
          [
           "Garrett Temple"
          ],
          [
           "Wesley Matthews"
          ],
          [
           "Alonzo Gee"
          ],
          [
           "Reggie Williams"
          ],
          [
           "Sundiata Gaines"
          ],
          [
           "John Wall"
          ],
          [
           "Evan Turner"
          ],
          [
           "Derrick Favors"
          ],
          [
           "Wesley Johnson"
          ],
          [
           "DeMarcus Cousins"
          ],
          [
           "Ekpe Udoh"
          ],
          [
           "Greg Monroe"
          ],
          [
           "Al-Farouq Aminu"
          ],
          [
           "Gordon Hayward"
          ],
          [
           "Paul George"
          ],
          [
           "Cole Aldrich"
          ],
          [
           "Xavier Henry"
          ],
          [
           "Ed Davis"
          ],
          [
           "Patrick Patterson"
          ],
          [
           "Larry Sanders"
          ],
          [
           "Luke Babbitt"
          ],
          [
           "Kevin Seraphin"
          ],
          [
           "Eric Bledsoe"
          ],
          [
           "Avery Bradley"
          ],
          [
           "James Anderson"
          ],
          [
           "Trevor Booker"
          ],
          [
           "Quincy Pondexter"
          ],
          [
           "Jordan Crawford"
          ],
          [
           "Greivis Vasquez"
          ],
          [
           "Hassan Whiteside"
          ],
          [
           "Nemanja Bjelica"
          ],
          [
           "Landry Fields"
          ],
          [
           "Lance Stephenson"
          ],
          [
           "Jeremy Evans"
          ],
          [
           "Donald Sloan"
          ],
          [
           "Timofey Mozgov"
          ],
          [
           "Gary Neal"
          ],
          [
           "Jeremy Lin"
          ],
          [
           "Ish Smith"
          ],
          [
           "Lance Thomas"
          ],
          [
           "Kyrie Irving"
          ],
          [
           "Derrick Williams"
          ],
          [
           "Enes Kanter"
          ],
          [
           "Tristan Thompson"
          ],
          [
           "Jonas Valanciunas"
          ],
          [
           "Bismack Biyombo"
          ],
          [
           "Brandon Knight"
          ],
          [
           "Kemba Walker"
          ],
          [
           "Jimmer Fredette"
          ],
          [
           "Klay Thompson"
          ],
          [
           "Alec Burks"
          ],
          [
           "Markieff Morris"
          ],
          [
           "Marcus Morris Sr."
          ],
          [
           "Kawhi Leonard"
          ],
          [
           "Nikola Vucevic"
          ],
          [
           "Iman Shumpert"
          ],
          [
           "Tobias Harris"
          ],
          [
           "Donatas Motiejunas"
          ],
          [
           "Kenneth Faried"
          ],
          [
           "Nikola Mirotic"
          ],
          [
           "Reggie Jackson"
          ],
          [
           "MarShon Brooks"
          ],
          [
           "Jordan Hamilton"
          ],
          [
           "Norris Cole"
          ],
          [
           "Cory Joseph"
          ],
          [
           "Jimmy Butler"
          ],
          [
           "Bojan Bogdanovic"
          ],
          [
           "Kyle Singler"
          ],
          [
           "Shelvin Mack"
          ],
          [
           "Chandler Parsons"
          ],
          [
           "Jeremy Tyler"
          ],
          [
           "Jon Leuer"
          ],
          [
           "Davis Bertans"
          ],
          [
           "Lavoy Allen"
          ],
          [
           "E'Twaun Moore"
          ],
          [
           "Isaiah Thomas"
          ],
          [
           "Anthony Davis"
          ],
          [
           "Michael Kidd-Gilchrist"
          ],
          [
           "Bradley Beal"
          ],
          [
           "Dion Waiters"
          ],
          [
           "Thomas Robinson"
          ],
          [
           "Damian Lillard"
          ],
          [
           "Terrence Ross"
          ],
          [
           "Andre Drummond"
          ],
          [
           "Harrison Barnes"
          ],
          [
           "Austin Rivers"
          ],
          [
           "Meyers Leonard"
          ],
          [
           "Jeremy Lamb"
          ],
          [
           "Kendall Marshall"
          ],
          [
           "John Henson"
          ],
          [
           "Maurice Harkless"
          ],
          [
           "Tyler Zeller"
          ],
          [
           "Terrence Jones"
          ],
          [
           "Andrew Nicholson"
          ],
          [
           "Evan Fournier"
          ],
          [
           "Jared Sullinger"
          ],
          [
           "John Jenkins"
          ],
          [
           "Tony Wroten"
          ],
          [
           "Miles Plumlee"
          ],
          [
           "Perry Jones III"
          ],
          [
           "Tomas Satoransky"
          ],
          [
           "Jae Crowder"
          ],
          [
           "Draymond Green"
          ],
          [
           "Quincy Acy"
          ],
          [
           "Khris Middleton"
          ],
          [
           "Will Barton"
          ],
          [
           "Mike Scott"
          ],
          [
           "Darius Miller"
          ],
          [
           "Kyle O'Quinn"
          ],
          [
           "Robert Sacre"
          ],
          [
           "Hollis Thompson"
          ],
          [
           "Mirza Teletovic"
          ],
          [
           "Chris Copeland"
          ],
          [
           "Alexey Shved"
          ],
          [
           "Kent Bazemore"
          ],
          [
           "Brian Roberts"
          ],
          [
           "Justin Holiday"
          ],
          [
           "JaMychal Green"
          ],
          [
           "Aron Baynes"
          ],
          [
           "Nerlens Noel"
          ],
          [
           "Alex Len"
          ],
          [
           "Allen Crabbe"
          ],
          [
           "Andre Roberson"
          ],
          [
           "Anthony Bennett"
          ],
          [
           "Archie Goodwin"
          ],
          [
           "Ben McLemore"
          ],
          [
           "CJ McCollum"
          ],
          [
           "Cody Zeller"
          ],
          [
           "Dennis Schroder"
          ],
          [
           "Dewayne Dedmon"
          ],
          [
           "Gorgui Dieng"
          ],
          [
           "Isaiah Canaan"
          ],
          [
           "Kelly Olynyk"
          ],
          [
           "Kentavious Caldwell-Pope"
          ],
          [
           "Mason Plumlee"
          ],
          [
           "Michael Carter-Williams"
          ],
          [
           "Mike Muscala"
          ],
          [
           "Otto Porter Jr."
          ],
          [
           "Ray McCallum"
          ],
          [
           "Reggie Bullock"
          ],
          [
           "Robert Covington"
          ],
          [
           "Rudy Gobert"
          ],
          [
           "Shabazz Muhammad"
          ],
          [
           "Shane Larkin"
          ],
          [
           "Steven Adams"
          ],
          [
           "Tim Hardaway Jr."
          ],
          [
           "Tony Snell"
          ],
          [
           "Trey Burke"
          ],
          [
           "Victor Oladipo"
          ],
          [
           "Giannis Antetokounmpo"
          ],
          [
           "James Ennis III"
          ],
          [
           "Alex Abrines"
          ],
          [
           "Matthew Dellavedova"
          ],
          [
           "Solomon Hill"
          ],
          [
           "Raul Neto"
          ],
          [
           "Ryan Kelly"
          ],
          [
           "Joffrey Lauvergne"
          ],
          [
           "Ian Clark"
          ],
          [
           "Seth Curry"
          ],
          [
           "Troy Daniels"
          ],
          [
           "Rodney McGruder"
          ],
          [
           "Jonathon Simmons"
          ],
          [
           "Shabazz Napier"
          ],
          [
           "Jordan McRae"
          ],
          [
           "Zach LaVine"
          ],
          [
           "Tyler Ennis"
          ],
          [
           "Markel Brown"
          ],
          [
           "Elfrid Payton"
          ],
          [
           "Jordan Clarkson"
          ],
          [
           "KJ McDaniels"
          ],
          [
           "Gary Harris"
          ],
          [
           "Spencer Dinwiddie"
          ],
          [
           "Nik Stauskas"
          ],
          [
           "Rodney Hood"
          ],
          [
           "Glenn Robinson III"
          ],
          [
           "Jerami Grant"
          ],
          [
           "Joe Harris"
          ],
          [
           "Doug McDermott"
          ],
          [
           "Sean Kilpatrick"
          ],
          [
           "Aaron Gordon"
          ],
          [
           "T.J. Warren"
          ],
          [
           "Marcus Smart"
          ],
          [
           "Kyle Anderson"
          ],
          [
           "Dwight Powell"
          ],
          [
           "Noah Vonleh"
          ],
          [
           "Julius Randle"
          ],
          [
           "Johnny O'Bryant III"
          ],
          [
           "James Michael McAdoo"
          ],
          [
           "Andrew Wiggins"
          ],
          [
           "Jabari Parker"
          ],
          [
           "Joel Embiid"
          ],
          [
           "Dante Exum"
          ],
          [
           "JaKarr Sampson"
          ],
          [
           "Dario Saric"
          ],
          [
           "Clint Capela"
          ],
          [
           "Bogdan Bogdanovic"
          ],
          [
           "Jusuf Nurkic"
          ],
          [
           "Nikola Jokic"
          ],
          [
           "Kristaps Porzingis"
          ],
          [
           "Tyler Johnson"
          ],
          [
           "Tim Frazier"
          ],
          [
           "Langston Galloway"
          ],
          [
           "Joe Ingles"
          ],
          [
           "T.J. McConnell"
          ],
          [
           "Jahlil Okafor"
          ],
          [
           "Emmanuel Mudiay"
          ],
          [
           "Tyus Jones"
          ],
          [
           "Justin Anderson"
          ],
          [
           "Montrezl Harrell"
          ],
          [
           "Andrew Harrison"
          ],
          [
           "Delon Wright"
          ],
          [
           "Sam Dekker"
          ],
          [
           "D'Angelo Russell"
          ],
          [
           "Karl-Anthony Towns"
          ],
          [
           "Richaun Holmes"
          ],
          [
           "Justise Winslow"
          ],
          [
           "Willie Cauley-Stein"
          ],
          [
           "Kelly Oubre Jr."
          ],
          [
           "Frank Kaminsky"
          ],
          [
           "Devin Booker"
          ],
          [
           "Cameron Payne"
          ],
          [
           "Myles Turner"
          ],
          [
           "Trey Lyles"
          ],
          [
           "Stanley Johnson"
          ],
          [
           "Jerian Grant"
          ],
          [
           "Bobby Portis"
          ],
          [
           "Kevon Looney"
          ],
          [
           "Rashad Vaughn"
          ],
          [
           "Christian Wood"
          ],
          [
           "Rondae Hollis-Jefferson"
          ],
          [
           "Terry Rozier"
          ],
          [
           "Norman Powell"
          ],
          [
           "Jarell Martin"
          ],
          [
           "Quinn Cook"
          ],
          [
           "Pat Connaughton"
          ],
          [
           "Willy Hernangomez"
          ],
          [
           "Josh Richardson"
          ],
          [
           "Joe Young"
          ],
          [
           "Treveon Graham"
          ],
          [
           "Larry Nance Jr."
          ],
          [
           "Mario Hezonja"
          ],
          [
           "Royce O'Neale"
          ],
          [
           "Cedi Osman"
          ],
          [
           "Cristiano Felicio"
          ],
          [
           "Boban Marjanovic"
          ],
          [
           "Ben Simmons"
          ],
          [
           "Domantas Sabonis"
          ],
          [
           "Malik Beasley"
          ],
          [
           "Marquese Chriss"
          ],
          [
           "Kris Dunn"
          ],
          [
           "Henry Ellenson"
          ],
          [
           "Buddy Hield"
          ],
          [
           "Brandon Ingram"
          ],
          [
           "Skal Labissiere"
          ],
          [
           "Caris LeVert"
          ],
          [
           "Thon Maker"
          ],
          [
           "Dejounte Murray"
          ],
          [
           "Jamal Murray"
          ],
          [
           "Jakob Poeltl"
          ],
          [
           "Taurean Prince"
          ],
          [
           "Tyler Ulis"
          ],
          [
           "Denzel Valentine"
          ],
          [
           "Jaylen Brown"
          ],
          [
           "DeAndre' Bembry"
          ],
          [
           "Malcolm Brogdon"
          ],
          [
           "Cheick Diallo"
          ],
          [
           "Jake Layman"
          ],
          [
           "Patrick McCaw"
          ],
          [
           "Georges Niang"
          ],
          [
           "Wayne Selden"
          ],
          [
           "Pascal Siakam"
          ],
          [
           "Furkan Korkmaz"
          ],
          [
           "Timothe Luwawu-Cabarrot"
          ],
          [
           "Ante Zizic"
          ],
          [
           "Yogi Ferrell"
          ],
          [
           "Damion Lee"
          ],
          [
           "Juancho Hernangomez"
          ],
          [
           "Dorian Finney-Smith"
          ],
          [
           "Fred VanVleet"
          ],
          [
           "Abdel Nader"
          ],
          [
           "Bryn Forbes"
          ],
          [
           "Danuel House Jr."
          ],
          [
           "Derrick Jones Jr."
          ],
          [
           "Shaquille Harrison"
          ],
          [
           "Markelle Fultz"
          ],
          [
           "Lonzo Ball"
          ],
          [
           "Josh Jackson"
          ],
          [
           "De'Aaron Fox"
          ],
          [
           "Jayson Tatum"
          ],
          [
           "Malik Monk"
          ],
          [
           "Jonathan Isaac"
          ],
          [
           "Dennis Smith Jr."
          ],
          [
           "Frank Ntilikina"
          ],
          [
           "Lauri Markkanen"
          ],
          [
           "Donovan Mitchell"
          ],
          [
           "Luke Kennard"
          ],
          [
           "John Collins"
          ],
          [
           "Justin Jackson"
          ],
          [
           "Jarrett Allen"
          ],
          [
           "Bam Adebayo"
          ],
          [
           "Terrance Ferguson"
          ],
          [
           "D.J. Wilson"
          ],
          [
           "Jordan Bell"
          ],
          [
           "Kyle Kuzma"
          ],
          [
           "Derrick White"
          ],
          [
           "Frank Jackson"
          ],
          [
           "Josh Hart"
          ],
          [
           "Dwayne Bacon"
          ],
          [
           "Frank Mason"
          ],
          [
           "Dillon Brooks"
          ],
          [
           "Tyler Dorsey"
          ],
          [
           "Thomas Bryant"
          ],
          [
           "Monte Morris"
          ],
          [
           "Damyean Dotson"
          ],
          [
           "Sterling Brown"
          ],
          [
           "Maxi Kleber"
          ],
          [
           "Antonio Blakeney"
          ],
          [
           "Mikal Bridges"
          ],
          [
           "Miles Bridges"
          ],
          [
           "Troy Brown Jr."
          ],
          [
           "Jalen Brunson"
          ],
          [
           "Shai Gilgeous-Alexander"
          ],
          [
           "Devonte' Graham"
          ],
          [
           "Aaron Holiday"
          ],
          [
           "Kevin Huerter"
          ],
          [
           "Jaren Jackson Jr."
          ],
          [
           "Kevin Knox II"
          ],
          [
           "De'Anthony Melton"
          ],
          [
           "Josh Okogie"
          ],
          [
           "Jerome Robinson"
          ],
          [
           "Collin Sexton"
          ],
          [
           "Landry Shamet"
          ],
          [
           "Anfernee Simons"
          ],
          [
           "Allonzo Trier"
          ],
          [
           "Trae Young"
          ],
          [
           "Deandre Ayton"
          ],
          [
           "Luka Doncic"
          ],
          [
           "Kendrick Nunn"
          ],
          [
           "Ja Morant"
          ]
         ],
         "hovertemplate": "shooting_percentage=%{x}<br>total_attempts=%{y}<br>player_name=%{customdata[0]}<br>cluster=%{marker.color}<extra></extra>",
         "legendgroup": "",
         "marker": {
          "color": [
           0,
           0,
           0,
           2,
           0,
           2,
           0,
           2,
           2,
           0,
           1,
           0,
           2,
           0,
           2,
           2,
           2,
           1,
           0,
           0,
           1,
           0,
           2,
           0,
           2,
           0,
           2,
           0,
           2,
           2,
           0,
           0,
           0,
           0,
           0,
           1,
           0,
           2,
           2,
           2,
           0,
           1,
           2,
           2,
           0,
           2,
           2,
           2,
           2,
           2,
           0,
           3,
           0,
           1,
           0,
           2,
           0,
           2,
           2,
           2,
           1,
           2,
           2,
           0,
           2,
           0,
           3,
           1,
           0,
           2,
           2,
           2,
           2,
           0,
           0,
           1,
           1,
           0,
           0,
           2,
           1,
           2,
           2,
           2,
           3,
           0,
           3,
           1,
           2,
           0,
           2,
           0,
           2,
           3,
           2,
           3,
           0,
           2,
           2,
           2,
           0,
           2,
           0,
           2,
           0,
           2,
           2,
           2,
           2,
           0,
           0,
           2,
           0,
           1,
           2,
           0,
           3,
           0,
           0,
           0,
           2,
           0,
           0,
           1,
           0,
           0,
           2,
           3,
           0,
           2,
           2,
           0,
           1,
           0,
           2,
           2,
           0,
           2,
           3,
           2,
           2,
           2,
           3,
           0,
           3,
           3,
           3,
           0,
           2,
           2,
           0,
           0,
           0,
           0,
           2,
           0,
           1,
           1,
           0,
           1,
           3,
           3,
           0,
           2,
           2,
           3,
           3,
           1,
           2,
           2,
           1,
           2,
           0,
           3,
           0,
           3,
           2,
           0,
           2,
           2,
           2,
           0,
           0,
           0,
           2,
           2,
           0,
           3,
           2,
           0,
           0,
           2,
           3,
           2,
           0,
           0,
           0,
           1,
           2,
           0,
           0,
           2,
           1,
           0,
           1,
           1,
           1,
           1,
           0,
           2,
           0,
           0,
           0,
           0,
           1,
           2,
           0,
           2,
           1,
           0,
           2,
           0,
           0,
           1,
           1,
           1,
           0,
           2,
           2,
           2,
           0,
           2,
           2,
           3,
           2,
           0,
           2,
           2,
           0,
           3,
           0,
           2,
           3,
           3,
           2,
           1,
           1,
           1,
           0,
           0,
           2,
           1,
           0,
           1,
           3,
           2,
           0,
           2,
           0,
           3,
           2,
           0,
           3,
           2,
           1,
           2,
           2,
           0,
           2,
           1,
           3,
           2,
           2,
           0,
           0,
           0,
           2,
           2,
           2,
           2,
           3,
           2,
           1,
           0,
           1,
           1,
           0,
           2,
           1,
           1,
           1,
           0,
           0,
           3,
           2,
           0,
           2,
           0,
           2,
           0,
           1,
           0,
           0,
           2,
           1,
           0,
           0,
           0,
           0,
           1,
           3,
           0,
           2,
           3,
           2,
           1,
           0,
           0,
           0,
           0,
           2,
           0,
           2,
           2,
           2,
           2,
           1,
           1,
           1,
           1,
           2,
           0,
           1,
           1,
           1,
           1,
           2,
           1,
           2,
           1,
           0,
           2,
           2,
           3,
           0,
           2,
           0,
           2,
           2,
           0,
           3,
           0,
           0,
           0,
           0,
           0,
           3,
           2,
           1,
           3,
           2,
           0,
           0,
           0,
           0,
           0,
           0,
           1,
           2,
           0,
           1,
           3,
           2,
           3,
           2,
           2,
           1,
           2,
           2,
           0,
           2,
           2,
           3,
           2,
           3,
           0,
           0,
           2,
           2,
           2,
           0,
           2,
           1,
           2,
           2,
           2,
           0,
           2,
           0,
           2,
           3,
           3,
           1,
           3,
           1,
           2,
           2,
           2,
           0,
           1,
           2,
           2,
           1,
           2,
           0,
           2,
           1,
           3,
           2,
           1,
           3,
           2,
           1,
           2,
           2,
           0,
           0,
           1,
           2,
           0,
           2,
           0,
           2,
           2,
           2,
           2,
           3,
           0,
           3,
           2,
           1,
           0,
           2,
           2,
           3,
           3,
           3,
           1,
           0,
           0,
           2,
           0,
           2,
           2,
           2,
           0,
           0,
           1,
           0,
           2,
           0,
           2,
           3,
           1,
           0,
           0,
           2,
           3,
           0,
           3,
           2,
           2,
           2,
           2,
           0,
           2,
           2,
           1,
           2,
           1,
           1,
           1,
           0,
           1,
           0,
           0,
           2,
           0,
           3,
           0,
           2,
           1,
           2,
           0,
           0,
           0,
           2,
           2,
           3,
           1,
           0,
           2,
           0,
           2,
           2,
           0,
           2,
           0,
           1,
           2,
           1,
           0,
           0,
           2,
           0,
           2,
           2,
           0,
           3,
           3,
           1,
           0,
           1,
           3,
           1,
           1,
           3,
           2,
           0,
           1,
           0,
           1,
           1,
           2,
           1,
           0,
           0,
           3,
           1,
           2,
           0,
           3,
           2,
           2,
           1,
           0,
           2,
           2,
           0,
           3,
           0,
           1,
           1,
           2,
           2,
           0,
           0,
           1,
           3,
           0,
           2,
           2,
           1,
           2,
           3,
           1,
           1,
           2,
           2,
           0,
           3,
           2,
           3,
           3,
           2,
           0,
           2,
           0,
           3,
           2,
           2,
           1,
           1,
           0,
           0,
           2,
           3,
           3,
           2,
           0,
           2,
           0,
           0,
           0,
           0,
           3,
           2,
           0,
           2,
           1,
           2,
           0,
           0,
           0,
           1,
           1,
           1,
           0,
           2,
           0,
           0,
           2,
           2,
           2,
           0,
           1,
           2,
           3,
           1,
           0,
           2,
           0,
           2,
           2,
           2,
           3,
           2,
           3,
           2,
           1,
           0,
           3,
           2,
           0,
           0,
           2,
           2,
           0,
           1,
           1,
           1,
           1,
           2,
           0,
           3,
           0,
           0,
           2,
           1,
           3,
           0,
           2,
           2,
           0,
           3,
           2,
           2,
           2,
           2,
           2,
           2,
           1,
           3,
           3,
           0,
           0,
           0,
           1,
           0,
           0,
           3,
           2,
           0,
           0,
           1,
           1,
           1,
           1,
           2,
           1,
           2,
           1,
           2,
           0,
           2,
           0,
           0,
           0,
           0,
           3,
           3,
           3,
           2,
           2,
           3,
           0,
           2,
           1,
           0,
           2,
           3,
           3,
           2,
           3,
           0,
           0,
           0,
           0,
           1,
           0,
           0,
           2,
           0,
           0,
           1,
           1,
           1,
           2,
           2,
           1,
           3,
           1,
           2,
           2,
           2,
           2,
           2,
           2,
           0,
           1,
           0,
           1,
           0,
           1,
           2,
           2,
           0,
           3,
           0,
           0,
           0,
           0,
           0,
           2,
           3,
           0,
           3,
           2,
           2,
           2,
           0,
           2,
           2,
           0,
           2,
           1,
           0,
           0,
           0,
           1,
           0,
           3,
           2,
           1,
           3,
           3,
           2,
           1,
           1,
           3,
           3,
           3,
           0,
           0,
           2,
           0,
           1,
           2,
           2,
           3,
           2,
           2,
           2,
           3,
           0,
           3,
           0,
           3,
           2,
           3,
           2,
           0,
           2,
           0,
           1,
           0,
           3,
           3,
           3,
           3,
           2,
           1,
           0,
           1,
           0,
           0,
           2,
           1,
           1,
           2,
           0,
           0,
           3,
           0,
           1,
           0,
           0,
           2,
           0,
           1,
           0,
           2,
           0,
           0,
           0,
           3,
           0,
           0,
           0,
           1,
           1,
           0,
           1,
           2,
           0,
           1,
           0,
           3,
           0,
           2,
           0,
           2,
           0,
           0,
           0,
           3,
           0,
           2,
           2,
           0,
           2,
           2,
           0,
           2,
           0,
           0,
           0,
           0,
           1,
           2,
           0,
           2,
           0,
           0,
           2,
           2,
           0,
           2,
           2,
           0,
           2,
           0,
           0,
           3,
           0,
           0,
           3,
           0,
           0,
           2,
           1,
           0,
           0,
           3,
           3,
           2,
           3,
           2,
           3,
           0,
           3,
           0,
           2,
           0,
           2,
           3,
           0,
           2,
           3,
           2,
           2,
           2,
           0,
           3,
           2,
           2,
           2,
           0,
           0,
           2,
           3,
           0,
           3,
           0,
           2,
           0,
           2,
           0,
           0,
           2,
           2,
           0,
           0,
           2,
           2,
           2,
           2,
           2,
           0,
           0,
           0,
           0,
           0,
           0,
           3,
           2,
           0,
           3,
           0,
           3,
           2,
           0,
           1,
           0,
           0,
           2,
           0,
           0,
           3,
           2,
           0,
           0,
           2,
           0,
           2,
           2,
           0,
           0,
           3,
           2,
           2,
           2,
           3,
           2,
           0,
           3,
           2,
           0,
           3,
           2,
           3,
           2,
           0,
           0,
           2,
           0,
           0,
           2,
           2,
           0,
           3,
           0,
           3,
           0,
           0,
           0,
           2,
           0,
           0,
           3,
           0,
           2,
           2,
           3,
           0,
           2,
           0,
           3,
           3,
           3,
           3,
           0,
           0,
           0,
           2,
           0,
           0,
           3,
           0,
           0,
           0,
           2,
           3,
           0,
           2,
           2,
           0,
           0,
           0,
           3,
           2,
           2,
           2,
           2,
           3,
           0,
           0,
           3,
           0,
           0,
           0,
           2,
           2,
           0,
           2,
           0,
           3,
           0,
           0,
           2,
           0,
           0,
           0,
           2,
           0,
           0,
           2,
           0,
           0,
           0,
           3,
           2,
           3,
           3,
           2,
           0,
           3,
           0,
           0,
           2,
           2,
           0,
           2,
           2,
           2,
           3,
           0,
           2,
           0,
           0,
           0,
           0,
           0,
           2,
           3,
           3,
           2,
           0,
           0,
           0,
           2,
           2,
           0,
           0,
           0,
           2,
           2,
           0,
           2,
           3,
           0,
           0,
           3
          ],
          "coloraxis": "coloraxis",
          "symbol": "circle"
         },
         "mode": "markers",
         "name": "",
         "showlegend": false,
         "type": "scattergl",
         "x": [
          0.4175257731958763,
          0.47808764940239046,
          0.4244604316546763,
          0.4119496855345912,
          0.4915254237288136,
          0.4158415841584158,
          0.46733668341708545,
          0.3381995133819951,
          0.3554987212276215,
          0.46107784431137727,
          0.46186742694226657,
          0.4212328767123288,
          0.3375,
          0.4409722222222222,
          0.405607476635514,
          0.4074074074074074,
          0.358974358974359,
          0.39666357738646896,
          0.44155844155844154,
          0.48502994011976047,
          0.37155555555555553,
          0.44370860927152317,
          0.4036697247706422,
          0.4542483660130719,
          0.3745583038869258,
          0.49122807017543857,
          0.3415492957746479,
          0.45454545454545453,
          0.3935599284436494,
          0.389873417721519,
          0.42141863699582754,
          0.43213296398891965,
          0.4411764705882353,
          0.4524271844660194,
          0.42990654205607476,
          0.40524193548387094,
          0.44653179190751446,
          0.33480176211453744,
          0.3888888888888889,
          0.38563829787234044,
          0.4444444444444444,
          0.4424484364604125,
          0.36065573770491804,
          0.3526170798898072,
          0.4417808219178082,
          0.3237410071942446,
          0.4051094890510949,
          0.36,
          0.3559322033898305,
          0.36764705882352944,
          0.4396551724137931,
          0.56,
          0.4342105263157895,
          0.43728581220013707,
          0.49612403100775193,
          0.3648068669527897,
          0.479108635097493,
          0.4066666666666667,
          0.39299610894941633,
          0.39737991266375544,
          0.43823529411764706,
          0.3941368078175896,
          0.3856589147286822,
          0.44285714285714284,
          0.36257309941520466,
          0.4479166666666667,
          0.5063291139240507,
          0.3851185609157809,
          0.43636363636363634,
          0.35492957746478876,
          0.39705882352941174,
          0.3598130841121495,
          0.31645569620253167,
          0.4621026894865526,
          0.422360248447205,
          0.4853658536585366,
          0.4555066079295154,
          0.465979381443299,
          0.4925373134328358,
          0.4,
          0.4031587697423109,
          0.40540540540540543,
          0.38636363636363635,
          0.35251798561151076,
          0.5163043478260869,
          0.4857142857142857,
          0.5098425196850394,
          0.44045368620037806,
          0.3486682808716707,
          0.4567243675099867,
          0.37557603686635943,
          0.43333333333333335,
          0.3931034482758621,
          0.5705128205128205,
          0.38726790450928383,
          0.5066666666666667,
          0.44776119402985076,
          0.3858520900321543,
          0.38636363636363635,
          0.4,
          0.425414364640884,
          0.4042328042328042,
          0.4595300261096606,
          0.3360995850622407,
          0.48,
          0.39014373716632444,
          0.4026548672566372,
          0.3625,
          0.387263339070568,
          0.4645669291338583,
          0.4574468085106383,
          0.3632075471698113,
          0.4283121597096189,
          0.37533274179236914,
          0.4157303370786517,
          0.4779874213836478,
          0.5717105263157894,
          0.4212218649517685,
          0.43137254901960786,
          0.45475113122171945,
          0.41,
          0.47619047619047616,
          0.4351297405189621,
          0.44769085768143263,
          0.426517571884984,
          0.45102040816326533,
          0.3967828418230563,
          0.5131086142322098,
          0.4521072796934866,
          0.26717557251908397,
          0.39555555555555555,
          0.44285714285714284,
          0.36435643564356435,
          0.4426229508196721,
          0.4027603513174404,
          0.3942857142857143,
          0.451505016722408,
          0.3112391930835735,
          0.5226130653266332,
          0.3474576271186441,
          0.4096638655462185,
          0.4012345679012346,
          0.5128900949796472,
          0.4810810810810811,
          0.5415549597855228,
          0.5486725663716814,
          0.5828220858895705,
          0.47571606475716066,
          0.3888888888888889,
          0.40625,
          0.4461538461538462,
          0.4353932584269663,
          0.4262295081967213,
          0.48619631901840493,
          0.391820580474934,
          0.4861612515042118,
          0.4582417582417582,
          0.391304347826087,
          0.4175824175824176,
          0.4187311178247734,
          0.512280701754386,
          0.5209003215434084,
          0.47534246575342465,
          0.3693181818181818,
          0.3984287317620651,
          0.5420560747663551,
          0.5263157894736842,
          0.4,
          0.3581081081081081,
          0.39902676399026765,
          0.3690579083837511,
          0.3867924528301887,
          0.4595959595959596,
          0.5300353356890459,
          0.4458874458874459,
          0.5301204819277109,
          0.4105263157894737,
          0.443163097199341,
          0.3970893970893971,
          0.40714285714285714,
          0.39622641509433965,
          0.44266666666666665,
          0.42213114754098363,
          0.42718446601941745,
          0.39631336405529954,
          0.4035947712418301,
          0.4397590361445783,
          0.6186440677966102,
          0.40229885057471265,
          0.4392523364485981,
          0.48638132295719844,
          0.40703517587939697,
          0.5308641975308642,
          0.40672782874617736,
          0.4350453172205438,
          0.43315508021390375,
          0.45871559633027525,
          0.42952380952380953,
          0.40555555555555556,
          0.420824295010846,
          0.4242928452579035,
          0.374113475177305,
          0.4056444818871104,
          0.48885793871866295,
          0.4294820717131474,
          0.4121756487025948,
          0.4262114537444934,
          0.38326258338386904,
          0.4683794466403162,
          0.3829113924050633,
          0.41706161137440756,
          0.4963325183374083,
          0.4351851851851852,
          0.4557377049180328,
          0.47488151658767774,
          0.39198855507868385,
          0.4508670520231214,
          0.3465346534653465,
          0.3812316715542522,
          0.49160671462829736,
          0.3351063829787234,
          0.43820224719101125,
          0.42837078651685395,
          0.40757381258023107,
          0.41346153846153844,
          0.4458874458874459,
          0.46245530393325385,
          0.3764705882352941,
          0.3442622950819672,
          0.3989983305509182,
          0.4236559139784946,
          0.33884297520661155,
          0.3468208092485549,
          0.5224719101123596,
          0.3812636165577342,
          0.48672566371681414,
          0.3177570093457944,
          0.38393839383938394,
          0.46296296296296297,
          0.5134649910233393,
          0.4217391304347826,
          0.3712574850299401,
          0.5014492753623189,
          0.5047021943573667,
          0.4113345521023766,
          0.4805243445692884,
          0.40789473684210525,
          0.39160467587672687,
          0.46163215590742995,
          0.45852534562211983,
          0.4102209944751381,
          0.4165029469548134,
          0.4205298013245033,
          0.3985645933014354,
          0.518796992481203,
          0.32558139534883723,
          0.4271523178807947,
          0.380449141347424,
          0.4816053511705686,
          0.5298804780876494,
          0.39766081871345027,
          0.4266666666666667,
          0.5609756097560976,
          0.3728813559322034,
          0.40452488687782806,
          0.30434782608695654,
          0.40274599542334094,
          0.45514950166112955,
          0.41333333333333333,
          0.3736805066854328,
          0.5,
          0.39798850574712646,
          0.3486238532110092,
          0.4312796208530806,
          0.4760705289672544,
          0.4523809523809524,
          0.38650306748466257,
          0.39285714285714285,
          0.3795918367346939,
          0.38871951219512196,
          0.5397489539748954,
          0.3894736842105263,
          0.39663461538461536,
          0.4270833333333333,
          0.43889479277364507,
          0.4185733512786003,
          0.44664031620553357,
          0.37009544008483564,
          0.4084249084249084,
          0.4321140731556107,
          0.40807616546290215,
          0.46675531914893614,
          0.42388059701492536,
          0.5019011406844106,
          0.3717105263157895,
          0.4730878186968839,
          0.3842364532019704,
          0.4818181818181818,
          0.38813559322033897,
          0.45384615384615384,
          0.42521534847298353,
          0.46798029556650245,
          0.43349753694581283,
          0.4025974025974026,
          0.39825811559778307,
          0.436241610738255,
          0.4520547945205479,
          0.45161290322580644,
          0.471326164874552,
          0.41179744017807457,
          0.6037735849056604,
          0.4511494252873563,
          0.3617021276595745,
          0.5151515151515151,
          0.36017897091722595,
          0.4028294862248697,
          0.48623853211009177,
          0.47058823529411764,
          0.4492753623188406,
          0.4838709677419355,
          0.3728129205921938,
          0.43050430504305043,
          0.380327868852459,
          0.4054726368159204,
          0.3995381062355658,
          0.3300970873786408,
          0.48112560054907344,
          0.41702867072111205,
          0.3665183537263626,
          0.4389416553595658,
          0.3598326359832636,
          0.4611231101511879,
          0.4252232142857143,
          0.40930232558139534,
          0.48869752421959095,
          0.4296724470134875,
          0.40298507462686567,
          0.45327510917030567,
          0.36036036036036034,
          0.375,
          0.45081967213114754,
          0.39666666666666667,
          0.37116564417177916,
          0.5137254901960784,
          0.4372093023255814,
          0.36713286713286714,
          0.4728323699421965,
          0.373134328358209,
          0.41509433962264153,
          0.42406876790830944,
          0.5045045045045045,
          0.4496124031007752,
          0.41818181818181815,
          0.41818181818181815,
          0.41875,
          0.44837758112094395,
          0.5258620689655172,
          0.34220532319391633,
          0.45007235890014474,
          0.5469613259668509,
          0.3910690121786198,
          0.42408376963350786,
          0.48363636363636364,
          0.4651416122004357,
          0.4841628959276018,
          0.4454713493530499,
          0.4839506172839506,
          0.44385026737967914,
          0.38622754491017963,
          0.46919431279620855,
          0.40257209664848015,
          0.5983606557377049,
          0.39794419970631423,
          0.5051546391752577,
          0.34375,
          0.3870967741935484,
          0.4162234042553192,
          0.3912466843501326,
          0.3984018264840183,
          0.4970414201183432,
          0.375,
          0.40482573726541554,
          0.5298507462686567,
          0.3710144927536232,
          0.5057915057915058,
          0.42857142857142855,
          0.4502923976608187,
          0.36503856041131105,
          0.3671875,
          0.28,
          0.48201438848920863,
          0.4100642398286938,
          0.43239113827349124,
          0.3817427385892116,
          0.39,
          0.40294117647058825,
          0.4583333333333333,
          0.38461538461538464,
          0.42196531791907516,
          0.4008438818565401,
          0.5318471337579618,
          0.6208053691275168,
          0.498974358974359,
          0.5616438356164384,
          0.4149700598802395,
          0.3863898500576701,
          0.384,
          0.40540540540540543,
          0.4440993788819876,
          0.4109738372093023,
          0.38738738738738737,
          0.4005524861878453,
          0.4365024288688411,
          0.4145873320537428,
          0.46766169154228854,
          0.3953488372093023,
          0.4662129314535732,
          0.54858934169279,
          0.35555555555555557,
          0.4238143289606458,
          0.5741811175337187,
          0.37905604719764013,
          0.478476821192053,
          0.3333333333333333,
          0.3589189189189189,
          0.44924406047516197,
          0.44508670520231214,
          0.3828967642526965,
          0.3898916967509025,
          0.4328018223234624,
          0.38205980066445183,
          0.42971887550200805,
          0.4083333333333333,
          0.3157894736842105,
          0.37292161520190026,
          0.4025735294117647,
          0.5357142857142857,
          0.4502923976608187,
          0.5219512195121951,
          0.3983739837398374,
          0.4107505070993915,
          0.45992115637319314,
          0.29012345679012347,
          0.38095238095238093,
          0.5583224115334207,
          0.5577395577395577,
          0.5487616099071208,
          0.40166666666666667,
          0.4226415094339623,
          0.4713656387665198,
          0.4120603015075377,
          0.42657342657342656,
          0.3925233644859813,
          0.3954305799648506,
          0.4138817480719794,
          0.4276315789473684,
          0.4215686274509804,
          0.4135567402894136,
          0.4807017543859649,
          0.4030373831775701,
          0.4227405247813411,
          0.36489151873767256,
          0.5194174757281553,
          0.5384036144578314,
          0.42,
          0.4246575342465753,
          0.41919191919191917,
          0.5221238938053098,
          0.42358078602620086,
          0.5085959885386819,
          0.3148148148148148,
          0.39814814814814814,
          0.38966480446927376,
          0.390625,
          0.4392523364485981,
          0.39198218262806234,
          0.41304347826086957,
          0.4626551158979162,
          0.3763440860215054,
          0.4099423631123919,
          0.4883419689119171,
          0.44635488308115545,
          0.4745762711864407,
          0.36639118457300274,
          0.4208,
          0.48214285714285715,
          0.39029126213592236,
          0.45121951219512196,
          0.5531914893617021,
          0.47435897435897434,
          0.3816216216216216,
          0.463302752293578,
          0.3620689655172414,
          0.441527446300716,
          0.47830802603036876,
          0.4463840399002494,
          0.391304347826087,
          0.3950381679389313,
          0.5211726384364821,
          0.4476744186046512,
          0.42911153119092627,
          0.41025641025641024,
          0.4252199413489736,
          0.37119113573407203,
          0.39867549668874175,
          0.46284501061571126,
          0.38215102974828374,
          0.45027124773960214,
          0.3940578577013292,
          0.41680395387149916,
          0.40264255910987484,
          0.44481605351170567,
          0.47956403269754766,
          0.4088888888888889,
          0.4306569343065693,
          0.4116279069767442,
          0.33620689655172414,
          0.4279835390946502,
          0.6042084168336673,
          0.5490196078431373,
          0.3844594594594595,
          0.4774590163934426,
          0.4254431699687174,
          0.5417789757412399,
          0.4280245022970903,
          0.42965299684542585,
          0.6623376623376623,
          0.36993243243243246,
          0.4824399260628466,
          0.48987108655616945,
          0.4807692307692308,
          0.4508670520231214,
          0.41228070175438597,
          0.41612200435729846,
          0.4096140825998646,
          0.45544554455445546,
          0.43548387096774194,
          0.5201238390092879,
          0.42338709677419356,
          0.385395537525355,
          0.44136191677175285,
          0.5119825708061002,
          0.37987012987012986,
          0.3421588594704684,
          0.36833470057424117,
          0.4370860927152318,
          0.41278065630397237,
          0.35172413793103446,
          0.43990384615384615,
          0.5103189493433395,
          0.4301675977653631,
          0.464735516372796,
          0.38811881188118813,
          0.39215686274509803,
          0.4065934065934066,
          0.4371029224904701,
          0.4968152866242038,
          0.4212990052662376,
          0.5875912408759124,
          0.4212121212121212,
          0.4,
          0.4100418410041841,
          0.3915391539153915,
          0.39457459926017263,
          0.5212264150943396,
          0.4336372847011145,
          0.4196502914238135,
          0.41598360655737704,
          0.4005102040816326,
          0.43278688524590164,
          0.5087719298245614,
          0.3782051282051282,
          0.5545454545454546,
          0.5064239828693791,
          0.39903846153846156,
          0.4974182444061962,
          0.3934010152284264,
          0.43733681462140994,
          0.5139664804469274,
          0.3765432098765432,
          0.38666666666666666,
          0.4480088495575221,
          0.4068814855270344,
          0.4766355140186916,
          0.4726930320150659,
          0.39663461538461536,
          0.5760869565217391,
          0.5749185667752443,
          0.3862928348909657,
          0.452755905511811,
          0.3547400611620795,
          0.4723926380368098,
          0.4709418837675351,
          0.4935897435897436,
          0.45353159851301117,
          0.5153374233128835,
          0.3715277777777778,
          0.43523316062176165,
          0.39804469273743015,
          0.47645017352503716,
          0.3640776699029126,
          0.45857988165680474,
          0.45054945054945056,
          0.44582814445828145,
          0.3950143815915628,
          0.41019830028328613,
          0.41798941798941797,
          0.4745762711864407,
          0.40717299578059074,
          0.47333333333333333,
          0.4777327935222672,
          0.4127659574468085,
          0.36,
          0.3916083916083916,
          0.4435483870967742,
          0.40879926672777267,
          0.37662337662337664,
          0.5636363636363636,
          0.40099557522123896,
          0.4267241379310345,
          0.4085820895522388,
          0.4375,
          0.33035714285714285,
          0.3395061728395062,
          0.4114583333333333,
          0.5,
          0.41798941798941797,
          0.5869565217391305,
          0.40652173913043477,
          0.45575515635395875,
          0.4852941176470588,
          0.6150442477876106,
          0.37662337662337664,
          0.4780701754385965,
          0.49523809523809526,
          0.35135135135135137,
          0.38680318543799774,
          0.4416243654822335,
          0.43969948596283115,
          0.5231736056559309,
          0.4086565486228218,
          0.41023417172593235,
          0.3786764705882353,
          0.43064729194187584,
          0.55,
          0.46983546617915906,
          0.4694915254237288,
          0.4,
          0.509771986970684,
          0.5109489051094891,
          0.4297297297297297,
          0.3751425313568985,
          0.3736991485335856,
          0.42681564245810055,
          0.5185185185185185,
          0.41379310344827586,
          0.34624697336561744,
          0.38003220611916266,
          0.40047961630695444,
          0.37142857142857144,
          0.3956670467502851,
          0.4117647058823529,
          0.5611111111111111,
          0.5995575221238938,
          0.444007858546169,
          0.42066420664206644,
          0.4411764705882353,
          0.4627228525121556,
          0.45098039215686275,
          0.43333333333333335,
          0.5363636363636364,
          0.3829787234042553,
          0.42028985507246375,
          0.44799054373522457,
          0.38011152416356875,
          0.4289292423293676,
          0.41246190314933967,
          0.3956442831215971,
          0.3926174496644295,
          0.3951310861423221,
          0.40420560747663553,
          0.4839572192513369,
          0.3889763779527559,
          0.4950980392156863,
          0.3870192307692308,
          0.4444444444444444,
          0.4980769230769231,
          0.44596912521440824,
          0.46226415094339623,
          0.5437352245862884,
          0.5260663507109005,
          0.5106382978723404,
          0.35830212234706615,
          0.41325301204819276,
          0.5060975609756098,
          0.49372862029646525,
          0.37628865979381443,
          0.4350453172205438,
          0.4225352112676056,
          0.3395348837209302,
          0.5271317829457365,
          0.5102880658436214,
          0.3698630136986301,
          0.7061143984220908,
          0.48717948717948717,
          0.44574780058651026,
          0.47101449275362317,
          0.4530386740331492,
          0.45240101095197977,
          0.4621212121212121,
          0.453015427769986,
          0.4148471615720524,
          0.44,
          0.4827586206896552,
          0.4831829368334701,
          0.41335740072202165,
          0.4267241379310345,
          0.3622291021671827,
          0.39800995024875624,
          0.4612546125461255,
          0.5224358974358975,
          0.4312843578210895,
          0.3486328125,
          0.3953488372093023,
          0.4106583072100313,
          0.41596638655462187,
          0.3384615384615385,
          0.40059347181008903,
          0.487758945386064,
          0.4256480218281037,
          0.4483985765124555,
          0.4312796208530806,
          0.417910447761194,
          0.4629451395572666,
          0.4055793991416309,
          0.38164251207729466,
          0.41714285714285715,
          0.5100671140939598,
          0.42226487523992323,
          0.4262068965517241,
          0.4514038876889849,
          0.4722222222222222,
          0.4853932584269663,
          0.37566137566137564,
          0.5194805194805194,
          0.45905172413793105,
          0.5354330708661418,
          0.3996478873239437,
          0.41414141414141414,
          0.40483870967741936,
          0.4222222222222222,
          0.39544807965860596,
          0.3920863309352518,
          0.43267776096822996,
          0.35833333333333334,
          0.3771626297577855,
          0.44964028776978415,
          0.44649446494464945,
          0.45528455284552843,
          0.40566645202833224,
          0.42039800995024873,
          0.5763636363636364,
          0.4036281179138322,
          0.44302788844621516,
          0.5057471264367817,
          0.5193452380952381,
          0.3851851851851852,
          0.4435564435564436,
          0.40668348045397223,
          0.5,
          0.5089285714285714,
          0.5642023346303502,
          0.47191011235955055,
          0.489247311827957,
          0.39555555555555555,
          0.44753086419753085,
          0.44633273703041143,
          0.40641711229946526,
          0.4008438818565401,
          0.5331325301204819,
          0.39316239316239315,
          0.39787234042553193,
          0.37250996015936255,
          0.6407766990291263,
          0.4786729857819905,
          0.5172413793103449,
          0.4685714285714286,
          0.6771653543307087,
          0.3932038834951456,
          0.5049019607843137,
          0.40198511166253104,
          0.446676970633694,
          0.3944055944055944,
          0.4228571428571429,
          0.4355036855036855,
          0.4180064308681672,
          0.5560538116591929,
          0.562929061784897,
          0.5521064301552107,
          0.5644444444444444,
          0.39473684210526316,
          0.41147540983606556,
          0.43205574912891986,
          0.4164432529043789,
          0.44869831546707506,
          0.4294205052005943,
          0.40136986301369865,
          0.4586046511627907,
          0.4600985221674877,
          0.3926553672316384,
          0.47231638418079097,
          0.4576271186440678,
          0.583732057416268,
          0.4301675977653631,
          0.4213780918727915,
          0.45933014354066987,
          0.4497354497354497,
          0.40540540540540543,
          0.4774624373956594,
          0.43341404358353514,
          0.4276729559748428,
          0.3542600896860987,
          0.43457943925233644,
          0.4583333333333333,
          0.4636363636363636,
          0.5400696864111498,
          0.44404332129963897,
          0.4268292682926829,
          0.4273789649415693,
          0.4337899543378995,
          0.5222672064777328,
          0.43724696356275305,
          0.4083277367360645,
          0.38179347826086957,
          0.4734042553191489,
          0.4238851870835469,
          0.43147208121827413,
          0.603399433427762,
          0.4503657262277952,
          0.41206896551724137,
          0.48034934497816595,
          0.41754385964912283,
          0.44,
          0.4791666666666667,
          0.49171270718232046,
          0.5466101694915254,
          0.4727272727272727,
          0.40932642487046633,
          0.3957399103139013,
          0.4381720430107527,
          0.4117647058823529,
          0.391812865497076,
          0.45714285714285713,
          0.35,
          0.4729064039408867,
          0.4187192118226601,
          0.43103448275862066,
          0.42328042328042326,
          0.4146586345381526,
          0.41150442477876104,
          0.4486486486486487,
          0.40350877192982454,
          0.48056537102473496,
          0.48717948717948717,
          0.38434163701067614,
          0.37261146496815284,
          0.4235294117647059,
          0.391304347826087,
          0.40425531914893614,
          0.4336283185840708,
          0.37531486146095716,
          0.4721189591078067,
          0.466403162055336,
          0.565,
          0.4962121212121212,
          0.42727272727272725,
          0.5121951219512195,
          0.4166666666666667,
          0.4567901234567901,
          0.4148148148148148,
          0.45085066162570886,
          0.4954128440366973,
          0.42162162162162165,
          0.5403225806451613,
          0.5424836601307189,
          0.2857142857142857,
          0.5049751243781094,
          0.396,
          0.60431654676259,
          0.42280285035629456,
          0.5579399141630901,
          0.44471744471744473,
          0.3756345177664975,
          0.44313725490196076,
          0.39501779359430605,
          0.6476426799007444,
          0.45267489711934156,
          0.40236686390532544,
          0.5646067415730337,
          0.405688622754491,
          0.3935860058309038,
          0.3841166936790924,
          0.4197802197802198,
          0.5433403805496829,
          0.3723404255319149,
          0.3898305084745763,
          0.3541666666666667,
          0.42990654205607476,
          0.46794871794871795,
          0.3969465648854962,
          0.5081967213114754,
          0.43891402714932126,
          0.5189873417721519,
          0.4199029126213592,
          0.3819444444444444,
          0.4358974358974359,
          0.40273037542662116,
          0.4782608695652174,
          0.4327354260089686,
          0.4036144578313253,
          0.34710743801652894,
          0.45342706502636204,
          0.4341692789968652,
          0.381294964028777,
          0.416135881104034,
          0.37943262411347517,
          0.36823104693140796,
          0.4175152749490835,
          0.4669603524229075,
          0.4779220779220779,
          0.45866666666666667,
          0.4852941176470588,
          0.42574257425742573,
          0.44,
          0.511578947368421,
          0.39111111111111113,
          0.46715328467153283,
          0.5555555555555556,
          0.4166666666666667,
          0.5437062937062938,
          0.38235294117647056,
          0.42201834862385323,
          0.43161978661493694,
          0.4659400544959128,
          0.45454545454545453,
          0.4084507042253521,
          0.4603174603174603,
          0.4523809523809524,
          0.6057347670250897,
          0.39361702127659576,
          0.47419354838709676,
          0.5,
          0.3888888888888889,
          0.4383954154727794,
          0.37967914438502676,
          0.3733031674208145,
          0.45481049562682213,
          0.46835443037974683,
          0.5185185185185185,
          0.4028436018957346,
          0.40718562874251496,
          0.40707964601769914,
          0.6343490304709142,
          0.3484848484848485,
          0.43722943722943725,
          0.5043478260869565,
          0.3957746478873239,
          0.498159509202454,
          0.5071090047393365,
          0.35611510791366907,
          0.6048632218844985,
          0.4172043010752688,
          0.43333333333333335,
          0.43309859154929575,
          0.3959731543624161,
          0.45910290237467016,
          0.44313725490196076,
          0.3577981651376147,
          0.3675889328063241,
          0.4671280276816609,
          0.5491329479768786,
          0.42452830188679247,
          0.562962962962963,
          0.48559670781893005,
          0.43680709534368073,
          0.45892351274787535,
          0.3974358974358974,
          0.4523809523809524,
          0.4788135593220339,
          0.5419354838709678,
          0.4240506329113924,
          0.4,
          0.27722772277227725,
          0.5825242718446602,
          0.46987951807228917,
          0.3925925925925926,
          0.43349753694581283,
          0.5302013422818792,
          0.5646551724137931,
          0.6066176470588235,
          0.5039370078740157,
          0.45075757575757575,
          0.46766169154228854,
          0.44493392070484583,
          0.40186915887850466,
          0.4497444633730835,
          0.4449877750611247,
          0.5546875,
          0.4781021897810219,
          0.48,
          0.46017699115044247,
          0.40793650793650793,
          0.5737704918032787,
          0.421875,
          0.4105960264900662,
          0.38372093023255816,
          0.49019607843137253,
          0.4503311258278146,
          0.45179063360881544,
          0.547945205479452,
          0.3787878787878788,
          0.39869281045751637,
          0.4084507042253521,
          0.411214953271028,
          0.5222222222222223,
          0.4621212121212121,
          0.44171779141104295,
          0.5769230769230769,
          0.4251012145748988,
          0.4636363636363636,
          0.42011834319526625,
          0.39880952380952384,
          0.36774193548387096,
          0.41739130434782606,
          0.39661016949152544,
          0.47107438016528924,
          0.5462962962962963,
          0.4662576687116564,
          0.4789915966386555,
          0.400990099009901,
          0.4473684210526316,
          0.45601851851851855,
          0.49246231155778897,
          0.3853658536585366,
          0.4649122807017544,
          0.421875,
          0.3181818181818182,
          0.4413793103448276,
          0.422283356258597,
          0.43312101910828027,
          0.6199095022624435,
          0.3790849673202614,
          0.6054421768707483,
          0.5882352941176471,
          0.40186915887850466,
          0.4336283185840708,
          0.5426356589147286,
          0.4198895027624309,
          0.4491017964071856,
          0.4017857142857143,
          0.386046511627907,
          0.44166666666666665,
          0.3684210526315789,
          0.3626943005181347,
          0.4015748031496063,
          0.5966386554621849,
          0.4375,
          0.40217391304347827,
          0.4482758620689655,
          0.4380165289256198,
          0.49,
          0.41830065359477125,
          0.4233128834355828,
          0.39344262295081966,
          0.53125,
          0.5108695652173914,
          0.3787878787878788,
          0.4407894736842105,
          0.4233576642335766,
          0.49624060150375937,
          0.35443037974683544,
          0.35714285714285715,
          0.42574257425742573,
          0.47572815533980584,
          0.43142857142857144,
          0.4095238095238095,
          0.34234234234234234,
          0.49523809523809526,
          0.3944954128440367,
          0.6692307692307692,
          0.43529411764705883,
          0.43137254901960786,
          0.5379310344827586
         ],
         "xaxis": "x",
         "y": [
          194,
          502,
          139,
          318,
          295,
          101,
          199,
          411,
          391,
          167,
          1403,
          584,
          160,
          288,
          535,
          216,
          117,
          1079,
          154,
          334,
          1125,
          453,
          109,
          306,
          283,
          114,
          284,
          154,
          559,
          395,
          719,
          361,
          170,
          515,
          107,
          992,
          692,
          227,
          108,
          376,
          189,
          1503,
          122,
          363,
          292,
          139,
          274,
          100,
          177,
          136,
          116,
          175,
          152,
          1459,
          129,
          233,
          359,
          150,
          257,
          229,
          1360,
          307,
          516,
          560,
          342,
          192,
          316,
          1223,
          275,
          355,
          680,
          214,
          158,
          409,
          161,
          1230,
          1135,
          485,
          268,
          320,
          1203,
          259,
          132,
          695,
          184,
          385,
          508,
          1058,
          413,
          751,
          434,
          120,
          580,
          312,
          377,
          300,
          402,
          311,
          968,
          565,
          181,
          945,
          383,
          241,
          100,
          487,
          452,
          160,
          581,
          381,
          188,
          636,
          551,
          1127,
          178,
          159,
          1520,
          311,
          102,
          442,
          300,
          231,
          501,
          1061,
          626,
          490,
          373,
          267,
          522,
          131,
          450,
          140,
          2020,
          488,
          797,
          175,
          299,
          347,
          199,
          118,
          476,
          162,
          737,
          185,
          373,
          113,
          163,
          803,
          180,
          128,
          715,
          356,
          122,
          652,
          758,
          831,
          2730,
          1334,
          182,
          1655,
          285,
          311,
          730,
          176,
          891,
          214,
          190,
          1830,
          148,
          822,
          1157,
          106,
          198,
          283,
          231,
          498,
          190,
          607,
          481,
          140,
          212,
          375,
          244,
          721,
          217,
          612,
          166,
          118,
          261,
          107,
          257,
          199,
          162,
          327,
          662,
          187,
          436,
          1050,
          180,
          461,
          601,
          564,
          2374,
          718,
          1255,
          2004,
          2724,
          1649,
          506,
          632,
          211,
          409,
          108,
          305,
          2110,
          699,
          346,
          404,
          1364,
          417,
          188,
          356,
          712,
          4674,
          1248,
          1386,
          839,
          425,
          122,
          599,
          465,
          363,
          173,
          178,
          459,
          113,
          107,
          909,
          216,
          557,
          230,
          167,
          345,
          319,
          547,
          2670,
          988,
          1882,
          821,
          434,
          724,
          1018,
          302,
          2090,
          266,
          172,
          604,
          757,
          598,
          251,
          684,
          150,
          205,
          531,
          1105,
          138,
          437,
          301,
          675,
          1421,
          228,
          696,
          218,
          211,
          397,
          252,
          326,
          112,
          245,
          656,
          239,
          285,
          1664,
          480,
          1882,
          2972,
          253,
          943,
          1092,
          3226,
          3046,
          752,
          335,
          263,
          304,
          706,
          203,
          330,
          590,
          130,
          1277,
          203,
          609,
          231,
          1263,
          149,
          146,
          558,
          558,
          1797,
          106,
          348,
          141,
          132,
          894,
          1343,
          109,
          136,
          345,
          186,
          743,
          813,
          305,
          402,
          866,
          103,
          1457,
          1151,
          1798,
          1474,
          239,
          926,
          1792,
          1935,
          1858,
          2595,
          134,
          1145,
          111,
          1528,
          122,
          900,
          326,
          255,
          430,
          572,
          865,
          268,
          530,
          349,
          111,
          129,
          110,
          330,
          160,
          339,
          116,
          263,
          1382,
          181,
          739,
          191,
          275,
          918,
          442,
          541,
          405,
          1122,
          334,
          211,
          2566,
          122,
          681,
          194,
          224,
          155,
          1504,
          754,
          876,
          338,
          360,
          746,
          134,
          690,
          259,
          196,
          342,
          389,
          128,
          100,
          139,
          934,
          1309,
          241,
          100,
          340,
          240,
          104,
          346,
          237,
          314,
          596,
          1950,
          438,
          1670,
          867,
          250,
          185,
          322,
          2752,
          111,
          724,
          1441,
          521,
          201,
          258,
          2057,
          319,
          135,
          991,
          519,
          678,
          2416,
          135,
          925,
          463,
          346,
          1298,
          277,
          878,
          602,
          498,
          120,
          114,
          421,
          544,
          252,
          171,
          820,
          123,
          986,
          761,
          162,
          147,
          763,
          407,
          1292,
          1200,
          265,
          227,
          398,
          286,
          214,
          569,
          389,
          152,
          204,
          1313,
          285,
          856,
          343,
          507,
          206,
          1328,
          100,
          730,
          792,
          339,
          916,
          698,
          108,
          108,
          716,
          128,
          321,
          449,
          138,
          4271,
          279,
          2776,
          1544,
          2908,
          590,
          1089,
          625,
          112,
          515,
          574,
          423,
          312,
          925,
          1526,
          464,
          419,
          922,
          802,
          322,
          524,
          307,
          1032,
          529,
          468,
          341,
          722,
          755,
          471,
          437,
          553,
          1279,
          607,
          1438,
          598,
          734,
          225,
          137,
          430,
          116,
          243,
          998,
          561,
          1480,
          488,
          959,
          371,
          1306,
          1585,
          154,
          592,
          541,
          1629,
          156,
          1384,
          1596,
          459,
          1477,
          101,
          496,
          646,
          992,
          493,
          793,
          459,
          308,
          491,
          1219,
          151,
          579,
          145,
          416,
          533,
          895,
          2382,
          1515,
          561,
          819,
          787,
          157,
          1709,
          274,
          330,
          220,
          239,
          1111,
          811,
          424,
          987,
          1201,
          488,
          392,
          305,
          285,
          468,
          220,
          934,
          208,
          581,
          788,
          766,
          179,
          162,
          225,
          1808,
          1831,
          107,
          531,
          416,
          552,
          614,
          321,
          762,
          327,
          163,
          499,
          156,
          269,
          163,
          288,
          193,
          716,
          2017,
          206,
          338,
          182,
          803,
          1043,
          1765,
          1134,
          118,
          474,
          300,
          247,
          235,
          100,
          143,
          124,
          1091,
          154,
          110,
          1808,
          464,
          536,
          192,
          112,
          162,
          384,
          110,
          567,
          230,
          460,
          1503,
          204,
          226,
          231,
          228,
          105,
          111,
          879,
          197,
          2529,
          1273,
          1779,
          1153,
          272,
          757,
          280,
          547,
          590,
          125,
          1228,
          137,
          370,
          877,
          1057,
          895,
          108,
          319,
          413,
          621,
          834,
          245,
          877,
          986,
          180,
          452,
          509,
          271,
          136,
          1234,
          102,
          690,
          110,
          564,
          483,
          846,
          1076,
          1597,
          2953,
          1102,
          894,
          1068,
          856,
          1122,
          635,
          408,
          416,
          261,
          520,
          583,
          530,
          423,
          422,
          141,
          801,
          830,
          328,
          877,
          970,
          993,
          284,
          215,
          129,
          243,
          657,
          507,
          156,
          341,
          138,
          181,
          1187,
          132,
          713,
          229,
          100,
          203,
          1219,
          2216,
          1160,
          646,
          201,
          1897,
          312,
          2001,
          1024,
          172,
          638,
          238,
          195,
          337,
          531,
          1466,
          843,
          1266,
          134,
          1039,
          466,
          207,
          175,
          596,
          521,
          725,
          463,
          180,
          445,
          189,
          308,
          464,
          127,
          568,
          396,
          620,
          315,
          703,
          278,
          661,
          360,
          1156,
          278,
          271,
          123,
          1553,
          804,
          550,
          441,
          1255,
          174,
          672,
          540,
          1001,
          1586,
          178,
          112,
          257,
          445,
          186,
          225,
          324,
          1118,
          748,
          237,
          332,
          234,
          470,
          502,
          412,
          211,
          145,
          525,
          127,
          206,
          204,
          403,
          647,
          715,
          175,
          1628,
          311,
          446,
          437,
          451,
          225,
          760,
          1830,
          287,
          1119,
          653,
          673,
          730,
          1075,
          1015,
          354,
          885,
          177,
          418,
          358,
          1132,
          209,
          189,
          333,
          599,
          1239,
          636,
          223,
          428,
          480,
          110,
          287,
          277,
          164,
          599,
          1095,
          1235,
          247,
          1489,
          736,
          188,
          1951,
          591,
          706,
          957,
          580,
          229,
          570,
          125,
          288,
          362,
          236,
          220,
          193,
          892,
          372,
          187,
          171,
          140,
          140,
          203,
          609,
          638,
          189,
          996,
          678,
          370,
          171,
          283,
          117,
          281,
          314,
          255,
          184,
          611,
          339,
          397,
          269,
          253,
          200,
          264,
          330,
          123,
          108,
          162,
          405,
          1058,
          218,
          740,
          248,
          306,
          238,
          402,
          750,
          278,
          421,
          233,
          407,
          197,
          255,
          562,
          403,
          243,
          169,
          356,
          668,
          343,
          617,
          910,
          946,
          188,
          118,
          336,
          214,
          156,
          131,
          122,
          442,
          237,
          412,
          144,
          312,
          293,
          184,
          892,
          166,
          121,
          569,
          638,
          139,
          471,
          564,
          277,
          491,
          227,
          385,
          375,
          272,
          202,
          400,
          475,
          450,
          274,
          252,
          192,
          572,
          102,
          109,
          1031,
          367,
          462,
          142,
          126,
          294,
          279,
          282,
          310,
          700,
          432,
          349,
          187,
          442,
          343,
          237,
          162,
          422,
          167,
          226,
          361,
          132,
          231,
          115,
          710,
          815,
          211,
          278,
          329,
          465,
          270,
          852,
          149,
          379,
          255,
          218,
          253,
          289,
          173,
          106,
          135,
          243,
          451,
          353,
          156,
          294,
          236,
          155,
          474,
          150,
          101,
          206,
          332,
          135,
          203,
          149,
          232,
          272,
          254,
          264,
          201,
          227,
          107,
          587,
          409,
          128,
          274,
          150,
          226,
          630,
          122,
          320,
          151,
          172,
          357,
          151,
          363,
          146,
          132,
          153,
          142,
          107,
          360,
          132,
          163,
          130,
          247,
          110,
          169,
          168,
          310,
          115,
          295,
          121,
          108,
          163,
          119,
          202,
          190,
          432,
          398,
          205,
          114,
          256,
          132,
          290,
          727,
          157,
          221,
          153,
          147,
          187,
          107,
          113,
          129,
          362,
          167,
          112,
          215,
          120,
          114,
          193,
          127,
          119,
          128,
          184,
          145,
          121,
          100,
          153,
          163,
          122,
          128,
          184,
          198,
          152,
          137,
          133,
          158,
          112,
          101,
          103,
          350,
          105,
          111,
          105,
          436,
          130,
          340,
          102,
          145
         ],
         "yaxis": "y"
        }
       ],
       "layout": {
        "coloraxis": {
         "colorbar": {
          "title": {
           "text": "cluster"
          }
         },
         "colorscale": [
          [
           0,
           "#440154"
          ],
          [
           0.1111111111111111,
           "#482878"
          ],
          [
           0.2222222222222222,
           "#3e4989"
          ],
          [
           0.3333333333333333,
           "#31688e"
          ],
          [
           0.4444444444444444,
           "#26828e"
          ],
          [
           0.5555555555555556,
           "#1f9e89"
          ],
          [
           0.6666666666666666,
           "#35b779"
          ],
          [
           0.7777777777777778,
           "#6ece58"
          ],
          [
           0.8888888888888888,
           "#b5de2b"
          ],
          [
           1,
           "#fde725"
          ]
         ]
        },
        "legend": {
         "tracegroupgap": 0
        },
        "template": {
         "data": {
          "bar": [
           {
            "error_x": {
             "color": "#2a3f5f"
            },
            "error_y": {
             "color": "#2a3f5f"
            },
            "marker": {
             "line": {
              "color": "#E5ECF6",
              "width": 0.5
             },
             "pattern": {
              "fillmode": "overlay",
              "size": 10,
              "solidity": 0.2
             }
            },
            "type": "bar"
           }
          ],
          "barpolar": [
           {
            "marker": {
             "line": {
              "color": "#E5ECF6",
              "width": 0.5
             },
             "pattern": {
              "fillmode": "overlay",
              "size": 10,
              "solidity": 0.2
             }
            },
            "type": "barpolar"
           }
          ],
          "carpet": [
           {
            "aaxis": {
             "endlinecolor": "#2a3f5f",
             "gridcolor": "white",
             "linecolor": "white",
             "minorgridcolor": "white",
             "startlinecolor": "#2a3f5f"
            },
            "baxis": {
             "endlinecolor": "#2a3f5f",
             "gridcolor": "white",
             "linecolor": "white",
             "minorgridcolor": "white",
             "startlinecolor": "#2a3f5f"
            },
            "type": "carpet"
           }
          ],
          "choropleth": [
           {
            "colorbar": {
             "outlinewidth": 0,
             "ticks": ""
            },
            "type": "choropleth"
           }
          ],
          "contour": [
           {
            "colorbar": {
             "outlinewidth": 0,
             "ticks": ""
            },
            "colorscale": [
             [
              0,
              "#0d0887"
             ],
             [
              0.1111111111111111,
              "#46039f"
             ],
             [
              0.2222222222222222,
              "#7201a8"
             ],
             [
              0.3333333333333333,
              "#9c179e"
             ],
             [
              0.4444444444444444,
              "#bd3786"
             ],
             [
              0.5555555555555556,
              "#d8576b"
             ],
             [
              0.6666666666666666,
              "#ed7953"
             ],
             [
              0.7777777777777778,
              "#fb9f3a"
             ],
             [
              0.8888888888888888,
              "#fdca26"
             ],
             [
              1,
              "#f0f921"
             ]
            ],
            "type": "contour"
           }
          ],
          "contourcarpet": [
           {
            "colorbar": {
             "outlinewidth": 0,
             "ticks": ""
            },
            "type": "contourcarpet"
           }
          ],
          "heatmap": [
           {
            "colorbar": {
             "outlinewidth": 0,
             "ticks": ""
            },
            "colorscale": [
             [
              0,
              "#0d0887"
             ],
             [
              0.1111111111111111,
              "#46039f"
             ],
             [
              0.2222222222222222,
              "#7201a8"
             ],
             [
              0.3333333333333333,
              "#9c179e"
             ],
             [
              0.4444444444444444,
              "#bd3786"
             ],
             [
              0.5555555555555556,
              "#d8576b"
             ],
             [
              0.6666666666666666,
              "#ed7953"
             ],
             [
              0.7777777777777778,
              "#fb9f3a"
             ],
             [
              0.8888888888888888,
              "#fdca26"
             ],
             [
              1,
              "#f0f921"
             ]
            ],
            "type": "heatmap"
           }
          ],
          "heatmapgl": [
           {
            "colorbar": {
             "outlinewidth": 0,
             "ticks": ""
            },
            "colorscale": [
             [
              0,
              "#0d0887"
             ],
             [
              0.1111111111111111,
              "#46039f"
             ],
             [
              0.2222222222222222,
              "#7201a8"
             ],
             [
              0.3333333333333333,
              "#9c179e"
             ],
             [
              0.4444444444444444,
              "#bd3786"
             ],
             [
              0.5555555555555556,
              "#d8576b"
             ],
             [
              0.6666666666666666,
              "#ed7953"
             ],
             [
              0.7777777777777778,
              "#fb9f3a"
             ],
             [
              0.8888888888888888,
              "#fdca26"
             ],
             [
              1,
              "#f0f921"
             ]
            ],
            "type": "heatmapgl"
           }
          ],
          "histogram": [
           {
            "marker": {
             "pattern": {
              "fillmode": "overlay",
              "size": 10,
              "solidity": 0.2
             }
            },
            "type": "histogram"
           }
          ],
          "histogram2d": [
           {
            "colorbar": {
             "outlinewidth": 0,
             "ticks": ""
            },
            "colorscale": [
             [
              0,
              "#0d0887"
             ],
             [
              0.1111111111111111,
              "#46039f"
             ],
             [
              0.2222222222222222,
              "#7201a8"
             ],
             [
              0.3333333333333333,
              "#9c179e"
             ],
             [
              0.4444444444444444,
              "#bd3786"
             ],
             [
              0.5555555555555556,
              "#d8576b"
             ],
             [
              0.6666666666666666,
              "#ed7953"
             ],
             [
              0.7777777777777778,
              "#fb9f3a"
             ],
             [
              0.8888888888888888,
              "#fdca26"
             ],
             [
              1,
              "#f0f921"
             ]
            ],
            "type": "histogram2d"
           }
          ],
          "histogram2dcontour": [
           {
            "colorbar": {
             "outlinewidth": 0,
             "ticks": ""
            },
            "colorscale": [
             [
              0,
              "#0d0887"
             ],
             [
              0.1111111111111111,
              "#46039f"
             ],
             [
              0.2222222222222222,
              "#7201a8"
             ],
             [
              0.3333333333333333,
              "#9c179e"
             ],
             [
              0.4444444444444444,
              "#bd3786"
             ],
             [
              0.5555555555555556,
              "#d8576b"
             ],
             [
              0.6666666666666666,
              "#ed7953"
             ],
             [
              0.7777777777777778,
              "#fb9f3a"
             ],
             [
              0.8888888888888888,
              "#fdca26"
             ],
             [
              1,
              "#f0f921"
             ]
            ],
            "type": "histogram2dcontour"
           }
          ],
          "mesh3d": [
           {
            "colorbar": {
             "outlinewidth": 0,
             "ticks": ""
            },
            "type": "mesh3d"
           }
          ],
          "parcoords": [
           {
            "line": {
             "colorbar": {
              "outlinewidth": 0,
              "ticks": ""
             }
            },
            "type": "parcoords"
           }
          ],
          "pie": [
           {
            "automargin": true,
            "type": "pie"
           }
          ],
          "scatter": [
           {
            "fillpattern": {
             "fillmode": "overlay",
             "size": 10,
             "solidity": 0.2
            },
            "type": "scatter"
           }
          ],
          "scatter3d": [
           {
            "line": {
             "colorbar": {
              "outlinewidth": 0,
              "ticks": ""
             }
            },
            "marker": {
             "colorbar": {
              "outlinewidth": 0,
              "ticks": ""
             }
            },
            "type": "scatter3d"
           }
          ],
          "scattercarpet": [
           {
            "marker": {
             "colorbar": {
              "outlinewidth": 0,
              "ticks": ""
             }
            },
            "type": "scattercarpet"
           }
          ],
          "scattergeo": [
           {
            "marker": {
             "colorbar": {
              "outlinewidth": 0,
              "ticks": ""
             }
            },
            "type": "scattergeo"
           }
          ],
          "scattergl": [
           {
            "marker": {
             "colorbar": {
              "outlinewidth": 0,
              "ticks": ""
             }
            },
            "type": "scattergl"
           }
          ],
          "scattermapbox": [
           {
            "marker": {
             "colorbar": {
              "outlinewidth": 0,
              "ticks": ""
             }
            },
            "type": "scattermapbox"
           }
          ],
          "scatterpolar": [
           {
            "marker": {
             "colorbar": {
              "outlinewidth": 0,
              "ticks": ""
             }
            },
            "type": "scatterpolar"
           }
          ],
          "scatterpolargl": [
           {
            "marker": {
             "colorbar": {
              "outlinewidth": 0,
              "ticks": ""
             }
            },
            "type": "scatterpolargl"
           }
          ],
          "scatterternary": [
           {
            "marker": {
             "colorbar": {
              "outlinewidth": 0,
              "ticks": ""
             }
            },
            "type": "scatterternary"
           }
          ],
          "surface": [
           {
            "colorbar": {
             "outlinewidth": 0,
             "ticks": ""
            },
            "colorscale": [
             [
              0,
              "#0d0887"
             ],
             [
              0.1111111111111111,
              "#46039f"
             ],
             [
              0.2222222222222222,
              "#7201a8"
             ],
             [
              0.3333333333333333,
              "#9c179e"
             ],
             [
              0.4444444444444444,
              "#bd3786"
             ],
             [
              0.5555555555555556,
              "#d8576b"
             ],
             [
              0.6666666666666666,
              "#ed7953"
             ],
             [
              0.7777777777777778,
              "#fb9f3a"
             ],
             [
              0.8888888888888888,
              "#fdca26"
             ],
             [
              1,
              "#f0f921"
             ]
            ],
            "type": "surface"
           }
          ],
          "table": [
           {
            "cells": {
             "fill": {
              "color": "#EBF0F8"
             },
             "line": {
              "color": "white"
             }
            },
            "header": {
             "fill": {
              "color": "#C8D4E3"
             },
             "line": {
              "color": "white"
             }
            },
            "type": "table"
           }
          ]
         },
         "layout": {
          "annotationdefaults": {
           "arrowcolor": "#2a3f5f",
           "arrowhead": 0,
           "arrowwidth": 1
          },
          "autotypenumbers": "strict",
          "coloraxis": {
           "colorbar": {
            "outlinewidth": 0,
            "ticks": ""
           }
          },
          "colorscale": {
           "diverging": [
            [
             0,
             "#8e0152"
            ],
            [
             0.1,
             "#c51b7d"
            ],
            [
             0.2,
             "#de77ae"
            ],
            [
             0.3,
             "#f1b6da"
            ],
            [
             0.4,
             "#fde0ef"
            ],
            [
             0.5,
             "#f7f7f7"
            ],
            [
             0.6,
             "#e6f5d0"
            ],
            [
             0.7,
             "#b8e186"
            ],
            [
             0.8,
             "#7fbc41"
            ],
            [
             0.9,
             "#4d9221"
            ],
            [
             1,
             "#276419"
            ]
           ],
           "sequential": [
            [
             0,
             "#0d0887"
            ],
            [
             0.1111111111111111,
             "#46039f"
            ],
            [
             0.2222222222222222,
             "#7201a8"
            ],
            [
             0.3333333333333333,
             "#9c179e"
            ],
            [
             0.4444444444444444,
             "#bd3786"
            ],
            [
             0.5555555555555556,
             "#d8576b"
            ],
            [
             0.6666666666666666,
             "#ed7953"
            ],
            [
             0.7777777777777778,
             "#fb9f3a"
            ],
            [
             0.8888888888888888,
             "#fdca26"
            ],
            [
             1,
             "#f0f921"
            ]
           ],
           "sequentialminus": [
            [
             0,
             "#0d0887"
            ],
            [
             0.1111111111111111,
             "#46039f"
            ],
            [
             0.2222222222222222,
             "#7201a8"
            ],
            [
             0.3333333333333333,
             "#9c179e"
            ],
            [
             0.4444444444444444,
             "#bd3786"
            ],
            [
             0.5555555555555556,
             "#d8576b"
            ],
            [
             0.6666666666666666,
             "#ed7953"
            ],
            [
             0.7777777777777778,
             "#fb9f3a"
            ],
            [
             0.8888888888888888,
             "#fdca26"
            ],
            [
             1,
             "#f0f921"
            ]
           ]
          },
          "colorway": [
           "#636efa",
           "#EF553B",
           "#00cc96",
           "#ab63fa",
           "#FFA15A",
           "#19d3f3",
           "#FF6692",
           "#B6E880",
           "#FF97FF",
           "#FECB52"
          ],
          "font": {
           "color": "#2a3f5f"
          },
          "geo": {
           "bgcolor": "white",
           "lakecolor": "white",
           "landcolor": "#E5ECF6",
           "showlakes": true,
           "showland": true,
           "subunitcolor": "white"
          },
          "hoverlabel": {
           "align": "left"
          },
          "hovermode": "closest",
          "mapbox": {
           "style": "light"
          },
          "paper_bgcolor": "white",
          "plot_bgcolor": "#E5ECF6",
          "polar": {
           "angularaxis": {
            "gridcolor": "white",
            "linecolor": "white",
            "ticks": ""
           },
           "bgcolor": "#E5ECF6",
           "radialaxis": {
            "gridcolor": "white",
            "linecolor": "white",
            "ticks": ""
           }
          },
          "scene": {
           "xaxis": {
            "backgroundcolor": "#E5ECF6",
            "gridcolor": "white",
            "gridwidth": 2,
            "linecolor": "white",
            "showbackground": true,
            "ticks": "",
            "zerolinecolor": "white"
           },
           "yaxis": {
            "backgroundcolor": "#E5ECF6",
            "gridcolor": "white",
            "gridwidth": 2,
            "linecolor": "white",
            "showbackground": true,
            "ticks": "",
            "zerolinecolor": "white"
           },
           "zaxis": {
            "backgroundcolor": "#E5ECF6",
            "gridcolor": "white",
            "gridwidth": 2,
            "linecolor": "white",
            "showbackground": true,
            "ticks": "",
            "zerolinecolor": "white"
           }
          },
          "shapedefaults": {
           "line": {
            "color": "#2a3f5f"
           }
          },
          "ternary": {
           "aaxis": {
            "gridcolor": "white",
            "linecolor": "white",
            "ticks": ""
           },
           "baxis": {
            "gridcolor": "white",
            "linecolor": "white",
            "ticks": ""
           },
           "bgcolor": "#E5ECF6",
           "caxis": {
            "gridcolor": "white",
            "linecolor": "white",
            "ticks": ""
           }
          },
          "title": {
           "x": 0.05
          },
          "xaxis": {
           "automargin": true,
           "gridcolor": "white",
           "linecolor": "white",
           "ticks": "",
           "title": {
            "standoff": 15
           },
           "zerolinecolor": "white",
           "zerolinewidth": 2
          },
          "yaxis": {
           "automargin": true,
           "gridcolor": "white",
           "linecolor": "white",
           "ticks": "",
           "title": {
            "standoff": 15
           },
           "zerolinecolor": "white",
           "zerolinewidth": 2
          }
         }
        },
        "title": {
         "text": "NBA Players Clustering Based on Clutch shooting"
        },
        "xaxis": {
         "anchor": "y",
         "domain": [
          0,
          1
         ],
         "title": {
          "text": "Shooting Percentage"
         }
        },
        "yaxis": {
         "anchor": "x",
         "domain": [
          0,
          1
         ],
         "title": {
          "text": "Total Attempts"
         }
        }
       }
      }
     },
     "metadata": {},
     "output_type": "display_data"
    }
   ],
   "source": [
    "scaler = StandardScaler()\n",
    "scaled_features = scaler.fit_transform(clutch_shots[['shooting_percentage', 'total_attempts']])\n",
    "\n",
    "kmeans = KMeans(n_clusters=4, random_state=42)\n",
    "clusters = kmeans.fit_predict(scaled_features)\n",
    "\n",
    "clutch_shots['cluster'] = clusters\n",
    "\n",
    "fig = px.scatter(clutch_shots, x='shooting_percentage', y='total_attempts', color='cluster',\n",
    "                 hover_data=['player_name'], color_continuous_scale='viridis', title='NBA Players Clustering Based on Clutch shooting')\n",
    "\n",
    "fig.update_layout(xaxis_title='Shooting Percentage', yaxis_title='Total Attempts')\n",
    "fig.show()"
   ]
  },
  {
   "cell_type": "code",
   "execution_count": null,
   "metadata": {},
   "outputs": [],
   "source": []
  }
 ],
 "metadata": {
  "kernelspec": {
   "display_name": "dmt_project",
   "language": "python",
   "name": "python3"
  },
  "language_info": {
   "codemirror_mode": {
    "name": "ipython",
    "version": 3
   },
   "file_extension": ".py",
   "mimetype": "text/x-python",
   "name": "python",
   "nbconvert_exporter": "python",
   "pygments_lexer": "ipython3",
   "version": "3.10.10"
  },
  "orig_nbformat": 4
 },
 "nbformat": 4,
 "nbformat_minor": 2
}
