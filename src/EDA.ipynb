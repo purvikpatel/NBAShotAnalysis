{
 "cells": [
  {
   "cell_type": "code",
   "execution_count": 1,
   "id": "d0fd5a38-5d74-42eb-bede-011da112be64",
   "metadata": {},
   "outputs": [],
   "source": [
    "import numpy as np\n",
    "import pandas as pd\n",
    "import matplotlib.pyplot as plt\n",
    "\n"
   ]
  },
  {
   "cell_type": "code",
   "execution_count": 2,
   "id": "c8a52056-4f3b-48b5-8198-84ff9c01e14f",
   "metadata": {},
   "outputs": [],
   "source": [
    "filename = '../../data/NBAShot Locations1997-2020.csv'"
   ]
  },
  {
   "cell_type": "code",
   "execution_count": 3,
   "id": "7c1dab01-c143-4630-91af-872cd654a5db",
   "metadata": {},
   "outputs": [],
   "source": [
    "df = pd.read_csv(filename)"
   ]
  },
  {
   "cell_type": "code",
   "execution_count": 4,
   "id": "39dee94a-ffb9-49ba-8bcd-8250d3cf91a8",
   "metadata": {},
   "outputs": [
    {
     "data": {
      "text/html": [
       "<div>\n",
       "<style scoped>\n",
       "    .dataframe tbody tr th:only-of-type {\n",
       "        vertical-align: middle;\n",
       "    }\n",
       "\n",
       "    .dataframe tbody tr th {\n",
       "        vertical-align: top;\n",
       "    }\n",
       "\n",
       "    .dataframe thead th {\n",
       "        text-align: right;\n",
       "    }\n",
       "</style>\n",
       "<table border=\"1\" class=\"dataframe\">\n",
       "  <thead>\n",
       "    <tr style=\"text-align: right;\">\n",
       "      <th></th>\n",
       "      <th>Game ID</th>\n",
       "      <th>Game Event ID</th>\n",
       "      <th>Player ID</th>\n",
       "      <th>Player Name</th>\n",
       "      <th>Team ID</th>\n",
       "      <th>Team Name</th>\n",
       "      <th>Period</th>\n",
       "      <th>Minutes Remaining</th>\n",
       "      <th>Seconds Remaining</th>\n",
       "      <th>Action Type</th>\n",
       "      <th>...</th>\n",
       "      <th>Shot Zone Area</th>\n",
       "      <th>Shot Zone Range</th>\n",
       "      <th>Shot Distance</th>\n",
       "      <th>X Location</th>\n",
       "      <th>Y Location</th>\n",
       "      <th>Shot Made Flag</th>\n",
       "      <th>Game Date</th>\n",
       "      <th>Home Team</th>\n",
       "      <th>Away Team</th>\n",
       "      <th>Season Type</th>\n",
       "    </tr>\n",
       "  </thead>\n",
       "  <tbody>\n",
       "    <tr>\n",
       "      <th>0</th>\n",
       "      <td>29700427</td>\n",
       "      <td>389</td>\n",
       "      <td>100</td>\n",
       "      <td>Tim Legler</td>\n",
       "      <td>1610612764</td>\n",
       "      <td>Washington Wizards</td>\n",
       "      <td>4</td>\n",
       "      <td>11</td>\n",
       "      <td>22</td>\n",
       "      <td>Jump Shot</td>\n",
       "      <td>...</td>\n",
       "      <td>Right Side(R)</td>\n",
       "      <td>8-16 ft.</td>\n",
       "      <td>15</td>\n",
       "      <td>117</td>\n",
       "      <td>109</td>\n",
       "      <td>1</td>\n",
       "      <td>19980102</td>\n",
       "      <td>WAS</td>\n",
       "      <td>IND</td>\n",
       "      <td>Regular Season</td>\n",
       "    </tr>\n",
       "    <tr>\n",
       "      <th>1</th>\n",
       "      <td>29700427</td>\n",
       "      <td>406</td>\n",
       "      <td>100</td>\n",
       "      <td>Tim Legler</td>\n",
       "      <td>1610612764</td>\n",
       "      <td>Washington Wizards</td>\n",
       "      <td>4</td>\n",
       "      <td>9</td>\n",
       "      <td>36</td>\n",
       "      <td>Jump Shot</td>\n",
       "      <td>...</td>\n",
       "      <td>Right Side(R)</td>\n",
       "      <td>8-16 ft.</td>\n",
       "      <td>14</td>\n",
       "      <td>143</td>\n",
       "      <td>25</td>\n",
       "      <td>0</td>\n",
       "      <td>19980102</td>\n",
       "      <td>WAS</td>\n",
       "      <td>IND</td>\n",
       "      <td>Regular Season</td>\n",
       "    </tr>\n",
       "    <tr>\n",
       "      <th>2</th>\n",
       "      <td>29700427</td>\n",
       "      <td>475</td>\n",
       "      <td>100</td>\n",
       "      <td>Tim Legler</td>\n",
       "      <td>1610612764</td>\n",
       "      <td>Washington Wizards</td>\n",
       "      <td>4</td>\n",
       "      <td>3</td>\n",
       "      <td>7</td>\n",
       "      <td>Jump Shot</td>\n",
       "      <td>...</td>\n",
       "      <td>Left Side(L)</td>\n",
       "      <td>8-16 ft.</td>\n",
       "      <td>10</td>\n",
       "      <td>-87</td>\n",
       "      <td>55</td>\n",
       "      <td>0</td>\n",
       "      <td>19980102</td>\n",
       "      <td>WAS</td>\n",
       "      <td>IND</td>\n",
       "      <td>Regular Season</td>\n",
       "    </tr>\n",
       "    <tr>\n",
       "      <th>3</th>\n",
       "      <td>29700427</td>\n",
       "      <td>487</td>\n",
       "      <td>100</td>\n",
       "      <td>Tim Legler</td>\n",
       "      <td>1610612764</td>\n",
       "      <td>Washington Wizards</td>\n",
       "      <td>4</td>\n",
       "      <td>1</td>\n",
       "      <td>45</td>\n",
       "      <td>Jump Shot</td>\n",
       "      <td>...</td>\n",
       "      <td>Center(C)</td>\n",
       "      <td>Less Than 8 ft.</td>\n",
       "      <td>5</td>\n",
       "      <td>-1</td>\n",
       "      <td>53</td>\n",
       "      <td>0</td>\n",
       "      <td>19980102</td>\n",
       "      <td>WAS</td>\n",
       "      <td>IND</td>\n",
       "      <td>Regular Season</td>\n",
       "    </tr>\n",
       "    <tr>\n",
       "      <th>4</th>\n",
       "      <td>29700427</td>\n",
       "      <td>497</td>\n",
       "      <td>100</td>\n",
       "      <td>Tim Legler</td>\n",
       "      <td>1610612764</td>\n",
       "      <td>Washington Wizards</td>\n",
       "      <td>4</td>\n",
       "      <td>0</td>\n",
       "      <td>45</td>\n",
       "      <td>Jump Shot</td>\n",
       "      <td>...</td>\n",
       "      <td>Right Side(R)</td>\n",
       "      <td>8-16 ft.</td>\n",
       "      <td>14</td>\n",
       "      <td>89</td>\n",
       "      <td>113</td>\n",
       "      <td>0</td>\n",
       "      <td>19980102</td>\n",
       "      <td>WAS</td>\n",
       "      <td>IND</td>\n",
       "      <td>Regular Season</td>\n",
       "    </tr>\n",
       "  </tbody>\n",
       "</table>\n",
       "<p>5 rows × 22 columns</p>\n",
       "</div>"
      ],
      "text/plain": [
       "    Game ID  Game Event ID  Player ID Player Name     Team ID  \\\n",
       "0  29700427            389        100  Tim Legler  1610612764   \n",
       "1  29700427            406        100  Tim Legler  1610612764   \n",
       "2  29700427            475        100  Tim Legler  1610612764   \n",
       "3  29700427            487        100  Tim Legler  1610612764   \n",
       "4  29700427            497        100  Tim Legler  1610612764   \n",
       "\n",
       "            Team Name  Period  Minutes Remaining  Seconds Remaining  \\\n",
       "0  Washington Wizards       4                 11                 22   \n",
       "1  Washington Wizards       4                  9                 36   \n",
       "2  Washington Wizards       4                  3                  7   \n",
       "3  Washington Wizards       4                  1                 45   \n",
       "4  Washington Wizards       4                  0                 45   \n",
       "\n",
       "  Action Type  ... Shot Zone Area  Shot Zone Range Shot Distance X Location  \\\n",
       "0   Jump Shot  ...  Right Side(R)         8-16 ft.            15        117   \n",
       "1   Jump Shot  ...  Right Side(R)         8-16 ft.            14        143   \n",
       "2   Jump Shot  ...   Left Side(L)         8-16 ft.            10        -87   \n",
       "3   Jump Shot  ...      Center(C)  Less Than 8 ft.             5         -1   \n",
       "4   Jump Shot  ...  Right Side(R)         8-16 ft.            14         89   \n",
       "\n",
       "   Y Location  Shot Made Flag  Game Date  Home Team  Away Team     Season Type  \n",
       "0         109               1   19980102        WAS        IND  Regular Season  \n",
       "1          25               0   19980102        WAS        IND  Regular Season  \n",
       "2          55               0   19980102        WAS        IND  Regular Season  \n",
       "3          53               0   19980102        WAS        IND  Regular Season  \n",
       "4         113               0   19980102        WAS        IND  Regular Season  \n",
       "\n",
       "[5 rows x 22 columns]"
      ]
     },
     "execution_count": 4,
     "metadata": {},
     "output_type": "execute_result"
    }
   ],
   "source": [
    "df.head()"
   ]
  },
  {
   "cell_type": "code",
   "execution_count": 5,
   "id": "8e2a1977-3bb4-40df-a709-c5149d2c1478",
   "metadata": {},
   "outputs": [
    {
     "name": "stdout",
     "output_type": "stream",
     "text": [
      "<class 'pandas.core.frame.DataFrame'>\n",
      "RangeIndex: 4729512 entries, 0 to 4729511\n",
      "Data columns (total 22 columns):\n",
      " #   Column             Dtype \n",
      "---  ------             ----- \n",
      " 0   Game ID            int64 \n",
      " 1   Game Event ID      int64 \n",
      " 2   Player ID          int64 \n",
      " 3   Player Name        object\n",
      " 4   Team ID            int64 \n",
      " 5   Team Name          object\n",
      " 6   Period             int64 \n",
      " 7   Minutes Remaining  int64 \n",
      " 8   Seconds Remaining  int64 \n",
      " 9   Action Type        object\n",
      " 10  Shot Type          object\n",
      " 11  Shot Zone Basic    object\n",
      " 12  Shot Zone Area     object\n",
      " 13  Shot Zone Range    object\n",
      " 14  Shot Distance      int64 \n",
      " 15  X Location         int64 \n",
      " 16  Y Location         int64 \n",
      " 17  Shot Made Flag     int64 \n",
      " 18  Game Date          int64 \n",
      " 19  Home Team          object\n",
      " 20  Away Team          object\n",
      " 21  Season Type        object\n",
      "dtypes: int64(12), object(10)\n",
      "memory usage: 793.8+ MB\n"
     ]
    }
   ],
   "source": [
    "df.info()"
   ]
  },
  {
   "cell_type": "code",
   "execution_count": 6,
   "id": "e6844a7c-3d5b-4ae0-a37d-7789aced1193",
   "metadata": {},
   "outputs": [
    {
     "data": {
      "text/html": [
       "<div>\n",
       "<style scoped>\n",
       "    .dataframe tbody tr th:only-of-type {\n",
       "        vertical-align: middle;\n",
       "    }\n",
       "\n",
       "    .dataframe tbody tr th {\n",
       "        vertical-align: top;\n",
       "    }\n",
       "\n",
       "    .dataframe thead th {\n",
       "        text-align: right;\n",
       "    }\n",
       "</style>\n",
       "<table border=\"1\" class=\"dataframe\">\n",
       "  <thead>\n",
       "    <tr style=\"text-align: right;\">\n",
       "      <th></th>\n",
       "      <th>Game ID</th>\n",
       "      <th>Game Event ID</th>\n",
       "      <th>Player ID</th>\n",
       "      <th>Team ID</th>\n",
       "      <th>Period</th>\n",
       "      <th>Minutes Remaining</th>\n",
       "      <th>Seconds Remaining</th>\n",
       "      <th>Shot Distance</th>\n",
       "      <th>X Location</th>\n",
       "      <th>Y Location</th>\n",
       "      <th>Shot Made Flag</th>\n",
       "      <th>Game Date</th>\n",
       "    </tr>\n",
       "  </thead>\n",
       "  <tbody>\n",
       "    <tr>\n",
       "      <th>count</th>\n",
       "      <td>4.729512e+06</td>\n",
       "      <td>4.729512e+06</td>\n",
       "      <td>4.729512e+06</td>\n",
       "      <td>4.729512e+06</td>\n",
       "      <td>4.729512e+06</td>\n",
       "      <td>4.729512e+06</td>\n",
       "      <td>4.729512e+06</td>\n",
       "      <td>4.729512e+06</td>\n",
       "      <td>4.729512e+06</td>\n",
       "      <td>4.729512e+06</td>\n",
       "      <td>4.729512e+06</td>\n",
       "      <td>4.729512e+06</td>\n",
       "    </tr>\n",
       "    <tr>\n",
       "      <th>mean</th>\n",
       "      <td>2.314379e+07</td>\n",
       "      <td>2.501681e+02</td>\n",
       "      <td>1.639145e+05</td>\n",
       "      <td>1.610613e+09</td>\n",
       "      <td>2.477790e+00</td>\n",
       "      <td>5.332437e+00</td>\n",
       "      <td>2.873821e+01</td>\n",
       "      <td>1.208963e+01</td>\n",
       "      <td>-1.316958e+00</td>\n",
       "      <td>7.634400e+01</td>\n",
       "      <td>4.517832e-01</td>\n",
       "      <td>2.008996e+07</td>\n",
       "    </tr>\n",
       "    <tr>\n",
       "      <th>std</th>\n",
       "      <td>5.521124e+06</td>\n",
       "      <td>1.589274e+02</td>\n",
       "      <td>3.733497e+05</td>\n",
       "      <td>8.595674e+00</td>\n",
       "      <td>1.139482e+00</td>\n",
       "      <td>3.468664e+00</td>\n",
       "      <td>1.745678e+01</td>\n",
       "      <td>9.850088e+00</td>\n",
       "      <td>1.100864e+02</td>\n",
       "      <td>8.703236e+01</td>\n",
       "      <td>4.976698e-01</td>\n",
       "      <td>6.512593e+04</td>\n",
       "    </tr>\n",
       "    <tr>\n",
       "      <th>min</th>\n",
       "      <td>2.000000e+07</td>\n",
       "      <td>1.000000e+00</td>\n",
       "      <td>3.000000e+00</td>\n",
       "      <td>1.610613e+09</td>\n",
       "      <td>1.000000e+00</td>\n",
       "      <td>0.000000e+00</td>\n",
       "      <td>0.000000e+00</td>\n",
       "      <td>0.000000e+00</td>\n",
       "      <td>-2.500000e+02</td>\n",
       "      <td>-5.200000e+01</td>\n",
       "      <td>0.000000e+00</td>\n",
       "      <td>1.997103e+07</td>\n",
       "    </tr>\n",
       "    <tr>\n",
       "      <th>25%</th>\n",
       "      <td>2.060015e+07</td>\n",
       "      <td>1.130000e+02</td>\n",
       "      <td>1.515000e+03</td>\n",
       "      <td>1.610613e+09</td>\n",
       "      <td>1.000000e+00</td>\n",
       "      <td>2.000000e+00</td>\n",
       "      <td>1.400000e+01</td>\n",
       "      <td>2.000000e+00</td>\n",
       "      <td>-6.000000e+01</td>\n",
       "      <td>3.000000e+00</td>\n",
       "      <td>0.000000e+00</td>\n",
       "      <td>2.003120e+07</td>\n",
       "    </tr>\n",
       "    <tr>\n",
       "      <th>50%</th>\n",
       "      <td>2.120030e+07</td>\n",
       "      <td>2.450000e+02</td>\n",
       "      <td>2.550000e+03</td>\n",
       "      <td>1.610613e+09</td>\n",
       "      <td>2.000000e+00</td>\n",
       "      <td>5.000000e+00</td>\n",
       "      <td>2.900000e+01</td>\n",
       "      <td>1.300000e+01</td>\n",
       "      <td>0.000000e+00</td>\n",
       "      <td>3.800000e+01</td>\n",
       "      <td>0.000000e+00</td>\n",
       "      <td>2.009033e+07</td>\n",
       "    </tr>\n",
       "    <tr>\n",
       "      <th>75%</th>\n",
       "      <td>2.170117e+07</td>\n",
       "      <td>3.750000e+02</td>\n",
       "      <td>2.019370e+05</td>\n",
       "      <td>1.610613e+09</td>\n",
       "      <td>3.000000e+00</td>\n",
       "      <td>8.000000e+00</td>\n",
       "      <td>4.400000e+01</td>\n",
       "      <td>2.100000e+01</td>\n",
       "      <td>5.600000e+01</td>\n",
       "      <td>1.450000e+02</td>\n",
       "      <td>1.000000e+00</td>\n",
       "      <td>2.015013e+07</td>\n",
       "    </tr>\n",
       "    <tr>\n",
       "      <th>max</th>\n",
       "      <td>4.990009e+07</td>\n",
       "      <td>1.012000e+03</td>\n",
       "      <td>1.629760e+06</td>\n",
       "      <td>1.610613e+09</td>\n",
       "      <td>8.000000e+00</td>\n",
       "      <td>1.200000e+01</td>\n",
       "      <td>5.900000e+01</td>\n",
       "      <td>8.900000e+01</td>\n",
       "      <td>2.500000e+02</td>\n",
       "      <td>8.840000e+02</td>\n",
       "      <td>1.000000e+00</td>\n",
       "      <td>2.020031e+07</td>\n",
       "    </tr>\n",
       "  </tbody>\n",
       "</table>\n",
       "</div>"
      ],
      "text/plain": [
       "            Game ID  Game Event ID     Player ID       Team ID        Period  \\\n",
       "count  4.729512e+06   4.729512e+06  4.729512e+06  4.729512e+06  4.729512e+06   \n",
       "mean   2.314379e+07   2.501681e+02  1.639145e+05  1.610613e+09  2.477790e+00   \n",
       "std    5.521124e+06   1.589274e+02  3.733497e+05  8.595674e+00  1.139482e+00   \n",
       "min    2.000000e+07   1.000000e+00  3.000000e+00  1.610613e+09  1.000000e+00   \n",
       "25%    2.060015e+07   1.130000e+02  1.515000e+03  1.610613e+09  1.000000e+00   \n",
       "50%    2.120030e+07   2.450000e+02  2.550000e+03  1.610613e+09  2.000000e+00   \n",
       "75%    2.170117e+07   3.750000e+02  2.019370e+05  1.610613e+09  3.000000e+00   \n",
       "max    4.990009e+07   1.012000e+03  1.629760e+06  1.610613e+09  8.000000e+00   \n",
       "\n",
       "       Minutes Remaining  Seconds Remaining  Shot Distance    X Location  \\\n",
       "count       4.729512e+06       4.729512e+06   4.729512e+06  4.729512e+06   \n",
       "mean        5.332437e+00       2.873821e+01   1.208963e+01 -1.316958e+00   \n",
       "std         3.468664e+00       1.745678e+01   9.850088e+00  1.100864e+02   \n",
       "min         0.000000e+00       0.000000e+00   0.000000e+00 -2.500000e+02   \n",
       "25%         2.000000e+00       1.400000e+01   2.000000e+00 -6.000000e+01   \n",
       "50%         5.000000e+00       2.900000e+01   1.300000e+01  0.000000e+00   \n",
       "75%         8.000000e+00       4.400000e+01   2.100000e+01  5.600000e+01   \n",
       "max         1.200000e+01       5.900000e+01   8.900000e+01  2.500000e+02   \n",
       "\n",
       "         Y Location  Shot Made Flag     Game Date  \n",
       "count  4.729512e+06    4.729512e+06  4.729512e+06  \n",
       "mean   7.634400e+01    4.517832e-01  2.008996e+07  \n",
       "std    8.703236e+01    4.976698e-01  6.512593e+04  \n",
       "min   -5.200000e+01    0.000000e+00  1.997103e+07  \n",
       "25%    3.000000e+00    0.000000e+00  2.003120e+07  \n",
       "50%    3.800000e+01    0.000000e+00  2.009033e+07  \n",
       "75%    1.450000e+02    1.000000e+00  2.015013e+07  \n",
       "max    8.840000e+02    1.000000e+00  2.020031e+07  "
      ]
     },
     "execution_count": 6,
     "metadata": {},
     "output_type": "execute_result"
    }
   ],
   "source": [
    "df.describe()"
   ]
  },
  {
   "cell_type": "code",
   "execution_count": 33,
   "id": "34ed941e-0d65-4ca4-ac91-1e5dd7fb9e4a",
   "metadata": {},
   "outputs": [],
   "source": [
    "def field_goal_percentage(name : str) -> int :\n",
    "    total_shots = len(df[df['Player Name'] == name])\n",
    "    assert total_shots > 0 , 'Player not Found'\n",
    "    made_shots = len(df[(df['Player Name'] == name) & (df['Shot Made Flag'] == 1)])\n",
    "    \n",
    "    return (made_shots / total_shots) * 100"
   ]
  },
  {
   "cell_type": "code",
   "execution_count": 34,
   "id": "6baf84e8-fbe3-41b1-a135-62236e093692",
   "metadata": {},
   "outputs": [
    {
     "data": {
      "text/plain": [
       "47.220252446461494"
      ]
     },
     "execution_count": 34,
     "metadata": {},
     "output_type": "execute_result"
    }
   ],
   "source": [
    "field_goal_percentage('Stephen Curry')"
   ]
  },
  {
   "cell_type": "code",
   "execution_count": 36,
   "id": "7588a262-b8c5-41ec-a498-f9c382baaeb6",
   "metadata": {},
   "outputs": [
    {
     "data": {
      "text/plain": [
       "50.175332119495586"
      ]
     },
     "execution_count": 36,
     "metadata": {},
     "output_type": "execute_result"
    }
   ],
   "source": [
    "field_goal_percentage('LeBron James')"
   ]
  },
  {
   "cell_type": "code",
   "execution_count": 37,
   "id": "dc94e4e7-5c27-4c6b-8150-ad6334811bee",
   "metadata": {},
   "outputs": [
    {
     "data": {
      "text/plain": [
       "48.99364689552079"
      ]
     },
     "execution_count": 37,
     "metadata": {},
     "output_type": "execute_result"
    }
   ],
   "source": [
    "field_goal_percentage('Kevin Durant')"
   ]
  },
  {
   "cell_type": "code",
   "execution_count": 31,
   "id": "c7e38bb5-5cca-4867-89d3-4494aff0a4cd",
   "metadata": {},
   "outputs": [
    {
     "data": {
      "text/plain": [
       "array(['2PT Field Goal', '3PT Field Goal'], dtype=object)"
      ]
     },
     "execution_count": 31,
     "metadata": {},
     "output_type": "execute_result"
    }
   ],
   "source": [
    "shot_type = df['Shot Type'].unique()\n",
    "shot_type"
   ]
  },
  {
   "cell_type": "code",
   "execution_count": 38,
   "id": "bc3f9777-8c06-4afd-b0d5-edaf654a9077",
   "metadata": {},
   "outputs": [
    {
     "name": "stdout",
     "output_type": "stream",
     "text": [
      "2PT Field Goal : 3606005\n",
      "3PT Field Goal : 1123507\n"
     ]
    }
   ],
   "source": [
    "for st in shot_type:\n",
    "    shot_count = len(df[df['Shot Type'] == st])\n",
    "    print(f'{st} : {shot_count}')"
   ]
  },
  {
   "cell_type": "code",
   "execution_count": 39,
   "id": "989c5fe7-5a27-409e-bd8b-a0ed3a50be89",
   "metadata": {},
   "outputs": [
    {
     "data": {
      "text/plain": [
       "array(['8-16 ft.', 'Less Than 8 ft.', '24+ ft.', '16-24 ft.',\n",
       "       'Back Court Shot'], dtype=object)"
      ]
     },
     "execution_count": 39,
     "metadata": {},
     "output_type": "execute_result"
    }
   ],
   "source": [
    "shot_zone_range = df['Shot Zone Range'].unique()\n",
    "shot_zone_range"
   ]
  },
  {
   "cell_type": "code",
   "execution_count": 40,
   "id": "7db20bec-bdbc-4b52-a5d3-380520537399",
   "metadata": {},
   "outputs": [
    {
     "name": "stdout",
     "output_type": "stream",
     "text": [
      "8-16 ft. : 749100\n",
      "Less Than 8 ft. : 1938200\n",
      "24+ ft. : 1110619\n",
      "16-24 ft. : 919994\n",
      "Back Court Shot : 11599\n"
     ]
    }
   ],
   "source": [
    "shot_zone_range_count = []\n",
    "for szr in shot_zone_range:\n",
    "    shot_count = len(df[df['Shot Zone Range'] == szr])\n",
    "    print(f'{szr} : {shot_count}')\n",
    "    shot_zone_range_count.append(shot_count)\n"
   ]
  },
  {
   "cell_type": "code",
   "execution_count": 41,
   "id": "5c41a4b7-9e96-4679-858d-5ff6c87f65c2",
   "metadata": {},
   "outputs": [
    {
     "data": {
      "image/png": "[encoded data removed]",
      "text/plain": [
       "<Figure size 1000x500 with 1 Axes>"
      ]
     },
     "metadata": {},
     "output_type": "display_data"
    }
   ],
   "source": [
    "ig = plt.figure(figsize = (10, 5))\n",
    " \n",
    "# creating the bar plot\n",
    "plt.bar(shot_zone_range, shot_zone_range_count, color ='maroon',\n",
    "        width = 0.4)\n",
    " \n",
    "plt.xlabel(\"Shot range\")\n",
    "plt.ylabel(\"Shots Attempted\")\n",
    "plt.title(\"Shots Taken from different ranges\")\n",
    "plt.show()"
   ]
  },
  {
   "cell_type": "code",
   "execution_count": null,
   "id": "cf5996d8-b91b-4849-94b5-fbbf2cab5847",
   "metadata": {},
   "outputs": [],
   "source": []
  }
 ],
 "metadata": {
  "kernelspec": {
   "display_name": "Python 3 (ipykernel)",
   "language": "python",
   "name": "python3"
  },
  "language_info": {
   "codemirror_mode": {
    "name": "ipython",
    "version": 3
   },
   "file_extension": ".py",
   "mimetype": "text/x-python",
   "name": "python",
   "nbconvert_exporter": "python",
   "pygments_lexer": "ipython3",
   "version": "3.10.9"
  }
 },
 "nbformat": 4,
 "nbformat_minor": 5
}
